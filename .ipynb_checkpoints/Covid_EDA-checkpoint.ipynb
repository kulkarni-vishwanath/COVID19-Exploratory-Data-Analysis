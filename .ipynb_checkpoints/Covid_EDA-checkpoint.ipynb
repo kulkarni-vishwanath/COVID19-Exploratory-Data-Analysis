{
 "cells": [
  {
   "cell_type": "code",
   "execution_count": 1,
   "metadata": {},
   "outputs": [],
   "source": [
    "import pandas as pd\n",
    "import numpy as np\n",
    "import matplotlib.pyplot as plt\n",
    "%matplotlib inline\n",
    "import seaborn as sns\n",
    "from matplotlib import style\n",
    "style.use('ggplot')\n",
    "import plotly\n",
    "import plotly.express as px        # A wrapper of plotly\n",
    "import plotly.graph_objects as go  # Used for plotly in a object oriented way\n",
    "\n",
    "import cufflinks as cf             # Binds pandas and plotly\n",
    "import plotly.offline as pyo       # using plotly offline\n",
    "from plotly.offline import init_notebook_mode,plot,iplot\n",
    "\n",
    "from plotly.subplots import make_subplots\n",
    "pd.set_option('display.max_columns', 500)"
   ]
  },
  {
   "cell_type": "code",
   "execution_count": 2,
   "metadata": {},
   "outputs": [
    {
     "data": {
      "text/html": [
       "        <script type=\"text/javascript\">\n",
       "        window.PlotlyConfig = {MathJaxConfig: 'local'};\n",
       "        if (window.MathJax) {MathJax.Hub.Config({SVG: {font: \"STIX-Web\"}});}\n",
       "        if (typeof require !== 'undefined') {\n",
       "        require.undef(\"plotly\");\n",
       "        requirejs.config({\n",
       "            paths: {\n",
       "                'plotly': ['https://cdn.plot.ly/plotly-latest.min']\n",
       "            }\n",
       "        });\n",
       "        require(['plotly'], function(Plotly) {\n",
       "            window._Plotly = Plotly;\n",
       "        });\n",
       "        }\n",
       "        </script>\n",
       "        "
      ]
     },
     "metadata": {},
     "output_type": "display_data"
    },
    {
     "data": {
      "text/html": [
       "        <script type=\"text/javascript\">\n",
       "        window.PlotlyConfig = {MathJaxConfig: 'local'};\n",
       "        if (window.MathJax) {MathJax.Hub.Config({SVG: {font: \"STIX-Web\"}});}\n",
       "        if (typeof require !== 'undefined') {\n",
       "        require.undef(\"plotly\");\n",
       "        requirejs.config({\n",
       "            paths: {\n",
       "                'plotly': ['https://cdn.plot.ly/plotly-latest.min']\n",
       "            }\n",
       "        });\n",
       "        require(['plotly'], function(Plotly) {\n",
       "            window._Plotly = Plotly;\n",
       "        });\n",
       "        }\n",
       "        </script>\n",
       "        "
      ]
     },
     "metadata": {},
     "output_type": "display_data"
    }
   ],
   "source": [
    "pyo.init_notebook_mode(connected=True)\n",
    "cf.go_offline()"
   ]
  },
  {
   "cell_type": "code",
   "execution_count": 3,
   "metadata": {},
   "outputs": [],
   "source": [
    "india = pd.read_csv(r\"C:\\Users\\kulka\\Desktop\\AV_Hackathon_Codes\\Plotly_Covid\\Data\\covid_19_india.csv\",parse_dates=['Date'],dayfirst=True)\n",
    "india.drop(['Time','Sno'],axis=1,inplace=True)\n",
    "\n",
    "population = pd.read_csv(r\"C:\\Users\\kulka\\Desktop\\AV_Hackathon_Codes\\Plotly_Covid\\Data\\population_india_census2011.csv\")\n",
    "population.drop(\"Sno\",axis=1,inplace=True)\n",
    "\n",
    "beds = pd.read_csv(r\"C:\\Users\\kulka\\Desktop\\AV_Hackathon_Codes\\Plotly_Covid\\Data\\HospitalBedsIndia.csv\",nrows=36)\n",
    "beds.drop(\"Sno\",axis=1,inplace=True)\n",
    "\n",
    "patients = pd.read_csv(r\"C:\\Users\\kulka\\Desktop\\AV_Hackathon_Codes\\Plotly_Covid\\Data\\IndividualDetails.csv\",parse_dates=['diagnosed_date','status_change_date'],dayfirst=True)\n",
    "patients.drop(['id','government_id'],axis=1,inplace=True)"
   ]
  },
  {
   "cell_type": "code",
   "execution_count": 4,
   "metadata": {},
   "outputs": [],
   "source": [
    "initial_data = india.merge(population,left_on='State/UnionTerritory',right_on='State / Union Territory',how='left')\n",
    "initial_data.drop(\"State / Union Territory\",axis=1,inplace=True)\n",
    "\n",
    "data = initial_data.merge(beds,left_on=\"State/UnionTerritory\",right_on=\"State/UT\",how='left')\n",
    "data.drop(\"State/UT\",axis=1,inplace=True)"
   ]
  },
  {
   "cell_type": "code",
   "execution_count": 5,
   "metadata": {},
   "outputs": [],
   "source": [
    "data['Active'] = data['Confirmed']-data['Cured']-data['Deaths']"
   ]
  },
  {
   "cell_type": "code",
   "execution_count": 23,
   "metadata": {},
   "outputs": [
    {
     "data": {
      "text/plain": [
       "((1606, 7), (36, 7), (36, 11), (1606, 24), (27890, 11))"
      ]
     },
     "execution_count": 23,
     "metadata": {},
     "output_type": "execute_result"
    }
   ],
   "source": [
    "india.shape, population.shape, beds.shape, data.shape, patients.shape"
   ]
  },
  {
   "cell_type": "code",
   "execution_count": 7,
   "metadata": {},
   "outputs": [
    {
     "name": "stdout",
     "output_type": "stream",
     "text": [
      "The First Case in India was reported on 2020-01-30 00:00:00\n",
      "The Latest Case in India is reported on 2020-05-04 00:00:00\n"
     ]
    }
   ],
   "source": [
    "print (\"The First Case in India was reported on {}\".format(data['Date'].min()))\n",
    "print (\"The Latest Case in India is reported on {}\".format(data['Date'].max()))"
   ]
  },
  {
   "cell_type": "markdown",
   "metadata": {},
   "source": [
    "The first case in India was reported on 30th of January and the latest case is reported on 4nd of May.\n",
    "\n",
    "Maharashtra has the highest number of cases followed by Gujarat and Delhi.\n",
    "\n",
    "Most of the North Eastern states have less number of cases reported except West Bengal."
   ]
  },
  {
   "cell_type": "code",
   "execution_count": 8,
   "metadata": {},
   "outputs": [
    {
     "data": {
      "text/html": [
       "<style  type=\"text/css\" >\n",
       "    #T_5d00b298_8e30_11ea_bc96_ccb0da3466acrow0_col0 {\n",
       "            background-color:  #67000d;\n",
       "            color:  #f1f1f1;\n",
       "        }    #T_5d00b298_8e30_11ea_bc96_ccb0da3466acrow1_col0 {\n",
       "            background-color:  #fc8464;\n",
       "            color:  #000000;\n",
       "        }    #T_5d00b298_8e30_11ea_bc96_ccb0da3466acrow2_col0 {\n",
       "            background-color:  #fc9b7c;\n",
       "            color:  #000000;\n",
       "        }    #T_5d00b298_8e30_11ea_bc96_ccb0da3466acrow3_col0 {\n",
       "            background-color:  #fcc1a8;\n",
       "            color:  #000000;\n",
       "        }    #T_5d00b298_8e30_11ea_bc96_ccb0da3466acrow4_col0 {\n",
       "            background-color:  #fcc2aa;\n",
       "            color:  #000000;\n",
       "        }    #T_5d00b298_8e30_11ea_bc96_ccb0da3466acrow5_col0 {\n",
       "            background-color:  #fcc4ad;\n",
       "            color:  #000000;\n",
       "        }    #T_5d00b298_8e30_11ea_bc96_ccb0da3466acrow6_col0 {\n",
       "            background-color:  #fdc6b0;\n",
       "            color:  #000000;\n",
       "        }    #T_5d00b298_8e30_11ea_bc96_ccb0da3466acrow7_col0 {\n",
       "            background-color:  #fee0d2;\n",
       "            color:  #000000;\n",
       "        }    #T_5d00b298_8e30_11ea_bc96_ccb0da3466acrow8_col0 {\n",
       "            background-color:  #fee7dc;\n",
       "            color:  #000000;\n",
       "        }    #T_5d00b298_8e30_11ea_bc96_ccb0da3466acrow9_col0 {\n",
       "            background-color:  #fee7dc;\n",
       "            color:  #000000;\n",
       "        }    #T_5d00b298_8e30_11ea_bc96_ccb0da3466acrow10_col0 {\n",
       "            background-color:  #fee9df;\n",
       "            color:  #000000;\n",
       "        }    #T_5d00b298_8e30_11ea_bc96_ccb0da3466acrow11_col0 {\n",
       "            background-color:  #ffece4;\n",
       "            color:  #000000;\n",
       "        }    #T_5d00b298_8e30_11ea_bc96_ccb0da3466acrow12_col0 {\n",
       "            background-color:  #ffede5;\n",
       "            color:  #000000;\n",
       "        }    #T_5d00b298_8e30_11ea_bc96_ccb0da3466acrow13_col0 {\n",
       "            background-color:  #ffeee7;\n",
       "            color:  #000000;\n",
       "        }    #T_5d00b298_8e30_11ea_bc96_ccb0da3466acrow14_col0 {\n",
       "            background-color:  #ffefe8;\n",
       "            color:  #000000;\n",
       "        }    #T_5d00b298_8e30_11ea_bc96_ccb0da3466acrow15_col0 {\n",
       "            background-color:  #fff0e8;\n",
       "            color:  #000000;\n",
       "        }    #T_5d00b298_8e30_11ea_bc96_ccb0da3466acrow16_col0 {\n",
       "            background-color:  #fff3ed;\n",
       "            color:  #000000;\n",
       "        }    #T_5d00b298_8e30_11ea_bc96_ccb0da3466acrow17_col0 {\n",
       "            background-color:  #fff4ee;\n",
       "            color:  #000000;\n",
       "        }    #T_5d00b298_8e30_11ea_bc96_ccb0da3466acrow18_col0 {\n",
       "            background-color:  #fff4ef;\n",
       "            color:  #000000;\n",
       "        }    #T_5d00b298_8e30_11ea_bc96_ccb0da3466acrow19_col0 {\n",
       "            background-color:  #fff4ef;\n",
       "            color:  #000000;\n",
       "        }    #T_5d00b298_8e30_11ea_bc96_ccb0da3466acrow20_col0 {\n",
       "            background-color:  #fff4ef;\n",
       "            color:  #000000;\n",
       "        }    #T_5d00b298_8e30_11ea_bc96_ccb0da3466acrow21_col0 {\n",
       "            background-color:  #fff5f0;\n",
       "            color:  #000000;\n",
       "        }    #T_5d00b298_8e30_11ea_bc96_ccb0da3466acrow22_col0 {\n",
       "            background-color:  #fff5f0;\n",
       "            color:  #000000;\n",
       "        }    #T_5d00b298_8e30_11ea_bc96_ccb0da3466acrow23_col0 {\n",
       "            background-color:  #fff5f0;\n",
       "            color:  #000000;\n",
       "        }    #T_5d00b298_8e30_11ea_bc96_ccb0da3466acrow24_col0 {\n",
       "            background-color:  #fff5f0;\n",
       "            color:  #000000;\n",
       "        }    #T_5d00b298_8e30_11ea_bc96_ccb0da3466acrow25_col0 {\n",
       "            background-color:  #fff5f0;\n",
       "            color:  #000000;\n",
       "        }    #T_5d00b298_8e30_11ea_bc96_ccb0da3466acrow26_col0 {\n",
       "            background-color:  #fff5f0;\n",
       "            color:  #000000;\n",
       "        }    #T_5d00b298_8e30_11ea_bc96_ccb0da3466acrow27_col0 {\n",
       "            background-color:  #fff5f0;\n",
       "            color:  #000000;\n",
       "        }    #T_5d00b298_8e30_11ea_bc96_ccb0da3466acrow28_col0 {\n",
       "            background-color:  #fff5f0;\n",
       "            color:  #000000;\n",
       "        }    #T_5d00b298_8e30_11ea_bc96_ccb0da3466acrow29_col0 {\n",
       "            background-color:  #fff5f0;\n",
       "            color:  #000000;\n",
       "        }    #T_5d00b298_8e30_11ea_bc96_ccb0da3466acrow30_col0 {\n",
       "            background-color:  #fff5f0;\n",
       "            color:  #000000;\n",
       "        }    #T_5d00b298_8e30_11ea_bc96_ccb0da3466acrow31_col0 {\n",
       "            background-color:  #fff5f0;\n",
       "            color:  #000000;\n",
       "        }</style><table id=\"T_5d00b298_8e30_11ea_bc96_ccb0da3466ac\" ><thead>    <tr>        <th class=\"blank level0\" ></th>        <th class=\"col_heading level0 col0\" >Confirmed</th>    </tr>    <tr>        <th class=\"index_name level0\" >State/UnionTerritory</th>        <th class=\"blank\" ></th>    </tr></thead><tbody>\n",
       "                <tr>\n",
       "                        <th id=\"T_5d00b298_8e30_11ea_bc96_ccb0da3466aclevel0_row0\" class=\"row_heading level0 row0\" >Maharashtra</th>\n",
       "                        <td id=\"T_5d00b298_8e30_11ea_bc96_ccb0da3466acrow0_col0\" class=\"data row0 col0\" >12974</td>\n",
       "            </tr>\n",
       "            <tr>\n",
       "                        <th id=\"T_5d00b298_8e30_11ea_bc96_ccb0da3466aclevel0_row1\" class=\"row_heading level0 row1\" >Gujarat</th>\n",
       "                        <td id=\"T_5d00b298_8e30_11ea_bc96_ccb0da3466acrow1_col0\" class=\"data row1 col0\" >5428</td>\n",
       "            </tr>\n",
       "            <tr>\n",
       "                        <th id=\"T_5d00b298_8e30_11ea_bc96_ccb0da3466aclevel0_row2\" class=\"row_heading level0 row2\" >Delhi</th>\n",
       "                        <td id=\"T_5d00b298_8e30_11ea_bc96_ccb0da3466acrow2_col0\" class=\"data row2 col0\" >4549</td>\n",
       "            </tr>\n",
       "            <tr>\n",
       "                        <th id=\"T_5d00b298_8e30_11ea_bc96_ccb0da3466aclevel0_row3\" class=\"row_heading level0 row3\" >Tamil Nadu</th>\n",
       "                        <td id=\"T_5d00b298_8e30_11ea_bc96_ccb0da3466acrow3_col0\" class=\"data row3 col0\" >3023</td>\n",
       "            </tr>\n",
       "            <tr>\n",
       "                        <th id=\"T_5d00b298_8e30_11ea_bc96_ccb0da3466aclevel0_row4\" class=\"row_heading level0 row4\" >Madhya Pradesh</th>\n",
       "                        <td id=\"T_5d00b298_8e30_11ea_bc96_ccb0da3466acrow4_col0\" class=\"data row4 col0\" >2942</td>\n",
       "            </tr>\n",
       "            <tr>\n",
       "                        <th id=\"T_5d00b298_8e30_11ea_bc96_ccb0da3466aclevel0_row5\" class=\"row_heading level0 row5\" >Rajasthan</th>\n",
       "                        <td id=\"T_5d00b298_8e30_11ea_bc96_ccb0da3466acrow5_col0\" class=\"data row5 col0\" >2886</td>\n",
       "            </tr>\n",
       "            <tr>\n",
       "                        <th id=\"T_5d00b298_8e30_11ea_bc96_ccb0da3466aclevel0_row6\" class=\"row_heading level0 row6\" >Uttar Pradesh</th>\n",
       "                        <td id=\"T_5d00b298_8e30_11ea_bc96_ccb0da3466acrow6_col0\" class=\"data row6 col0\" >2742</td>\n",
       "            </tr>\n",
       "            <tr>\n",
       "                        <th id=\"T_5d00b298_8e30_11ea_bc96_ccb0da3466aclevel0_row7\" class=\"row_heading level0 row7\" >Andhra Pradesh</th>\n",
       "                        <td id=\"T_5d00b298_8e30_11ea_bc96_ccb0da3466acrow7_col0\" class=\"data row7 col0\" >1650</td>\n",
       "            </tr>\n",
       "            <tr>\n",
       "                        <th id=\"T_5d00b298_8e30_11ea_bc96_ccb0da3466aclevel0_row8\" class=\"row_heading level0 row8\" >Punjab</th>\n",
       "                        <td id=\"T_5d00b298_8e30_11ea_bc96_ccb0da3466acrow8_col0\" class=\"data row8 col0\" >1102</td>\n",
       "            </tr>\n",
       "            <tr>\n",
       "                        <th id=\"T_5d00b298_8e30_11ea_bc96_ccb0da3466aclevel0_row9\" class=\"row_heading level0 row9\" >Telengana</th>\n",
       "                        <td id=\"T_5d00b298_8e30_11ea_bc96_ccb0da3466acrow9_col0\" class=\"data row9 col0\" >1082</td>\n",
       "            </tr>\n",
       "            <tr>\n",
       "                        <th id=\"T_5d00b298_8e30_11ea_bc96_ccb0da3466aclevel0_row10\" class=\"row_heading level0 row10\" >West Bengal</th>\n",
       "                        <td id=\"T_5d00b298_8e30_11ea_bc96_ccb0da3466acrow10_col0\" class=\"data row10 col0\" >963</td>\n",
       "            </tr>\n",
       "            <tr>\n",
       "                        <th id=\"T_5d00b298_8e30_11ea_bc96_ccb0da3466aclevel0_row11\" class=\"row_heading level0 row11\" >Jammu and Kashmir</th>\n",
       "                        <td id=\"T_5d00b298_8e30_11ea_bc96_ccb0da3466acrow11_col0\" class=\"data row11 col0\" >701</td>\n",
       "            </tr>\n",
       "            <tr>\n",
       "                        <th id=\"T_5d00b298_8e30_11ea_bc96_ccb0da3466aclevel0_row12\" class=\"row_heading level0 row12\" >Karnataka</th>\n",
       "                        <td id=\"T_5d00b298_8e30_11ea_bc96_ccb0da3466acrow12_col0\" class=\"data row12 col0\" >642</td>\n",
       "            </tr>\n",
       "            <tr>\n",
       "                        <th id=\"T_5d00b298_8e30_11ea_bc96_ccb0da3466aclevel0_row13\" class=\"row_heading level0 row13\" >Bihar</th>\n",
       "                        <td id=\"T_5d00b298_8e30_11ea_bc96_ccb0da3466acrow13_col0\" class=\"data row13 col0\" >517</td>\n",
       "            </tr>\n",
       "            <tr>\n",
       "                        <th id=\"T_5d00b298_8e30_11ea_bc96_ccb0da3466aclevel0_row14\" class=\"row_heading level0 row14\" >Kerala</th>\n",
       "                        <td id=\"T_5d00b298_8e30_11ea_bc96_ccb0da3466acrow14_col0\" class=\"data row14 col0\" >500</td>\n",
       "            </tr>\n",
       "            <tr>\n",
       "                        <th id=\"T_5d00b298_8e30_11ea_bc96_ccb0da3466aclevel0_row15\" class=\"row_heading level0 row15\" >Haryana</th>\n",
       "                        <td id=\"T_5d00b298_8e30_11ea_bc96_ccb0da3466acrow15_col0\" class=\"data row15 col0\" >442</td>\n",
       "            </tr>\n",
       "            <tr>\n",
       "                        <th id=\"T_5d00b298_8e30_11ea_bc96_ccb0da3466aclevel0_row16\" class=\"row_heading level0 row16\" >Odisha</th>\n",
       "                        <td id=\"T_5d00b298_8e30_11ea_bc96_ccb0da3466acrow16_col0\" class=\"data row16 col0\" >163</td>\n",
       "            </tr>\n",
       "            <tr>\n",
       "                        <th id=\"T_5d00b298_8e30_11ea_bc96_ccb0da3466aclevel0_row17\" class=\"row_heading level0 row17\" >Jharkhand</th>\n",
       "                        <td id=\"T_5d00b298_8e30_11ea_bc96_ccb0da3466acrow17_col0\" class=\"data row17 col0\" >115</td>\n",
       "            </tr>\n",
       "            <tr>\n",
       "                        <th id=\"T_5d00b298_8e30_11ea_bc96_ccb0da3466aclevel0_row18\" class=\"row_heading level0 row18\" >Chandigarh</th>\n",
       "                        <td id=\"T_5d00b298_8e30_11ea_bc96_ccb0da3466acrow18_col0\" class=\"data row18 col0\" >94</td>\n",
       "            </tr>\n",
       "            <tr>\n",
       "                        <th id=\"T_5d00b298_8e30_11ea_bc96_ccb0da3466aclevel0_row19\" class=\"row_heading level0 row19\" >Uttarakhand</th>\n",
       "                        <td id=\"T_5d00b298_8e30_11ea_bc96_ccb0da3466acrow19_col0\" class=\"data row19 col0\" >60</td>\n",
       "            </tr>\n",
       "            <tr>\n",
       "                        <th id=\"T_5d00b298_8e30_11ea_bc96_ccb0da3466aclevel0_row20\" class=\"row_heading level0 row20\" >Chhattisgarh</th>\n",
       "                        <td id=\"T_5d00b298_8e30_11ea_bc96_ccb0da3466acrow20_col0\" class=\"data row20 col0\" >57</td>\n",
       "            </tr>\n",
       "            <tr>\n",
       "                        <th id=\"T_5d00b298_8e30_11ea_bc96_ccb0da3466aclevel0_row21\" class=\"row_heading level0 row21\" >Assam</th>\n",
       "                        <td id=\"T_5d00b298_8e30_11ea_bc96_ccb0da3466acrow21_col0\" class=\"data row21 col0\" >43</td>\n",
       "            </tr>\n",
       "            <tr>\n",
       "                        <th id=\"T_5d00b298_8e30_11ea_bc96_ccb0da3466aclevel0_row22\" class=\"row_heading level0 row22\" >Ladakh</th>\n",
       "                        <td id=\"T_5d00b298_8e30_11ea_bc96_ccb0da3466acrow22_col0\" class=\"data row22 col0\" >41</td>\n",
       "            </tr>\n",
       "            <tr>\n",
       "                        <th id=\"T_5d00b298_8e30_11ea_bc96_ccb0da3466aclevel0_row23\" class=\"row_heading level0 row23\" >Himachal Pradesh</th>\n",
       "                        <td id=\"T_5d00b298_8e30_11ea_bc96_ccb0da3466acrow23_col0\" class=\"data row23 col0\" >40</td>\n",
       "            </tr>\n",
       "            <tr>\n",
       "                        <th id=\"T_5d00b298_8e30_11ea_bc96_ccb0da3466aclevel0_row24\" class=\"row_heading level0 row24\" >Andaman and Nicobar Islands</th>\n",
       "                        <td id=\"T_5d00b298_8e30_11ea_bc96_ccb0da3466acrow24_col0\" class=\"data row24 col0\" >33</td>\n",
       "            </tr>\n",
       "            <tr>\n",
       "                        <th id=\"T_5d00b298_8e30_11ea_bc96_ccb0da3466aclevel0_row25\" class=\"row_heading level0 row25\" >Tripura</th>\n",
       "                        <td id=\"T_5d00b298_8e30_11ea_bc96_ccb0da3466acrow25_col0\" class=\"data row25 col0\" >16</td>\n",
       "            </tr>\n",
       "            <tr>\n",
       "                        <th id=\"T_5d00b298_8e30_11ea_bc96_ccb0da3466aclevel0_row26\" class=\"row_heading level0 row26\" >Meghalaya</th>\n",
       "                        <td id=\"T_5d00b298_8e30_11ea_bc96_ccb0da3466acrow26_col0\" class=\"data row26 col0\" >12</td>\n",
       "            </tr>\n",
       "            <tr>\n",
       "                        <th id=\"T_5d00b298_8e30_11ea_bc96_ccb0da3466aclevel0_row27\" class=\"row_heading level0 row27\" >Puducherry</th>\n",
       "                        <td id=\"T_5d00b298_8e30_11ea_bc96_ccb0da3466acrow27_col0\" class=\"data row27 col0\" >8</td>\n",
       "            </tr>\n",
       "            <tr>\n",
       "                        <th id=\"T_5d00b298_8e30_11ea_bc96_ccb0da3466aclevel0_row28\" class=\"row_heading level0 row28\" >Goa</th>\n",
       "                        <td id=\"T_5d00b298_8e30_11ea_bc96_ccb0da3466acrow28_col0\" class=\"data row28 col0\" >7</td>\n",
       "            </tr>\n",
       "            <tr>\n",
       "                        <th id=\"T_5d00b298_8e30_11ea_bc96_ccb0da3466aclevel0_row29\" class=\"row_heading level0 row29\" >Manipur</th>\n",
       "                        <td id=\"T_5d00b298_8e30_11ea_bc96_ccb0da3466acrow29_col0\" class=\"data row29 col0\" >2</td>\n",
       "            </tr>\n",
       "            <tr>\n",
       "                        <th id=\"T_5d00b298_8e30_11ea_bc96_ccb0da3466aclevel0_row30\" class=\"row_heading level0 row30\" >Mizoram</th>\n",
       "                        <td id=\"T_5d00b298_8e30_11ea_bc96_ccb0da3466acrow30_col0\" class=\"data row30 col0\" >1</td>\n",
       "            </tr>\n",
       "            <tr>\n",
       "                        <th id=\"T_5d00b298_8e30_11ea_bc96_ccb0da3466aclevel0_row31\" class=\"row_heading level0 row31\" >Arunachal Pradesh</th>\n",
       "                        <td id=\"T_5d00b298_8e30_11ea_bc96_ccb0da3466acrow31_col0\" class=\"data row31 col0\" >1</td>\n",
       "            </tr>\n",
       "    </tbody></table>"
      ],
      "text/plain": [
       "<pandas.io.formats.style.Styler at 0x16ac5f82f88>"
      ]
     },
     "execution_count": 8,
     "metadata": {},
     "output_type": "execute_result"
    }
   ],
   "source": [
    "df = data[data['Date'] == data['Date'].max()].groupby(\"State/UnionTerritory\")['Confirmed'].sum().sort_values(ascending=False).to_frame()\n",
    "df.style.background_gradient(cmap='Reds')"
   ]
  },
  {
   "cell_type": "markdown",
   "metadata": {},
   "source": [
    "#### Number of Confirmed, Active, Deaths and Cured cases in India"
   ]
  },
  {
   "cell_type": "code",
   "execution_count": 9,
   "metadata": {},
   "outputs": [],
   "source": [
    "df = data.groupby('Date')[['Confirmed','Deaths','Cured','Active']].sum()"
   ]
  },
  {
   "cell_type": "code",
   "execution_count": 10,
   "metadata": {},
   "outputs": [
    {
     "data": {
      "application/vnd.plotly.v1+json": {
       "config": {
        "plotlyServerURL": "https://plot.ly"
       },
       "data": [
        {
         "marker": {
          "color": "blue",
          "line": {
           "color": "black"
          }
         },
         "name": "Confirmed",
         "type": "bar",
         "x": [
          "2020-01-30T00:00:00",
          "2020-01-31T00:00:00",
          "2020-02-01T00:00:00",
          "2020-02-02T00:00:00",
          "2020-02-03T00:00:00",
          "2020-02-04T00:00:00",
          "2020-02-05T00:00:00",
          "2020-02-06T00:00:00",
          "2020-02-07T00:00:00",
          "2020-02-08T00:00:00",
          "2020-02-09T00:00:00",
          "2020-02-10T00:00:00",
          "2020-02-11T00:00:00",
          "2020-02-12T00:00:00",
          "2020-02-13T00:00:00",
          "2020-02-14T00:00:00",
          "2020-02-15T00:00:00",
          "2020-02-16T00:00:00",
          "2020-02-17T00:00:00",
          "2020-02-18T00:00:00",
          "2020-02-19T00:00:00",
          "2020-02-20T00:00:00",
          "2020-02-21T00:00:00",
          "2020-02-22T00:00:00",
          "2020-02-23T00:00:00",
          "2020-02-24T00:00:00",
          "2020-02-25T00:00:00",
          "2020-02-26T00:00:00",
          "2020-02-27T00:00:00",
          "2020-02-28T00:00:00",
          "2020-02-29T00:00:00",
          "2020-03-01T00:00:00",
          "2020-03-02T00:00:00",
          "2020-03-03T00:00:00",
          "2020-03-04T00:00:00",
          "2020-03-05T00:00:00",
          "2020-03-06T00:00:00",
          "2020-03-07T00:00:00",
          "2020-03-08T00:00:00",
          "2020-03-09T00:00:00",
          "2020-03-10T00:00:00",
          "2020-03-11T00:00:00",
          "2020-03-12T00:00:00",
          "2020-03-13T00:00:00",
          "2020-03-14T00:00:00",
          "2020-03-15T00:00:00",
          "2020-03-16T00:00:00",
          "2020-03-17T00:00:00",
          "2020-03-18T00:00:00",
          "2020-03-19T00:00:00",
          "2020-03-20T00:00:00",
          "2020-03-21T00:00:00",
          "2020-03-22T00:00:00",
          "2020-03-23T00:00:00",
          "2020-03-24T00:00:00",
          "2020-03-25T00:00:00",
          "2020-03-26T00:00:00",
          "2020-03-27T00:00:00",
          "2020-03-28T00:00:00",
          "2020-03-29T00:00:00",
          "2020-03-30T00:00:00",
          "2020-03-31T00:00:00",
          "2020-04-01T00:00:00",
          "2020-04-02T00:00:00",
          "2020-04-03T00:00:00",
          "2020-04-04T00:00:00",
          "2020-04-05T00:00:00",
          "2020-04-06T00:00:00",
          "2020-04-07T00:00:00",
          "2020-04-08T00:00:00",
          "2020-04-09T00:00:00",
          "2020-04-10T00:00:00",
          "2020-04-11T00:00:00",
          "2020-04-12T00:00:00",
          "2020-04-13T00:00:00",
          "2020-04-14T00:00:00",
          "2020-04-15T00:00:00",
          "2020-04-16T00:00:00",
          "2020-04-17T00:00:00",
          "2020-04-18T00:00:00",
          "2020-04-19T00:00:00",
          "2020-04-20T00:00:00",
          "2020-04-21T00:00:00",
          "2020-04-22T00:00:00",
          "2020-04-23T00:00:00",
          "2020-04-24T00:00:00",
          "2020-04-25T00:00:00",
          "2020-04-26T00:00:00",
          "2020-04-27T00:00:00",
          "2020-04-28T00:00:00",
          "2020-04-29T00:00:00",
          "2020-04-30T00:00:00",
          "2020-05-01T00:00:00",
          "2020-05-02T00:00:00",
          "2020-05-03T00:00:00",
          "2020-05-04T00:00:00"
         ],
         "y": [
          1,
          1,
          2,
          3,
          3,
          3,
          3,
          3,
          3,
          3,
          3,
          3,
          3,
          3,
          3,
          3,
          3,
          3,
          3,
          3,
          3,
          3,
          3,
          3,
          3,
          3,
          3,
          3,
          3,
          3,
          3,
          3,
          5,
          6,
          28,
          30,
          31,
          34,
          39,
          46,
          58,
          60,
          74,
          81,
          84,
          110,
          114,
          137,
          151,
          173,
          223,
          283,
          360,
          433,
          519,
          606,
          694,
          724,
          909,
          1024,
          1251,
          1397,
          1834,
          2069,
          2547,
          3072,
          3577,
          4281,
          4789,
          5274,
          5865,
          6761,
          7529,
          8447,
          9352,
          10815,
          11933,
          12759,
          13835,
          14792,
          16116,
          17656,
          18985,
          20471,
          21700,
          23452,
          24893,
          26605,
          28160,
          29834,
          31709,
          33330,
          34972,
          37157,
          40124,
          42836
         ]
        },
        {
         "marker": {
          "color": "green",
          "line": {
           "color": "black"
          }
         },
         "name": "Cured",
         "type": "bar",
         "x": [
          "2020-01-30T00:00:00",
          "2020-01-31T00:00:00",
          "2020-02-01T00:00:00",
          "2020-02-02T00:00:00",
          "2020-02-03T00:00:00",
          "2020-02-04T00:00:00",
          "2020-02-05T00:00:00",
          "2020-02-06T00:00:00",
          "2020-02-07T00:00:00",
          "2020-02-08T00:00:00",
          "2020-02-09T00:00:00",
          "2020-02-10T00:00:00",
          "2020-02-11T00:00:00",
          "2020-02-12T00:00:00",
          "2020-02-13T00:00:00",
          "2020-02-14T00:00:00",
          "2020-02-15T00:00:00",
          "2020-02-16T00:00:00",
          "2020-02-17T00:00:00",
          "2020-02-18T00:00:00",
          "2020-02-19T00:00:00",
          "2020-02-20T00:00:00",
          "2020-02-21T00:00:00",
          "2020-02-22T00:00:00",
          "2020-02-23T00:00:00",
          "2020-02-24T00:00:00",
          "2020-02-25T00:00:00",
          "2020-02-26T00:00:00",
          "2020-02-27T00:00:00",
          "2020-02-28T00:00:00",
          "2020-02-29T00:00:00",
          "2020-03-01T00:00:00",
          "2020-03-02T00:00:00",
          "2020-03-03T00:00:00",
          "2020-03-04T00:00:00",
          "2020-03-05T00:00:00",
          "2020-03-06T00:00:00",
          "2020-03-07T00:00:00",
          "2020-03-08T00:00:00",
          "2020-03-09T00:00:00",
          "2020-03-10T00:00:00",
          "2020-03-11T00:00:00",
          "2020-03-12T00:00:00",
          "2020-03-13T00:00:00",
          "2020-03-14T00:00:00",
          "2020-03-15T00:00:00",
          "2020-03-16T00:00:00",
          "2020-03-17T00:00:00",
          "2020-03-18T00:00:00",
          "2020-03-19T00:00:00",
          "2020-03-20T00:00:00",
          "2020-03-21T00:00:00",
          "2020-03-22T00:00:00",
          "2020-03-23T00:00:00",
          "2020-03-24T00:00:00",
          "2020-03-25T00:00:00",
          "2020-03-26T00:00:00",
          "2020-03-27T00:00:00",
          "2020-03-28T00:00:00",
          "2020-03-29T00:00:00",
          "2020-03-30T00:00:00",
          "2020-03-31T00:00:00",
          "2020-04-01T00:00:00",
          "2020-04-02T00:00:00",
          "2020-04-03T00:00:00",
          "2020-04-04T00:00:00",
          "2020-04-05T00:00:00",
          "2020-04-06T00:00:00",
          "2020-04-07T00:00:00",
          "2020-04-08T00:00:00",
          "2020-04-09T00:00:00",
          "2020-04-10T00:00:00",
          "2020-04-11T00:00:00",
          "2020-04-12T00:00:00",
          "2020-04-13T00:00:00",
          "2020-04-14T00:00:00",
          "2020-04-15T00:00:00",
          "2020-04-16T00:00:00",
          "2020-04-17T00:00:00",
          "2020-04-18T00:00:00",
          "2020-04-19T00:00:00",
          "2020-04-20T00:00:00",
          "2020-04-21T00:00:00",
          "2020-04-22T00:00:00",
          "2020-04-23T00:00:00",
          "2020-04-24T00:00:00",
          "2020-04-25T00:00:00",
          "2020-04-26T00:00:00",
          "2020-04-27T00:00:00",
          "2020-04-28T00:00:00",
          "2020-04-29T00:00:00",
          "2020-04-30T00:00:00",
          "2020-05-01T00:00:00",
          "2020-05-02T00:00:00",
          "2020-05-03T00:00:00",
          "2020-05-04T00:00:00"
         ],
         "y": [
          0,
          0,
          0,
          0,
          0,
          0,
          0,
          0,
          0,
          0,
          0,
          0,
          0,
          0,
          0,
          0,
          0,
          0,
          0,
          0,
          0,
          0,
          0,
          0,
          0,
          0,
          0,
          0,
          0,
          0,
          0,
          0,
          0,
          3,
          3,
          3,
          3,
          3,
          3,
          3,
          3,
          3,
          3,
          3,
          10,
          13,
          13,
          14,
          14,
          20,
          23,
          23,
          24,
          24,
          40,
          43,
          45,
          67,
          80,
          96,
          102,
          124,
          144,
          156,
          163,
          213,
          275,
          319,
          353,
          411,
          478,
          516,
          653,
          765,
          980,
          1190,
          1344,
          1515,
          1767,
          2015,
          2302,
          2842,
          3260,
          3960,
          4325,
          4814,
          5210,
          5914,
          6362,
          7027,
          7797,
          8373,
          9065,
          9951,
          10887,
          11762
         ]
        },
        {
         "marker": {
          "color": "red",
          "line": {
           "color": "black"
          }
         },
         "name": "Deaths",
         "type": "bar",
         "x": [
          "2020-01-30T00:00:00",
          "2020-01-31T00:00:00",
          "2020-02-01T00:00:00",
          "2020-02-02T00:00:00",
          "2020-02-03T00:00:00",
          "2020-02-04T00:00:00",
          "2020-02-05T00:00:00",
          "2020-02-06T00:00:00",
          "2020-02-07T00:00:00",
          "2020-02-08T00:00:00",
          "2020-02-09T00:00:00",
          "2020-02-10T00:00:00",
          "2020-02-11T00:00:00",
          "2020-02-12T00:00:00",
          "2020-02-13T00:00:00",
          "2020-02-14T00:00:00",
          "2020-02-15T00:00:00",
          "2020-02-16T00:00:00",
          "2020-02-17T00:00:00",
          "2020-02-18T00:00:00",
          "2020-02-19T00:00:00",
          "2020-02-20T00:00:00",
          "2020-02-21T00:00:00",
          "2020-02-22T00:00:00",
          "2020-02-23T00:00:00",
          "2020-02-24T00:00:00",
          "2020-02-25T00:00:00",
          "2020-02-26T00:00:00",
          "2020-02-27T00:00:00",
          "2020-02-28T00:00:00",
          "2020-02-29T00:00:00",
          "2020-03-01T00:00:00",
          "2020-03-02T00:00:00",
          "2020-03-03T00:00:00",
          "2020-03-04T00:00:00",
          "2020-03-05T00:00:00",
          "2020-03-06T00:00:00",
          "2020-03-07T00:00:00",
          "2020-03-08T00:00:00",
          "2020-03-09T00:00:00",
          "2020-03-10T00:00:00",
          "2020-03-11T00:00:00",
          "2020-03-12T00:00:00",
          "2020-03-13T00:00:00",
          "2020-03-14T00:00:00",
          "2020-03-15T00:00:00",
          "2020-03-16T00:00:00",
          "2020-03-17T00:00:00",
          "2020-03-18T00:00:00",
          "2020-03-19T00:00:00",
          "2020-03-20T00:00:00",
          "2020-03-21T00:00:00",
          "2020-03-22T00:00:00",
          "2020-03-23T00:00:00",
          "2020-03-24T00:00:00",
          "2020-03-25T00:00:00",
          "2020-03-26T00:00:00",
          "2020-03-27T00:00:00",
          "2020-03-28T00:00:00",
          "2020-03-29T00:00:00",
          "2020-03-30T00:00:00",
          "2020-03-31T00:00:00",
          "2020-04-01T00:00:00",
          "2020-04-02T00:00:00",
          "2020-04-03T00:00:00",
          "2020-04-04T00:00:00",
          "2020-04-05T00:00:00",
          "2020-04-06T00:00:00",
          "2020-04-07T00:00:00",
          "2020-04-08T00:00:00",
          "2020-04-09T00:00:00",
          "2020-04-10T00:00:00",
          "2020-04-11T00:00:00",
          "2020-04-12T00:00:00",
          "2020-04-13T00:00:00",
          "2020-04-14T00:00:00",
          "2020-04-15T00:00:00",
          "2020-04-16T00:00:00",
          "2020-04-17T00:00:00",
          "2020-04-18T00:00:00",
          "2020-04-19T00:00:00",
          "2020-04-20T00:00:00",
          "2020-04-21T00:00:00",
          "2020-04-22T00:00:00",
          "2020-04-23T00:00:00",
          "2020-04-24T00:00:00",
          "2020-04-25T00:00:00",
          "2020-04-26T00:00:00",
          "2020-04-27T00:00:00",
          "2020-04-28T00:00:00",
          "2020-04-29T00:00:00",
          "2020-04-30T00:00:00",
          "2020-05-01T00:00:00",
          "2020-05-02T00:00:00",
          "2020-05-03T00:00:00",
          "2020-05-04T00:00:00"
         ],
         "y": [
          0,
          0,
          0,
          0,
          0,
          0,
          0,
          0,
          0,
          0,
          0,
          0,
          0,
          0,
          0,
          0,
          0,
          0,
          0,
          0,
          0,
          0,
          0,
          0,
          0,
          0,
          0,
          0,
          0,
          0,
          0,
          0,
          0,
          0,
          0,
          0,
          0,
          0,
          0,
          0,
          0,
          0,
          0,
          1,
          2,
          2,
          2,
          3,
          3,
          4,
          4,
          4,
          7,
          7,
          9,
          10,
          15,
          17,
          19,
          27,
          31,
          35,
          41,
          53,
          62,
          75,
          83,
          111,
          124,
          149,
          169,
          206,
          242,
          273,
          324,
          353,
          392,
          420,
          452,
          488,
          519,
          559,
          603,
          652,
          686,
          723,
          779,
          826,
          886,
          937,
          1008,
          1075,
          1152,
          1218,
          1306,
          1389
         ]
        },
        {
         "marker": {
          "color": "black",
          "line": {
           "color": "black"
          }
         },
         "name": "Active",
         "type": "bar",
         "x": [
          "2020-01-30T00:00:00",
          "2020-01-31T00:00:00",
          "2020-02-01T00:00:00",
          "2020-02-02T00:00:00",
          "2020-02-03T00:00:00",
          "2020-02-04T00:00:00",
          "2020-02-05T00:00:00",
          "2020-02-06T00:00:00",
          "2020-02-07T00:00:00",
          "2020-02-08T00:00:00",
          "2020-02-09T00:00:00",
          "2020-02-10T00:00:00",
          "2020-02-11T00:00:00",
          "2020-02-12T00:00:00",
          "2020-02-13T00:00:00",
          "2020-02-14T00:00:00",
          "2020-02-15T00:00:00",
          "2020-02-16T00:00:00",
          "2020-02-17T00:00:00",
          "2020-02-18T00:00:00",
          "2020-02-19T00:00:00",
          "2020-02-20T00:00:00",
          "2020-02-21T00:00:00",
          "2020-02-22T00:00:00",
          "2020-02-23T00:00:00",
          "2020-02-24T00:00:00",
          "2020-02-25T00:00:00",
          "2020-02-26T00:00:00",
          "2020-02-27T00:00:00",
          "2020-02-28T00:00:00",
          "2020-02-29T00:00:00",
          "2020-03-01T00:00:00",
          "2020-03-02T00:00:00",
          "2020-03-03T00:00:00",
          "2020-03-04T00:00:00",
          "2020-03-05T00:00:00",
          "2020-03-06T00:00:00",
          "2020-03-07T00:00:00",
          "2020-03-08T00:00:00",
          "2020-03-09T00:00:00",
          "2020-03-10T00:00:00",
          "2020-03-11T00:00:00",
          "2020-03-12T00:00:00",
          "2020-03-13T00:00:00",
          "2020-03-14T00:00:00",
          "2020-03-15T00:00:00",
          "2020-03-16T00:00:00",
          "2020-03-17T00:00:00",
          "2020-03-18T00:00:00",
          "2020-03-19T00:00:00",
          "2020-03-20T00:00:00",
          "2020-03-21T00:00:00",
          "2020-03-22T00:00:00",
          "2020-03-23T00:00:00",
          "2020-03-24T00:00:00",
          "2020-03-25T00:00:00",
          "2020-03-26T00:00:00",
          "2020-03-27T00:00:00",
          "2020-03-28T00:00:00",
          "2020-03-29T00:00:00",
          "2020-03-30T00:00:00",
          "2020-03-31T00:00:00",
          "2020-04-01T00:00:00",
          "2020-04-02T00:00:00",
          "2020-04-03T00:00:00",
          "2020-04-04T00:00:00",
          "2020-04-05T00:00:00",
          "2020-04-06T00:00:00",
          "2020-04-07T00:00:00",
          "2020-04-08T00:00:00",
          "2020-04-09T00:00:00",
          "2020-04-10T00:00:00",
          "2020-04-11T00:00:00",
          "2020-04-12T00:00:00",
          "2020-04-13T00:00:00",
          "2020-04-14T00:00:00",
          "2020-04-15T00:00:00",
          "2020-04-16T00:00:00",
          "2020-04-17T00:00:00",
          "2020-04-18T00:00:00",
          "2020-04-19T00:00:00",
          "2020-04-20T00:00:00",
          "2020-04-21T00:00:00",
          "2020-04-22T00:00:00",
          "2020-04-23T00:00:00",
          "2020-04-24T00:00:00",
          "2020-04-25T00:00:00",
          "2020-04-26T00:00:00",
          "2020-04-27T00:00:00",
          "2020-04-28T00:00:00",
          "2020-04-29T00:00:00",
          "2020-04-30T00:00:00",
          "2020-05-01T00:00:00",
          "2020-05-02T00:00:00",
          "2020-05-03T00:00:00",
          "2020-05-04T00:00:00"
         ],
         "y": [
          1,
          1,
          2,
          3,
          3,
          3,
          3,
          3,
          3,
          3,
          3,
          3,
          3,
          3,
          3,
          3,
          3,
          3,
          3,
          3,
          3,
          3,
          3,
          3,
          3,
          3,
          3,
          3,
          3,
          3,
          3,
          3,
          5,
          3,
          25,
          27,
          28,
          31,
          36,
          43,
          55,
          57,
          71,
          77,
          72,
          95,
          99,
          120,
          134,
          149,
          196,
          256,
          329,
          402,
          470,
          553,
          634,
          640,
          810,
          901,
          1118,
          1238,
          1649,
          1860,
          2322,
          2784,
          3219,
          3851,
          4312,
          4714,
          5218,
          6039,
          6634,
          7409,
          8048,
          9272,
          10197,
          10824,
          11616,
          12289,
          13295,
          14255,
          15122,
          15859,
          16689,
          17915,
          18904,
          19865,
          20912,
          21870,
          22904,
          23882,
          24755,
          25988,
          27931,
          29685
         ]
        }
       ],
       "layout": {
        "barmode": "relative",
        "template": {
         "data": {
          "bar": [
           {
            "error_x": {
             "color": "#2a3f5f"
            },
            "error_y": {
             "color": "#2a3f5f"
            },
            "marker": {
             "line": {
              "color": "#E5ECF6",
              "width": 0.5
             }
            },
            "type": "bar"
           }
          ],
          "barpolar": [
           {
            "marker": {
             "line": {
              "color": "#E5ECF6",
              "width": 0.5
             }
            },
            "type": "barpolar"
           }
          ],
          "carpet": [
           {
            "aaxis": {
             "endlinecolor": "#2a3f5f",
             "gridcolor": "white",
             "linecolor": "white",
             "minorgridcolor": "white",
             "startlinecolor": "#2a3f5f"
            },
            "baxis": {
             "endlinecolor": "#2a3f5f",
             "gridcolor": "white",
             "linecolor": "white",
             "minorgridcolor": "white",
             "startlinecolor": "#2a3f5f"
            },
            "type": "carpet"
           }
          ],
          "choropleth": [
           {
            "colorbar": {
             "outlinewidth": 0,
             "ticks": ""
            },
            "type": "choropleth"
           }
          ],
          "contour": [
           {
            "colorbar": {
             "outlinewidth": 0,
             "ticks": ""
            },
            "colorscale": [
             [
              0,
              "#0d0887"
             ],
             [
              0.1111111111111111,
              "#46039f"
             ],
             [
              0.2222222222222222,
              "#7201a8"
             ],
             [
              0.3333333333333333,
              "#9c179e"
             ],
             [
              0.4444444444444444,
              "#bd3786"
             ],
             [
              0.5555555555555556,
              "#d8576b"
             ],
             [
              0.6666666666666666,
              "#ed7953"
             ],
             [
              0.7777777777777778,
              "#fb9f3a"
             ],
             [
              0.8888888888888888,
              "#fdca26"
             ],
             [
              1,
              "#f0f921"
             ]
            ],
            "type": "contour"
           }
          ],
          "contourcarpet": [
           {
            "colorbar": {
             "outlinewidth": 0,
             "ticks": ""
            },
            "type": "contourcarpet"
           }
          ],
          "heatmap": [
           {
            "colorbar": {
             "outlinewidth": 0,
             "ticks": ""
            },
            "colorscale": [
             [
              0,
              "#0d0887"
             ],
             [
              0.1111111111111111,
              "#46039f"
             ],
             [
              0.2222222222222222,
              "#7201a8"
             ],
             [
              0.3333333333333333,
              "#9c179e"
             ],
             [
              0.4444444444444444,
              "#bd3786"
             ],
             [
              0.5555555555555556,
              "#d8576b"
             ],
             [
              0.6666666666666666,
              "#ed7953"
             ],
             [
              0.7777777777777778,
              "#fb9f3a"
             ],
             [
              0.8888888888888888,
              "#fdca26"
             ],
             [
              1,
              "#f0f921"
             ]
            ],
            "type": "heatmap"
           }
          ],
          "heatmapgl": [
           {
            "colorbar": {
             "outlinewidth": 0,
             "ticks": ""
            },
            "colorscale": [
             [
              0,
              "#0d0887"
             ],
             [
              0.1111111111111111,
              "#46039f"
             ],
             [
              0.2222222222222222,
              "#7201a8"
             ],
             [
              0.3333333333333333,
              "#9c179e"
             ],
             [
              0.4444444444444444,
              "#bd3786"
             ],
             [
              0.5555555555555556,
              "#d8576b"
             ],
             [
              0.6666666666666666,
              "#ed7953"
             ],
             [
              0.7777777777777778,
              "#fb9f3a"
             ],
             [
              0.8888888888888888,
              "#fdca26"
             ],
             [
              1,
              "#f0f921"
             ]
            ],
            "type": "heatmapgl"
           }
          ],
          "histogram": [
           {
            "marker": {
             "colorbar": {
              "outlinewidth": 0,
              "ticks": ""
             }
            },
            "type": "histogram"
           }
          ],
          "histogram2d": [
           {
            "colorbar": {
             "outlinewidth": 0,
             "ticks": ""
            },
            "colorscale": [
             [
              0,
              "#0d0887"
             ],
             [
              0.1111111111111111,
              "#46039f"
             ],
             [
              0.2222222222222222,
              "#7201a8"
             ],
             [
              0.3333333333333333,
              "#9c179e"
             ],
             [
              0.4444444444444444,
              "#bd3786"
             ],
             [
              0.5555555555555556,
              "#d8576b"
             ],
             [
              0.6666666666666666,
              "#ed7953"
             ],
             [
              0.7777777777777778,
              "#fb9f3a"
             ],
             [
              0.8888888888888888,
              "#fdca26"
             ],
             [
              1,
              "#f0f921"
             ]
            ],
            "type": "histogram2d"
           }
          ],
          "histogram2dcontour": [
           {
            "colorbar": {
             "outlinewidth": 0,
             "ticks": ""
            },
            "colorscale": [
             [
              0,
              "#0d0887"
             ],
             [
              0.1111111111111111,
              "#46039f"
             ],
             [
              0.2222222222222222,
              "#7201a8"
             ],
             [
              0.3333333333333333,
              "#9c179e"
             ],
             [
              0.4444444444444444,
              "#bd3786"
             ],
             [
              0.5555555555555556,
              "#d8576b"
             ],
             [
              0.6666666666666666,
              "#ed7953"
             ],
             [
              0.7777777777777778,
              "#fb9f3a"
             ],
             [
              0.8888888888888888,
              "#fdca26"
             ],
             [
              1,
              "#f0f921"
             ]
            ],
            "type": "histogram2dcontour"
           }
          ],
          "mesh3d": [
           {
            "colorbar": {
             "outlinewidth": 0,
             "ticks": ""
            },
            "type": "mesh3d"
           }
          ],
          "parcoords": [
           {
            "line": {
             "colorbar": {
              "outlinewidth": 0,
              "ticks": ""
             }
            },
            "type": "parcoords"
           }
          ],
          "pie": [
           {
            "automargin": true,
            "type": "pie"
           }
          ],
          "scatter": [
           {
            "marker": {
             "colorbar": {
              "outlinewidth": 0,
              "ticks": ""
             }
            },
            "type": "scatter"
           }
          ],
          "scatter3d": [
           {
            "line": {
             "colorbar": {
              "outlinewidth": 0,
              "ticks": ""
             }
            },
            "marker": {
             "colorbar": {
              "outlinewidth": 0,
              "ticks": ""
             }
            },
            "type": "scatter3d"
           }
          ],
          "scattercarpet": [
           {
            "marker": {
             "colorbar": {
              "outlinewidth": 0,
              "ticks": ""
             }
            },
            "type": "scattercarpet"
           }
          ],
          "scattergeo": [
           {
            "marker": {
             "colorbar": {
              "outlinewidth": 0,
              "ticks": ""
             }
            },
            "type": "scattergeo"
           }
          ],
          "scattergl": [
           {
            "marker": {
             "colorbar": {
              "outlinewidth": 0,
              "ticks": ""
             }
            },
            "type": "scattergl"
           }
          ],
          "scattermapbox": [
           {
            "marker": {
             "colorbar": {
              "outlinewidth": 0,
              "ticks": ""
             }
            },
            "type": "scattermapbox"
           }
          ],
          "scatterpolar": [
           {
            "marker": {
             "colorbar": {
              "outlinewidth": 0,
              "ticks": ""
             }
            },
            "type": "scatterpolar"
           }
          ],
          "scatterpolargl": [
           {
            "marker": {
             "colorbar": {
              "outlinewidth": 0,
              "ticks": ""
             }
            },
            "type": "scatterpolargl"
           }
          ],
          "scatterternary": [
           {
            "marker": {
             "colorbar": {
              "outlinewidth": 0,
              "ticks": ""
             }
            },
            "type": "scatterternary"
           }
          ],
          "surface": [
           {
            "colorbar": {
             "outlinewidth": 0,
             "ticks": ""
            },
            "colorscale": [
             [
              0,
              "#0d0887"
             ],
             [
              0.1111111111111111,
              "#46039f"
             ],
             [
              0.2222222222222222,
              "#7201a8"
             ],
             [
              0.3333333333333333,
              "#9c179e"
             ],
             [
              0.4444444444444444,
              "#bd3786"
             ],
             [
              0.5555555555555556,
              "#d8576b"
             ],
             [
              0.6666666666666666,
              "#ed7953"
             ],
             [
              0.7777777777777778,
              "#fb9f3a"
             ],
             [
              0.8888888888888888,
              "#fdca26"
             ],
             [
              1,
              "#f0f921"
             ]
            ],
            "type": "surface"
           }
          ],
          "table": [
           {
            "cells": {
             "fill": {
              "color": "#EBF0F8"
             },
             "line": {
              "color": "white"
             }
            },
            "header": {
             "fill": {
              "color": "#C8D4E3"
             },
             "line": {
              "color": "white"
             }
            },
            "type": "table"
           }
          ]
         },
         "layout": {
          "annotationdefaults": {
           "arrowcolor": "#2a3f5f",
           "arrowhead": 0,
           "arrowwidth": 1
          },
          "coloraxis": {
           "colorbar": {
            "outlinewidth": 0,
            "ticks": ""
           }
          },
          "colorscale": {
           "diverging": [
            [
             0,
             "#8e0152"
            ],
            [
             0.1,
             "#c51b7d"
            ],
            [
             0.2,
             "#de77ae"
            ],
            [
             0.3,
             "#f1b6da"
            ],
            [
             0.4,
             "#fde0ef"
            ],
            [
             0.5,
             "#f7f7f7"
            ],
            [
             0.6,
             "#e6f5d0"
            ],
            [
             0.7,
             "#b8e186"
            ],
            [
             0.8,
             "#7fbc41"
            ],
            [
             0.9,
             "#4d9221"
            ],
            [
             1,
             "#276419"
            ]
           ],
           "sequential": [
            [
             0,
             "#0d0887"
            ],
            [
             0.1111111111111111,
             "#46039f"
            ],
            [
             0.2222222222222222,
             "#7201a8"
            ],
            [
             0.3333333333333333,
             "#9c179e"
            ],
            [
             0.4444444444444444,
             "#bd3786"
            ],
            [
             0.5555555555555556,
             "#d8576b"
            ],
            [
             0.6666666666666666,
             "#ed7953"
            ],
            [
             0.7777777777777778,
             "#fb9f3a"
            ],
            [
             0.8888888888888888,
             "#fdca26"
            ],
            [
             1,
             "#f0f921"
            ]
           ],
           "sequentialminus": [
            [
             0,
             "#0d0887"
            ],
            [
             0.1111111111111111,
             "#46039f"
            ],
            [
             0.2222222222222222,
             "#7201a8"
            ],
            [
             0.3333333333333333,
             "#9c179e"
            ],
            [
             0.4444444444444444,
             "#bd3786"
            ],
            [
             0.5555555555555556,
             "#d8576b"
            ],
            [
             0.6666666666666666,
             "#ed7953"
            ],
            [
             0.7777777777777778,
             "#fb9f3a"
            ],
            [
             0.8888888888888888,
             "#fdca26"
            ],
            [
             1,
             "#f0f921"
            ]
           ]
          },
          "colorway": [
           "#636efa",
           "#EF553B",
           "#00cc96",
           "#ab63fa",
           "#FFA15A",
           "#19d3f3",
           "#FF6692",
           "#B6E880",
           "#FF97FF",
           "#FECB52"
          ],
          "font": {
           "color": "#2a3f5f"
          },
          "geo": {
           "bgcolor": "white",
           "lakecolor": "white",
           "landcolor": "#E5ECF6",
           "showlakes": true,
           "showland": true,
           "subunitcolor": "white"
          },
          "hoverlabel": {
           "align": "left"
          },
          "hovermode": "closest",
          "mapbox": {
           "style": "light"
          },
          "paper_bgcolor": "white",
          "plot_bgcolor": "#E5ECF6",
          "polar": {
           "angularaxis": {
            "gridcolor": "white",
            "linecolor": "white",
            "ticks": ""
           },
           "bgcolor": "#E5ECF6",
           "radialaxis": {
            "gridcolor": "white",
            "linecolor": "white",
            "ticks": ""
           }
          },
          "scene": {
           "xaxis": {
            "backgroundcolor": "#E5ECF6",
            "gridcolor": "white",
            "gridwidth": 2,
            "linecolor": "white",
            "showbackground": true,
            "ticks": "",
            "zerolinecolor": "white"
           },
           "yaxis": {
            "backgroundcolor": "#E5ECF6",
            "gridcolor": "white",
            "gridwidth": 2,
            "linecolor": "white",
            "showbackground": true,
            "ticks": "",
            "zerolinecolor": "white"
           },
           "zaxis": {
            "backgroundcolor": "#E5ECF6",
            "gridcolor": "white",
            "gridwidth": 2,
            "linecolor": "white",
            "showbackground": true,
            "ticks": "",
            "zerolinecolor": "white"
           }
          },
          "shapedefaults": {
           "line": {
            "color": "#2a3f5f"
           }
          },
          "ternary": {
           "aaxis": {
            "gridcolor": "white",
            "linecolor": "white",
            "ticks": ""
           },
           "baxis": {
            "gridcolor": "white",
            "linecolor": "white",
            "ticks": ""
           },
           "bgcolor": "#E5ECF6",
           "caxis": {
            "gridcolor": "white",
            "linecolor": "white",
            "ticks": ""
           }
          },
          "title": {
           "x": 0.05
          },
          "xaxis": {
           "automargin": true,
           "gridcolor": "white",
           "linecolor": "white",
           "ticks": "",
           "title": {
            "standoff": 15
           },
           "zerolinecolor": "white",
           "zerolinewidth": 2
          },
          "yaxis": {
           "automargin": true,
           "gridcolor": "white",
           "linecolor": "white",
           "ticks": "",
           "title": {
            "standoff": 15
           },
           "zerolinecolor": "white",
           "zerolinewidth": 2
          }
         }
        },
        "title": {
         "text": "Number of Confirmed,Recovered,Deaths in India"
        },
        "xaxis": {
         "title": {
          "text": "Date"
         }
        },
        "yaxis": {
         "title": {
          "text": "Count"
         }
        }
       }
      },
      "text/html": [
       "<div>\n",
       "        \n",
       "        \n",
       "            <div id=\"710ddd5c-e949-4c7f-bd07-d7ff39e6daf5\" class=\"plotly-graph-div\" style=\"height:525px; width:100%;\"></div>\n",
       "            <script type=\"text/javascript\">\n",
       "                require([\"plotly\"], function(Plotly) {\n",
       "                    window.PLOTLYENV=window.PLOTLYENV || {};\n",
       "                    \n",
       "                if (document.getElementById(\"710ddd5c-e949-4c7f-bd07-d7ff39e6daf5\")) {\n",
       "                    Plotly.newPlot(\n",
       "                        '710ddd5c-e949-4c7f-bd07-d7ff39e6daf5',\n",
       "                        [{\"marker\": {\"color\": \"blue\", \"line\": {\"color\": \"black\"}}, \"name\": \"Confirmed\", \"type\": \"bar\", \"x\": [\"2020-01-30T00:00:00\", \"2020-01-31T00:00:00\", \"2020-02-01T00:00:00\", \"2020-02-02T00:00:00\", \"2020-02-03T00:00:00\", \"2020-02-04T00:00:00\", \"2020-02-05T00:00:00\", \"2020-02-06T00:00:00\", \"2020-02-07T00:00:00\", \"2020-02-08T00:00:00\", \"2020-02-09T00:00:00\", \"2020-02-10T00:00:00\", \"2020-02-11T00:00:00\", \"2020-02-12T00:00:00\", \"2020-02-13T00:00:00\", \"2020-02-14T00:00:00\", \"2020-02-15T00:00:00\", \"2020-02-16T00:00:00\", \"2020-02-17T00:00:00\", \"2020-02-18T00:00:00\", \"2020-02-19T00:00:00\", \"2020-02-20T00:00:00\", \"2020-02-21T00:00:00\", \"2020-02-22T00:00:00\", \"2020-02-23T00:00:00\", \"2020-02-24T00:00:00\", \"2020-02-25T00:00:00\", \"2020-02-26T00:00:00\", \"2020-02-27T00:00:00\", \"2020-02-28T00:00:00\", \"2020-02-29T00:00:00\", \"2020-03-01T00:00:00\", \"2020-03-02T00:00:00\", \"2020-03-03T00:00:00\", \"2020-03-04T00:00:00\", \"2020-03-05T00:00:00\", \"2020-03-06T00:00:00\", \"2020-03-07T00:00:00\", \"2020-03-08T00:00:00\", \"2020-03-09T00:00:00\", \"2020-03-10T00:00:00\", \"2020-03-11T00:00:00\", \"2020-03-12T00:00:00\", \"2020-03-13T00:00:00\", \"2020-03-14T00:00:00\", \"2020-03-15T00:00:00\", \"2020-03-16T00:00:00\", \"2020-03-17T00:00:00\", \"2020-03-18T00:00:00\", \"2020-03-19T00:00:00\", \"2020-03-20T00:00:00\", \"2020-03-21T00:00:00\", \"2020-03-22T00:00:00\", \"2020-03-23T00:00:00\", \"2020-03-24T00:00:00\", \"2020-03-25T00:00:00\", \"2020-03-26T00:00:00\", \"2020-03-27T00:00:00\", \"2020-03-28T00:00:00\", \"2020-03-29T00:00:00\", \"2020-03-30T00:00:00\", \"2020-03-31T00:00:00\", \"2020-04-01T00:00:00\", \"2020-04-02T00:00:00\", \"2020-04-03T00:00:00\", \"2020-04-04T00:00:00\", \"2020-04-05T00:00:00\", \"2020-04-06T00:00:00\", \"2020-04-07T00:00:00\", \"2020-04-08T00:00:00\", \"2020-04-09T00:00:00\", \"2020-04-10T00:00:00\", \"2020-04-11T00:00:00\", \"2020-04-12T00:00:00\", \"2020-04-13T00:00:00\", \"2020-04-14T00:00:00\", \"2020-04-15T00:00:00\", \"2020-04-16T00:00:00\", \"2020-04-17T00:00:00\", \"2020-04-18T00:00:00\", \"2020-04-19T00:00:00\", \"2020-04-20T00:00:00\", \"2020-04-21T00:00:00\", \"2020-04-22T00:00:00\", \"2020-04-23T00:00:00\", \"2020-04-24T00:00:00\", \"2020-04-25T00:00:00\", \"2020-04-26T00:00:00\", \"2020-04-27T00:00:00\", \"2020-04-28T00:00:00\", \"2020-04-29T00:00:00\", \"2020-04-30T00:00:00\", \"2020-05-01T00:00:00\", \"2020-05-02T00:00:00\", \"2020-05-03T00:00:00\", \"2020-05-04T00:00:00\"], \"y\": [1, 1, 2, 3, 3, 3, 3, 3, 3, 3, 3, 3, 3, 3, 3, 3, 3, 3, 3, 3, 3, 3, 3, 3, 3, 3, 3, 3, 3, 3, 3, 3, 5, 6, 28, 30, 31, 34, 39, 46, 58, 60, 74, 81, 84, 110, 114, 137, 151, 173, 223, 283, 360, 433, 519, 606, 694, 724, 909, 1024, 1251, 1397, 1834, 2069, 2547, 3072, 3577, 4281, 4789, 5274, 5865, 6761, 7529, 8447, 9352, 10815, 11933, 12759, 13835, 14792, 16116, 17656, 18985, 20471, 21700, 23452, 24893, 26605, 28160, 29834, 31709, 33330, 34972, 37157, 40124, 42836]}, {\"marker\": {\"color\": \"green\", \"line\": {\"color\": \"black\"}}, \"name\": \"Cured\", \"type\": \"bar\", \"x\": [\"2020-01-30T00:00:00\", \"2020-01-31T00:00:00\", \"2020-02-01T00:00:00\", \"2020-02-02T00:00:00\", \"2020-02-03T00:00:00\", \"2020-02-04T00:00:00\", \"2020-02-05T00:00:00\", \"2020-02-06T00:00:00\", \"2020-02-07T00:00:00\", \"2020-02-08T00:00:00\", \"2020-02-09T00:00:00\", \"2020-02-10T00:00:00\", \"2020-02-11T00:00:00\", \"2020-02-12T00:00:00\", \"2020-02-13T00:00:00\", \"2020-02-14T00:00:00\", \"2020-02-15T00:00:00\", \"2020-02-16T00:00:00\", \"2020-02-17T00:00:00\", \"2020-02-18T00:00:00\", \"2020-02-19T00:00:00\", \"2020-02-20T00:00:00\", \"2020-02-21T00:00:00\", \"2020-02-22T00:00:00\", \"2020-02-23T00:00:00\", \"2020-02-24T00:00:00\", \"2020-02-25T00:00:00\", \"2020-02-26T00:00:00\", \"2020-02-27T00:00:00\", \"2020-02-28T00:00:00\", \"2020-02-29T00:00:00\", \"2020-03-01T00:00:00\", \"2020-03-02T00:00:00\", \"2020-03-03T00:00:00\", \"2020-03-04T00:00:00\", \"2020-03-05T00:00:00\", \"2020-03-06T00:00:00\", \"2020-03-07T00:00:00\", \"2020-03-08T00:00:00\", \"2020-03-09T00:00:00\", \"2020-03-10T00:00:00\", \"2020-03-11T00:00:00\", \"2020-03-12T00:00:00\", \"2020-03-13T00:00:00\", \"2020-03-14T00:00:00\", \"2020-03-15T00:00:00\", \"2020-03-16T00:00:00\", \"2020-03-17T00:00:00\", \"2020-03-18T00:00:00\", \"2020-03-19T00:00:00\", \"2020-03-20T00:00:00\", \"2020-03-21T00:00:00\", \"2020-03-22T00:00:00\", \"2020-03-23T00:00:00\", \"2020-03-24T00:00:00\", \"2020-03-25T00:00:00\", \"2020-03-26T00:00:00\", \"2020-03-27T00:00:00\", \"2020-03-28T00:00:00\", \"2020-03-29T00:00:00\", \"2020-03-30T00:00:00\", \"2020-03-31T00:00:00\", \"2020-04-01T00:00:00\", \"2020-04-02T00:00:00\", \"2020-04-03T00:00:00\", \"2020-04-04T00:00:00\", \"2020-04-05T00:00:00\", \"2020-04-06T00:00:00\", \"2020-04-07T00:00:00\", \"2020-04-08T00:00:00\", \"2020-04-09T00:00:00\", \"2020-04-10T00:00:00\", \"2020-04-11T00:00:00\", \"2020-04-12T00:00:00\", \"2020-04-13T00:00:00\", \"2020-04-14T00:00:00\", \"2020-04-15T00:00:00\", \"2020-04-16T00:00:00\", \"2020-04-17T00:00:00\", \"2020-04-18T00:00:00\", \"2020-04-19T00:00:00\", \"2020-04-20T00:00:00\", \"2020-04-21T00:00:00\", \"2020-04-22T00:00:00\", \"2020-04-23T00:00:00\", \"2020-04-24T00:00:00\", \"2020-04-25T00:00:00\", \"2020-04-26T00:00:00\", \"2020-04-27T00:00:00\", \"2020-04-28T00:00:00\", \"2020-04-29T00:00:00\", \"2020-04-30T00:00:00\", \"2020-05-01T00:00:00\", \"2020-05-02T00:00:00\", \"2020-05-03T00:00:00\", \"2020-05-04T00:00:00\"], \"y\": [0, 0, 0, 0, 0, 0, 0, 0, 0, 0, 0, 0, 0, 0, 0, 0, 0, 0, 0, 0, 0, 0, 0, 0, 0, 0, 0, 0, 0, 0, 0, 0, 0, 3, 3, 3, 3, 3, 3, 3, 3, 3, 3, 3, 10, 13, 13, 14, 14, 20, 23, 23, 24, 24, 40, 43, 45, 67, 80, 96, 102, 124, 144, 156, 163, 213, 275, 319, 353, 411, 478, 516, 653, 765, 980, 1190, 1344, 1515, 1767, 2015, 2302, 2842, 3260, 3960, 4325, 4814, 5210, 5914, 6362, 7027, 7797, 8373, 9065, 9951, 10887, 11762]}, {\"marker\": {\"color\": \"red\", \"line\": {\"color\": \"black\"}}, \"name\": \"Deaths\", \"type\": \"bar\", \"x\": [\"2020-01-30T00:00:00\", \"2020-01-31T00:00:00\", \"2020-02-01T00:00:00\", \"2020-02-02T00:00:00\", \"2020-02-03T00:00:00\", \"2020-02-04T00:00:00\", \"2020-02-05T00:00:00\", \"2020-02-06T00:00:00\", \"2020-02-07T00:00:00\", \"2020-02-08T00:00:00\", \"2020-02-09T00:00:00\", \"2020-02-10T00:00:00\", \"2020-02-11T00:00:00\", \"2020-02-12T00:00:00\", \"2020-02-13T00:00:00\", \"2020-02-14T00:00:00\", \"2020-02-15T00:00:00\", \"2020-02-16T00:00:00\", \"2020-02-17T00:00:00\", \"2020-02-18T00:00:00\", \"2020-02-19T00:00:00\", \"2020-02-20T00:00:00\", \"2020-02-21T00:00:00\", \"2020-02-22T00:00:00\", \"2020-02-23T00:00:00\", \"2020-02-24T00:00:00\", \"2020-02-25T00:00:00\", \"2020-02-26T00:00:00\", \"2020-02-27T00:00:00\", \"2020-02-28T00:00:00\", \"2020-02-29T00:00:00\", \"2020-03-01T00:00:00\", \"2020-03-02T00:00:00\", \"2020-03-03T00:00:00\", \"2020-03-04T00:00:00\", \"2020-03-05T00:00:00\", \"2020-03-06T00:00:00\", \"2020-03-07T00:00:00\", \"2020-03-08T00:00:00\", \"2020-03-09T00:00:00\", \"2020-03-10T00:00:00\", \"2020-03-11T00:00:00\", \"2020-03-12T00:00:00\", \"2020-03-13T00:00:00\", \"2020-03-14T00:00:00\", \"2020-03-15T00:00:00\", \"2020-03-16T00:00:00\", \"2020-03-17T00:00:00\", \"2020-03-18T00:00:00\", \"2020-03-19T00:00:00\", \"2020-03-20T00:00:00\", \"2020-03-21T00:00:00\", \"2020-03-22T00:00:00\", \"2020-03-23T00:00:00\", \"2020-03-24T00:00:00\", \"2020-03-25T00:00:00\", \"2020-03-26T00:00:00\", \"2020-03-27T00:00:00\", \"2020-03-28T00:00:00\", \"2020-03-29T00:00:00\", \"2020-03-30T00:00:00\", \"2020-03-31T00:00:00\", \"2020-04-01T00:00:00\", \"2020-04-02T00:00:00\", \"2020-04-03T00:00:00\", \"2020-04-04T00:00:00\", \"2020-04-05T00:00:00\", \"2020-04-06T00:00:00\", \"2020-04-07T00:00:00\", \"2020-04-08T00:00:00\", \"2020-04-09T00:00:00\", \"2020-04-10T00:00:00\", \"2020-04-11T00:00:00\", \"2020-04-12T00:00:00\", \"2020-04-13T00:00:00\", \"2020-04-14T00:00:00\", \"2020-04-15T00:00:00\", \"2020-04-16T00:00:00\", \"2020-04-17T00:00:00\", \"2020-04-18T00:00:00\", \"2020-04-19T00:00:00\", \"2020-04-20T00:00:00\", \"2020-04-21T00:00:00\", \"2020-04-22T00:00:00\", \"2020-04-23T00:00:00\", \"2020-04-24T00:00:00\", \"2020-04-25T00:00:00\", \"2020-04-26T00:00:00\", \"2020-04-27T00:00:00\", \"2020-04-28T00:00:00\", \"2020-04-29T00:00:00\", \"2020-04-30T00:00:00\", \"2020-05-01T00:00:00\", \"2020-05-02T00:00:00\", \"2020-05-03T00:00:00\", \"2020-05-04T00:00:00\"], \"y\": [0, 0, 0, 0, 0, 0, 0, 0, 0, 0, 0, 0, 0, 0, 0, 0, 0, 0, 0, 0, 0, 0, 0, 0, 0, 0, 0, 0, 0, 0, 0, 0, 0, 0, 0, 0, 0, 0, 0, 0, 0, 0, 0, 1, 2, 2, 2, 3, 3, 4, 4, 4, 7, 7, 9, 10, 15, 17, 19, 27, 31, 35, 41, 53, 62, 75, 83, 111, 124, 149, 169, 206, 242, 273, 324, 353, 392, 420, 452, 488, 519, 559, 603, 652, 686, 723, 779, 826, 886, 937, 1008, 1075, 1152, 1218, 1306, 1389]}, {\"marker\": {\"color\": \"black\", \"line\": {\"color\": \"black\"}}, \"name\": \"Active\", \"type\": \"bar\", \"x\": [\"2020-01-30T00:00:00\", \"2020-01-31T00:00:00\", \"2020-02-01T00:00:00\", \"2020-02-02T00:00:00\", \"2020-02-03T00:00:00\", \"2020-02-04T00:00:00\", \"2020-02-05T00:00:00\", \"2020-02-06T00:00:00\", \"2020-02-07T00:00:00\", \"2020-02-08T00:00:00\", \"2020-02-09T00:00:00\", \"2020-02-10T00:00:00\", \"2020-02-11T00:00:00\", \"2020-02-12T00:00:00\", \"2020-02-13T00:00:00\", \"2020-02-14T00:00:00\", \"2020-02-15T00:00:00\", \"2020-02-16T00:00:00\", \"2020-02-17T00:00:00\", \"2020-02-18T00:00:00\", \"2020-02-19T00:00:00\", \"2020-02-20T00:00:00\", \"2020-02-21T00:00:00\", \"2020-02-22T00:00:00\", \"2020-02-23T00:00:00\", \"2020-02-24T00:00:00\", \"2020-02-25T00:00:00\", \"2020-02-26T00:00:00\", \"2020-02-27T00:00:00\", \"2020-02-28T00:00:00\", \"2020-02-29T00:00:00\", \"2020-03-01T00:00:00\", \"2020-03-02T00:00:00\", \"2020-03-03T00:00:00\", \"2020-03-04T00:00:00\", \"2020-03-05T00:00:00\", \"2020-03-06T00:00:00\", \"2020-03-07T00:00:00\", \"2020-03-08T00:00:00\", \"2020-03-09T00:00:00\", \"2020-03-10T00:00:00\", \"2020-03-11T00:00:00\", \"2020-03-12T00:00:00\", \"2020-03-13T00:00:00\", \"2020-03-14T00:00:00\", \"2020-03-15T00:00:00\", \"2020-03-16T00:00:00\", \"2020-03-17T00:00:00\", \"2020-03-18T00:00:00\", \"2020-03-19T00:00:00\", \"2020-03-20T00:00:00\", \"2020-03-21T00:00:00\", \"2020-03-22T00:00:00\", \"2020-03-23T00:00:00\", \"2020-03-24T00:00:00\", \"2020-03-25T00:00:00\", \"2020-03-26T00:00:00\", \"2020-03-27T00:00:00\", \"2020-03-28T00:00:00\", \"2020-03-29T00:00:00\", \"2020-03-30T00:00:00\", \"2020-03-31T00:00:00\", \"2020-04-01T00:00:00\", \"2020-04-02T00:00:00\", \"2020-04-03T00:00:00\", \"2020-04-04T00:00:00\", \"2020-04-05T00:00:00\", \"2020-04-06T00:00:00\", \"2020-04-07T00:00:00\", \"2020-04-08T00:00:00\", \"2020-04-09T00:00:00\", \"2020-04-10T00:00:00\", \"2020-04-11T00:00:00\", \"2020-04-12T00:00:00\", \"2020-04-13T00:00:00\", \"2020-04-14T00:00:00\", \"2020-04-15T00:00:00\", \"2020-04-16T00:00:00\", \"2020-04-17T00:00:00\", \"2020-04-18T00:00:00\", \"2020-04-19T00:00:00\", \"2020-04-20T00:00:00\", \"2020-04-21T00:00:00\", \"2020-04-22T00:00:00\", \"2020-04-23T00:00:00\", \"2020-04-24T00:00:00\", \"2020-04-25T00:00:00\", \"2020-04-26T00:00:00\", \"2020-04-27T00:00:00\", \"2020-04-28T00:00:00\", \"2020-04-29T00:00:00\", \"2020-04-30T00:00:00\", \"2020-05-01T00:00:00\", \"2020-05-02T00:00:00\", \"2020-05-03T00:00:00\", \"2020-05-04T00:00:00\"], \"y\": [1, 1, 2, 3, 3, 3, 3, 3, 3, 3, 3, 3, 3, 3, 3, 3, 3, 3, 3, 3, 3, 3, 3, 3, 3, 3, 3, 3, 3, 3, 3, 3, 5, 3, 25, 27, 28, 31, 36, 43, 55, 57, 71, 77, 72, 95, 99, 120, 134, 149, 196, 256, 329, 402, 470, 553, 634, 640, 810, 901, 1118, 1238, 1649, 1860, 2322, 2784, 3219, 3851, 4312, 4714, 5218, 6039, 6634, 7409, 8048, 9272, 10197, 10824, 11616, 12289, 13295, 14255, 15122, 15859, 16689, 17915, 18904, 19865, 20912, 21870, 22904, 23882, 24755, 25988, 27931, 29685]}],\n",
       "                        {\"barmode\": \"relative\", \"template\": {\"data\": {\"bar\": [{\"error_x\": {\"color\": \"#2a3f5f\"}, \"error_y\": {\"color\": \"#2a3f5f\"}, \"marker\": {\"line\": {\"color\": \"#E5ECF6\", \"width\": 0.5}}, \"type\": \"bar\"}], \"barpolar\": [{\"marker\": {\"line\": {\"color\": \"#E5ECF6\", \"width\": 0.5}}, \"type\": \"barpolar\"}], \"carpet\": [{\"aaxis\": {\"endlinecolor\": \"#2a3f5f\", \"gridcolor\": \"white\", \"linecolor\": \"white\", \"minorgridcolor\": \"white\", \"startlinecolor\": \"#2a3f5f\"}, \"baxis\": {\"endlinecolor\": \"#2a3f5f\", \"gridcolor\": \"white\", \"linecolor\": \"white\", \"minorgridcolor\": \"white\", \"startlinecolor\": \"#2a3f5f\"}, \"type\": \"carpet\"}], \"choropleth\": [{\"colorbar\": {\"outlinewidth\": 0, \"ticks\": \"\"}, \"type\": \"choropleth\"}], \"contour\": [{\"colorbar\": {\"outlinewidth\": 0, \"ticks\": \"\"}, \"colorscale\": [[0.0, \"#0d0887\"], [0.1111111111111111, \"#46039f\"], [0.2222222222222222, \"#7201a8\"], [0.3333333333333333, \"#9c179e\"], [0.4444444444444444, \"#bd3786\"], [0.5555555555555556, \"#d8576b\"], [0.6666666666666666, \"#ed7953\"], [0.7777777777777778, \"#fb9f3a\"], [0.8888888888888888, \"#fdca26\"], [1.0, \"#f0f921\"]], \"type\": \"contour\"}], \"contourcarpet\": [{\"colorbar\": {\"outlinewidth\": 0, \"ticks\": \"\"}, \"type\": \"contourcarpet\"}], \"heatmap\": [{\"colorbar\": {\"outlinewidth\": 0, \"ticks\": \"\"}, \"colorscale\": [[0.0, \"#0d0887\"], [0.1111111111111111, \"#46039f\"], [0.2222222222222222, \"#7201a8\"], [0.3333333333333333, \"#9c179e\"], [0.4444444444444444, \"#bd3786\"], [0.5555555555555556, \"#d8576b\"], [0.6666666666666666, \"#ed7953\"], [0.7777777777777778, \"#fb9f3a\"], [0.8888888888888888, \"#fdca26\"], [1.0, \"#f0f921\"]], \"type\": \"heatmap\"}], \"heatmapgl\": [{\"colorbar\": {\"outlinewidth\": 0, \"ticks\": \"\"}, \"colorscale\": [[0.0, \"#0d0887\"], [0.1111111111111111, \"#46039f\"], [0.2222222222222222, \"#7201a8\"], [0.3333333333333333, \"#9c179e\"], [0.4444444444444444, \"#bd3786\"], [0.5555555555555556, \"#d8576b\"], [0.6666666666666666, \"#ed7953\"], [0.7777777777777778, \"#fb9f3a\"], [0.8888888888888888, \"#fdca26\"], [1.0, \"#f0f921\"]], \"type\": \"heatmapgl\"}], \"histogram\": [{\"marker\": {\"colorbar\": {\"outlinewidth\": 0, \"ticks\": \"\"}}, \"type\": \"histogram\"}], \"histogram2d\": [{\"colorbar\": {\"outlinewidth\": 0, \"ticks\": \"\"}, \"colorscale\": [[0.0, \"#0d0887\"], [0.1111111111111111, \"#46039f\"], [0.2222222222222222, \"#7201a8\"], [0.3333333333333333, \"#9c179e\"], [0.4444444444444444, \"#bd3786\"], [0.5555555555555556, \"#d8576b\"], [0.6666666666666666, \"#ed7953\"], [0.7777777777777778, \"#fb9f3a\"], [0.8888888888888888, \"#fdca26\"], [1.0, \"#f0f921\"]], \"type\": \"histogram2d\"}], \"histogram2dcontour\": [{\"colorbar\": {\"outlinewidth\": 0, \"ticks\": \"\"}, \"colorscale\": [[0.0, \"#0d0887\"], [0.1111111111111111, \"#46039f\"], [0.2222222222222222, \"#7201a8\"], [0.3333333333333333, \"#9c179e\"], [0.4444444444444444, \"#bd3786\"], [0.5555555555555556, \"#d8576b\"], [0.6666666666666666, \"#ed7953\"], [0.7777777777777778, \"#fb9f3a\"], [0.8888888888888888, \"#fdca26\"], [1.0, \"#f0f921\"]], \"type\": \"histogram2dcontour\"}], \"mesh3d\": [{\"colorbar\": {\"outlinewidth\": 0, \"ticks\": \"\"}, \"type\": \"mesh3d\"}], \"parcoords\": [{\"line\": {\"colorbar\": {\"outlinewidth\": 0, \"ticks\": \"\"}}, \"type\": \"parcoords\"}], \"pie\": [{\"automargin\": true, \"type\": \"pie\"}], \"scatter\": [{\"marker\": {\"colorbar\": {\"outlinewidth\": 0, \"ticks\": \"\"}}, \"type\": \"scatter\"}], \"scatter3d\": [{\"line\": {\"colorbar\": {\"outlinewidth\": 0, \"ticks\": \"\"}}, \"marker\": {\"colorbar\": {\"outlinewidth\": 0, \"ticks\": \"\"}}, \"type\": \"scatter3d\"}], \"scattercarpet\": [{\"marker\": {\"colorbar\": {\"outlinewidth\": 0, \"ticks\": \"\"}}, \"type\": \"scattercarpet\"}], \"scattergeo\": [{\"marker\": {\"colorbar\": {\"outlinewidth\": 0, \"ticks\": \"\"}}, \"type\": \"scattergeo\"}], \"scattergl\": [{\"marker\": {\"colorbar\": {\"outlinewidth\": 0, \"ticks\": \"\"}}, \"type\": \"scattergl\"}], \"scattermapbox\": [{\"marker\": {\"colorbar\": {\"outlinewidth\": 0, \"ticks\": \"\"}}, \"type\": \"scattermapbox\"}], \"scatterpolar\": [{\"marker\": {\"colorbar\": {\"outlinewidth\": 0, \"ticks\": \"\"}}, \"type\": \"scatterpolar\"}], \"scatterpolargl\": [{\"marker\": {\"colorbar\": {\"outlinewidth\": 0, \"ticks\": \"\"}}, \"type\": \"scatterpolargl\"}], \"scatterternary\": [{\"marker\": {\"colorbar\": {\"outlinewidth\": 0, \"ticks\": \"\"}}, \"type\": \"scatterternary\"}], \"surface\": [{\"colorbar\": {\"outlinewidth\": 0, \"ticks\": \"\"}, \"colorscale\": [[0.0, \"#0d0887\"], [0.1111111111111111, \"#46039f\"], [0.2222222222222222, \"#7201a8\"], [0.3333333333333333, \"#9c179e\"], [0.4444444444444444, \"#bd3786\"], [0.5555555555555556, \"#d8576b\"], [0.6666666666666666, \"#ed7953\"], [0.7777777777777778, \"#fb9f3a\"], [0.8888888888888888, \"#fdca26\"], [1.0, \"#f0f921\"]], \"type\": \"surface\"}], \"table\": [{\"cells\": {\"fill\": {\"color\": \"#EBF0F8\"}, \"line\": {\"color\": \"white\"}}, \"header\": {\"fill\": {\"color\": \"#C8D4E3\"}, \"line\": {\"color\": \"white\"}}, \"type\": \"table\"}]}, \"layout\": {\"annotationdefaults\": {\"arrowcolor\": \"#2a3f5f\", \"arrowhead\": 0, \"arrowwidth\": 1}, \"coloraxis\": {\"colorbar\": {\"outlinewidth\": 0, \"ticks\": \"\"}}, \"colorscale\": {\"diverging\": [[0, \"#8e0152\"], [0.1, \"#c51b7d\"], [0.2, \"#de77ae\"], [0.3, \"#f1b6da\"], [0.4, \"#fde0ef\"], [0.5, \"#f7f7f7\"], [0.6, \"#e6f5d0\"], [0.7, \"#b8e186\"], [0.8, \"#7fbc41\"], [0.9, \"#4d9221\"], [1, \"#276419\"]], \"sequential\": [[0.0, \"#0d0887\"], [0.1111111111111111, \"#46039f\"], [0.2222222222222222, \"#7201a8\"], [0.3333333333333333, \"#9c179e\"], [0.4444444444444444, \"#bd3786\"], [0.5555555555555556, \"#d8576b\"], [0.6666666666666666, \"#ed7953\"], [0.7777777777777778, \"#fb9f3a\"], [0.8888888888888888, \"#fdca26\"], [1.0, \"#f0f921\"]], \"sequentialminus\": [[0.0, \"#0d0887\"], [0.1111111111111111, \"#46039f\"], [0.2222222222222222, \"#7201a8\"], [0.3333333333333333, \"#9c179e\"], [0.4444444444444444, \"#bd3786\"], [0.5555555555555556, \"#d8576b\"], [0.6666666666666666, \"#ed7953\"], [0.7777777777777778, \"#fb9f3a\"], [0.8888888888888888, \"#fdca26\"], [1.0, \"#f0f921\"]]}, \"colorway\": [\"#636efa\", \"#EF553B\", \"#00cc96\", \"#ab63fa\", \"#FFA15A\", \"#19d3f3\", \"#FF6692\", \"#B6E880\", \"#FF97FF\", \"#FECB52\"], \"font\": {\"color\": \"#2a3f5f\"}, \"geo\": {\"bgcolor\": \"white\", \"lakecolor\": \"white\", \"landcolor\": \"#E5ECF6\", \"showlakes\": true, \"showland\": true, \"subunitcolor\": \"white\"}, \"hoverlabel\": {\"align\": \"left\"}, \"hovermode\": \"closest\", \"mapbox\": {\"style\": \"light\"}, \"paper_bgcolor\": \"white\", \"plot_bgcolor\": \"#E5ECF6\", \"polar\": {\"angularaxis\": {\"gridcolor\": \"white\", \"linecolor\": \"white\", \"ticks\": \"\"}, \"bgcolor\": \"#E5ECF6\", \"radialaxis\": {\"gridcolor\": \"white\", \"linecolor\": \"white\", \"ticks\": \"\"}}, \"scene\": {\"xaxis\": {\"backgroundcolor\": \"#E5ECF6\", \"gridcolor\": \"white\", \"gridwidth\": 2, \"linecolor\": \"white\", \"showbackground\": true, \"ticks\": \"\", \"zerolinecolor\": \"white\"}, \"yaxis\": {\"backgroundcolor\": \"#E5ECF6\", \"gridcolor\": \"white\", \"gridwidth\": 2, \"linecolor\": \"white\", \"showbackground\": true, \"ticks\": \"\", \"zerolinecolor\": \"white\"}, \"zaxis\": {\"backgroundcolor\": \"#E5ECF6\", \"gridcolor\": \"white\", \"gridwidth\": 2, \"linecolor\": \"white\", \"showbackground\": true, \"ticks\": \"\", \"zerolinecolor\": \"white\"}}, \"shapedefaults\": {\"line\": {\"color\": \"#2a3f5f\"}}, \"ternary\": {\"aaxis\": {\"gridcolor\": \"white\", \"linecolor\": \"white\", \"ticks\": \"\"}, \"baxis\": {\"gridcolor\": \"white\", \"linecolor\": \"white\", \"ticks\": \"\"}, \"bgcolor\": \"#E5ECF6\", \"caxis\": {\"gridcolor\": \"white\", \"linecolor\": \"white\", \"ticks\": \"\"}}, \"title\": {\"x\": 0.05}, \"xaxis\": {\"automargin\": true, \"gridcolor\": \"white\", \"linecolor\": \"white\", \"ticks\": \"\", \"title\": {\"standoff\": 15}, \"zerolinecolor\": \"white\", \"zerolinewidth\": 2}, \"yaxis\": {\"automargin\": true, \"gridcolor\": \"white\", \"linecolor\": \"white\", \"ticks\": \"\", \"title\": {\"standoff\": 15}, \"zerolinecolor\": \"white\", \"zerolinewidth\": 2}}}, \"title\": {\"text\": \"Number of Confirmed,Recovered,Deaths in India\"}, \"xaxis\": {\"title\": {\"text\": \"Date\"}}, \"yaxis\": {\"title\": {\"text\": \"Count\"}}},\n",
       "                        {\"responsive\": true}\n",
       "                    ).then(function(){\n",
       "                            \n",
       "var gd = document.getElementById('710ddd5c-e949-4c7f-bd07-d7ff39e6daf5');\n",
       "var x = new MutationObserver(function (mutations, observer) {{\n",
       "        var display = window.getComputedStyle(gd).display;\n",
       "        if (!display || display === 'none') {{\n",
       "            console.log([gd, 'removed!']);\n",
       "            Plotly.purge(gd);\n",
       "            observer.disconnect();\n",
       "        }}\n",
       "}});\n",
       "\n",
       "// Listen for the removal of the full notebook cells\n",
       "var notebookContainer = gd.closest('#notebook-container');\n",
       "if (notebookContainer) {{\n",
       "    x.observe(notebookContainer, {childList: true});\n",
       "}}\n",
       "\n",
       "// Listen for the clearing of the current output cell\n",
       "var outputEl = gd.closest('.output');\n",
       "if (outputEl) {{\n",
       "    x.observe(outputEl, {childList: true});\n",
       "}}\n",
       "\n",
       "                        })\n",
       "                };\n",
       "                });\n",
       "            </script>\n",
       "        </div>"
      ]
     },
     "metadata": {},
     "output_type": "display_data"
    }
   ],
   "source": [
    "fig = go.Figure(data=[\n",
    "    go.Bar(name='Confirmed', x=df.index, y=df['Confirmed'],marker_color='blue',marker_line_color='black'),\n",
    "    go.Bar(name='Cured', x=df.index, y=df['Cured'],marker_color='green',marker_line_color='black'),\n",
    "    go.Bar(name='Deaths', x=df.index, y=df['Deaths'],marker_color='red',marker_line_color='black'),\n",
    "    go.Bar(name='Active', x=df.index, y=df['Active'],marker_color='black',marker_line_color='black'),\n",
    "])\n",
    "fig.update_layout(title='Number of Confirmed,Recovered,Deaths in India',barmode='relative',xaxis=dict(title=\"Date\"),yaxis=dict(title=\"Count\"))"
   ]
  },
  {
   "cell_type": "markdown",
   "metadata": {},
   "source": [
    "We can see the cases increasing on a daily basis and consistently.We can also see the Number of Confirmed, Deaths, Cured and Active cases following the same trajectory."
   ]
  },
  {
   "cell_type": "markdown",
   "metadata": {},
   "source": [
    "#### Top 10 Infected States (Including Karnataka)"
   ]
  },
  {
   "cell_type": "code",
   "execution_count": 11,
   "metadata": {},
   "outputs": [],
   "source": [
    "Maharashtra = data[data['State/UnionTerritory'] == \"Maharashtra\"].groupby(\"Date\")['Confirmed'].sum().to_frame()\n",
    "Gujarat = data[data['State/UnionTerritory'] == \"Gujarat\"].groupby(\"Date\")['Confirmed'].sum().to_frame()\n",
    "Delhi = data[data['State/UnionTerritory'] == \"Delhi\"].groupby(\"Date\")['Confirmed'].sum().to_frame()\n",
    "Madhya_Pradesh = data[data['State/UnionTerritory'] == \"Madhya Pradesh\"].groupby(\"Date\")['Confirmed'].sum().to_frame()\n",
    "Rajasthan = data[data['State/UnionTerritory'] == \"Rajasthan\"].groupby(\"Date\")['Confirmed'].sum().to_frame()\n",
    "Uttar_Pradesh = data[data['State/UnionTerritory'] == \"Uttar Pradesh\"].groupby(\"Date\")['Confirmed'].sum().to_frame()\n",
    "Tamil_Nadu = data[data['State/UnionTerritory'] == \"Tamil Nadu\"].groupby(\"Date\")['Confirmed'].sum().to_frame()\n",
    "Andhra_Pradesh = data[data['State/UnionTerritory'] == \"Andhra Pradesh\"].groupby(\"Date\")['Confirmed'].sum().to_frame()\n",
    "Telangana = data[data['State/UnionTerritory'] == \"Telangana\"].groupby(\"Date\")['Confirmed'].sum().to_frame()\n",
    "West_Bengal = data[data['State/UnionTerritory'] == \"West Bengal\"].groupby(\"Date\")['Confirmed'].sum().to_frame()\n",
    "Karnataka = data[data['State/UnionTerritory'] == \"Karnataka\"].groupby(\"Date\")['Confirmed'].sum().to_frame()"
   ]
  },
  {
   "cell_type": "code",
   "execution_count": 12,
   "metadata": {},
   "outputs": [
    {
     "data": {
      "application/vnd.plotly.v1+json": {
       "config": {
        "plotlyServerURL": "https://plot.ly"
       },
       "data": [
        {
         "mode": "lines+markers",
         "name": "Maharashtra",
         "type": "scatter",
         "x": [
          "2020-03-09T00:00:00",
          "2020-03-10T00:00:00",
          "2020-03-11T00:00:00",
          "2020-03-12T00:00:00",
          "2020-03-13T00:00:00",
          "2020-03-14T00:00:00",
          "2020-03-15T00:00:00",
          "2020-03-16T00:00:00",
          "2020-03-17T00:00:00",
          "2020-03-18T00:00:00",
          "2020-03-19T00:00:00",
          "2020-03-20T00:00:00",
          "2020-03-21T00:00:00",
          "2020-03-22T00:00:00",
          "2020-03-23T00:00:00",
          "2020-03-24T00:00:00",
          "2020-03-25T00:00:00",
          "2020-03-26T00:00:00",
          "2020-03-27T00:00:00",
          "2020-03-28T00:00:00",
          "2020-03-29T00:00:00",
          "2020-03-30T00:00:00",
          "2020-03-31T00:00:00",
          "2020-04-01T00:00:00",
          "2020-04-02T00:00:00",
          "2020-04-03T00:00:00",
          "2020-04-04T00:00:00",
          "2020-04-05T00:00:00",
          "2020-04-06T00:00:00",
          "2020-04-07T00:00:00",
          "2020-04-08T00:00:00",
          "2020-04-09T00:00:00",
          "2020-04-10T00:00:00",
          "2020-04-11T00:00:00",
          "2020-04-12T00:00:00",
          "2020-04-13T00:00:00",
          "2020-04-14T00:00:00",
          "2020-04-15T00:00:00",
          "2020-04-16T00:00:00",
          "2020-04-17T00:00:00",
          "2020-04-18T00:00:00",
          "2020-04-19T00:00:00",
          "2020-04-20T00:00:00",
          "2020-04-21T00:00:00",
          "2020-04-22T00:00:00",
          "2020-04-23T00:00:00",
          "2020-04-24T00:00:00",
          "2020-04-25T00:00:00",
          "2020-04-26T00:00:00",
          "2020-04-27T00:00:00",
          "2020-04-28T00:00:00",
          "2020-04-29T00:00:00",
          "2020-04-30T00:00:00",
          "2020-05-01T00:00:00",
          "2020-05-02T00:00:00",
          "2020-05-03T00:00:00",
          "2020-05-04T00:00:00"
         ],
         "y": [
          2,
          5,
          2,
          11,
          14,
          14,
          32,
          32,
          39,
          42,
          47,
          52,
          63,
          67,
          74,
          89,
          128,
          124,
          130,
          180,
          186,
          198,
          216,
          302,
          335,
          335,
          490,
          490,
          748,
          868,
          1018,
          1135,
          1364,
          1574,
          1761,
          1985,
          2337,
          2687,
          2919,
          3205,
          3323,
          3651,
          4203,
          4669,
          5221,
          5652,
          6430,
          6817,
          7628,
          8068,
          8590,
          9318,
          9915,
          10498,
          11506,
          12296,
          12974
         ]
        },
        {
         "mode": "lines+markers",
         "name": "Gujarat",
         "type": "scatter",
         "x": [
          "2020-03-20T00:00:00",
          "2020-03-21T00:00:00",
          "2020-03-22T00:00:00",
          "2020-03-23T00:00:00",
          "2020-03-24T00:00:00",
          "2020-03-25T00:00:00",
          "2020-03-26T00:00:00",
          "2020-03-27T00:00:00",
          "2020-03-28T00:00:00",
          "2020-03-29T00:00:00",
          "2020-03-30T00:00:00",
          "2020-03-31T00:00:00",
          "2020-04-01T00:00:00",
          "2020-04-02T00:00:00",
          "2020-04-03T00:00:00",
          "2020-04-04T00:00:00",
          "2020-04-05T00:00:00",
          "2020-04-06T00:00:00",
          "2020-04-07T00:00:00",
          "2020-04-08T00:00:00",
          "2020-04-09T00:00:00",
          "2020-04-10T00:00:00",
          "2020-04-11T00:00:00",
          "2020-04-12T00:00:00",
          "2020-04-13T00:00:00",
          "2020-04-14T00:00:00",
          "2020-04-15T00:00:00",
          "2020-04-16T00:00:00",
          "2020-04-17T00:00:00",
          "2020-04-18T00:00:00",
          "2020-04-19T00:00:00",
          "2020-04-20T00:00:00",
          "2020-04-21T00:00:00",
          "2020-04-22T00:00:00",
          "2020-04-23T00:00:00",
          "2020-04-24T00:00:00",
          "2020-04-25T00:00:00",
          "2020-04-26T00:00:00",
          "2020-04-27T00:00:00",
          "2020-04-28T00:00:00",
          "2020-04-29T00:00:00",
          "2020-04-30T00:00:00",
          "2020-05-01T00:00:00",
          "2020-05-02T00:00:00",
          "2020-05-03T00:00:00",
          "2020-05-04T00:00:00"
         ],
         "y": [
          5,
          7,
          18,
          29,
          33,
          38,
          43,
          43,
          45,
          58,
          69,
          73,
          82,
          87,
          95,
          105,
          122,
          144,
          165,
          165,
          179,
          241,
          308,
          432,
          539,
          617,
          695,
          871,
          1021,
          1272,
          1604,
          1851,
          2066,
          2272,
          2407,
          2624,
          2815,
          3071,
          3301,
          3548,
          3774,
          4082,
          4395,
          4721,
          5055,
          5428
         ]
        },
        {
         "mode": "lines+markers",
         "name": "Delhi",
         "type": "scatter",
         "x": [
          "2020-03-02T00:00:00",
          "2020-03-03T00:00:00",
          "2020-03-04T00:00:00",
          "2020-03-05T00:00:00",
          "2020-03-06T00:00:00",
          "2020-03-07T00:00:00",
          "2020-03-08T00:00:00",
          "2020-03-09T00:00:00",
          "2020-03-10T00:00:00",
          "2020-03-11T00:00:00",
          "2020-03-12T00:00:00",
          "2020-03-13T00:00:00",
          "2020-03-14T00:00:00",
          "2020-03-15T00:00:00",
          "2020-03-16T00:00:00",
          "2020-03-17T00:00:00",
          "2020-03-18T00:00:00",
          "2020-03-19T00:00:00",
          "2020-03-20T00:00:00",
          "2020-03-21T00:00:00",
          "2020-03-22T00:00:00",
          "2020-03-23T00:00:00",
          "2020-03-24T00:00:00",
          "2020-03-25T00:00:00",
          "2020-03-26T00:00:00",
          "2020-03-27T00:00:00",
          "2020-03-28T00:00:00",
          "2020-03-29T00:00:00",
          "2020-03-30T00:00:00",
          "2020-03-31T00:00:00",
          "2020-04-01T00:00:00",
          "2020-04-02T00:00:00",
          "2020-04-03T00:00:00",
          "2020-04-04T00:00:00",
          "2020-04-05T00:00:00",
          "2020-04-06T00:00:00",
          "2020-04-07T00:00:00",
          "2020-04-08T00:00:00",
          "2020-04-09T00:00:00",
          "2020-04-10T00:00:00",
          "2020-04-11T00:00:00",
          "2020-04-12T00:00:00",
          "2020-04-13T00:00:00",
          "2020-04-14T00:00:00",
          "2020-04-15T00:00:00",
          "2020-04-16T00:00:00",
          "2020-04-17T00:00:00",
          "2020-04-18T00:00:00",
          "2020-04-19T00:00:00",
          "2020-04-20T00:00:00",
          "2020-04-21T00:00:00",
          "2020-04-22T00:00:00",
          "2020-04-23T00:00:00",
          "2020-04-24T00:00:00",
          "2020-04-25T00:00:00",
          "2020-04-26T00:00:00",
          "2020-04-27T00:00:00",
          "2020-04-28T00:00:00",
          "2020-04-29T00:00:00",
          "2020-04-30T00:00:00",
          "2020-05-01T00:00:00",
          "2020-05-02T00:00:00",
          "2020-05-03T00:00:00",
          "2020-05-04T00:00:00"
         ],
         "y": [
          1,
          1,
          1,
          2,
          3,
          3,
          3,
          4,
          4,
          5,
          6,
          6,
          7,
          7,
          7,
          8,
          10,
          12,
          17,
          26,
          29,
          29,
          30,
          31,
          36,
          36,
          39,
          49,
          87,
          97,
          152,
          219,
          219,
          445,
          503,
          523,
          576,
          576,
          669,
          898,
          903,
          1069,
          1154,
          1510,
          1561,
          1578,
          1640,
          1707,
          1893,
          2003,
          2081,
          2156,
          2248,
          2376,
          2514,
          2625,
          2918,
          3108,
          3314,
          3439,
          3515,
          3738,
          4122,
          4549
         ]
        },
        {
         "mode": "lines+markers",
         "name": "Madhya_Pradesh",
         "type": "scatter",
         "x": [
          "2020-03-21T00:00:00",
          "2020-03-22T00:00:00",
          "2020-03-23T00:00:00",
          "2020-03-24T00:00:00",
          "2020-03-25T00:00:00",
          "2020-03-26T00:00:00",
          "2020-03-27T00:00:00",
          "2020-03-28T00:00:00",
          "2020-03-29T00:00:00",
          "2020-03-30T00:00:00",
          "2020-03-31T00:00:00",
          "2020-04-01T00:00:00",
          "2020-04-02T00:00:00",
          "2020-04-03T00:00:00",
          "2020-04-04T00:00:00",
          "2020-04-05T00:00:00",
          "2020-04-06T00:00:00",
          "2020-04-07T00:00:00",
          "2020-04-08T00:00:00",
          "2020-04-09T00:00:00",
          "2020-04-10T00:00:00",
          "2020-04-11T00:00:00",
          "2020-04-12T00:00:00",
          "2020-04-13T00:00:00",
          "2020-04-14T00:00:00",
          "2020-04-15T00:00:00",
          "2020-04-16T00:00:00",
          "2020-04-17T00:00:00",
          "2020-04-18T00:00:00",
          "2020-04-19T00:00:00",
          "2020-04-20T00:00:00",
          "2020-04-21T00:00:00",
          "2020-04-22T00:00:00",
          "2020-04-23T00:00:00",
          "2020-04-24T00:00:00",
          "2020-04-25T00:00:00",
          "2020-04-26T00:00:00",
          "2020-04-27T00:00:00",
          "2020-04-28T00:00:00",
          "2020-04-29T00:00:00",
          "2020-04-30T00:00:00",
          "2020-05-01T00:00:00",
          "2020-05-02T00:00:00",
          "2020-05-03T00:00:00",
          "2020-05-04T00:00:00"
         ],
         "y": [
          4,
          4,
          6,
          7,
          14,
          20,
          20,
          30,
          30,
          47,
          47,
          66,
          99,
          104,
          104,
          165,
          165,
          229,
          229,
          259,
          259,
          443,
          564,
          604,
          730,
          987,
          1120,
          1308,
          1355,
          1407,
          1485,
          1540,
          1592,
          1695,
          1852,
          1952,
          2096,
          2168,
          2368,
          2561,
          2660,
          2719,
          2719,
          2846,
          2942
         ]
        },
        {
         "mode": "lines+markers",
         "name": "Rajasthan",
         "type": "scatter",
         "x": [
          "2020-03-03T00:00:00",
          "2020-03-04T00:00:00",
          "2020-03-05T00:00:00",
          "2020-03-06T00:00:00",
          "2020-03-07T00:00:00",
          "2020-03-08T00:00:00",
          "2020-03-09T00:00:00",
          "2020-03-10T00:00:00",
          "2020-03-11T00:00:00",
          "2020-03-12T00:00:00",
          "2020-03-13T00:00:00",
          "2020-03-14T00:00:00",
          "2020-03-15T00:00:00",
          "2020-03-16T00:00:00",
          "2020-03-17T00:00:00",
          "2020-03-18T00:00:00",
          "2020-03-19T00:00:00",
          "2020-03-20T00:00:00",
          "2020-03-21T00:00:00",
          "2020-03-22T00:00:00",
          "2020-03-23T00:00:00",
          "2020-03-24T00:00:00",
          "2020-03-25T00:00:00",
          "2020-03-26T00:00:00",
          "2020-03-27T00:00:00",
          "2020-03-28T00:00:00",
          "2020-03-29T00:00:00",
          "2020-03-30T00:00:00",
          "2020-03-31T00:00:00",
          "2020-04-01T00:00:00",
          "2020-04-02T00:00:00",
          "2020-04-03T00:00:00",
          "2020-04-04T00:00:00",
          "2020-04-05T00:00:00",
          "2020-04-06T00:00:00",
          "2020-04-07T00:00:00",
          "2020-04-08T00:00:00",
          "2020-04-09T00:00:00",
          "2020-04-10T00:00:00",
          "2020-04-11T00:00:00",
          "2020-04-12T00:00:00",
          "2020-04-13T00:00:00",
          "2020-04-14T00:00:00",
          "2020-04-15T00:00:00",
          "2020-04-16T00:00:00",
          "2020-04-17T00:00:00",
          "2020-04-18T00:00:00",
          "2020-04-19T00:00:00",
          "2020-04-20T00:00:00",
          "2020-04-21T00:00:00",
          "2020-04-22T00:00:00",
          "2020-04-23T00:00:00",
          "2020-04-24T00:00:00",
          "2020-04-25T00:00:00",
          "2020-04-26T00:00:00",
          "2020-04-27T00:00:00",
          "2020-04-28T00:00:00",
          "2020-04-29T00:00:00",
          "2020-04-30T00:00:00",
          "2020-05-01T00:00:00",
          "2020-05-02T00:00:00",
          "2020-05-03T00:00:00",
          "2020-05-04T00:00:00"
         ],
         "y": [
          1,
          15,
          15,
          15,
          15,
          15,
          15,
          15,
          3,
          3,
          3,
          3,
          4,
          4,
          4,
          4,
          7,
          17,
          17,
          24,
          28,
          32,
          36,
          41,
          41,
          54,
          55,
          59,
          74,
          93,
          108,
          167,
          200,
          200,
          274,
          288,
          328,
          383,
          463,
          553,
          700,
          812,
          879,
          1005,
          1023,
          1131,
          1229,
          1351,
          1478,
          1576,
          1801,
          1890,
          1964,
          2034,
          2083,
          2185,
          2262,
          2364,
          2438,
          2584,
          2666,
          2772,
          2886
         ]
        },
        {
         "mode": "lines+markers",
         "name": "Uttar_Pradesh",
         "type": "scatter",
         "x": [
          "2020-03-04T00:00:00",
          "2020-03-05T00:00:00",
          "2020-03-06T00:00:00",
          "2020-03-07T00:00:00",
          "2020-03-08T00:00:00",
          "2020-03-09T00:00:00",
          "2020-03-10T00:00:00",
          "2020-03-11T00:00:00",
          "2020-03-12T00:00:00",
          "2020-03-13T00:00:00",
          "2020-03-14T00:00:00",
          "2020-03-15T00:00:00",
          "2020-03-16T00:00:00",
          "2020-03-17T00:00:00",
          "2020-03-18T00:00:00",
          "2020-03-19T00:00:00",
          "2020-03-20T00:00:00",
          "2020-03-21T00:00:00",
          "2020-03-22T00:00:00",
          "2020-03-23T00:00:00",
          "2020-03-24T00:00:00",
          "2020-03-25T00:00:00",
          "2020-03-26T00:00:00",
          "2020-03-27T00:00:00",
          "2020-03-28T00:00:00",
          "2020-03-29T00:00:00",
          "2020-03-30T00:00:00",
          "2020-03-31T00:00:00",
          "2020-04-01T00:00:00",
          "2020-04-02T00:00:00",
          "2020-04-03T00:00:00",
          "2020-04-04T00:00:00",
          "2020-04-05T00:00:00",
          "2020-04-06T00:00:00",
          "2020-04-07T00:00:00",
          "2020-04-08T00:00:00",
          "2020-04-09T00:00:00",
          "2020-04-10T00:00:00",
          "2020-04-11T00:00:00",
          "2020-04-12T00:00:00",
          "2020-04-13T00:00:00",
          "2020-04-14T00:00:00",
          "2020-04-15T00:00:00",
          "2020-04-16T00:00:00",
          "2020-04-17T00:00:00",
          "2020-04-18T00:00:00",
          "2020-04-19T00:00:00",
          "2020-04-20T00:00:00",
          "2020-04-21T00:00:00",
          "2020-04-22T00:00:00",
          "2020-04-23T00:00:00",
          "2020-04-24T00:00:00",
          "2020-04-25T00:00:00",
          "2020-04-26T00:00:00",
          "2020-04-27T00:00:00",
          "2020-04-28T00:00:00",
          "2020-04-29T00:00:00",
          "2020-04-30T00:00:00",
          "2020-05-01T00:00:00",
          "2020-05-02T00:00:00",
          "2020-05-03T00:00:00",
          "2020-05-04T00:00:00"
         ],
         "y": [
          6,
          7,
          7,
          7,
          7,
          7,
          7,
          9,
          11,
          11,
          12,
          13,
          13,
          15,
          16,
          19,
          23,
          24,
          27,
          31,
          33,
          37,
          41,
          41,
          55,
          65,
          82,
          101,
          103,
          113,
          172,
          174,
          227,
          305,
          305,
          343,
          410,
          431,
          433,
          452,
          483,
          657,
          735,
          773,
          846,
          969,
          1084,
          1176,
          1294,
          1412,
          1509,
          1604,
          1778,
          1843,
          1955,
          2043,
          2115,
          2203,
          2281,
          2328,
          2626,
          2742
         ]
        },
        {
         "mode": "lines+markers",
         "name": "Tamil_Nadu",
         "type": "scatter",
         "x": [
          "2020-03-07T00:00:00",
          "2020-03-08T00:00:00",
          "2020-03-09T00:00:00",
          "2020-03-10T00:00:00",
          "2020-03-11T00:00:00",
          "2020-03-12T00:00:00",
          "2020-03-13T00:00:00",
          "2020-03-14T00:00:00",
          "2020-03-15T00:00:00",
          "2020-03-16T00:00:00",
          "2020-03-17T00:00:00",
          "2020-03-18T00:00:00",
          "2020-03-19T00:00:00",
          "2020-03-20T00:00:00",
          "2020-03-21T00:00:00",
          "2020-03-22T00:00:00",
          "2020-03-23T00:00:00",
          "2020-03-24T00:00:00",
          "2020-03-25T00:00:00",
          "2020-03-26T00:00:00",
          "2020-03-27T00:00:00",
          "2020-03-28T00:00:00",
          "2020-03-29T00:00:00",
          "2020-03-30T00:00:00",
          "2020-03-31T00:00:00",
          "2020-04-01T00:00:00",
          "2020-04-02T00:00:00",
          "2020-04-03T00:00:00",
          "2020-04-04T00:00:00",
          "2020-04-05T00:00:00",
          "2020-04-06T00:00:00",
          "2020-04-07T00:00:00",
          "2020-04-08T00:00:00",
          "2020-04-09T00:00:00",
          "2020-04-10T00:00:00",
          "2020-04-11T00:00:00",
          "2020-04-12T00:00:00",
          "2020-04-13T00:00:00",
          "2020-04-14T00:00:00",
          "2020-04-15T00:00:00",
          "2020-04-16T00:00:00",
          "2020-04-17T00:00:00",
          "2020-04-18T00:00:00",
          "2020-04-19T00:00:00",
          "2020-04-20T00:00:00",
          "2020-04-21T00:00:00",
          "2020-04-22T00:00:00",
          "2020-04-23T00:00:00",
          "2020-04-24T00:00:00",
          "2020-04-25T00:00:00",
          "2020-04-26T00:00:00",
          "2020-04-27T00:00:00",
          "2020-04-28T00:00:00",
          "2020-04-29T00:00:00",
          "2020-04-30T00:00:00",
          "2020-05-01T00:00:00",
          "2020-05-02T00:00:00",
          "2020-05-03T00:00:00",
          "2020-05-04T00:00:00"
         ],
         "y": [
          1,
          1,
          1,
          1,
          1,
          1,
          1,
          1,
          1,
          1,
          1,
          1,
          2,
          3,
          3,
          7,
          9,
          15,
          18,
          26,
          29,
          40,
          49,
          67,
          74,
          234,
          234,
          309,
          411,
          485,
          571,
          621,
          690,
          738,
          834,
          911,
          969,
          1075,
          1173,
          1204,
          1242,
          1267,
          1323,
          1372,
          1477,
          1520,
          1596,
          1629,
          1683,
          1755,
          1821,
          1885,
          1937,
          2058,
          2162,
          2323,
          2526,
          2757,
          3023
         ]
        },
        {
         "mode": "lines+markers",
         "name": "Andhra_Pradesh",
         "type": "scatter",
         "x": [
          "2020-03-12T00:00:00",
          "2020-03-13T00:00:00",
          "2020-03-14T00:00:00",
          "2020-03-15T00:00:00",
          "2020-03-16T00:00:00",
          "2020-03-17T00:00:00",
          "2020-03-18T00:00:00",
          "2020-03-19T00:00:00",
          "2020-03-20T00:00:00",
          "2020-03-21T00:00:00",
          "2020-03-22T00:00:00",
          "2020-03-23T00:00:00",
          "2020-03-24T00:00:00",
          "2020-03-25T00:00:00",
          "2020-03-26T00:00:00",
          "2020-03-27T00:00:00",
          "2020-03-28T00:00:00",
          "2020-03-29T00:00:00",
          "2020-03-30T00:00:00",
          "2020-03-31T00:00:00",
          "2020-04-01T00:00:00",
          "2020-04-02T00:00:00",
          "2020-04-03T00:00:00",
          "2020-04-04T00:00:00",
          "2020-04-05T00:00:00",
          "2020-04-06T00:00:00",
          "2020-04-07T00:00:00",
          "2020-04-08T00:00:00",
          "2020-04-09T00:00:00",
          "2020-04-10T00:00:00",
          "2020-04-11T00:00:00",
          "2020-04-12T00:00:00",
          "2020-04-13T00:00:00",
          "2020-04-14T00:00:00",
          "2020-04-15T00:00:00",
          "2020-04-16T00:00:00",
          "2020-04-17T00:00:00",
          "2020-04-18T00:00:00",
          "2020-04-19T00:00:00",
          "2020-04-20T00:00:00",
          "2020-04-21T00:00:00",
          "2020-04-22T00:00:00",
          "2020-04-23T00:00:00",
          "2020-04-24T00:00:00",
          "2020-04-25T00:00:00",
          "2020-04-26T00:00:00",
          "2020-04-27T00:00:00",
          "2020-04-28T00:00:00",
          "2020-04-29T00:00:00",
          "2020-04-30T00:00:00",
          "2020-05-01T00:00:00",
          "2020-05-02T00:00:00",
          "2020-05-03T00:00:00",
          "2020-05-04T00:00:00"
         ],
         "y": [
          1,
          1,
          1,
          1,
          1,
          1,
          1,
          2,
          3,
          3,
          5,
          7,
          8,
          9,
          11,
          12,
          14,
          19,
          23,
          40,
          83,
          86,
          132,
          161,
          190,
          226,
          266,
          305,
          348,
          363,
          381,
          381,
          432,
          473,
          503,
          534,
          572,
          603,
          603,
          722,
          757,
          813,
          895,
          955,
          1061,
          1097,
          1177,
          1259,
          1332,
          1403,
          1463,
          1463,
          1583,
          1650
         ]
        },
        {
         "mode": "lines+markers",
         "name": "Telangana",
         "type": "scatter",
         "x": [],
         "y": []
        },
        {
         "mode": "lines+markers",
         "name": "West_Bengal",
         "type": "scatter",
         "x": [
          "2020-03-18T00:00:00",
          "2020-03-19T00:00:00",
          "2020-03-20T00:00:00",
          "2020-03-21T00:00:00",
          "2020-03-22T00:00:00",
          "2020-03-23T00:00:00",
          "2020-03-24T00:00:00",
          "2020-03-25T00:00:00",
          "2020-03-26T00:00:00",
          "2020-03-27T00:00:00",
          "2020-03-28T00:00:00",
          "2020-03-29T00:00:00",
          "2020-03-30T00:00:00",
          "2020-03-31T00:00:00",
          "2020-04-01T00:00:00",
          "2020-04-02T00:00:00",
          "2020-04-03T00:00:00",
          "2020-04-04T00:00:00",
          "2020-04-05T00:00:00",
          "2020-04-06T00:00:00",
          "2020-04-07T00:00:00",
          "2020-04-08T00:00:00",
          "2020-04-09T00:00:00",
          "2020-04-10T00:00:00",
          "2020-04-11T00:00:00",
          "2020-04-12T00:00:00",
          "2020-04-13T00:00:00",
          "2020-04-14T00:00:00",
          "2020-04-15T00:00:00",
          "2020-04-16T00:00:00",
          "2020-04-17T00:00:00",
          "2020-04-18T00:00:00",
          "2020-04-19T00:00:00",
          "2020-04-20T00:00:00",
          "2020-04-21T00:00:00",
          "2020-04-22T00:00:00",
          "2020-04-23T00:00:00",
          "2020-04-24T00:00:00",
          "2020-04-25T00:00:00",
          "2020-04-26T00:00:00",
          "2020-04-27T00:00:00",
          "2020-04-28T00:00:00",
          "2020-04-29T00:00:00",
          "2020-04-30T00:00:00",
          "2020-05-01T00:00:00",
          "2020-05-02T00:00:00",
          "2020-05-03T00:00:00",
          "2020-05-04T00:00:00"
         ],
         "y": [
          1,
          1,
          2,
          3,
          4,
          7,
          9,
          9,
          10,
          10,
          15,
          18,
          22,
          26,
          37,
          53,
          63,
          69,
          80,
          80,
          91,
          99,
          103,
          116,
          126,
          134,
          152,
          190,
          213,
          231,
          255,
          287,
          310,
          339,
          392,
          423,
          456,
          514,
          571,
          611,
          649,
          697,
          725,
          758,
          795,
          795,
          922,
          963
         ]
        },
        {
         "mode": "lines+markers",
         "name": "Karnataka",
         "type": "scatter",
         "x": [
          "2020-03-09T00:00:00",
          "2020-03-10T00:00:00",
          "2020-03-11T00:00:00",
          "2020-03-12T00:00:00",
          "2020-03-13T00:00:00",
          "2020-03-14T00:00:00",
          "2020-03-15T00:00:00",
          "2020-03-16T00:00:00",
          "2020-03-17T00:00:00",
          "2020-03-18T00:00:00",
          "2020-03-19T00:00:00",
          "2020-03-20T00:00:00",
          "2020-03-21T00:00:00",
          "2020-03-22T00:00:00",
          "2020-03-23T00:00:00",
          "2020-03-24T00:00:00",
          "2020-03-25T00:00:00",
          "2020-03-26T00:00:00",
          "2020-03-27T00:00:00",
          "2020-03-28T00:00:00",
          "2020-03-29T00:00:00",
          "2020-03-30T00:00:00",
          "2020-03-31T00:00:00",
          "2020-04-01T00:00:00",
          "2020-04-02T00:00:00",
          "2020-04-03T00:00:00",
          "2020-04-04T00:00:00",
          "2020-04-05T00:00:00",
          "2020-04-06T00:00:00",
          "2020-04-07T00:00:00",
          "2020-04-08T00:00:00",
          "2020-04-09T00:00:00",
          "2020-04-10T00:00:00",
          "2020-04-11T00:00:00",
          "2020-04-12T00:00:00",
          "2020-04-13T00:00:00",
          "2020-04-14T00:00:00",
          "2020-04-15T00:00:00",
          "2020-04-16T00:00:00",
          "2020-04-17T00:00:00",
          "2020-04-18T00:00:00",
          "2020-04-19T00:00:00",
          "2020-04-20T00:00:00",
          "2020-04-21T00:00:00",
          "2020-04-22T00:00:00",
          "2020-04-23T00:00:00",
          "2020-04-24T00:00:00",
          "2020-04-25T00:00:00",
          "2020-04-26T00:00:00",
          "2020-04-27T00:00:00",
          "2020-04-28T00:00:00",
          "2020-04-29T00:00:00",
          "2020-04-30T00:00:00",
          "2020-05-01T00:00:00",
          "2020-05-02T00:00:00",
          "2020-05-03T00:00:00",
          "2020-05-04T00:00:00"
         ],
         "y": [
          1,
          4,
          4,
          4,
          6,
          6,
          6,
          6,
          11,
          11,
          14,
          15,
          15,
          26,
          33,
          37,
          41,
          55,
          55,
          55,
          76,
          83,
          83,
          101,
          110,
          124,
          128,
          144,
          151,
          175,
          175,
          181,
          197,
          214,
          226,
          247,
          258,
          277,
          315,
          353,
          371,
          384,
          395,
          415,
          425,
          443,
          463,
          489,
          501,
          511,
          520,
          532,
          557,
          576,
          589,
          606,
          642
         ]
        }
       ],
       "layout": {
        "template": {
         "data": {
          "bar": [
           {
            "error_x": {
             "color": "#2a3f5f"
            },
            "error_y": {
             "color": "#2a3f5f"
            },
            "marker": {
             "line": {
              "color": "#E5ECF6",
              "width": 0.5
             }
            },
            "type": "bar"
           }
          ],
          "barpolar": [
           {
            "marker": {
             "line": {
              "color": "#E5ECF6",
              "width": 0.5
             }
            },
            "type": "barpolar"
           }
          ],
          "carpet": [
           {
            "aaxis": {
             "endlinecolor": "#2a3f5f",
             "gridcolor": "white",
             "linecolor": "white",
             "minorgridcolor": "white",
             "startlinecolor": "#2a3f5f"
            },
            "baxis": {
             "endlinecolor": "#2a3f5f",
             "gridcolor": "white",
             "linecolor": "white",
             "minorgridcolor": "white",
             "startlinecolor": "#2a3f5f"
            },
            "type": "carpet"
           }
          ],
          "choropleth": [
           {
            "colorbar": {
             "outlinewidth": 0,
             "ticks": ""
            },
            "type": "choropleth"
           }
          ],
          "contour": [
           {
            "colorbar": {
             "outlinewidth": 0,
             "ticks": ""
            },
            "colorscale": [
             [
              0,
              "#0d0887"
             ],
             [
              0.1111111111111111,
              "#46039f"
             ],
             [
              0.2222222222222222,
              "#7201a8"
             ],
             [
              0.3333333333333333,
              "#9c179e"
             ],
             [
              0.4444444444444444,
              "#bd3786"
             ],
             [
              0.5555555555555556,
              "#d8576b"
             ],
             [
              0.6666666666666666,
              "#ed7953"
             ],
             [
              0.7777777777777778,
              "#fb9f3a"
             ],
             [
              0.8888888888888888,
              "#fdca26"
             ],
             [
              1,
              "#f0f921"
             ]
            ],
            "type": "contour"
           }
          ],
          "contourcarpet": [
           {
            "colorbar": {
             "outlinewidth": 0,
             "ticks": ""
            },
            "type": "contourcarpet"
           }
          ],
          "heatmap": [
           {
            "colorbar": {
             "outlinewidth": 0,
             "ticks": ""
            },
            "colorscale": [
             [
              0,
              "#0d0887"
             ],
             [
              0.1111111111111111,
              "#46039f"
             ],
             [
              0.2222222222222222,
              "#7201a8"
             ],
             [
              0.3333333333333333,
              "#9c179e"
             ],
             [
              0.4444444444444444,
              "#bd3786"
             ],
             [
              0.5555555555555556,
              "#d8576b"
             ],
             [
              0.6666666666666666,
              "#ed7953"
             ],
             [
              0.7777777777777778,
              "#fb9f3a"
             ],
             [
              0.8888888888888888,
              "#fdca26"
             ],
             [
              1,
              "#f0f921"
             ]
            ],
            "type": "heatmap"
           }
          ],
          "heatmapgl": [
           {
            "colorbar": {
             "outlinewidth": 0,
             "ticks": ""
            },
            "colorscale": [
             [
              0,
              "#0d0887"
             ],
             [
              0.1111111111111111,
              "#46039f"
             ],
             [
              0.2222222222222222,
              "#7201a8"
             ],
             [
              0.3333333333333333,
              "#9c179e"
             ],
             [
              0.4444444444444444,
              "#bd3786"
             ],
             [
              0.5555555555555556,
              "#d8576b"
             ],
             [
              0.6666666666666666,
              "#ed7953"
             ],
             [
              0.7777777777777778,
              "#fb9f3a"
             ],
             [
              0.8888888888888888,
              "#fdca26"
             ],
             [
              1,
              "#f0f921"
             ]
            ],
            "type": "heatmapgl"
           }
          ],
          "histogram": [
           {
            "marker": {
             "colorbar": {
              "outlinewidth": 0,
              "ticks": ""
             }
            },
            "type": "histogram"
           }
          ],
          "histogram2d": [
           {
            "colorbar": {
             "outlinewidth": 0,
             "ticks": ""
            },
            "colorscale": [
             [
              0,
              "#0d0887"
             ],
             [
              0.1111111111111111,
              "#46039f"
             ],
             [
              0.2222222222222222,
              "#7201a8"
             ],
             [
              0.3333333333333333,
              "#9c179e"
             ],
             [
              0.4444444444444444,
              "#bd3786"
             ],
             [
              0.5555555555555556,
              "#d8576b"
             ],
             [
              0.6666666666666666,
              "#ed7953"
             ],
             [
              0.7777777777777778,
              "#fb9f3a"
             ],
             [
              0.8888888888888888,
              "#fdca26"
             ],
             [
              1,
              "#f0f921"
             ]
            ],
            "type": "histogram2d"
           }
          ],
          "histogram2dcontour": [
           {
            "colorbar": {
             "outlinewidth": 0,
             "ticks": ""
            },
            "colorscale": [
             [
              0,
              "#0d0887"
             ],
             [
              0.1111111111111111,
              "#46039f"
             ],
             [
              0.2222222222222222,
              "#7201a8"
             ],
             [
              0.3333333333333333,
              "#9c179e"
             ],
             [
              0.4444444444444444,
              "#bd3786"
             ],
             [
              0.5555555555555556,
              "#d8576b"
             ],
             [
              0.6666666666666666,
              "#ed7953"
             ],
             [
              0.7777777777777778,
              "#fb9f3a"
             ],
             [
              0.8888888888888888,
              "#fdca26"
             ],
             [
              1,
              "#f0f921"
             ]
            ],
            "type": "histogram2dcontour"
           }
          ],
          "mesh3d": [
           {
            "colorbar": {
             "outlinewidth": 0,
             "ticks": ""
            },
            "type": "mesh3d"
           }
          ],
          "parcoords": [
           {
            "line": {
             "colorbar": {
              "outlinewidth": 0,
              "ticks": ""
             }
            },
            "type": "parcoords"
           }
          ],
          "pie": [
           {
            "automargin": true,
            "type": "pie"
           }
          ],
          "scatter": [
           {
            "marker": {
             "colorbar": {
              "outlinewidth": 0,
              "ticks": ""
             }
            },
            "type": "scatter"
           }
          ],
          "scatter3d": [
           {
            "line": {
             "colorbar": {
              "outlinewidth": 0,
              "ticks": ""
             }
            },
            "marker": {
             "colorbar": {
              "outlinewidth": 0,
              "ticks": ""
             }
            },
            "type": "scatter3d"
           }
          ],
          "scattercarpet": [
           {
            "marker": {
             "colorbar": {
              "outlinewidth": 0,
              "ticks": ""
             }
            },
            "type": "scattercarpet"
           }
          ],
          "scattergeo": [
           {
            "marker": {
             "colorbar": {
              "outlinewidth": 0,
              "ticks": ""
             }
            },
            "type": "scattergeo"
           }
          ],
          "scattergl": [
           {
            "marker": {
             "colorbar": {
              "outlinewidth": 0,
              "ticks": ""
             }
            },
            "type": "scattergl"
           }
          ],
          "scattermapbox": [
           {
            "marker": {
             "colorbar": {
              "outlinewidth": 0,
              "ticks": ""
             }
            },
            "type": "scattermapbox"
           }
          ],
          "scatterpolar": [
           {
            "marker": {
             "colorbar": {
              "outlinewidth": 0,
              "ticks": ""
             }
            },
            "type": "scatterpolar"
           }
          ],
          "scatterpolargl": [
           {
            "marker": {
             "colorbar": {
              "outlinewidth": 0,
              "ticks": ""
             }
            },
            "type": "scatterpolargl"
           }
          ],
          "scatterternary": [
           {
            "marker": {
             "colorbar": {
              "outlinewidth": 0,
              "ticks": ""
             }
            },
            "type": "scatterternary"
           }
          ],
          "surface": [
           {
            "colorbar": {
             "outlinewidth": 0,
             "ticks": ""
            },
            "colorscale": [
             [
              0,
              "#0d0887"
             ],
             [
              0.1111111111111111,
              "#46039f"
             ],
             [
              0.2222222222222222,
              "#7201a8"
             ],
             [
              0.3333333333333333,
              "#9c179e"
             ],
             [
              0.4444444444444444,
              "#bd3786"
             ],
             [
              0.5555555555555556,
              "#d8576b"
             ],
             [
              0.6666666666666666,
              "#ed7953"
             ],
             [
              0.7777777777777778,
              "#fb9f3a"
             ],
             [
              0.8888888888888888,
              "#fdca26"
             ],
             [
              1,
              "#f0f921"
             ]
            ],
            "type": "surface"
           }
          ],
          "table": [
           {
            "cells": {
             "fill": {
              "color": "#EBF0F8"
             },
             "line": {
              "color": "white"
             }
            },
            "header": {
             "fill": {
              "color": "#C8D4E3"
             },
             "line": {
              "color": "white"
             }
            },
            "type": "table"
           }
          ]
         },
         "layout": {
          "annotationdefaults": {
           "arrowcolor": "#2a3f5f",
           "arrowhead": 0,
           "arrowwidth": 1
          },
          "coloraxis": {
           "colorbar": {
            "outlinewidth": 0,
            "ticks": ""
           }
          },
          "colorscale": {
           "diverging": [
            [
             0,
             "#8e0152"
            ],
            [
             0.1,
             "#c51b7d"
            ],
            [
             0.2,
             "#de77ae"
            ],
            [
             0.3,
             "#f1b6da"
            ],
            [
             0.4,
             "#fde0ef"
            ],
            [
             0.5,
             "#f7f7f7"
            ],
            [
             0.6,
             "#e6f5d0"
            ],
            [
             0.7,
             "#b8e186"
            ],
            [
             0.8,
             "#7fbc41"
            ],
            [
             0.9,
             "#4d9221"
            ],
            [
             1,
             "#276419"
            ]
           ],
           "sequential": [
            [
             0,
             "#0d0887"
            ],
            [
             0.1111111111111111,
             "#46039f"
            ],
            [
             0.2222222222222222,
             "#7201a8"
            ],
            [
             0.3333333333333333,
             "#9c179e"
            ],
            [
             0.4444444444444444,
             "#bd3786"
            ],
            [
             0.5555555555555556,
             "#d8576b"
            ],
            [
             0.6666666666666666,
             "#ed7953"
            ],
            [
             0.7777777777777778,
             "#fb9f3a"
            ],
            [
             0.8888888888888888,
             "#fdca26"
            ],
            [
             1,
             "#f0f921"
            ]
           ],
           "sequentialminus": [
            [
             0,
             "#0d0887"
            ],
            [
             0.1111111111111111,
             "#46039f"
            ],
            [
             0.2222222222222222,
             "#7201a8"
            ],
            [
             0.3333333333333333,
             "#9c179e"
            ],
            [
             0.4444444444444444,
             "#bd3786"
            ],
            [
             0.5555555555555556,
             "#d8576b"
            ],
            [
             0.6666666666666666,
             "#ed7953"
            ],
            [
             0.7777777777777778,
             "#fb9f3a"
            ],
            [
             0.8888888888888888,
             "#fdca26"
            ],
            [
             1,
             "#f0f921"
            ]
           ]
          },
          "colorway": [
           "#636efa",
           "#EF553B",
           "#00cc96",
           "#ab63fa",
           "#FFA15A",
           "#19d3f3",
           "#FF6692",
           "#B6E880",
           "#FF97FF",
           "#FECB52"
          ],
          "font": {
           "color": "#2a3f5f"
          },
          "geo": {
           "bgcolor": "white",
           "lakecolor": "white",
           "landcolor": "#E5ECF6",
           "showlakes": true,
           "showland": true,
           "subunitcolor": "white"
          },
          "hoverlabel": {
           "align": "left"
          },
          "hovermode": "closest",
          "mapbox": {
           "style": "light"
          },
          "paper_bgcolor": "white",
          "plot_bgcolor": "#E5ECF6",
          "polar": {
           "angularaxis": {
            "gridcolor": "white",
            "linecolor": "white",
            "ticks": ""
           },
           "bgcolor": "#E5ECF6",
           "radialaxis": {
            "gridcolor": "white",
            "linecolor": "white",
            "ticks": ""
           }
          },
          "scene": {
           "xaxis": {
            "backgroundcolor": "#E5ECF6",
            "gridcolor": "white",
            "gridwidth": 2,
            "linecolor": "white",
            "showbackground": true,
            "ticks": "",
            "zerolinecolor": "white"
           },
           "yaxis": {
            "backgroundcolor": "#E5ECF6",
            "gridcolor": "white",
            "gridwidth": 2,
            "linecolor": "white",
            "showbackground": true,
            "ticks": "",
            "zerolinecolor": "white"
           },
           "zaxis": {
            "backgroundcolor": "#E5ECF6",
            "gridcolor": "white",
            "gridwidth": 2,
            "linecolor": "white",
            "showbackground": true,
            "ticks": "",
            "zerolinecolor": "white"
           }
          },
          "shapedefaults": {
           "line": {
            "color": "#2a3f5f"
           }
          },
          "ternary": {
           "aaxis": {
            "gridcolor": "white",
            "linecolor": "white",
            "ticks": ""
           },
           "baxis": {
            "gridcolor": "white",
            "linecolor": "white",
            "ticks": ""
           },
           "bgcolor": "#E5ECF6",
           "caxis": {
            "gridcolor": "white",
            "linecolor": "white",
            "ticks": ""
           }
          },
          "title": {
           "x": 0.05
          },
          "xaxis": {
           "automargin": true,
           "gridcolor": "white",
           "linecolor": "white",
           "ticks": "",
           "title": {
            "standoff": 15
           },
           "zerolinecolor": "white",
           "zerolinewidth": 2
          },
          "yaxis": {
           "automargin": true,
           "gridcolor": "white",
           "linecolor": "white",
           "ticks": "",
           "title": {
            "standoff": 15
           },
           "zerolinecolor": "white",
           "zerolinewidth": 2
          }
         }
        },
        "title": {
         "text": "Number of Confirmed Cases in top 10 infected states in India on daily basis"
        },
        "xaxis": {
         "title": {
          "text": "Date"
         }
        },
        "yaxis": {
         "title": {
          "text": "Count"
         }
        }
       }
      },
      "text/html": [
       "<div>\n",
       "        \n",
       "        \n",
       "            <div id=\"4ccc010f-712e-406f-a3aa-07a555f25036\" class=\"plotly-graph-div\" style=\"height:525px; width:100%;\"></div>\n",
       "            <script type=\"text/javascript\">\n",
       "                require([\"plotly\"], function(Plotly) {\n",
       "                    window.PLOTLYENV=window.PLOTLYENV || {};\n",
       "                    \n",
       "                if (document.getElementById(\"4ccc010f-712e-406f-a3aa-07a555f25036\")) {\n",
       "                    Plotly.newPlot(\n",
       "                        '4ccc010f-712e-406f-a3aa-07a555f25036',\n",
       "                        [{\"mode\": \"lines+markers\", \"name\": \"Maharashtra\", \"type\": \"scatter\", \"x\": [\"2020-03-09T00:00:00\", \"2020-03-10T00:00:00\", \"2020-03-11T00:00:00\", \"2020-03-12T00:00:00\", \"2020-03-13T00:00:00\", \"2020-03-14T00:00:00\", \"2020-03-15T00:00:00\", \"2020-03-16T00:00:00\", \"2020-03-17T00:00:00\", \"2020-03-18T00:00:00\", \"2020-03-19T00:00:00\", \"2020-03-20T00:00:00\", \"2020-03-21T00:00:00\", \"2020-03-22T00:00:00\", \"2020-03-23T00:00:00\", \"2020-03-24T00:00:00\", \"2020-03-25T00:00:00\", \"2020-03-26T00:00:00\", \"2020-03-27T00:00:00\", \"2020-03-28T00:00:00\", \"2020-03-29T00:00:00\", \"2020-03-30T00:00:00\", \"2020-03-31T00:00:00\", \"2020-04-01T00:00:00\", \"2020-04-02T00:00:00\", \"2020-04-03T00:00:00\", \"2020-04-04T00:00:00\", \"2020-04-05T00:00:00\", \"2020-04-06T00:00:00\", \"2020-04-07T00:00:00\", \"2020-04-08T00:00:00\", \"2020-04-09T00:00:00\", \"2020-04-10T00:00:00\", \"2020-04-11T00:00:00\", \"2020-04-12T00:00:00\", \"2020-04-13T00:00:00\", \"2020-04-14T00:00:00\", \"2020-04-15T00:00:00\", \"2020-04-16T00:00:00\", \"2020-04-17T00:00:00\", \"2020-04-18T00:00:00\", \"2020-04-19T00:00:00\", \"2020-04-20T00:00:00\", \"2020-04-21T00:00:00\", \"2020-04-22T00:00:00\", \"2020-04-23T00:00:00\", \"2020-04-24T00:00:00\", \"2020-04-25T00:00:00\", \"2020-04-26T00:00:00\", \"2020-04-27T00:00:00\", \"2020-04-28T00:00:00\", \"2020-04-29T00:00:00\", \"2020-04-30T00:00:00\", \"2020-05-01T00:00:00\", \"2020-05-02T00:00:00\", \"2020-05-03T00:00:00\", \"2020-05-04T00:00:00\"], \"y\": [2, 5, 2, 11, 14, 14, 32, 32, 39, 42, 47, 52, 63, 67, 74, 89, 128, 124, 130, 180, 186, 198, 216, 302, 335, 335, 490, 490, 748, 868, 1018, 1135, 1364, 1574, 1761, 1985, 2337, 2687, 2919, 3205, 3323, 3651, 4203, 4669, 5221, 5652, 6430, 6817, 7628, 8068, 8590, 9318, 9915, 10498, 11506, 12296, 12974]}, {\"mode\": \"lines+markers\", \"name\": \"Gujarat\", \"type\": \"scatter\", \"x\": [\"2020-03-20T00:00:00\", \"2020-03-21T00:00:00\", \"2020-03-22T00:00:00\", \"2020-03-23T00:00:00\", \"2020-03-24T00:00:00\", \"2020-03-25T00:00:00\", \"2020-03-26T00:00:00\", \"2020-03-27T00:00:00\", \"2020-03-28T00:00:00\", \"2020-03-29T00:00:00\", \"2020-03-30T00:00:00\", \"2020-03-31T00:00:00\", \"2020-04-01T00:00:00\", \"2020-04-02T00:00:00\", \"2020-04-03T00:00:00\", \"2020-04-04T00:00:00\", \"2020-04-05T00:00:00\", \"2020-04-06T00:00:00\", \"2020-04-07T00:00:00\", \"2020-04-08T00:00:00\", \"2020-04-09T00:00:00\", \"2020-04-10T00:00:00\", \"2020-04-11T00:00:00\", \"2020-04-12T00:00:00\", \"2020-04-13T00:00:00\", \"2020-04-14T00:00:00\", \"2020-04-15T00:00:00\", \"2020-04-16T00:00:00\", \"2020-04-17T00:00:00\", \"2020-04-18T00:00:00\", \"2020-04-19T00:00:00\", \"2020-04-20T00:00:00\", \"2020-04-21T00:00:00\", \"2020-04-22T00:00:00\", \"2020-04-23T00:00:00\", \"2020-04-24T00:00:00\", \"2020-04-25T00:00:00\", \"2020-04-26T00:00:00\", \"2020-04-27T00:00:00\", \"2020-04-28T00:00:00\", \"2020-04-29T00:00:00\", \"2020-04-30T00:00:00\", \"2020-05-01T00:00:00\", \"2020-05-02T00:00:00\", \"2020-05-03T00:00:00\", \"2020-05-04T00:00:00\"], \"y\": [5, 7, 18, 29, 33, 38, 43, 43, 45, 58, 69, 73, 82, 87, 95, 105, 122, 144, 165, 165, 179, 241, 308, 432, 539, 617, 695, 871, 1021, 1272, 1604, 1851, 2066, 2272, 2407, 2624, 2815, 3071, 3301, 3548, 3774, 4082, 4395, 4721, 5055, 5428]}, {\"mode\": \"lines+markers\", \"name\": \"Delhi\", \"type\": \"scatter\", \"x\": [\"2020-03-02T00:00:00\", \"2020-03-03T00:00:00\", \"2020-03-04T00:00:00\", \"2020-03-05T00:00:00\", \"2020-03-06T00:00:00\", \"2020-03-07T00:00:00\", \"2020-03-08T00:00:00\", \"2020-03-09T00:00:00\", \"2020-03-10T00:00:00\", \"2020-03-11T00:00:00\", \"2020-03-12T00:00:00\", \"2020-03-13T00:00:00\", \"2020-03-14T00:00:00\", \"2020-03-15T00:00:00\", \"2020-03-16T00:00:00\", \"2020-03-17T00:00:00\", \"2020-03-18T00:00:00\", \"2020-03-19T00:00:00\", \"2020-03-20T00:00:00\", \"2020-03-21T00:00:00\", \"2020-03-22T00:00:00\", \"2020-03-23T00:00:00\", \"2020-03-24T00:00:00\", \"2020-03-25T00:00:00\", \"2020-03-26T00:00:00\", \"2020-03-27T00:00:00\", \"2020-03-28T00:00:00\", \"2020-03-29T00:00:00\", \"2020-03-30T00:00:00\", \"2020-03-31T00:00:00\", \"2020-04-01T00:00:00\", \"2020-04-02T00:00:00\", \"2020-04-03T00:00:00\", \"2020-04-04T00:00:00\", \"2020-04-05T00:00:00\", \"2020-04-06T00:00:00\", \"2020-04-07T00:00:00\", \"2020-04-08T00:00:00\", \"2020-04-09T00:00:00\", \"2020-04-10T00:00:00\", \"2020-04-11T00:00:00\", \"2020-04-12T00:00:00\", \"2020-04-13T00:00:00\", \"2020-04-14T00:00:00\", \"2020-04-15T00:00:00\", \"2020-04-16T00:00:00\", \"2020-04-17T00:00:00\", \"2020-04-18T00:00:00\", \"2020-04-19T00:00:00\", \"2020-04-20T00:00:00\", \"2020-04-21T00:00:00\", \"2020-04-22T00:00:00\", \"2020-04-23T00:00:00\", \"2020-04-24T00:00:00\", \"2020-04-25T00:00:00\", \"2020-04-26T00:00:00\", \"2020-04-27T00:00:00\", \"2020-04-28T00:00:00\", \"2020-04-29T00:00:00\", \"2020-04-30T00:00:00\", \"2020-05-01T00:00:00\", \"2020-05-02T00:00:00\", \"2020-05-03T00:00:00\", \"2020-05-04T00:00:00\"], \"y\": [1, 1, 1, 2, 3, 3, 3, 4, 4, 5, 6, 6, 7, 7, 7, 8, 10, 12, 17, 26, 29, 29, 30, 31, 36, 36, 39, 49, 87, 97, 152, 219, 219, 445, 503, 523, 576, 576, 669, 898, 903, 1069, 1154, 1510, 1561, 1578, 1640, 1707, 1893, 2003, 2081, 2156, 2248, 2376, 2514, 2625, 2918, 3108, 3314, 3439, 3515, 3738, 4122, 4549]}, {\"mode\": \"lines+markers\", \"name\": \"Madhya_Pradesh\", \"type\": \"scatter\", \"x\": [\"2020-03-21T00:00:00\", \"2020-03-22T00:00:00\", \"2020-03-23T00:00:00\", \"2020-03-24T00:00:00\", \"2020-03-25T00:00:00\", \"2020-03-26T00:00:00\", \"2020-03-27T00:00:00\", \"2020-03-28T00:00:00\", \"2020-03-29T00:00:00\", \"2020-03-30T00:00:00\", \"2020-03-31T00:00:00\", \"2020-04-01T00:00:00\", \"2020-04-02T00:00:00\", \"2020-04-03T00:00:00\", \"2020-04-04T00:00:00\", \"2020-04-05T00:00:00\", \"2020-04-06T00:00:00\", \"2020-04-07T00:00:00\", \"2020-04-08T00:00:00\", \"2020-04-09T00:00:00\", \"2020-04-10T00:00:00\", \"2020-04-11T00:00:00\", \"2020-04-12T00:00:00\", \"2020-04-13T00:00:00\", \"2020-04-14T00:00:00\", \"2020-04-15T00:00:00\", \"2020-04-16T00:00:00\", \"2020-04-17T00:00:00\", \"2020-04-18T00:00:00\", \"2020-04-19T00:00:00\", \"2020-04-20T00:00:00\", \"2020-04-21T00:00:00\", \"2020-04-22T00:00:00\", \"2020-04-23T00:00:00\", \"2020-04-24T00:00:00\", \"2020-04-25T00:00:00\", \"2020-04-26T00:00:00\", \"2020-04-27T00:00:00\", \"2020-04-28T00:00:00\", \"2020-04-29T00:00:00\", \"2020-04-30T00:00:00\", \"2020-05-01T00:00:00\", \"2020-05-02T00:00:00\", \"2020-05-03T00:00:00\", \"2020-05-04T00:00:00\"], \"y\": [4, 4, 6, 7, 14, 20, 20, 30, 30, 47, 47, 66, 99, 104, 104, 165, 165, 229, 229, 259, 259, 443, 564, 604, 730, 987, 1120, 1308, 1355, 1407, 1485, 1540, 1592, 1695, 1852, 1952, 2096, 2168, 2368, 2561, 2660, 2719, 2719, 2846, 2942]}, {\"mode\": \"lines+markers\", \"name\": \"Rajasthan\", \"type\": \"scatter\", \"x\": [\"2020-03-03T00:00:00\", \"2020-03-04T00:00:00\", \"2020-03-05T00:00:00\", \"2020-03-06T00:00:00\", \"2020-03-07T00:00:00\", \"2020-03-08T00:00:00\", \"2020-03-09T00:00:00\", \"2020-03-10T00:00:00\", \"2020-03-11T00:00:00\", \"2020-03-12T00:00:00\", \"2020-03-13T00:00:00\", \"2020-03-14T00:00:00\", \"2020-03-15T00:00:00\", \"2020-03-16T00:00:00\", \"2020-03-17T00:00:00\", \"2020-03-18T00:00:00\", \"2020-03-19T00:00:00\", \"2020-03-20T00:00:00\", \"2020-03-21T00:00:00\", \"2020-03-22T00:00:00\", \"2020-03-23T00:00:00\", \"2020-03-24T00:00:00\", \"2020-03-25T00:00:00\", \"2020-03-26T00:00:00\", \"2020-03-27T00:00:00\", \"2020-03-28T00:00:00\", \"2020-03-29T00:00:00\", \"2020-03-30T00:00:00\", \"2020-03-31T00:00:00\", \"2020-04-01T00:00:00\", \"2020-04-02T00:00:00\", \"2020-04-03T00:00:00\", \"2020-04-04T00:00:00\", \"2020-04-05T00:00:00\", \"2020-04-06T00:00:00\", \"2020-04-07T00:00:00\", \"2020-04-08T00:00:00\", \"2020-04-09T00:00:00\", \"2020-04-10T00:00:00\", \"2020-04-11T00:00:00\", \"2020-04-12T00:00:00\", \"2020-04-13T00:00:00\", \"2020-04-14T00:00:00\", \"2020-04-15T00:00:00\", \"2020-04-16T00:00:00\", \"2020-04-17T00:00:00\", \"2020-04-18T00:00:00\", \"2020-04-19T00:00:00\", \"2020-04-20T00:00:00\", \"2020-04-21T00:00:00\", \"2020-04-22T00:00:00\", \"2020-04-23T00:00:00\", \"2020-04-24T00:00:00\", \"2020-04-25T00:00:00\", \"2020-04-26T00:00:00\", \"2020-04-27T00:00:00\", \"2020-04-28T00:00:00\", \"2020-04-29T00:00:00\", \"2020-04-30T00:00:00\", \"2020-05-01T00:00:00\", \"2020-05-02T00:00:00\", \"2020-05-03T00:00:00\", \"2020-05-04T00:00:00\"], \"y\": [1, 15, 15, 15, 15, 15, 15, 15, 3, 3, 3, 3, 4, 4, 4, 4, 7, 17, 17, 24, 28, 32, 36, 41, 41, 54, 55, 59, 74, 93, 108, 167, 200, 200, 274, 288, 328, 383, 463, 553, 700, 812, 879, 1005, 1023, 1131, 1229, 1351, 1478, 1576, 1801, 1890, 1964, 2034, 2083, 2185, 2262, 2364, 2438, 2584, 2666, 2772, 2886]}, {\"mode\": \"lines+markers\", \"name\": \"Uttar_Pradesh\", \"type\": \"scatter\", \"x\": [\"2020-03-04T00:00:00\", \"2020-03-05T00:00:00\", \"2020-03-06T00:00:00\", \"2020-03-07T00:00:00\", \"2020-03-08T00:00:00\", \"2020-03-09T00:00:00\", \"2020-03-10T00:00:00\", \"2020-03-11T00:00:00\", \"2020-03-12T00:00:00\", \"2020-03-13T00:00:00\", \"2020-03-14T00:00:00\", \"2020-03-15T00:00:00\", \"2020-03-16T00:00:00\", \"2020-03-17T00:00:00\", \"2020-03-18T00:00:00\", \"2020-03-19T00:00:00\", \"2020-03-20T00:00:00\", \"2020-03-21T00:00:00\", \"2020-03-22T00:00:00\", \"2020-03-23T00:00:00\", \"2020-03-24T00:00:00\", \"2020-03-25T00:00:00\", \"2020-03-26T00:00:00\", \"2020-03-27T00:00:00\", \"2020-03-28T00:00:00\", \"2020-03-29T00:00:00\", \"2020-03-30T00:00:00\", \"2020-03-31T00:00:00\", \"2020-04-01T00:00:00\", \"2020-04-02T00:00:00\", \"2020-04-03T00:00:00\", \"2020-04-04T00:00:00\", \"2020-04-05T00:00:00\", \"2020-04-06T00:00:00\", \"2020-04-07T00:00:00\", \"2020-04-08T00:00:00\", \"2020-04-09T00:00:00\", \"2020-04-10T00:00:00\", \"2020-04-11T00:00:00\", \"2020-04-12T00:00:00\", \"2020-04-13T00:00:00\", \"2020-04-14T00:00:00\", \"2020-04-15T00:00:00\", \"2020-04-16T00:00:00\", \"2020-04-17T00:00:00\", \"2020-04-18T00:00:00\", \"2020-04-19T00:00:00\", \"2020-04-20T00:00:00\", \"2020-04-21T00:00:00\", \"2020-04-22T00:00:00\", \"2020-04-23T00:00:00\", \"2020-04-24T00:00:00\", \"2020-04-25T00:00:00\", \"2020-04-26T00:00:00\", \"2020-04-27T00:00:00\", \"2020-04-28T00:00:00\", \"2020-04-29T00:00:00\", \"2020-04-30T00:00:00\", \"2020-05-01T00:00:00\", \"2020-05-02T00:00:00\", \"2020-05-03T00:00:00\", \"2020-05-04T00:00:00\"], \"y\": [6, 7, 7, 7, 7, 7, 7, 9, 11, 11, 12, 13, 13, 15, 16, 19, 23, 24, 27, 31, 33, 37, 41, 41, 55, 65, 82, 101, 103, 113, 172, 174, 227, 305, 305, 343, 410, 431, 433, 452, 483, 657, 735, 773, 846, 969, 1084, 1176, 1294, 1412, 1509, 1604, 1778, 1843, 1955, 2043, 2115, 2203, 2281, 2328, 2626, 2742]}, {\"mode\": \"lines+markers\", \"name\": \"Tamil_Nadu\", \"type\": \"scatter\", \"x\": [\"2020-03-07T00:00:00\", \"2020-03-08T00:00:00\", \"2020-03-09T00:00:00\", \"2020-03-10T00:00:00\", \"2020-03-11T00:00:00\", \"2020-03-12T00:00:00\", \"2020-03-13T00:00:00\", \"2020-03-14T00:00:00\", \"2020-03-15T00:00:00\", \"2020-03-16T00:00:00\", \"2020-03-17T00:00:00\", \"2020-03-18T00:00:00\", \"2020-03-19T00:00:00\", \"2020-03-20T00:00:00\", \"2020-03-21T00:00:00\", \"2020-03-22T00:00:00\", \"2020-03-23T00:00:00\", \"2020-03-24T00:00:00\", \"2020-03-25T00:00:00\", \"2020-03-26T00:00:00\", \"2020-03-27T00:00:00\", \"2020-03-28T00:00:00\", \"2020-03-29T00:00:00\", \"2020-03-30T00:00:00\", \"2020-03-31T00:00:00\", \"2020-04-01T00:00:00\", \"2020-04-02T00:00:00\", \"2020-04-03T00:00:00\", \"2020-04-04T00:00:00\", \"2020-04-05T00:00:00\", \"2020-04-06T00:00:00\", \"2020-04-07T00:00:00\", \"2020-04-08T00:00:00\", \"2020-04-09T00:00:00\", \"2020-04-10T00:00:00\", \"2020-04-11T00:00:00\", \"2020-04-12T00:00:00\", \"2020-04-13T00:00:00\", \"2020-04-14T00:00:00\", \"2020-04-15T00:00:00\", \"2020-04-16T00:00:00\", \"2020-04-17T00:00:00\", \"2020-04-18T00:00:00\", \"2020-04-19T00:00:00\", \"2020-04-20T00:00:00\", \"2020-04-21T00:00:00\", \"2020-04-22T00:00:00\", \"2020-04-23T00:00:00\", \"2020-04-24T00:00:00\", \"2020-04-25T00:00:00\", \"2020-04-26T00:00:00\", \"2020-04-27T00:00:00\", \"2020-04-28T00:00:00\", \"2020-04-29T00:00:00\", \"2020-04-30T00:00:00\", \"2020-05-01T00:00:00\", \"2020-05-02T00:00:00\", \"2020-05-03T00:00:00\", \"2020-05-04T00:00:00\"], \"y\": [1, 1, 1, 1, 1, 1, 1, 1, 1, 1, 1, 1, 2, 3, 3, 7, 9, 15, 18, 26, 29, 40, 49, 67, 74, 234, 234, 309, 411, 485, 571, 621, 690, 738, 834, 911, 969, 1075, 1173, 1204, 1242, 1267, 1323, 1372, 1477, 1520, 1596, 1629, 1683, 1755, 1821, 1885, 1937, 2058, 2162, 2323, 2526, 2757, 3023]}, {\"mode\": \"lines+markers\", \"name\": \"Andhra_Pradesh\", \"type\": \"scatter\", \"x\": [\"2020-03-12T00:00:00\", \"2020-03-13T00:00:00\", \"2020-03-14T00:00:00\", \"2020-03-15T00:00:00\", \"2020-03-16T00:00:00\", \"2020-03-17T00:00:00\", \"2020-03-18T00:00:00\", \"2020-03-19T00:00:00\", \"2020-03-20T00:00:00\", \"2020-03-21T00:00:00\", \"2020-03-22T00:00:00\", \"2020-03-23T00:00:00\", \"2020-03-24T00:00:00\", \"2020-03-25T00:00:00\", \"2020-03-26T00:00:00\", \"2020-03-27T00:00:00\", \"2020-03-28T00:00:00\", \"2020-03-29T00:00:00\", \"2020-03-30T00:00:00\", \"2020-03-31T00:00:00\", \"2020-04-01T00:00:00\", \"2020-04-02T00:00:00\", \"2020-04-03T00:00:00\", \"2020-04-04T00:00:00\", \"2020-04-05T00:00:00\", \"2020-04-06T00:00:00\", \"2020-04-07T00:00:00\", \"2020-04-08T00:00:00\", \"2020-04-09T00:00:00\", \"2020-04-10T00:00:00\", \"2020-04-11T00:00:00\", \"2020-04-12T00:00:00\", \"2020-04-13T00:00:00\", \"2020-04-14T00:00:00\", \"2020-04-15T00:00:00\", \"2020-04-16T00:00:00\", \"2020-04-17T00:00:00\", \"2020-04-18T00:00:00\", \"2020-04-19T00:00:00\", \"2020-04-20T00:00:00\", \"2020-04-21T00:00:00\", \"2020-04-22T00:00:00\", \"2020-04-23T00:00:00\", \"2020-04-24T00:00:00\", \"2020-04-25T00:00:00\", \"2020-04-26T00:00:00\", \"2020-04-27T00:00:00\", \"2020-04-28T00:00:00\", \"2020-04-29T00:00:00\", \"2020-04-30T00:00:00\", \"2020-05-01T00:00:00\", \"2020-05-02T00:00:00\", \"2020-05-03T00:00:00\", \"2020-05-04T00:00:00\"], \"y\": [1, 1, 1, 1, 1, 1, 1, 2, 3, 3, 5, 7, 8, 9, 11, 12, 14, 19, 23, 40, 83, 86, 132, 161, 190, 226, 266, 305, 348, 363, 381, 381, 432, 473, 503, 534, 572, 603, 603, 722, 757, 813, 895, 955, 1061, 1097, 1177, 1259, 1332, 1403, 1463, 1463, 1583, 1650]}, {\"mode\": \"lines+markers\", \"name\": \"Telangana\", \"type\": \"scatter\", \"x\": [], \"y\": []}, {\"mode\": \"lines+markers\", \"name\": \"West_Bengal\", \"type\": \"scatter\", \"x\": [\"2020-03-18T00:00:00\", \"2020-03-19T00:00:00\", \"2020-03-20T00:00:00\", \"2020-03-21T00:00:00\", \"2020-03-22T00:00:00\", \"2020-03-23T00:00:00\", \"2020-03-24T00:00:00\", \"2020-03-25T00:00:00\", \"2020-03-26T00:00:00\", \"2020-03-27T00:00:00\", \"2020-03-28T00:00:00\", \"2020-03-29T00:00:00\", \"2020-03-30T00:00:00\", \"2020-03-31T00:00:00\", \"2020-04-01T00:00:00\", \"2020-04-02T00:00:00\", \"2020-04-03T00:00:00\", \"2020-04-04T00:00:00\", \"2020-04-05T00:00:00\", \"2020-04-06T00:00:00\", \"2020-04-07T00:00:00\", \"2020-04-08T00:00:00\", \"2020-04-09T00:00:00\", \"2020-04-10T00:00:00\", \"2020-04-11T00:00:00\", \"2020-04-12T00:00:00\", \"2020-04-13T00:00:00\", \"2020-04-14T00:00:00\", \"2020-04-15T00:00:00\", \"2020-04-16T00:00:00\", \"2020-04-17T00:00:00\", \"2020-04-18T00:00:00\", \"2020-04-19T00:00:00\", \"2020-04-20T00:00:00\", \"2020-04-21T00:00:00\", \"2020-04-22T00:00:00\", \"2020-04-23T00:00:00\", \"2020-04-24T00:00:00\", \"2020-04-25T00:00:00\", \"2020-04-26T00:00:00\", \"2020-04-27T00:00:00\", \"2020-04-28T00:00:00\", \"2020-04-29T00:00:00\", \"2020-04-30T00:00:00\", \"2020-05-01T00:00:00\", \"2020-05-02T00:00:00\", \"2020-05-03T00:00:00\", \"2020-05-04T00:00:00\"], \"y\": [1, 1, 2, 3, 4, 7, 9, 9, 10, 10, 15, 18, 22, 26, 37, 53, 63, 69, 80, 80, 91, 99, 103, 116, 126, 134, 152, 190, 213, 231, 255, 287, 310, 339, 392, 423, 456, 514, 571, 611, 649, 697, 725, 758, 795, 795, 922, 963]}, {\"mode\": \"lines+markers\", \"name\": \"Karnataka\", \"type\": \"scatter\", \"x\": [\"2020-03-09T00:00:00\", \"2020-03-10T00:00:00\", \"2020-03-11T00:00:00\", \"2020-03-12T00:00:00\", \"2020-03-13T00:00:00\", \"2020-03-14T00:00:00\", \"2020-03-15T00:00:00\", \"2020-03-16T00:00:00\", \"2020-03-17T00:00:00\", \"2020-03-18T00:00:00\", \"2020-03-19T00:00:00\", \"2020-03-20T00:00:00\", \"2020-03-21T00:00:00\", \"2020-03-22T00:00:00\", \"2020-03-23T00:00:00\", \"2020-03-24T00:00:00\", \"2020-03-25T00:00:00\", \"2020-03-26T00:00:00\", \"2020-03-27T00:00:00\", \"2020-03-28T00:00:00\", \"2020-03-29T00:00:00\", \"2020-03-30T00:00:00\", \"2020-03-31T00:00:00\", \"2020-04-01T00:00:00\", \"2020-04-02T00:00:00\", \"2020-04-03T00:00:00\", \"2020-04-04T00:00:00\", \"2020-04-05T00:00:00\", \"2020-04-06T00:00:00\", \"2020-04-07T00:00:00\", \"2020-04-08T00:00:00\", \"2020-04-09T00:00:00\", \"2020-04-10T00:00:00\", \"2020-04-11T00:00:00\", \"2020-04-12T00:00:00\", \"2020-04-13T00:00:00\", \"2020-04-14T00:00:00\", \"2020-04-15T00:00:00\", \"2020-04-16T00:00:00\", \"2020-04-17T00:00:00\", \"2020-04-18T00:00:00\", \"2020-04-19T00:00:00\", \"2020-04-20T00:00:00\", \"2020-04-21T00:00:00\", \"2020-04-22T00:00:00\", \"2020-04-23T00:00:00\", \"2020-04-24T00:00:00\", \"2020-04-25T00:00:00\", \"2020-04-26T00:00:00\", \"2020-04-27T00:00:00\", \"2020-04-28T00:00:00\", \"2020-04-29T00:00:00\", \"2020-04-30T00:00:00\", \"2020-05-01T00:00:00\", \"2020-05-02T00:00:00\", \"2020-05-03T00:00:00\", \"2020-05-04T00:00:00\"], \"y\": [1, 4, 4, 4, 6, 6, 6, 6, 11, 11, 14, 15, 15, 26, 33, 37, 41, 55, 55, 55, 76, 83, 83, 101, 110, 124, 128, 144, 151, 175, 175, 181, 197, 214, 226, 247, 258, 277, 315, 353, 371, 384, 395, 415, 425, 443, 463, 489, 501, 511, 520, 532, 557, 576, 589, 606, 642]}],\n",
       "                        {\"template\": {\"data\": {\"bar\": [{\"error_x\": {\"color\": \"#2a3f5f\"}, \"error_y\": {\"color\": \"#2a3f5f\"}, \"marker\": {\"line\": {\"color\": \"#E5ECF6\", \"width\": 0.5}}, \"type\": \"bar\"}], \"barpolar\": [{\"marker\": {\"line\": {\"color\": \"#E5ECF6\", \"width\": 0.5}}, \"type\": \"barpolar\"}], \"carpet\": [{\"aaxis\": {\"endlinecolor\": \"#2a3f5f\", \"gridcolor\": \"white\", \"linecolor\": \"white\", \"minorgridcolor\": \"white\", \"startlinecolor\": \"#2a3f5f\"}, \"baxis\": {\"endlinecolor\": \"#2a3f5f\", \"gridcolor\": \"white\", \"linecolor\": \"white\", \"minorgridcolor\": \"white\", \"startlinecolor\": \"#2a3f5f\"}, \"type\": \"carpet\"}], \"choropleth\": [{\"colorbar\": {\"outlinewidth\": 0, \"ticks\": \"\"}, \"type\": \"choropleth\"}], \"contour\": [{\"colorbar\": {\"outlinewidth\": 0, \"ticks\": \"\"}, \"colorscale\": [[0.0, \"#0d0887\"], [0.1111111111111111, \"#46039f\"], [0.2222222222222222, \"#7201a8\"], [0.3333333333333333, \"#9c179e\"], [0.4444444444444444, \"#bd3786\"], [0.5555555555555556, \"#d8576b\"], [0.6666666666666666, \"#ed7953\"], [0.7777777777777778, \"#fb9f3a\"], [0.8888888888888888, \"#fdca26\"], [1.0, \"#f0f921\"]], \"type\": \"contour\"}], \"contourcarpet\": [{\"colorbar\": {\"outlinewidth\": 0, \"ticks\": \"\"}, \"type\": \"contourcarpet\"}], \"heatmap\": [{\"colorbar\": {\"outlinewidth\": 0, \"ticks\": \"\"}, \"colorscale\": [[0.0, \"#0d0887\"], [0.1111111111111111, \"#46039f\"], [0.2222222222222222, \"#7201a8\"], [0.3333333333333333, \"#9c179e\"], [0.4444444444444444, \"#bd3786\"], [0.5555555555555556, \"#d8576b\"], [0.6666666666666666, \"#ed7953\"], [0.7777777777777778, \"#fb9f3a\"], [0.8888888888888888, \"#fdca26\"], [1.0, \"#f0f921\"]], \"type\": \"heatmap\"}], \"heatmapgl\": [{\"colorbar\": {\"outlinewidth\": 0, \"ticks\": \"\"}, \"colorscale\": [[0.0, \"#0d0887\"], [0.1111111111111111, \"#46039f\"], [0.2222222222222222, \"#7201a8\"], [0.3333333333333333, \"#9c179e\"], [0.4444444444444444, \"#bd3786\"], [0.5555555555555556, \"#d8576b\"], [0.6666666666666666, \"#ed7953\"], [0.7777777777777778, \"#fb9f3a\"], [0.8888888888888888, \"#fdca26\"], [1.0, \"#f0f921\"]], \"type\": \"heatmapgl\"}], \"histogram\": [{\"marker\": {\"colorbar\": {\"outlinewidth\": 0, \"ticks\": \"\"}}, \"type\": \"histogram\"}], \"histogram2d\": [{\"colorbar\": {\"outlinewidth\": 0, \"ticks\": \"\"}, \"colorscale\": [[0.0, \"#0d0887\"], [0.1111111111111111, \"#46039f\"], [0.2222222222222222, \"#7201a8\"], [0.3333333333333333, \"#9c179e\"], [0.4444444444444444, \"#bd3786\"], [0.5555555555555556, \"#d8576b\"], [0.6666666666666666, \"#ed7953\"], [0.7777777777777778, \"#fb9f3a\"], [0.8888888888888888, \"#fdca26\"], [1.0, \"#f0f921\"]], \"type\": \"histogram2d\"}], \"histogram2dcontour\": [{\"colorbar\": {\"outlinewidth\": 0, \"ticks\": \"\"}, \"colorscale\": [[0.0, \"#0d0887\"], [0.1111111111111111, \"#46039f\"], [0.2222222222222222, \"#7201a8\"], [0.3333333333333333, \"#9c179e\"], [0.4444444444444444, \"#bd3786\"], [0.5555555555555556, \"#d8576b\"], [0.6666666666666666, \"#ed7953\"], [0.7777777777777778, \"#fb9f3a\"], [0.8888888888888888, \"#fdca26\"], [1.0, \"#f0f921\"]], \"type\": \"histogram2dcontour\"}], \"mesh3d\": [{\"colorbar\": {\"outlinewidth\": 0, \"ticks\": \"\"}, \"type\": \"mesh3d\"}], \"parcoords\": [{\"line\": {\"colorbar\": {\"outlinewidth\": 0, \"ticks\": \"\"}}, \"type\": \"parcoords\"}], \"pie\": [{\"automargin\": true, \"type\": \"pie\"}], \"scatter\": [{\"marker\": {\"colorbar\": {\"outlinewidth\": 0, \"ticks\": \"\"}}, \"type\": \"scatter\"}], \"scatter3d\": [{\"line\": {\"colorbar\": {\"outlinewidth\": 0, \"ticks\": \"\"}}, \"marker\": {\"colorbar\": {\"outlinewidth\": 0, \"ticks\": \"\"}}, \"type\": \"scatter3d\"}], \"scattercarpet\": [{\"marker\": {\"colorbar\": {\"outlinewidth\": 0, \"ticks\": \"\"}}, \"type\": \"scattercarpet\"}], \"scattergeo\": [{\"marker\": {\"colorbar\": {\"outlinewidth\": 0, \"ticks\": \"\"}}, \"type\": \"scattergeo\"}], \"scattergl\": [{\"marker\": {\"colorbar\": {\"outlinewidth\": 0, \"ticks\": \"\"}}, \"type\": \"scattergl\"}], \"scattermapbox\": [{\"marker\": {\"colorbar\": {\"outlinewidth\": 0, \"ticks\": \"\"}}, \"type\": \"scattermapbox\"}], \"scatterpolar\": [{\"marker\": {\"colorbar\": {\"outlinewidth\": 0, \"ticks\": \"\"}}, \"type\": \"scatterpolar\"}], \"scatterpolargl\": [{\"marker\": {\"colorbar\": {\"outlinewidth\": 0, \"ticks\": \"\"}}, \"type\": \"scatterpolargl\"}], \"scatterternary\": [{\"marker\": {\"colorbar\": {\"outlinewidth\": 0, \"ticks\": \"\"}}, \"type\": \"scatterternary\"}], \"surface\": [{\"colorbar\": {\"outlinewidth\": 0, \"ticks\": \"\"}, \"colorscale\": [[0.0, \"#0d0887\"], [0.1111111111111111, \"#46039f\"], [0.2222222222222222, \"#7201a8\"], [0.3333333333333333, \"#9c179e\"], [0.4444444444444444, \"#bd3786\"], [0.5555555555555556, \"#d8576b\"], [0.6666666666666666, \"#ed7953\"], [0.7777777777777778, \"#fb9f3a\"], [0.8888888888888888, \"#fdca26\"], [1.0, \"#f0f921\"]], \"type\": \"surface\"}], \"table\": [{\"cells\": {\"fill\": {\"color\": \"#EBF0F8\"}, \"line\": {\"color\": \"white\"}}, \"header\": {\"fill\": {\"color\": \"#C8D4E3\"}, \"line\": {\"color\": \"white\"}}, \"type\": \"table\"}]}, \"layout\": {\"annotationdefaults\": {\"arrowcolor\": \"#2a3f5f\", \"arrowhead\": 0, \"arrowwidth\": 1}, \"coloraxis\": {\"colorbar\": {\"outlinewidth\": 0, \"ticks\": \"\"}}, \"colorscale\": {\"diverging\": [[0, \"#8e0152\"], [0.1, \"#c51b7d\"], [0.2, \"#de77ae\"], [0.3, \"#f1b6da\"], [0.4, \"#fde0ef\"], [0.5, \"#f7f7f7\"], [0.6, \"#e6f5d0\"], [0.7, \"#b8e186\"], [0.8, \"#7fbc41\"], [0.9, \"#4d9221\"], [1, \"#276419\"]], \"sequential\": [[0.0, \"#0d0887\"], [0.1111111111111111, \"#46039f\"], [0.2222222222222222, \"#7201a8\"], [0.3333333333333333, \"#9c179e\"], [0.4444444444444444, \"#bd3786\"], [0.5555555555555556, \"#d8576b\"], [0.6666666666666666, \"#ed7953\"], [0.7777777777777778, \"#fb9f3a\"], [0.8888888888888888, \"#fdca26\"], [1.0, \"#f0f921\"]], \"sequentialminus\": [[0.0, \"#0d0887\"], [0.1111111111111111, \"#46039f\"], [0.2222222222222222, \"#7201a8\"], [0.3333333333333333, \"#9c179e\"], [0.4444444444444444, \"#bd3786\"], [0.5555555555555556, \"#d8576b\"], [0.6666666666666666, \"#ed7953\"], [0.7777777777777778, \"#fb9f3a\"], [0.8888888888888888, \"#fdca26\"], [1.0, \"#f0f921\"]]}, \"colorway\": [\"#636efa\", \"#EF553B\", \"#00cc96\", \"#ab63fa\", \"#FFA15A\", \"#19d3f3\", \"#FF6692\", \"#B6E880\", \"#FF97FF\", \"#FECB52\"], \"font\": {\"color\": \"#2a3f5f\"}, \"geo\": {\"bgcolor\": \"white\", \"lakecolor\": \"white\", \"landcolor\": \"#E5ECF6\", \"showlakes\": true, \"showland\": true, \"subunitcolor\": \"white\"}, \"hoverlabel\": {\"align\": \"left\"}, \"hovermode\": \"closest\", \"mapbox\": {\"style\": \"light\"}, \"paper_bgcolor\": \"white\", \"plot_bgcolor\": \"#E5ECF6\", \"polar\": {\"angularaxis\": {\"gridcolor\": \"white\", \"linecolor\": \"white\", \"ticks\": \"\"}, \"bgcolor\": \"#E5ECF6\", \"radialaxis\": {\"gridcolor\": \"white\", \"linecolor\": \"white\", \"ticks\": \"\"}}, \"scene\": {\"xaxis\": {\"backgroundcolor\": \"#E5ECF6\", \"gridcolor\": \"white\", \"gridwidth\": 2, \"linecolor\": \"white\", \"showbackground\": true, \"ticks\": \"\", \"zerolinecolor\": \"white\"}, \"yaxis\": {\"backgroundcolor\": \"#E5ECF6\", \"gridcolor\": \"white\", \"gridwidth\": 2, \"linecolor\": \"white\", \"showbackground\": true, \"ticks\": \"\", \"zerolinecolor\": \"white\"}, \"zaxis\": {\"backgroundcolor\": \"#E5ECF6\", \"gridcolor\": \"white\", \"gridwidth\": 2, \"linecolor\": \"white\", \"showbackground\": true, \"ticks\": \"\", \"zerolinecolor\": \"white\"}}, \"shapedefaults\": {\"line\": {\"color\": \"#2a3f5f\"}}, \"ternary\": {\"aaxis\": {\"gridcolor\": \"white\", \"linecolor\": \"white\", \"ticks\": \"\"}, \"baxis\": {\"gridcolor\": \"white\", \"linecolor\": \"white\", \"ticks\": \"\"}, \"bgcolor\": \"#E5ECF6\", \"caxis\": {\"gridcolor\": \"white\", \"linecolor\": \"white\", \"ticks\": \"\"}}, \"title\": {\"x\": 0.05}, \"xaxis\": {\"automargin\": true, \"gridcolor\": \"white\", \"linecolor\": \"white\", \"ticks\": \"\", \"title\": {\"standoff\": 15}, \"zerolinecolor\": \"white\", \"zerolinewidth\": 2}, \"yaxis\": {\"automargin\": true, \"gridcolor\": \"white\", \"linecolor\": \"white\", \"ticks\": \"\", \"title\": {\"standoff\": 15}, \"zerolinecolor\": \"white\", \"zerolinewidth\": 2}}}, \"title\": {\"text\": \"Number of Confirmed Cases in top 10 infected states in India on daily basis\"}, \"xaxis\": {\"title\": {\"text\": \"Date\"}}, \"yaxis\": {\"title\": {\"text\": \"Count\"}}},\n",
       "                        {\"responsive\": true}\n",
       "                    ).then(function(){\n",
       "                            \n",
       "var gd = document.getElementById('4ccc010f-712e-406f-a3aa-07a555f25036');\n",
       "var x = new MutationObserver(function (mutations, observer) {{\n",
       "        var display = window.getComputedStyle(gd).display;\n",
       "        if (!display || display === 'none') {{\n",
       "            console.log([gd, 'removed!']);\n",
       "            Plotly.purge(gd);\n",
       "            observer.disconnect();\n",
       "        }}\n",
       "}});\n",
       "\n",
       "// Listen for the removal of the full notebook cells\n",
       "var notebookContainer = gd.closest('#notebook-container');\n",
       "if (notebookContainer) {{\n",
       "    x.observe(notebookContainer, {childList: true});\n",
       "}}\n",
       "\n",
       "// Listen for the clearing of the current output cell\n",
       "var outputEl = gd.closest('.output');\n",
       "if (outputEl) {{\n",
       "    x.observe(outputEl, {childList: true});\n",
       "}}\n",
       "\n",
       "                        })\n",
       "                };\n",
       "                });\n",
       "            </script>\n",
       "        </div>"
      ]
     },
     "metadata": {},
     "output_type": "display_data"
    }
   ],
   "source": [
    "fig = go.Figure()\n",
    "fig.add_trace(go.Scatter(x=Maharashtra.index,y=Maharashtra['Confirmed'],mode='lines+markers',name=\"Maharashtra\"))\n",
    "fig.add_trace(go.Scatter(x=Gujarat.index,y=Gujarat['Confirmed'],mode='lines+markers',name=\"Gujarat\"))\n",
    "fig.add_trace(go.Scatter(x=Delhi.index,y=Delhi['Confirmed'],mode='lines+markers',name=\"Delhi\"))\n",
    "fig.add_trace(go.Scatter(x=Madhya_Pradesh.index,y=Madhya_Pradesh['Confirmed'],mode='lines+markers',name=\"Madhya_Pradesh\"))\n",
    "fig.add_trace(go.Scatter(x=Rajasthan.index,y=Rajasthan['Confirmed'],mode='lines+markers',name=\"Rajasthan\"))\n",
    "fig.add_trace(go.Scatter(x=Uttar_Pradesh.index,y=Uttar_Pradesh['Confirmed'],mode='lines+markers',name=\"Uttar_Pradesh\"))\n",
    "fig.add_trace(go.Scatter(x=Tamil_Nadu.index,y=Tamil_Nadu['Confirmed'],mode='lines+markers',name=\"Tamil_Nadu\"))\n",
    "fig.add_trace(go.Scatter(x=Andhra_Pradesh.index,y=Andhra_Pradesh['Confirmed'],mode='lines+markers',name=\"Andhra_Pradesh\"))\n",
    "fig.add_trace(go.Scatter(x=Telangana.index,y=Telangana['Confirmed'],mode='lines+markers',name=\"Telangana\"))\n",
    "fig.add_trace(go.Scatter(x=West_Bengal.index,y=West_Bengal['Confirmed'],mode='lines+markers',name=\"West_Bengal\"))\n",
    "fig.add_trace(go.Scatter(x=Karnataka.index,y=Karnataka['Confirmed'],mode='lines+markers',name=\"Karnataka\"))\n",
    "fig.update_layout(title='Number of Confirmed Cases in top 10 infected states in India on daily basis',xaxis=dict(title=\"Date\"),yaxis=dict(title=\"Count\"))"
   ]
  },
  {
   "cell_type": "markdown",
   "metadata": {},
   "source": [
    "We can see that Maharashtra has seen a steep rise as compared to other states.For Karnataka, the rise in the number of cases is not that steep."
   ]
  },
  {
   "cell_type": "markdown",
   "metadata": {},
   "source": [
    "#### Gender of Patients"
   ]
  },
  {
   "cell_type": "code",
   "execution_count": 13,
   "metadata": {},
   "outputs": [],
   "source": [
    "patients['gender'].replace({\"F\":\"Female\",\"M\":\"Male\"},inplace=True)"
   ]
  },
  {
   "cell_type": "code",
   "execution_count": 14,
   "metadata": {},
   "outputs": [
    {
     "data": {
      "application/vnd.plotly.v1+json": {
       "config": {
        "plotlyServerURL": "https://plot.ly"
       },
       "data": [
        {
         "labels": [
          "Male",
          "Female"
         ],
         "title": {
          "text": "Gender of Patients"
         },
         "type": "pie",
         "values": [
          3547,
          1766
         ]
        }
       ],
       "layout": {
        "template": {
         "data": {
          "bar": [
           {
            "error_x": {
             "color": "#2a3f5f"
            },
            "error_y": {
             "color": "#2a3f5f"
            },
            "marker": {
             "line": {
              "color": "#E5ECF6",
              "width": 0.5
             }
            },
            "type": "bar"
           }
          ],
          "barpolar": [
           {
            "marker": {
             "line": {
              "color": "#E5ECF6",
              "width": 0.5
             }
            },
            "type": "barpolar"
           }
          ],
          "carpet": [
           {
            "aaxis": {
             "endlinecolor": "#2a3f5f",
             "gridcolor": "white",
             "linecolor": "white",
             "minorgridcolor": "white",
             "startlinecolor": "#2a3f5f"
            },
            "baxis": {
             "endlinecolor": "#2a3f5f",
             "gridcolor": "white",
             "linecolor": "white",
             "minorgridcolor": "white",
             "startlinecolor": "#2a3f5f"
            },
            "type": "carpet"
           }
          ],
          "choropleth": [
           {
            "colorbar": {
             "outlinewidth": 0,
             "ticks": ""
            },
            "type": "choropleth"
           }
          ],
          "contour": [
           {
            "colorbar": {
             "outlinewidth": 0,
             "ticks": ""
            },
            "colorscale": [
             [
              0,
              "#0d0887"
             ],
             [
              0.1111111111111111,
              "#46039f"
             ],
             [
              0.2222222222222222,
              "#7201a8"
             ],
             [
              0.3333333333333333,
              "#9c179e"
             ],
             [
              0.4444444444444444,
              "#bd3786"
             ],
             [
              0.5555555555555556,
              "#d8576b"
             ],
             [
              0.6666666666666666,
              "#ed7953"
             ],
             [
              0.7777777777777778,
              "#fb9f3a"
             ],
             [
              0.8888888888888888,
              "#fdca26"
             ],
             [
              1,
              "#f0f921"
             ]
            ],
            "type": "contour"
           }
          ],
          "contourcarpet": [
           {
            "colorbar": {
             "outlinewidth": 0,
             "ticks": ""
            },
            "type": "contourcarpet"
           }
          ],
          "heatmap": [
           {
            "colorbar": {
             "outlinewidth": 0,
             "ticks": ""
            },
            "colorscale": [
             [
              0,
              "#0d0887"
             ],
             [
              0.1111111111111111,
              "#46039f"
             ],
             [
              0.2222222222222222,
              "#7201a8"
             ],
             [
              0.3333333333333333,
              "#9c179e"
             ],
             [
              0.4444444444444444,
              "#bd3786"
             ],
             [
              0.5555555555555556,
              "#d8576b"
             ],
             [
              0.6666666666666666,
              "#ed7953"
             ],
             [
              0.7777777777777778,
              "#fb9f3a"
             ],
             [
              0.8888888888888888,
              "#fdca26"
             ],
             [
              1,
              "#f0f921"
             ]
            ],
            "type": "heatmap"
           }
          ],
          "heatmapgl": [
           {
            "colorbar": {
             "outlinewidth": 0,
             "ticks": ""
            },
            "colorscale": [
             [
              0,
              "#0d0887"
             ],
             [
              0.1111111111111111,
              "#46039f"
             ],
             [
              0.2222222222222222,
              "#7201a8"
             ],
             [
              0.3333333333333333,
              "#9c179e"
             ],
             [
              0.4444444444444444,
              "#bd3786"
             ],
             [
              0.5555555555555556,
              "#d8576b"
             ],
             [
              0.6666666666666666,
              "#ed7953"
             ],
             [
              0.7777777777777778,
              "#fb9f3a"
             ],
             [
              0.8888888888888888,
              "#fdca26"
             ],
             [
              1,
              "#f0f921"
             ]
            ],
            "type": "heatmapgl"
           }
          ],
          "histogram": [
           {
            "marker": {
             "colorbar": {
              "outlinewidth": 0,
              "ticks": ""
             }
            },
            "type": "histogram"
           }
          ],
          "histogram2d": [
           {
            "colorbar": {
             "outlinewidth": 0,
             "ticks": ""
            },
            "colorscale": [
             [
              0,
              "#0d0887"
             ],
             [
              0.1111111111111111,
              "#46039f"
             ],
             [
              0.2222222222222222,
              "#7201a8"
             ],
             [
              0.3333333333333333,
              "#9c179e"
             ],
             [
              0.4444444444444444,
              "#bd3786"
             ],
             [
              0.5555555555555556,
              "#d8576b"
             ],
             [
              0.6666666666666666,
              "#ed7953"
             ],
             [
              0.7777777777777778,
              "#fb9f3a"
             ],
             [
              0.8888888888888888,
              "#fdca26"
             ],
             [
              1,
              "#f0f921"
             ]
            ],
            "type": "histogram2d"
           }
          ],
          "histogram2dcontour": [
           {
            "colorbar": {
             "outlinewidth": 0,
             "ticks": ""
            },
            "colorscale": [
             [
              0,
              "#0d0887"
             ],
             [
              0.1111111111111111,
              "#46039f"
             ],
             [
              0.2222222222222222,
              "#7201a8"
             ],
             [
              0.3333333333333333,
              "#9c179e"
             ],
             [
              0.4444444444444444,
              "#bd3786"
             ],
             [
              0.5555555555555556,
              "#d8576b"
             ],
             [
              0.6666666666666666,
              "#ed7953"
             ],
             [
              0.7777777777777778,
              "#fb9f3a"
             ],
             [
              0.8888888888888888,
              "#fdca26"
             ],
             [
              1,
              "#f0f921"
             ]
            ],
            "type": "histogram2dcontour"
           }
          ],
          "mesh3d": [
           {
            "colorbar": {
             "outlinewidth": 0,
             "ticks": ""
            },
            "type": "mesh3d"
           }
          ],
          "parcoords": [
           {
            "line": {
             "colorbar": {
              "outlinewidth": 0,
              "ticks": ""
             }
            },
            "type": "parcoords"
           }
          ],
          "pie": [
           {
            "automargin": true,
            "type": "pie"
           }
          ],
          "scatter": [
           {
            "marker": {
             "colorbar": {
              "outlinewidth": 0,
              "ticks": ""
             }
            },
            "type": "scatter"
           }
          ],
          "scatter3d": [
           {
            "line": {
             "colorbar": {
              "outlinewidth": 0,
              "ticks": ""
             }
            },
            "marker": {
             "colorbar": {
              "outlinewidth": 0,
              "ticks": ""
             }
            },
            "type": "scatter3d"
           }
          ],
          "scattercarpet": [
           {
            "marker": {
             "colorbar": {
              "outlinewidth": 0,
              "ticks": ""
             }
            },
            "type": "scattercarpet"
           }
          ],
          "scattergeo": [
           {
            "marker": {
             "colorbar": {
              "outlinewidth": 0,
              "ticks": ""
             }
            },
            "type": "scattergeo"
           }
          ],
          "scattergl": [
           {
            "marker": {
             "colorbar": {
              "outlinewidth": 0,
              "ticks": ""
             }
            },
            "type": "scattergl"
           }
          ],
          "scattermapbox": [
           {
            "marker": {
             "colorbar": {
              "outlinewidth": 0,
              "ticks": ""
             }
            },
            "type": "scattermapbox"
           }
          ],
          "scatterpolar": [
           {
            "marker": {
             "colorbar": {
              "outlinewidth": 0,
              "ticks": ""
             }
            },
            "type": "scatterpolar"
           }
          ],
          "scatterpolargl": [
           {
            "marker": {
             "colorbar": {
              "outlinewidth": 0,
              "ticks": ""
             }
            },
            "type": "scatterpolargl"
           }
          ],
          "scatterternary": [
           {
            "marker": {
             "colorbar": {
              "outlinewidth": 0,
              "ticks": ""
             }
            },
            "type": "scatterternary"
           }
          ],
          "surface": [
           {
            "colorbar": {
             "outlinewidth": 0,
             "ticks": ""
            },
            "colorscale": [
             [
              0,
              "#0d0887"
             ],
             [
              0.1111111111111111,
              "#46039f"
             ],
             [
              0.2222222222222222,
              "#7201a8"
             ],
             [
              0.3333333333333333,
              "#9c179e"
             ],
             [
              0.4444444444444444,
              "#bd3786"
             ],
             [
              0.5555555555555556,
              "#d8576b"
             ],
             [
              0.6666666666666666,
              "#ed7953"
             ],
             [
              0.7777777777777778,
              "#fb9f3a"
             ],
             [
              0.8888888888888888,
              "#fdca26"
             ],
             [
              1,
              "#f0f921"
             ]
            ],
            "type": "surface"
           }
          ],
          "table": [
           {
            "cells": {
             "fill": {
              "color": "#EBF0F8"
             },
             "line": {
              "color": "white"
             }
            },
            "header": {
             "fill": {
              "color": "#C8D4E3"
             },
             "line": {
              "color": "white"
             }
            },
            "type": "table"
           }
          ]
         },
         "layout": {
          "annotationdefaults": {
           "arrowcolor": "#2a3f5f",
           "arrowhead": 0,
           "arrowwidth": 1
          },
          "coloraxis": {
           "colorbar": {
            "outlinewidth": 0,
            "ticks": ""
           }
          },
          "colorscale": {
           "diverging": [
            [
             0,
             "#8e0152"
            ],
            [
             0.1,
             "#c51b7d"
            ],
            [
             0.2,
             "#de77ae"
            ],
            [
             0.3,
             "#f1b6da"
            ],
            [
             0.4,
             "#fde0ef"
            ],
            [
             0.5,
             "#f7f7f7"
            ],
            [
             0.6,
             "#e6f5d0"
            ],
            [
             0.7,
             "#b8e186"
            ],
            [
             0.8,
             "#7fbc41"
            ],
            [
             0.9,
             "#4d9221"
            ],
            [
             1,
             "#276419"
            ]
           ],
           "sequential": [
            [
             0,
             "#0d0887"
            ],
            [
             0.1111111111111111,
             "#46039f"
            ],
            [
             0.2222222222222222,
             "#7201a8"
            ],
            [
             0.3333333333333333,
             "#9c179e"
            ],
            [
             0.4444444444444444,
             "#bd3786"
            ],
            [
             0.5555555555555556,
             "#d8576b"
            ],
            [
             0.6666666666666666,
             "#ed7953"
            ],
            [
             0.7777777777777778,
             "#fb9f3a"
            ],
            [
             0.8888888888888888,
             "#fdca26"
            ],
            [
             1,
             "#f0f921"
            ]
           ],
           "sequentialminus": [
            [
             0,
             "#0d0887"
            ],
            [
             0.1111111111111111,
             "#46039f"
            ],
            [
             0.2222222222222222,
             "#7201a8"
            ],
            [
             0.3333333333333333,
             "#9c179e"
            ],
            [
             0.4444444444444444,
             "#bd3786"
            ],
            [
             0.5555555555555556,
             "#d8576b"
            ],
            [
             0.6666666666666666,
             "#ed7953"
            ],
            [
             0.7777777777777778,
             "#fb9f3a"
            ],
            [
             0.8888888888888888,
             "#fdca26"
            ],
            [
             1,
             "#f0f921"
            ]
           ]
          },
          "colorway": [
           "#636efa",
           "#EF553B",
           "#00cc96",
           "#ab63fa",
           "#FFA15A",
           "#19d3f3",
           "#FF6692",
           "#B6E880",
           "#FF97FF",
           "#FECB52"
          ],
          "font": {
           "color": "#2a3f5f"
          },
          "geo": {
           "bgcolor": "white",
           "lakecolor": "white",
           "landcolor": "#E5ECF6",
           "showlakes": true,
           "showland": true,
           "subunitcolor": "white"
          },
          "hoverlabel": {
           "align": "left"
          },
          "hovermode": "closest",
          "mapbox": {
           "style": "light"
          },
          "paper_bgcolor": "white",
          "plot_bgcolor": "#E5ECF6",
          "polar": {
           "angularaxis": {
            "gridcolor": "white",
            "linecolor": "white",
            "ticks": ""
           },
           "bgcolor": "#E5ECF6",
           "radialaxis": {
            "gridcolor": "white",
            "linecolor": "white",
            "ticks": ""
           }
          },
          "scene": {
           "xaxis": {
            "backgroundcolor": "#E5ECF6",
            "gridcolor": "white",
            "gridwidth": 2,
            "linecolor": "white",
            "showbackground": true,
            "ticks": "",
            "zerolinecolor": "white"
           },
           "yaxis": {
            "backgroundcolor": "#E5ECF6",
            "gridcolor": "white",
            "gridwidth": 2,
            "linecolor": "white",
            "showbackground": true,
            "ticks": "",
            "zerolinecolor": "white"
           },
           "zaxis": {
            "backgroundcolor": "#E5ECF6",
            "gridcolor": "white",
            "gridwidth": 2,
            "linecolor": "white",
            "showbackground": true,
            "ticks": "",
            "zerolinecolor": "white"
           }
          },
          "shapedefaults": {
           "line": {
            "color": "#2a3f5f"
           }
          },
          "ternary": {
           "aaxis": {
            "gridcolor": "white",
            "linecolor": "white",
            "ticks": ""
           },
           "baxis": {
            "gridcolor": "white",
            "linecolor": "white",
            "ticks": ""
           },
           "bgcolor": "#E5ECF6",
           "caxis": {
            "gridcolor": "white",
            "linecolor": "white",
            "ticks": ""
           }
          },
          "title": {
           "x": 0.05
          },
          "xaxis": {
           "automargin": true,
           "gridcolor": "white",
           "linecolor": "white",
           "ticks": "",
           "title": {
            "standoff": 15
           },
           "zerolinecolor": "white",
           "zerolinewidth": 2
          },
          "yaxis": {
           "automargin": true,
           "gridcolor": "white",
           "linecolor": "white",
           "ticks": "",
           "title": {
            "standoff": 15
           },
           "zerolinecolor": "white",
           "zerolinewidth": 2
          }
         }
        }
       }
      },
      "text/html": [
       "<div>\n",
       "        \n",
       "        \n",
       "            <div id=\"38a4d60a-9978-49f4-9d27-4dc1012d463f\" class=\"plotly-graph-div\" style=\"height:525px; width:100%;\"></div>\n",
       "            <script type=\"text/javascript\">\n",
       "                require([\"plotly\"], function(Plotly) {\n",
       "                    window.PLOTLYENV=window.PLOTLYENV || {};\n",
       "                    \n",
       "                if (document.getElementById(\"38a4d60a-9978-49f4-9d27-4dc1012d463f\")) {\n",
       "                    Plotly.newPlot(\n",
       "                        '38a4d60a-9978-49f4-9d27-4dc1012d463f',\n",
       "                        [{\"labels\": [\"Male\", \"Female\"], \"title\": {\"text\": \"Gender of Patients\"}, \"type\": \"pie\", \"values\": [3547, 1766]}],\n",
       "                        {\"template\": {\"data\": {\"bar\": [{\"error_x\": {\"color\": \"#2a3f5f\"}, \"error_y\": {\"color\": \"#2a3f5f\"}, \"marker\": {\"line\": {\"color\": \"#E5ECF6\", \"width\": 0.5}}, \"type\": \"bar\"}], \"barpolar\": [{\"marker\": {\"line\": {\"color\": \"#E5ECF6\", \"width\": 0.5}}, \"type\": \"barpolar\"}], \"carpet\": [{\"aaxis\": {\"endlinecolor\": \"#2a3f5f\", \"gridcolor\": \"white\", \"linecolor\": \"white\", \"minorgridcolor\": \"white\", \"startlinecolor\": \"#2a3f5f\"}, \"baxis\": {\"endlinecolor\": \"#2a3f5f\", \"gridcolor\": \"white\", \"linecolor\": \"white\", \"minorgridcolor\": \"white\", \"startlinecolor\": \"#2a3f5f\"}, \"type\": \"carpet\"}], \"choropleth\": [{\"colorbar\": {\"outlinewidth\": 0, \"ticks\": \"\"}, \"type\": \"choropleth\"}], \"contour\": [{\"colorbar\": {\"outlinewidth\": 0, \"ticks\": \"\"}, \"colorscale\": [[0.0, \"#0d0887\"], [0.1111111111111111, \"#46039f\"], [0.2222222222222222, \"#7201a8\"], [0.3333333333333333, \"#9c179e\"], [0.4444444444444444, \"#bd3786\"], [0.5555555555555556, \"#d8576b\"], [0.6666666666666666, \"#ed7953\"], [0.7777777777777778, \"#fb9f3a\"], [0.8888888888888888, \"#fdca26\"], [1.0, \"#f0f921\"]], \"type\": \"contour\"}], \"contourcarpet\": [{\"colorbar\": {\"outlinewidth\": 0, \"ticks\": \"\"}, \"type\": \"contourcarpet\"}], \"heatmap\": [{\"colorbar\": {\"outlinewidth\": 0, \"ticks\": \"\"}, \"colorscale\": [[0.0, \"#0d0887\"], [0.1111111111111111, \"#46039f\"], [0.2222222222222222, \"#7201a8\"], [0.3333333333333333, \"#9c179e\"], [0.4444444444444444, \"#bd3786\"], [0.5555555555555556, \"#d8576b\"], [0.6666666666666666, \"#ed7953\"], [0.7777777777777778, \"#fb9f3a\"], [0.8888888888888888, \"#fdca26\"], [1.0, \"#f0f921\"]], \"type\": \"heatmap\"}], \"heatmapgl\": [{\"colorbar\": {\"outlinewidth\": 0, \"ticks\": \"\"}, \"colorscale\": [[0.0, \"#0d0887\"], [0.1111111111111111, \"#46039f\"], [0.2222222222222222, \"#7201a8\"], [0.3333333333333333, \"#9c179e\"], [0.4444444444444444, \"#bd3786\"], [0.5555555555555556, \"#d8576b\"], [0.6666666666666666, \"#ed7953\"], [0.7777777777777778, \"#fb9f3a\"], [0.8888888888888888, \"#fdca26\"], [1.0, \"#f0f921\"]], \"type\": \"heatmapgl\"}], \"histogram\": [{\"marker\": {\"colorbar\": {\"outlinewidth\": 0, \"ticks\": \"\"}}, \"type\": \"histogram\"}], \"histogram2d\": [{\"colorbar\": {\"outlinewidth\": 0, \"ticks\": \"\"}, \"colorscale\": [[0.0, \"#0d0887\"], [0.1111111111111111, \"#46039f\"], [0.2222222222222222, \"#7201a8\"], [0.3333333333333333, \"#9c179e\"], [0.4444444444444444, \"#bd3786\"], [0.5555555555555556, \"#d8576b\"], [0.6666666666666666, \"#ed7953\"], [0.7777777777777778, \"#fb9f3a\"], [0.8888888888888888, \"#fdca26\"], [1.0, \"#f0f921\"]], \"type\": \"histogram2d\"}], \"histogram2dcontour\": [{\"colorbar\": {\"outlinewidth\": 0, \"ticks\": \"\"}, \"colorscale\": [[0.0, \"#0d0887\"], [0.1111111111111111, \"#46039f\"], [0.2222222222222222, \"#7201a8\"], [0.3333333333333333, \"#9c179e\"], [0.4444444444444444, \"#bd3786\"], [0.5555555555555556, \"#d8576b\"], [0.6666666666666666, \"#ed7953\"], [0.7777777777777778, \"#fb9f3a\"], [0.8888888888888888, \"#fdca26\"], [1.0, \"#f0f921\"]], \"type\": \"histogram2dcontour\"}], \"mesh3d\": [{\"colorbar\": {\"outlinewidth\": 0, \"ticks\": \"\"}, \"type\": \"mesh3d\"}], \"parcoords\": [{\"line\": {\"colorbar\": {\"outlinewidth\": 0, \"ticks\": \"\"}}, \"type\": \"parcoords\"}], \"pie\": [{\"automargin\": true, \"type\": \"pie\"}], \"scatter\": [{\"marker\": {\"colorbar\": {\"outlinewidth\": 0, \"ticks\": \"\"}}, \"type\": \"scatter\"}], \"scatter3d\": [{\"line\": {\"colorbar\": {\"outlinewidth\": 0, \"ticks\": \"\"}}, \"marker\": {\"colorbar\": {\"outlinewidth\": 0, \"ticks\": \"\"}}, \"type\": \"scatter3d\"}], \"scattercarpet\": [{\"marker\": {\"colorbar\": {\"outlinewidth\": 0, \"ticks\": \"\"}}, \"type\": \"scattercarpet\"}], \"scattergeo\": [{\"marker\": {\"colorbar\": {\"outlinewidth\": 0, \"ticks\": \"\"}}, \"type\": \"scattergeo\"}], \"scattergl\": [{\"marker\": {\"colorbar\": {\"outlinewidth\": 0, \"ticks\": \"\"}}, \"type\": \"scattergl\"}], \"scattermapbox\": [{\"marker\": {\"colorbar\": {\"outlinewidth\": 0, \"ticks\": \"\"}}, \"type\": \"scattermapbox\"}], \"scatterpolar\": [{\"marker\": {\"colorbar\": {\"outlinewidth\": 0, \"ticks\": \"\"}}, \"type\": \"scatterpolar\"}], \"scatterpolargl\": [{\"marker\": {\"colorbar\": {\"outlinewidth\": 0, \"ticks\": \"\"}}, \"type\": \"scatterpolargl\"}], \"scatterternary\": [{\"marker\": {\"colorbar\": {\"outlinewidth\": 0, \"ticks\": \"\"}}, \"type\": \"scatterternary\"}], \"surface\": [{\"colorbar\": {\"outlinewidth\": 0, \"ticks\": \"\"}, \"colorscale\": [[0.0, \"#0d0887\"], [0.1111111111111111, \"#46039f\"], [0.2222222222222222, \"#7201a8\"], [0.3333333333333333, \"#9c179e\"], [0.4444444444444444, \"#bd3786\"], [0.5555555555555556, \"#d8576b\"], [0.6666666666666666, \"#ed7953\"], [0.7777777777777778, \"#fb9f3a\"], [0.8888888888888888, \"#fdca26\"], [1.0, \"#f0f921\"]], \"type\": \"surface\"}], \"table\": [{\"cells\": {\"fill\": {\"color\": \"#EBF0F8\"}, \"line\": {\"color\": \"white\"}}, \"header\": {\"fill\": {\"color\": \"#C8D4E3\"}, \"line\": {\"color\": \"white\"}}, \"type\": \"table\"}]}, \"layout\": {\"annotationdefaults\": {\"arrowcolor\": \"#2a3f5f\", \"arrowhead\": 0, \"arrowwidth\": 1}, \"coloraxis\": {\"colorbar\": {\"outlinewidth\": 0, \"ticks\": \"\"}}, \"colorscale\": {\"diverging\": [[0, \"#8e0152\"], [0.1, \"#c51b7d\"], [0.2, \"#de77ae\"], [0.3, \"#f1b6da\"], [0.4, \"#fde0ef\"], [0.5, \"#f7f7f7\"], [0.6, \"#e6f5d0\"], [0.7, \"#b8e186\"], [0.8, \"#7fbc41\"], [0.9, \"#4d9221\"], [1, \"#276419\"]], \"sequential\": [[0.0, \"#0d0887\"], [0.1111111111111111, \"#46039f\"], [0.2222222222222222, \"#7201a8\"], [0.3333333333333333, \"#9c179e\"], [0.4444444444444444, \"#bd3786\"], [0.5555555555555556, \"#d8576b\"], [0.6666666666666666, \"#ed7953\"], [0.7777777777777778, \"#fb9f3a\"], [0.8888888888888888, \"#fdca26\"], [1.0, \"#f0f921\"]], \"sequentialminus\": [[0.0, \"#0d0887\"], [0.1111111111111111, \"#46039f\"], [0.2222222222222222, \"#7201a8\"], [0.3333333333333333, \"#9c179e\"], [0.4444444444444444, \"#bd3786\"], [0.5555555555555556, \"#d8576b\"], [0.6666666666666666, \"#ed7953\"], [0.7777777777777778, \"#fb9f3a\"], [0.8888888888888888, \"#fdca26\"], [1.0, \"#f0f921\"]]}, \"colorway\": [\"#636efa\", \"#EF553B\", \"#00cc96\", \"#ab63fa\", \"#FFA15A\", \"#19d3f3\", \"#FF6692\", \"#B6E880\", \"#FF97FF\", \"#FECB52\"], \"font\": {\"color\": \"#2a3f5f\"}, \"geo\": {\"bgcolor\": \"white\", \"lakecolor\": \"white\", \"landcolor\": \"#E5ECF6\", \"showlakes\": true, \"showland\": true, \"subunitcolor\": \"white\"}, \"hoverlabel\": {\"align\": \"left\"}, \"hovermode\": \"closest\", \"mapbox\": {\"style\": \"light\"}, \"paper_bgcolor\": \"white\", \"plot_bgcolor\": \"#E5ECF6\", \"polar\": {\"angularaxis\": {\"gridcolor\": \"white\", \"linecolor\": \"white\", \"ticks\": \"\"}, \"bgcolor\": \"#E5ECF6\", \"radialaxis\": {\"gridcolor\": \"white\", \"linecolor\": \"white\", \"ticks\": \"\"}}, \"scene\": {\"xaxis\": {\"backgroundcolor\": \"#E5ECF6\", \"gridcolor\": \"white\", \"gridwidth\": 2, \"linecolor\": \"white\", \"showbackground\": true, \"ticks\": \"\", \"zerolinecolor\": \"white\"}, \"yaxis\": {\"backgroundcolor\": \"#E5ECF6\", \"gridcolor\": \"white\", \"gridwidth\": 2, \"linecolor\": \"white\", \"showbackground\": true, \"ticks\": \"\", \"zerolinecolor\": \"white\"}, \"zaxis\": {\"backgroundcolor\": \"#E5ECF6\", \"gridcolor\": \"white\", \"gridwidth\": 2, \"linecolor\": \"white\", \"showbackground\": true, \"ticks\": \"\", \"zerolinecolor\": \"white\"}}, \"shapedefaults\": {\"line\": {\"color\": \"#2a3f5f\"}}, \"ternary\": {\"aaxis\": {\"gridcolor\": \"white\", \"linecolor\": \"white\", \"ticks\": \"\"}, \"baxis\": {\"gridcolor\": \"white\", \"linecolor\": \"white\", \"ticks\": \"\"}, \"bgcolor\": \"#E5ECF6\", \"caxis\": {\"gridcolor\": \"white\", \"linecolor\": \"white\", \"ticks\": \"\"}}, \"title\": {\"x\": 0.05}, \"xaxis\": {\"automargin\": true, \"gridcolor\": \"white\", \"linecolor\": \"white\", \"ticks\": \"\", \"title\": {\"standoff\": 15}, \"zerolinecolor\": \"white\", \"zerolinewidth\": 2}, \"yaxis\": {\"automargin\": true, \"gridcolor\": \"white\", \"linecolor\": \"white\", \"ticks\": \"\", \"title\": {\"standoff\": 15}, \"zerolinecolor\": \"white\", \"zerolinewidth\": 2}}}},\n",
       "                        {\"responsive\": true}\n",
       "                    ).then(function(){\n",
       "                            \n",
       "var gd = document.getElementById('38a4d60a-9978-49f4-9d27-4dc1012d463f');\n",
       "var x = new MutationObserver(function (mutations, observer) {{\n",
       "        var display = window.getComputedStyle(gd).display;\n",
       "        if (!display || display === 'none') {{\n",
       "            console.log([gd, 'removed!']);\n",
       "            Plotly.purge(gd);\n",
       "            observer.disconnect();\n",
       "        }}\n",
       "}});\n",
       "\n",
       "// Listen for the removal of the full notebook cells\n",
       "var notebookContainer = gd.closest('#notebook-container');\n",
       "if (notebookContainer) {{\n",
       "    x.observe(notebookContainer, {childList: true});\n",
       "}}\n",
       "\n",
       "// Listen for the clearing of the current output cell\n",
       "var outputEl = gd.closest('.output');\n",
       "if (outputEl) {{\n",
       "    x.observe(outputEl, {childList: true});\n",
       "}}\n",
       "\n",
       "                        })\n",
       "                };\n",
       "                });\n",
       "            </script>\n",
       "        </div>"
      ]
     },
     "metadata": {},
     "output_type": "display_data"
    }
   ],
   "source": [
    "gender = list(patients.gender.value_counts(dropna=True).index)\n",
    "counts = list(patients.gender.value_counts(dropna=True).values)\n",
    "\n",
    "fig = go.Figure(data=[go.Pie(labels=gender, values=counts,title=\"Gender of Patients\")])\n",
    "fig.show()"
   ]
  },
  {
   "cell_type": "markdown",
   "metadata": {},
   "source": [
    "#### Age Distribution of Patients"
   ]
  },
  {
   "cell_type": "code",
   "execution_count": 15,
   "metadata": {},
   "outputs": [],
   "source": [
    "patients['age'].fillna(1000,inplace=True)\n",
    "patients['age'].replace({\"28-35\":30},inplace=True)\n",
    "patients['age'] = patients['age'].astype(float).astype(int)"
   ]
  },
  {
   "cell_type": "code",
   "execution_count": 16,
   "metadata": {},
   "outputs": [],
   "source": [
    "def age_bracket(x):\n",
    "    if x < 10:\n",
    "        return \"0-9\"\n",
    "    elif x >= 10 and x < 20:\n",
    "        return \"10-19\"\n",
    "    elif x >= 20 and x < 30:\n",
    "        return \"20-29\"\n",
    "    elif x >= 30 and x < 40:\n",
    "        return \"30-39\"\n",
    "    elif x >= 40 and x < 50:\n",
    "        return \"40-49\"\n",
    "    elif x >= 50 and x < 60:\n",
    "        return \"50-59\"\n",
    "    elif x >= 60 and x < 70:\n",
    "        return \"60-69\"\n",
    "    elif x >= 70 and x < 80:\n",
    "        return \"70-79\"\n",
    "    elif x >= 80 and x < 90:\n",
    "        return \"80-89\"\n",
    "    elif x >= 90 and x < 100:\n",
    "        return \"90-99\""
   ]
  },
  {
   "cell_type": "code",
   "execution_count": 17,
   "metadata": {},
   "outputs": [],
   "source": [
    "patients['Age_Bracket'] = patients['age'].apply(age_bracket)"
   ]
  },
  {
   "cell_type": "code",
   "execution_count": 18,
   "metadata": {},
   "outputs": [],
   "source": [
    "age_bracket = patients['Age_Bracket'].value_counts(dropna=True).sort_index().to_frame()"
   ]
  },
  {
   "cell_type": "code",
   "execution_count": 19,
   "metadata": {},
   "outputs": [
    {
     "data": {
      "text/html": [
       "<div>\n",
       "<style scoped>\n",
       "    .dataframe tbody tr th:only-of-type {\n",
       "        vertical-align: middle;\n",
       "    }\n",
       "\n",
       "    .dataframe tbody tr th {\n",
       "        vertical-align: top;\n",
       "    }\n",
       "\n",
       "    .dataframe thead th {\n",
       "        text-align: right;\n",
       "    }\n",
       "</style>\n",
       "<table border=\"1\" class=\"dataframe\">\n",
       "  <thead>\n",
       "    <tr style=\"text-align: right;\">\n",
       "      <th></th>\n",
       "      <th>Age_Bracket</th>\n",
       "    </tr>\n",
       "  </thead>\n",
       "  <tbody>\n",
       "    <tr>\n",
       "      <th>0-9</th>\n",
       "      <td>82</td>\n",
       "    </tr>\n",
       "    <tr>\n",
       "      <th>10-19</th>\n",
       "      <td>199</td>\n",
       "    </tr>\n",
       "    <tr>\n",
       "      <th>20-29</th>\n",
       "      <td>497</td>\n",
       "    </tr>\n",
       "    <tr>\n",
       "      <th>30-39</th>\n",
       "      <td>538</td>\n",
       "    </tr>\n",
       "    <tr>\n",
       "      <th>40-49</th>\n",
       "      <td>386</td>\n",
       "    </tr>\n",
       "    <tr>\n",
       "      <th>50-59</th>\n",
       "      <td>311</td>\n",
       "    </tr>\n",
       "    <tr>\n",
       "      <th>60-69</th>\n",
       "      <td>237</td>\n",
       "    </tr>\n",
       "    <tr>\n",
       "      <th>70-79</th>\n",
       "      <td>73</td>\n",
       "    </tr>\n",
       "    <tr>\n",
       "      <th>80-89</th>\n",
       "      <td>18</td>\n",
       "    </tr>\n",
       "    <tr>\n",
       "      <th>90-99</th>\n",
       "      <td>5</td>\n",
       "    </tr>\n",
       "  </tbody>\n",
       "</table>\n",
       "</div>"
      ],
      "text/plain": [
       "       Age_Bracket\n",
       "0-9             82\n",
       "10-19          199\n",
       "20-29          497\n",
       "30-39          538\n",
       "40-49          386\n",
       "50-59          311\n",
       "60-69          237\n",
       "70-79           73\n",
       "80-89           18\n",
       "90-99            5"
      ]
     },
     "execution_count": 19,
     "metadata": {},
     "output_type": "execute_result"
    }
   ],
   "source": [
    "age_bracket"
   ]
  },
  {
   "cell_type": "code",
   "execution_count": 20,
   "metadata": {},
   "outputs": [
    {
     "data": {
      "application/vnd.plotly.v1+json": {
       "config": {
        "plotlyServerURL": "https://plot.ly"
       },
       "data": [
        {
         "marker": {
          "color": "blue",
          "line": {
           "color": "black"
          }
         },
         "type": "bar",
         "x": [
          "0-9",
          "10-19",
          "20-29",
          "30-39",
          "40-49",
          "50-59",
          "60-69",
          "70-79",
          "80-89",
          "90-99"
         ],
         "y": [
          82,
          199,
          497,
          538,
          386,
          311,
          237,
          73,
          18,
          5
         ]
        }
       ],
       "layout": {
        "template": {
         "data": {
          "bar": [
           {
            "error_x": {
             "color": "#2a3f5f"
            },
            "error_y": {
             "color": "#2a3f5f"
            },
            "marker": {
             "line": {
              "color": "#E5ECF6",
              "width": 0.5
             }
            },
            "type": "bar"
           }
          ],
          "barpolar": [
           {
            "marker": {
             "line": {
              "color": "#E5ECF6",
              "width": 0.5
             }
            },
            "type": "barpolar"
           }
          ],
          "carpet": [
           {
            "aaxis": {
             "endlinecolor": "#2a3f5f",
             "gridcolor": "white",
             "linecolor": "white",
             "minorgridcolor": "white",
             "startlinecolor": "#2a3f5f"
            },
            "baxis": {
             "endlinecolor": "#2a3f5f",
             "gridcolor": "white",
             "linecolor": "white",
             "minorgridcolor": "white",
             "startlinecolor": "#2a3f5f"
            },
            "type": "carpet"
           }
          ],
          "choropleth": [
           {
            "colorbar": {
             "outlinewidth": 0,
             "ticks": ""
            },
            "type": "choropleth"
           }
          ],
          "contour": [
           {
            "colorbar": {
             "outlinewidth": 0,
             "ticks": ""
            },
            "colorscale": [
             [
              0,
              "#0d0887"
             ],
             [
              0.1111111111111111,
              "#46039f"
             ],
             [
              0.2222222222222222,
              "#7201a8"
             ],
             [
              0.3333333333333333,
              "#9c179e"
             ],
             [
              0.4444444444444444,
              "#bd3786"
             ],
             [
              0.5555555555555556,
              "#d8576b"
             ],
             [
              0.6666666666666666,
              "#ed7953"
             ],
             [
              0.7777777777777778,
              "#fb9f3a"
             ],
             [
              0.8888888888888888,
              "#fdca26"
             ],
             [
              1,
              "#f0f921"
             ]
            ],
            "type": "contour"
           }
          ],
          "contourcarpet": [
           {
            "colorbar": {
             "outlinewidth": 0,
             "ticks": ""
            },
            "type": "contourcarpet"
           }
          ],
          "heatmap": [
           {
            "colorbar": {
             "outlinewidth": 0,
             "ticks": ""
            },
            "colorscale": [
             [
              0,
              "#0d0887"
             ],
             [
              0.1111111111111111,
              "#46039f"
             ],
             [
              0.2222222222222222,
              "#7201a8"
             ],
             [
              0.3333333333333333,
              "#9c179e"
             ],
             [
              0.4444444444444444,
              "#bd3786"
             ],
             [
              0.5555555555555556,
              "#d8576b"
             ],
             [
              0.6666666666666666,
              "#ed7953"
             ],
             [
              0.7777777777777778,
              "#fb9f3a"
             ],
             [
              0.8888888888888888,
              "#fdca26"
             ],
             [
              1,
              "#f0f921"
             ]
            ],
            "type": "heatmap"
           }
          ],
          "heatmapgl": [
           {
            "colorbar": {
             "outlinewidth": 0,
             "ticks": ""
            },
            "colorscale": [
             [
              0,
              "#0d0887"
             ],
             [
              0.1111111111111111,
              "#46039f"
             ],
             [
              0.2222222222222222,
              "#7201a8"
             ],
             [
              0.3333333333333333,
              "#9c179e"
             ],
             [
              0.4444444444444444,
              "#bd3786"
             ],
             [
              0.5555555555555556,
              "#d8576b"
             ],
             [
              0.6666666666666666,
              "#ed7953"
             ],
             [
              0.7777777777777778,
              "#fb9f3a"
             ],
             [
              0.8888888888888888,
              "#fdca26"
             ],
             [
              1,
              "#f0f921"
             ]
            ],
            "type": "heatmapgl"
           }
          ],
          "histogram": [
           {
            "marker": {
             "colorbar": {
              "outlinewidth": 0,
              "ticks": ""
             }
            },
            "type": "histogram"
           }
          ],
          "histogram2d": [
           {
            "colorbar": {
             "outlinewidth": 0,
             "ticks": ""
            },
            "colorscale": [
             [
              0,
              "#0d0887"
             ],
             [
              0.1111111111111111,
              "#46039f"
             ],
             [
              0.2222222222222222,
              "#7201a8"
             ],
             [
              0.3333333333333333,
              "#9c179e"
             ],
             [
              0.4444444444444444,
              "#bd3786"
             ],
             [
              0.5555555555555556,
              "#d8576b"
             ],
             [
              0.6666666666666666,
              "#ed7953"
             ],
             [
              0.7777777777777778,
              "#fb9f3a"
             ],
             [
              0.8888888888888888,
              "#fdca26"
             ],
             [
              1,
              "#f0f921"
             ]
            ],
            "type": "histogram2d"
           }
          ],
          "histogram2dcontour": [
           {
            "colorbar": {
             "outlinewidth": 0,
             "ticks": ""
            },
            "colorscale": [
             [
              0,
              "#0d0887"
             ],
             [
              0.1111111111111111,
              "#46039f"
             ],
             [
              0.2222222222222222,
              "#7201a8"
             ],
             [
              0.3333333333333333,
              "#9c179e"
             ],
             [
              0.4444444444444444,
              "#bd3786"
             ],
             [
              0.5555555555555556,
              "#d8576b"
             ],
             [
              0.6666666666666666,
              "#ed7953"
             ],
             [
              0.7777777777777778,
              "#fb9f3a"
             ],
             [
              0.8888888888888888,
              "#fdca26"
             ],
             [
              1,
              "#f0f921"
             ]
            ],
            "type": "histogram2dcontour"
           }
          ],
          "mesh3d": [
           {
            "colorbar": {
             "outlinewidth": 0,
             "ticks": ""
            },
            "type": "mesh3d"
           }
          ],
          "parcoords": [
           {
            "line": {
             "colorbar": {
              "outlinewidth": 0,
              "ticks": ""
             }
            },
            "type": "parcoords"
           }
          ],
          "pie": [
           {
            "automargin": true,
            "type": "pie"
           }
          ],
          "scatter": [
           {
            "marker": {
             "colorbar": {
              "outlinewidth": 0,
              "ticks": ""
             }
            },
            "type": "scatter"
           }
          ],
          "scatter3d": [
           {
            "line": {
             "colorbar": {
              "outlinewidth": 0,
              "ticks": ""
             }
            },
            "marker": {
             "colorbar": {
              "outlinewidth": 0,
              "ticks": ""
             }
            },
            "type": "scatter3d"
           }
          ],
          "scattercarpet": [
           {
            "marker": {
             "colorbar": {
              "outlinewidth": 0,
              "ticks": ""
             }
            },
            "type": "scattercarpet"
           }
          ],
          "scattergeo": [
           {
            "marker": {
             "colorbar": {
              "outlinewidth": 0,
              "ticks": ""
             }
            },
            "type": "scattergeo"
           }
          ],
          "scattergl": [
           {
            "marker": {
             "colorbar": {
              "outlinewidth": 0,
              "ticks": ""
             }
            },
            "type": "scattergl"
           }
          ],
          "scattermapbox": [
           {
            "marker": {
             "colorbar": {
              "outlinewidth": 0,
              "ticks": ""
             }
            },
            "type": "scattermapbox"
           }
          ],
          "scatterpolar": [
           {
            "marker": {
             "colorbar": {
              "outlinewidth": 0,
              "ticks": ""
             }
            },
            "type": "scatterpolar"
           }
          ],
          "scatterpolargl": [
           {
            "marker": {
             "colorbar": {
              "outlinewidth": 0,
              "ticks": ""
             }
            },
            "type": "scatterpolargl"
           }
          ],
          "scatterternary": [
           {
            "marker": {
             "colorbar": {
              "outlinewidth": 0,
              "ticks": ""
             }
            },
            "type": "scatterternary"
           }
          ],
          "surface": [
           {
            "colorbar": {
             "outlinewidth": 0,
             "ticks": ""
            },
            "colorscale": [
             [
              0,
              "#0d0887"
             ],
             [
              0.1111111111111111,
              "#46039f"
             ],
             [
              0.2222222222222222,
              "#7201a8"
             ],
             [
              0.3333333333333333,
              "#9c179e"
             ],
             [
              0.4444444444444444,
              "#bd3786"
             ],
             [
              0.5555555555555556,
              "#d8576b"
             ],
             [
              0.6666666666666666,
              "#ed7953"
             ],
             [
              0.7777777777777778,
              "#fb9f3a"
             ],
             [
              0.8888888888888888,
              "#fdca26"
             ],
             [
              1,
              "#f0f921"
             ]
            ],
            "type": "surface"
           }
          ],
          "table": [
           {
            "cells": {
             "fill": {
              "color": "#EBF0F8"
             },
             "line": {
              "color": "white"
             }
            },
            "header": {
             "fill": {
              "color": "#C8D4E3"
             },
             "line": {
              "color": "white"
             }
            },
            "type": "table"
           }
          ]
         },
         "layout": {
          "annotationdefaults": {
           "arrowcolor": "#2a3f5f",
           "arrowhead": 0,
           "arrowwidth": 1
          },
          "coloraxis": {
           "colorbar": {
            "outlinewidth": 0,
            "ticks": ""
           }
          },
          "colorscale": {
           "diverging": [
            [
             0,
             "#8e0152"
            ],
            [
             0.1,
             "#c51b7d"
            ],
            [
             0.2,
             "#de77ae"
            ],
            [
             0.3,
             "#f1b6da"
            ],
            [
             0.4,
             "#fde0ef"
            ],
            [
             0.5,
             "#f7f7f7"
            ],
            [
             0.6,
             "#e6f5d0"
            ],
            [
             0.7,
             "#b8e186"
            ],
            [
             0.8,
             "#7fbc41"
            ],
            [
             0.9,
             "#4d9221"
            ],
            [
             1,
             "#276419"
            ]
           ],
           "sequential": [
            [
             0,
             "#0d0887"
            ],
            [
             0.1111111111111111,
             "#46039f"
            ],
            [
             0.2222222222222222,
             "#7201a8"
            ],
            [
             0.3333333333333333,
             "#9c179e"
            ],
            [
             0.4444444444444444,
             "#bd3786"
            ],
            [
             0.5555555555555556,
             "#d8576b"
            ],
            [
             0.6666666666666666,
             "#ed7953"
            ],
            [
             0.7777777777777778,
             "#fb9f3a"
            ],
            [
             0.8888888888888888,
             "#fdca26"
            ],
            [
             1,
             "#f0f921"
            ]
           ],
           "sequentialminus": [
            [
             0,
             "#0d0887"
            ],
            [
             0.1111111111111111,
             "#46039f"
            ],
            [
             0.2222222222222222,
             "#7201a8"
            ],
            [
             0.3333333333333333,
             "#9c179e"
            ],
            [
             0.4444444444444444,
             "#bd3786"
            ],
            [
             0.5555555555555556,
             "#d8576b"
            ],
            [
             0.6666666666666666,
             "#ed7953"
            ],
            [
             0.7777777777777778,
             "#fb9f3a"
            ],
            [
             0.8888888888888888,
             "#fdca26"
            ],
            [
             1,
             "#f0f921"
            ]
           ]
          },
          "colorway": [
           "#636efa",
           "#EF553B",
           "#00cc96",
           "#ab63fa",
           "#FFA15A",
           "#19d3f3",
           "#FF6692",
           "#B6E880",
           "#FF97FF",
           "#FECB52"
          ],
          "font": {
           "color": "#2a3f5f"
          },
          "geo": {
           "bgcolor": "white",
           "lakecolor": "white",
           "landcolor": "#E5ECF6",
           "showlakes": true,
           "showland": true,
           "subunitcolor": "white"
          },
          "hoverlabel": {
           "align": "left"
          },
          "hovermode": "closest",
          "mapbox": {
           "style": "light"
          },
          "paper_bgcolor": "white",
          "plot_bgcolor": "#E5ECF6",
          "polar": {
           "angularaxis": {
            "gridcolor": "white",
            "linecolor": "white",
            "ticks": ""
           },
           "bgcolor": "#E5ECF6",
           "radialaxis": {
            "gridcolor": "white",
            "linecolor": "white",
            "ticks": ""
           }
          },
          "scene": {
           "xaxis": {
            "backgroundcolor": "#E5ECF6",
            "gridcolor": "white",
            "gridwidth": 2,
            "linecolor": "white",
            "showbackground": true,
            "ticks": "",
            "zerolinecolor": "white"
           },
           "yaxis": {
            "backgroundcolor": "#E5ECF6",
            "gridcolor": "white",
            "gridwidth": 2,
            "linecolor": "white",
            "showbackground": true,
            "ticks": "",
            "zerolinecolor": "white"
           },
           "zaxis": {
            "backgroundcolor": "#E5ECF6",
            "gridcolor": "white",
            "gridwidth": 2,
            "linecolor": "white",
            "showbackground": true,
            "ticks": "",
            "zerolinecolor": "white"
           }
          },
          "shapedefaults": {
           "line": {
            "color": "#2a3f5f"
           }
          },
          "ternary": {
           "aaxis": {
            "gridcolor": "white",
            "linecolor": "white",
            "ticks": ""
           },
           "baxis": {
            "gridcolor": "white",
            "linecolor": "white",
            "ticks": ""
           },
           "bgcolor": "#E5ECF6",
           "caxis": {
            "gridcolor": "white",
            "linecolor": "white",
            "ticks": ""
           }
          },
          "title": {
           "x": 0.05
          },
          "xaxis": {
           "automargin": true,
           "gridcolor": "white",
           "linecolor": "white",
           "ticks": "",
           "title": {
            "standoff": 15
           },
           "zerolinecolor": "white",
           "zerolinewidth": 2
          },
          "yaxis": {
           "automargin": true,
           "gridcolor": "white",
           "linecolor": "white",
           "ticks": "",
           "title": {
            "standoff": 15
           },
           "zerolinecolor": "white",
           "zerolinewidth": 2
          }
         }
        },
        "title": {
         "text": "Age Distribution of Affected People"
        },
        "xaxis": {
         "title": {
          "text": "Age Bracket"
         }
        },
        "yaxis": {
         "title": {
          "text": "Count"
         }
        }
       }
      },
      "text/html": [
       "<div>\n",
       "        \n",
       "        \n",
       "            <div id=\"4b68f57c-8e4b-487f-b20f-d1cad56143bd\" class=\"plotly-graph-div\" style=\"height:525px; width:100%;\"></div>\n",
       "            <script type=\"text/javascript\">\n",
       "                require([\"plotly\"], function(Plotly) {\n",
       "                    window.PLOTLYENV=window.PLOTLYENV || {};\n",
       "                    \n",
       "                if (document.getElementById(\"4b68f57c-8e4b-487f-b20f-d1cad56143bd\")) {\n",
       "                    Plotly.newPlot(\n",
       "                        '4b68f57c-8e4b-487f-b20f-d1cad56143bd',\n",
       "                        [{\"marker\": {\"color\": \"blue\", \"line\": {\"color\": \"black\"}}, \"type\": \"bar\", \"x\": [\"0-9\", \"10-19\", \"20-29\", \"30-39\", \"40-49\", \"50-59\", \"60-69\", \"70-79\", \"80-89\", \"90-99\"], \"y\": [82, 199, 497, 538, 386, 311, 237, 73, 18, 5]}],\n",
       "                        {\"template\": {\"data\": {\"bar\": [{\"error_x\": {\"color\": \"#2a3f5f\"}, \"error_y\": {\"color\": \"#2a3f5f\"}, \"marker\": {\"line\": {\"color\": \"#E5ECF6\", \"width\": 0.5}}, \"type\": \"bar\"}], \"barpolar\": [{\"marker\": {\"line\": {\"color\": \"#E5ECF6\", \"width\": 0.5}}, \"type\": \"barpolar\"}], \"carpet\": [{\"aaxis\": {\"endlinecolor\": \"#2a3f5f\", \"gridcolor\": \"white\", \"linecolor\": \"white\", \"minorgridcolor\": \"white\", \"startlinecolor\": \"#2a3f5f\"}, \"baxis\": {\"endlinecolor\": \"#2a3f5f\", \"gridcolor\": \"white\", \"linecolor\": \"white\", \"minorgridcolor\": \"white\", \"startlinecolor\": \"#2a3f5f\"}, \"type\": \"carpet\"}], \"choropleth\": [{\"colorbar\": {\"outlinewidth\": 0, \"ticks\": \"\"}, \"type\": \"choropleth\"}], \"contour\": [{\"colorbar\": {\"outlinewidth\": 0, \"ticks\": \"\"}, \"colorscale\": [[0.0, \"#0d0887\"], [0.1111111111111111, \"#46039f\"], [0.2222222222222222, \"#7201a8\"], [0.3333333333333333, \"#9c179e\"], [0.4444444444444444, \"#bd3786\"], [0.5555555555555556, \"#d8576b\"], [0.6666666666666666, \"#ed7953\"], [0.7777777777777778, \"#fb9f3a\"], [0.8888888888888888, \"#fdca26\"], [1.0, \"#f0f921\"]], \"type\": \"contour\"}], \"contourcarpet\": [{\"colorbar\": {\"outlinewidth\": 0, \"ticks\": \"\"}, \"type\": \"contourcarpet\"}], \"heatmap\": [{\"colorbar\": {\"outlinewidth\": 0, \"ticks\": \"\"}, \"colorscale\": [[0.0, \"#0d0887\"], [0.1111111111111111, \"#46039f\"], [0.2222222222222222, \"#7201a8\"], [0.3333333333333333, \"#9c179e\"], [0.4444444444444444, \"#bd3786\"], [0.5555555555555556, \"#d8576b\"], [0.6666666666666666, \"#ed7953\"], [0.7777777777777778, \"#fb9f3a\"], [0.8888888888888888, \"#fdca26\"], [1.0, \"#f0f921\"]], \"type\": \"heatmap\"}], \"heatmapgl\": [{\"colorbar\": {\"outlinewidth\": 0, \"ticks\": \"\"}, \"colorscale\": [[0.0, \"#0d0887\"], [0.1111111111111111, \"#46039f\"], [0.2222222222222222, \"#7201a8\"], [0.3333333333333333, \"#9c179e\"], [0.4444444444444444, \"#bd3786\"], [0.5555555555555556, \"#d8576b\"], [0.6666666666666666, \"#ed7953\"], [0.7777777777777778, \"#fb9f3a\"], [0.8888888888888888, \"#fdca26\"], [1.0, \"#f0f921\"]], \"type\": \"heatmapgl\"}], \"histogram\": [{\"marker\": {\"colorbar\": {\"outlinewidth\": 0, \"ticks\": \"\"}}, \"type\": \"histogram\"}], \"histogram2d\": [{\"colorbar\": {\"outlinewidth\": 0, \"ticks\": \"\"}, \"colorscale\": [[0.0, \"#0d0887\"], [0.1111111111111111, \"#46039f\"], [0.2222222222222222, \"#7201a8\"], [0.3333333333333333, \"#9c179e\"], [0.4444444444444444, \"#bd3786\"], [0.5555555555555556, \"#d8576b\"], [0.6666666666666666, \"#ed7953\"], [0.7777777777777778, \"#fb9f3a\"], [0.8888888888888888, \"#fdca26\"], [1.0, \"#f0f921\"]], \"type\": \"histogram2d\"}], \"histogram2dcontour\": [{\"colorbar\": {\"outlinewidth\": 0, \"ticks\": \"\"}, \"colorscale\": [[0.0, \"#0d0887\"], [0.1111111111111111, \"#46039f\"], [0.2222222222222222, \"#7201a8\"], [0.3333333333333333, \"#9c179e\"], [0.4444444444444444, \"#bd3786\"], [0.5555555555555556, \"#d8576b\"], [0.6666666666666666, \"#ed7953\"], [0.7777777777777778, \"#fb9f3a\"], [0.8888888888888888, \"#fdca26\"], [1.0, \"#f0f921\"]], \"type\": \"histogram2dcontour\"}], \"mesh3d\": [{\"colorbar\": {\"outlinewidth\": 0, \"ticks\": \"\"}, \"type\": \"mesh3d\"}], \"parcoords\": [{\"line\": {\"colorbar\": {\"outlinewidth\": 0, \"ticks\": \"\"}}, \"type\": \"parcoords\"}], \"pie\": [{\"automargin\": true, \"type\": \"pie\"}], \"scatter\": [{\"marker\": {\"colorbar\": {\"outlinewidth\": 0, \"ticks\": \"\"}}, \"type\": \"scatter\"}], \"scatter3d\": [{\"line\": {\"colorbar\": {\"outlinewidth\": 0, \"ticks\": \"\"}}, \"marker\": {\"colorbar\": {\"outlinewidth\": 0, \"ticks\": \"\"}}, \"type\": \"scatter3d\"}], \"scattercarpet\": [{\"marker\": {\"colorbar\": {\"outlinewidth\": 0, \"ticks\": \"\"}}, \"type\": \"scattercarpet\"}], \"scattergeo\": [{\"marker\": {\"colorbar\": {\"outlinewidth\": 0, \"ticks\": \"\"}}, \"type\": \"scattergeo\"}], \"scattergl\": [{\"marker\": {\"colorbar\": {\"outlinewidth\": 0, \"ticks\": \"\"}}, \"type\": \"scattergl\"}], \"scattermapbox\": [{\"marker\": {\"colorbar\": {\"outlinewidth\": 0, \"ticks\": \"\"}}, \"type\": \"scattermapbox\"}], \"scatterpolar\": [{\"marker\": {\"colorbar\": {\"outlinewidth\": 0, \"ticks\": \"\"}}, \"type\": \"scatterpolar\"}], \"scatterpolargl\": [{\"marker\": {\"colorbar\": {\"outlinewidth\": 0, \"ticks\": \"\"}}, \"type\": \"scatterpolargl\"}], \"scatterternary\": [{\"marker\": {\"colorbar\": {\"outlinewidth\": 0, \"ticks\": \"\"}}, \"type\": \"scatterternary\"}], \"surface\": [{\"colorbar\": {\"outlinewidth\": 0, \"ticks\": \"\"}, \"colorscale\": [[0.0, \"#0d0887\"], [0.1111111111111111, \"#46039f\"], [0.2222222222222222, \"#7201a8\"], [0.3333333333333333, \"#9c179e\"], [0.4444444444444444, \"#bd3786\"], [0.5555555555555556, \"#d8576b\"], [0.6666666666666666, \"#ed7953\"], [0.7777777777777778, \"#fb9f3a\"], [0.8888888888888888, \"#fdca26\"], [1.0, \"#f0f921\"]], \"type\": \"surface\"}], \"table\": [{\"cells\": {\"fill\": {\"color\": \"#EBF0F8\"}, \"line\": {\"color\": \"white\"}}, \"header\": {\"fill\": {\"color\": \"#C8D4E3\"}, \"line\": {\"color\": \"white\"}}, \"type\": \"table\"}]}, \"layout\": {\"annotationdefaults\": {\"arrowcolor\": \"#2a3f5f\", \"arrowhead\": 0, \"arrowwidth\": 1}, \"coloraxis\": {\"colorbar\": {\"outlinewidth\": 0, \"ticks\": \"\"}}, \"colorscale\": {\"diverging\": [[0, \"#8e0152\"], [0.1, \"#c51b7d\"], [0.2, \"#de77ae\"], [0.3, \"#f1b6da\"], [0.4, \"#fde0ef\"], [0.5, \"#f7f7f7\"], [0.6, \"#e6f5d0\"], [0.7, \"#b8e186\"], [0.8, \"#7fbc41\"], [0.9, \"#4d9221\"], [1, \"#276419\"]], \"sequential\": [[0.0, \"#0d0887\"], [0.1111111111111111, \"#46039f\"], [0.2222222222222222, \"#7201a8\"], [0.3333333333333333, \"#9c179e\"], [0.4444444444444444, \"#bd3786\"], [0.5555555555555556, \"#d8576b\"], [0.6666666666666666, \"#ed7953\"], [0.7777777777777778, \"#fb9f3a\"], [0.8888888888888888, \"#fdca26\"], [1.0, \"#f0f921\"]], \"sequentialminus\": [[0.0, \"#0d0887\"], [0.1111111111111111, \"#46039f\"], [0.2222222222222222, \"#7201a8\"], [0.3333333333333333, \"#9c179e\"], [0.4444444444444444, \"#bd3786\"], [0.5555555555555556, \"#d8576b\"], [0.6666666666666666, \"#ed7953\"], [0.7777777777777778, \"#fb9f3a\"], [0.8888888888888888, \"#fdca26\"], [1.0, \"#f0f921\"]]}, \"colorway\": [\"#636efa\", \"#EF553B\", \"#00cc96\", \"#ab63fa\", \"#FFA15A\", \"#19d3f3\", \"#FF6692\", \"#B6E880\", \"#FF97FF\", \"#FECB52\"], \"font\": {\"color\": \"#2a3f5f\"}, \"geo\": {\"bgcolor\": \"white\", \"lakecolor\": \"white\", \"landcolor\": \"#E5ECF6\", \"showlakes\": true, \"showland\": true, \"subunitcolor\": \"white\"}, \"hoverlabel\": {\"align\": \"left\"}, \"hovermode\": \"closest\", \"mapbox\": {\"style\": \"light\"}, \"paper_bgcolor\": \"white\", \"plot_bgcolor\": \"#E5ECF6\", \"polar\": {\"angularaxis\": {\"gridcolor\": \"white\", \"linecolor\": \"white\", \"ticks\": \"\"}, \"bgcolor\": \"#E5ECF6\", \"radialaxis\": {\"gridcolor\": \"white\", \"linecolor\": \"white\", \"ticks\": \"\"}}, \"scene\": {\"xaxis\": {\"backgroundcolor\": \"#E5ECF6\", \"gridcolor\": \"white\", \"gridwidth\": 2, \"linecolor\": \"white\", \"showbackground\": true, \"ticks\": \"\", \"zerolinecolor\": \"white\"}, \"yaxis\": {\"backgroundcolor\": \"#E5ECF6\", \"gridcolor\": \"white\", \"gridwidth\": 2, \"linecolor\": \"white\", \"showbackground\": true, \"ticks\": \"\", \"zerolinecolor\": \"white\"}, \"zaxis\": {\"backgroundcolor\": \"#E5ECF6\", \"gridcolor\": \"white\", \"gridwidth\": 2, \"linecolor\": \"white\", \"showbackground\": true, \"ticks\": \"\", \"zerolinecolor\": \"white\"}}, \"shapedefaults\": {\"line\": {\"color\": \"#2a3f5f\"}}, \"ternary\": {\"aaxis\": {\"gridcolor\": \"white\", \"linecolor\": \"white\", \"ticks\": \"\"}, \"baxis\": {\"gridcolor\": \"white\", \"linecolor\": \"white\", \"ticks\": \"\"}, \"bgcolor\": \"#E5ECF6\", \"caxis\": {\"gridcolor\": \"white\", \"linecolor\": \"white\", \"ticks\": \"\"}}, \"title\": {\"x\": 0.05}, \"xaxis\": {\"automargin\": true, \"gridcolor\": \"white\", \"linecolor\": \"white\", \"ticks\": \"\", \"title\": {\"standoff\": 15}, \"zerolinecolor\": \"white\", \"zerolinewidth\": 2}, \"yaxis\": {\"automargin\": true, \"gridcolor\": \"white\", \"linecolor\": \"white\", \"ticks\": \"\", \"title\": {\"standoff\": 15}, \"zerolinecolor\": \"white\", \"zerolinewidth\": 2}}}, \"title\": {\"text\": \"Age Distribution of Affected People\"}, \"xaxis\": {\"title\": {\"text\": \"Age Bracket\"}}, \"yaxis\": {\"title\": {\"text\": \"Count\"}}},\n",
       "                        {\"responsive\": true}\n",
       "                    ).then(function(){\n",
       "                            \n",
       "var gd = document.getElementById('4b68f57c-8e4b-487f-b20f-d1cad56143bd');\n",
       "var x = new MutationObserver(function (mutations, observer) {{\n",
       "        var display = window.getComputedStyle(gd).display;\n",
       "        if (!display || display === 'none') {{\n",
       "            console.log([gd, 'removed!']);\n",
       "            Plotly.purge(gd);\n",
       "            observer.disconnect();\n",
       "        }}\n",
       "}});\n",
       "\n",
       "// Listen for the removal of the full notebook cells\n",
       "var notebookContainer = gd.closest('#notebook-container');\n",
       "if (notebookContainer) {{\n",
       "    x.observe(notebookContainer, {childList: true});\n",
       "}}\n",
       "\n",
       "// Listen for the clearing of the current output cell\n",
       "var outputEl = gd.closest('.output');\n",
       "if (outputEl) {{\n",
       "    x.observe(outputEl, {childList: true});\n",
       "}}\n",
       "\n",
       "                        })\n",
       "                };\n",
       "                });\n",
       "            </script>\n",
       "        </div>"
      ]
     },
     "metadata": {},
     "output_type": "display_data"
    }
   ],
   "source": [
    "fig = go.Figure(data=[\n",
    "    go.Bar(x=age_bracket.index, y=age_bracket['Age_Bracket'],marker_color='blue',marker_line_color='black')])\n",
    "fig.update_layout(title='Age Distribution of Affected People',xaxis=dict(title=\"Age Bracket\"),yaxis=dict(title=\"Count\"))"
   ]
  },
  {
   "cell_type": "code",
   "execution_count": 21,
   "metadata": {},
   "outputs": [
    {
     "data": {
      "application/vnd.plotly.v1+json": {
       "config": {
        "linkText": "Export to plot.ly",
        "plotlyServerURL": "https://plot.ly",
        "showLink": true
       },
       "data": [
        {
         "marker": {
          "color": "rgba(255, 153, 51, 0.6)",
          "line": {
           "color": "rgba(255, 153, 51, 1.0)",
           "width": 1
          }
         },
         "name": "0-9",
         "orientation": "v",
         "text": "",
         "type": "bar",
         "x": [
          "Female",
          "Male"
         ],
         "y": [
          43,
          37
         ]
        },
        {
         "marker": {
          "color": "rgba(55, 128, 191, 0.6)",
          "line": {
           "color": "rgba(55, 128, 191, 1.0)",
           "width": 1
          }
         },
         "name": "10-19",
         "orientation": "v",
         "text": "",
         "type": "bar",
         "x": [
          "Female",
          "Male"
         ],
         "y": [
          80,
          118
         ]
        },
        {
         "marker": {
          "color": "rgba(50, 171, 96, 0.6)",
          "line": {
           "color": "rgba(50, 171, 96, 1.0)",
           "width": 1
          }
         },
         "name": "20-29",
         "orientation": "v",
         "text": "",
         "type": "bar",
         "x": [
          "Female",
          "Male"
         ],
         "y": [
          164,
          323
         ]
        },
        {
         "marker": {
          "color": "rgba(128, 0, 128, 0.6)",
          "line": {
           "color": "rgba(128, 0, 128, 1.0)",
           "width": 1
          }
         },
         "name": "30-39",
         "orientation": "v",
         "text": "",
         "type": "bar",
         "x": [
          "Female",
          "Male"
         ],
         "y": [
          112,
          410
         ]
        },
        {
         "marker": {
          "color": "rgba(219, 64, 82, 0.6)",
          "line": {
           "color": "rgba(219, 64, 82, 1.0)",
           "width": 1
          }
         },
         "name": "40-49",
         "orientation": "v",
         "text": "",
         "type": "bar",
         "x": [
          "Female",
          "Male"
         ],
         "y": [
          102,
          269
         ]
        },
        {
         "marker": {
          "color": "rgba(0, 128, 128, 0.6)",
          "line": {
           "color": "rgba(0, 128, 128, 1.0)",
           "width": 1
          }
         },
         "name": "50-59",
         "orientation": "v",
         "text": "",
         "type": "bar",
         "x": [
          "Female",
          "Male"
         ],
         "y": [
          80,
          205
         ]
        },
        {
         "marker": {
          "color": "rgba(255, 255, 51, 0.6)",
          "line": {
           "color": "rgba(255, 255, 51, 1.0)",
           "width": 1
          }
         },
         "name": "60-69",
         "orientation": "v",
         "text": "",
         "type": "bar",
         "x": [
          "Female",
          "Male"
         ],
         "y": [
          78,
          153
         ]
        },
        {
         "marker": {
          "color": "rgba(128, 128, 0, 0.6)",
          "line": {
           "color": "rgba(128, 128, 0, 1.0)",
           "width": 1
          }
         },
         "name": "70-79",
         "orientation": "v",
         "text": "",
         "type": "bar",
         "x": [
          "Female",
          "Male"
         ],
         "y": [
          33,
          40
         ]
        },
        {
         "marker": {
          "color": "rgba(251, 128, 114, 0.6)",
          "line": {
           "color": "rgba(251, 128, 114, 1.0)",
           "width": 1
          }
         },
         "name": "80-89",
         "orientation": "v",
         "text": "",
         "type": "bar",
         "x": [
          "Female",
          "Male"
         ],
         "y": [
          11,
          7
         ]
        },
        {
         "marker": {
          "color": "rgba(128, 177, 211, 0.6)",
          "line": {
           "color": "rgba(128, 177, 211, 1.0)",
           "width": 1
          }
         },
         "name": "90-99",
         "orientation": "v",
         "text": "",
         "type": "bar",
         "x": [
          "Female",
          "Male"
         ],
         "y": [
          "",
          5
         ]
        }
       ],
       "layout": {
        "legend": {
         "bgcolor": "#F5F6F9",
         "font": {
          "color": "#4D5663"
         }
        },
        "paper_bgcolor": "#F5F6F9",
        "plot_bgcolor": "#F5F6F9",
        "template": {
         "data": {
          "bar": [
           {
            "error_x": {
             "color": "#2a3f5f"
            },
            "error_y": {
             "color": "#2a3f5f"
            },
            "marker": {
             "line": {
              "color": "#E5ECF6",
              "width": 0.5
             }
            },
            "type": "bar"
           }
          ],
          "barpolar": [
           {
            "marker": {
             "line": {
              "color": "#E5ECF6",
              "width": 0.5
             }
            },
            "type": "barpolar"
           }
          ],
          "carpet": [
           {
            "aaxis": {
             "endlinecolor": "#2a3f5f",
             "gridcolor": "white",
             "linecolor": "white",
             "minorgridcolor": "white",
             "startlinecolor": "#2a3f5f"
            },
            "baxis": {
             "endlinecolor": "#2a3f5f",
             "gridcolor": "white",
             "linecolor": "white",
             "minorgridcolor": "white",
             "startlinecolor": "#2a3f5f"
            },
            "type": "carpet"
           }
          ],
          "choropleth": [
           {
            "colorbar": {
             "outlinewidth": 0,
             "ticks": ""
            },
            "type": "choropleth"
           }
          ],
          "contour": [
           {
            "colorbar": {
             "outlinewidth": 0,
             "ticks": ""
            },
            "colorscale": [
             [
              0,
              "#0d0887"
             ],
             [
              0.1111111111111111,
              "#46039f"
             ],
             [
              0.2222222222222222,
              "#7201a8"
             ],
             [
              0.3333333333333333,
              "#9c179e"
             ],
             [
              0.4444444444444444,
              "#bd3786"
             ],
             [
              0.5555555555555556,
              "#d8576b"
             ],
             [
              0.6666666666666666,
              "#ed7953"
             ],
             [
              0.7777777777777778,
              "#fb9f3a"
             ],
             [
              0.8888888888888888,
              "#fdca26"
             ],
             [
              1,
              "#f0f921"
             ]
            ],
            "type": "contour"
           }
          ],
          "contourcarpet": [
           {
            "colorbar": {
             "outlinewidth": 0,
             "ticks": ""
            },
            "type": "contourcarpet"
           }
          ],
          "heatmap": [
           {
            "colorbar": {
             "outlinewidth": 0,
             "ticks": ""
            },
            "colorscale": [
             [
              0,
              "#0d0887"
             ],
             [
              0.1111111111111111,
              "#46039f"
             ],
             [
              0.2222222222222222,
              "#7201a8"
             ],
             [
              0.3333333333333333,
              "#9c179e"
             ],
             [
              0.4444444444444444,
              "#bd3786"
             ],
             [
              0.5555555555555556,
              "#d8576b"
             ],
             [
              0.6666666666666666,
              "#ed7953"
             ],
             [
              0.7777777777777778,
              "#fb9f3a"
             ],
             [
              0.8888888888888888,
              "#fdca26"
             ],
             [
              1,
              "#f0f921"
             ]
            ],
            "type": "heatmap"
           }
          ],
          "heatmapgl": [
           {
            "colorbar": {
             "outlinewidth": 0,
             "ticks": ""
            },
            "colorscale": [
             [
              0,
              "#0d0887"
             ],
             [
              0.1111111111111111,
              "#46039f"
             ],
             [
              0.2222222222222222,
              "#7201a8"
             ],
             [
              0.3333333333333333,
              "#9c179e"
             ],
             [
              0.4444444444444444,
              "#bd3786"
             ],
             [
              0.5555555555555556,
              "#d8576b"
             ],
             [
              0.6666666666666666,
              "#ed7953"
             ],
             [
              0.7777777777777778,
              "#fb9f3a"
             ],
             [
              0.8888888888888888,
              "#fdca26"
             ],
             [
              1,
              "#f0f921"
             ]
            ],
            "type": "heatmapgl"
           }
          ],
          "histogram": [
           {
            "marker": {
             "colorbar": {
              "outlinewidth": 0,
              "ticks": ""
             }
            },
            "type": "histogram"
           }
          ],
          "histogram2d": [
           {
            "colorbar": {
             "outlinewidth": 0,
             "ticks": ""
            },
            "colorscale": [
             [
              0,
              "#0d0887"
             ],
             [
              0.1111111111111111,
              "#46039f"
             ],
             [
              0.2222222222222222,
              "#7201a8"
             ],
             [
              0.3333333333333333,
              "#9c179e"
             ],
             [
              0.4444444444444444,
              "#bd3786"
             ],
             [
              0.5555555555555556,
              "#d8576b"
             ],
             [
              0.6666666666666666,
              "#ed7953"
             ],
             [
              0.7777777777777778,
              "#fb9f3a"
             ],
             [
              0.8888888888888888,
              "#fdca26"
             ],
             [
              1,
              "#f0f921"
             ]
            ],
            "type": "histogram2d"
           }
          ],
          "histogram2dcontour": [
           {
            "colorbar": {
             "outlinewidth": 0,
             "ticks": ""
            },
            "colorscale": [
             [
              0,
              "#0d0887"
             ],
             [
              0.1111111111111111,
              "#46039f"
             ],
             [
              0.2222222222222222,
              "#7201a8"
             ],
             [
              0.3333333333333333,
              "#9c179e"
             ],
             [
              0.4444444444444444,
              "#bd3786"
             ],
             [
              0.5555555555555556,
              "#d8576b"
             ],
             [
              0.6666666666666666,
              "#ed7953"
             ],
             [
              0.7777777777777778,
              "#fb9f3a"
             ],
             [
              0.8888888888888888,
              "#fdca26"
             ],
             [
              1,
              "#f0f921"
             ]
            ],
            "type": "histogram2dcontour"
           }
          ],
          "mesh3d": [
           {
            "colorbar": {
             "outlinewidth": 0,
             "ticks": ""
            },
            "type": "mesh3d"
           }
          ],
          "parcoords": [
           {
            "line": {
             "colorbar": {
              "outlinewidth": 0,
              "ticks": ""
             }
            },
            "type": "parcoords"
           }
          ],
          "pie": [
           {
            "automargin": true,
            "type": "pie"
           }
          ],
          "scatter": [
           {
            "marker": {
             "colorbar": {
              "outlinewidth": 0,
              "ticks": ""
             }
            },
            "type": "scatter"
           }
          ],
          "scatter3d": [
           {
            "line": {
             "colorbar": {
              "outlinewidth": 0,
              "ticks": ""
             }
            },
            "marker": {
             "colorbar": {
              "outlinewidth": 0,
              "ticks": ""
             }
            },
            "type": "scatter3d"
           }
          ],
          "scattercarpet": [
           {
            "marker": {
             "colorbar": {
              "outlinewidth": 0,
              "ticks": ""
             }
            },
            "type": "scattercarpet"
           }
          ],
          "scattergeo": [
           {
            "marker": {
             "colorbar": {
              "outlinewidth": 0,
              "ticks": ""
             }
            },
            "type": "scattergeo"
           }
          ],
          "scattergl": [
           {
            "marker": {
             "colorbar": {
              "outlinewidth": 0,
              "ticks": ""
             }
            },
            "type": "scattergl"
           }
          ],
          "scattermapbox": [
           {
            "marker": {
             "colorbar": {
              "outlinewidth": 0,
              "ticks": ""
             }
            },
            "type": "scattermapbox"
           }
          ],
          "scatterpolar": [
           {
            "marker": {
             "colorbar": {
              "outlinewidth": 0,
              "ticks": ""
             }
            },
            "type": "scatterpolar"
           }
          ],
          "scatterpolargl": [
           {
            "marker": {
             "colorbar": {
              "outlinewidth": 0,
              "ticks": ""
             }
            },
            "type": "scatterpolargl"
           }
          ],
          "scatterternary": [
           {
            "marker": {
             "colorbar": {
              "outlinewidth": 0,
              "ticks": ""
             }
            },
            "type": "scatterternary"
           }
          ],
          "surface": [
           {
            "colorbar": {
             "outlinewidth": 0,
             "ticks": ""
            },
            "colorscale": [
             [
              0,
              "#0d0887"
             ],
             [
              0.1111111111111111,
              "#46039f"
             ],
             [
              0.2222222222222222,
              "#7201a8"
             ],
             [
              0.3333333333333333,
              "#9c179e"
             ],
             [
              0.4444444444444444,
              "#bd3786"
             ],
             [
              0.5555555555555556,
              "#d8576b"
             ],
             [
              0.6666666666666666,
              "#ed7953"
             ],
             [
              0.7777777777777778,
              "#fb9f3a"
             ],
             [
              0.8888888888888888,
              "#fdca26"
             ],
             [
              1,
              "#f0f921"
             ]
            ],
            "type": "surface"
           }
          ],
          "table": [
           {
            "cells": {
             "fill": {
              "color": "#EBF0F8"
             },
             "line": {
              "color": "white"
             }
            },
            "header": {
             "fill": {
              "color": "#C8D4E3"
             },
             "line": {
              "color": "white"
             }
            },
            "type": "table"
           }
          ]
         },
         "layout": {
          "annotationdefaults": {
           "arrowcolor": "#2a3f5f",
           "arrowhead": 0,
           "arrowwidth": 1
          },
          "coloraxis": {
           "colorbar": {
            "outlinewidth": 0,
            "ticks": ""
           }
          },
          "colorscale": {
           "diverging": [
            [
             0,
             "#8e0152"
            ],
            [
             0.1,
             "#c51b7d"
            ],
            [
             0.2,
             "#de77ae"
            ],
            [
             0.3,
             "#f1b6da"
            ],
            [
             0.4,
             "#fde0ef"
            ],
            [
             0.5,
             "#f7f7f7"
            ],
            [
             0.6,
             "#e6f5d0"
            ],
            [
             0.7,
             "#b8e186"
            ],
            [
             0.8,
             "#7fbc41"
            ],
            [
             0.9,
             "#4d9221"
            ],
            [
             1,
             "#276419"
            ]
           ],
           "sequential": [
            [
             0,
             "#0d0887"
            ],
            [
             0.1111111111111111,
             "#46039f"
            ],
            [
             0.2222222222222222,
             "#7201a8"
            ],
            [
             0.3333333333333333,
             "#9c179e"
            ],
            [
             0.4444444444444444,
             "#bd3786"
            ],
            [
             0.5555555555555556,
             "#d8576b"
            ],
            [
             0.6666666666666666,
             "#ed7953"
            ],
            [
             0.7777777777777778,
             "#fb9f3a"
            ],
            [
             0.8888888888888888,
             "#fdca26"
            ],
            [
             1,
             "#f0f921"
            ]
           ],
           "sequentialminus": [
            [
             0,
             "#0d0887"
            ],
            [
             0.1111111111111111,
             "#46039f"
            ],
            [
             0.2222222222222222,
             "#7201a8"
            ],
            [
             0.3333333333333333,
             "#9c179e"
            ],
            [
             0.4444444444444444,
             "#bd3786"
            ],
            [
             0.5555555555555556,
             "#d8576b"
            ],
            [
             0.6666666666666666,
             "#ed7953"
            ],
            [
             0.7777777777777778,
             "#fb9f3a"
            ],
            [
             0.8888888888888888,
             "#fdca26"
            ],
            [
             1,
             "#f0f921"
            ]
           ]
          },
          "colorway": [
           "#636efa",
           "#EF553B",
           "#00cc96",
           "#ab63fa",
           "#FFA15A",
           "#19d3f3",
           "#FF6692",
           "#B6E880",
           "#FF97FF",
           "#FECB52"
          ],
          "font": {
           "color": "#2a3f5f"
          },
          "geo": {
           "bgcolor": "white",
           "lakecolor": "white",
           "landcolor": "#E5ECF6",
           "showlakes": true,
           "showland": true,
           "subunitcolor": "white"
          },
          "hoverlabel": {
           "align": "left"
          },
          "hovermode": "closest",
          "mapbox": {
           "style": "light"
          },
          "paper_bgcolor": "white",
          "plot_bgcolor": "#E5ECF6",
          "polar": {
           "angularaxis": {
            "gridcolor": "white",
            "linecolor": "white",
            "ticks": ""
           },
           "bgcolor": "#E5ECF6",
           "radialaxis": {
            "gridcolor": "white",
            "linecolor": "white",
            "ticks": ""
           }
          },
          "scene": {
           "xaxis": {
            "backgroundcolor": "#E5ECF6",
            "gridcolor": "white",
            "gridwidth": 2,
            "linecolor": "white",
            "showbackground": true,
            "ticks": "",
            "zerolinecolor": "white"
           },
           "yaxis": {
            "backgroundcolor": "#E5ECF6",
            "gridcolor": "white",
            "gridwidth": 2,
            "linecolor": "white",
            "showbackground": true,
            "ticks": "",
            "zerolinecolor": "white"
           },
           "zaxis": {
            "backgroundcolor": "#E5ECF6",
            "gridcolor": "white",
            "gridwidth": 2,
            "linecolor": "white",
            "showbackground": true,
            "ticks": "",
            "zerolinecolor": "white"
           }
          },
          "shapedefaults": {
           "line": {
            "color": "#2a3f5f"
           }
          },
          "ternary": {
           "aaxis": {
            "gridcolor": "white",
            "linecolor": "white",
            "ticks": ""
           },
           "baxis": {
            "gridcolor": "white",
            "linecolor": "white",
            "ticks": ""
           },
           "bgcolor": "#E5ECF6",
           "caxis": {
            "gridcolor": "white",
            "linecolor": "white",
            "ticks": ""
           }
          },
          "title": {
           "x": 0.05
          },
          "xaxis": {
           "automargin": true,
           "gridcolor": "white",
           "linecolor": "white",
           "ticks": "",
           "title": {
            "standoff": 15
           },
           "zerolinecolor": "white",
           "zerolinewidth": 2
          },
          "yaxis": {
           "automargin": true,
           "gridcolor": "white",
           "linecolor": "white",
           "ticks": "",
           "title": {
            "standoff": 15
           },
           "zerolinecolor": "white",
           "zerolinewidth": 2
          }
         }
        },
        "title": {
         "font": {
          "color": "#4D5663"
         },
         "text": "Number of Cases by Gender and Age Bracket"
        },
        "xaxis": {
         "gridcolor": "#E1E5ED",
         "showgrid": true,
         "tickfont": {
          "color": "#4D5663"
         },
         "title": {
          "font": {
           "color": "#4D5663"
          },
          "text": "Gender/Age_Bracket"
         },
         "zerolinecolor": "#E1E5ED"
        },
        "yaxis": {
         "gridcolor": "#E1E5ED",
         "showgrid": true,
         "tickfont": {
          "color": "#4D5663"
         },
         "title": {
          "font": {
           "color": "#4D5663"
          },
          "text": "Count of Cases"
         },
         "zerolinecolor": "#E1E5ED"
        }
       }
      },
      "text/html": [
       "<div>\n",
       "        \n",
       "        \n",
       "            <div id=\"f564e063-bd4e-4821-afe3-c5745ba74f17\" class=\"plotly-graph-div\" style=\"height:525px; width:100%;\"></div>\n",
       "            <script type=\"text/javascript\">\n",
       "                require([\"plotly\"], function(Plotly) {\n",
       "                    window.PLOTLYENV=window.PLOTLYENV || {};\n",
       "                    window.PLOTLYENV.BASE_URL='https://plot.ly';\n",
       "                    \n",
       "                if (document.getElementById(\"f564e063-bd4e-4821-afe3-c5745ba74f17\")) {\n",
       "                    Plotly.newPlot(\n",
       "                        'f564e063-bd4e-4821-afe3-c5745ba74f17',\n",
       "                        [{\"marker\": {\"color\": \"rgba(255, 153, 51, 0.6)\", \"line\": {\"color\": \"rgba(255, 153, 51, 1.0)\", \"width\": 1}}, \"name\": \"0-9\", \"orientation\": \"v\", \"text\": \"\", \"type\": \"bar\", \"x\": [\"Female\", \"Male\"], \"y\": [43.0, 37.0]}, {\"marker\": {\"color\": \"rgba(55, 128, 191, 0.6)\", \"line\": {\"color\": \"rgba(55, 128, 191, 1.0)\", \"width\": 1}}, \"name\": \"10-19\", \"orientation\": \"v\", \"text\": \"\", \"type\": \"bar\", \"x\": [\"Female\", \"Male\"], \"y\": [80.0, 118.0]}, {\"marker\": {\"color\": \"rgba(50, 171, 96, 0.6)\", \"line\": {\"color\": \"rgba(50, 171, 96, 1.0)\", \"width\": 1}}, \"name\": \"20-29\", \"orientation\": \"v\", \"text\": \"\", \"type\": \"bar\", \"x\": [\"Female\", \"Male\"], \"y\": [164.0, 323.0]}, {\"marker\": {\"color\": \"rgba(128, 0, 128, 0.6)\", \"line\": {\"color\": \"rgba(128, 0, 128, 1.0)\", \"width\": 1}}, \"name\": \"30-39\", \"orientation\": \"v\", \"text\": \"\", \"type\": \"bar\", \"x\": [\"Female\", \"Male\"], \"y\": [112.0, 410.0]}, {\"marker\": {\"color\": \"rgba(219, 64, 82, 0.6)\", \"line\": {\"color\": \"rgba(219, 64, 82, 1.0)\", \"width\": 1}}, \"name\": \"40-49\", \"orientation\": \"v\", \"text\": \"\", \"type\": \"bar\", \"x\": [\"Female\", \"Male\"], \"y\": [102.0, 269.0]}, {\"marker\": {\"color\": \"rgba(0, 128, 128, 0.6)\", \"line\": {\"color\": \"rgba(0, 128, 128, 1.0)\", \"width\": 1}}, \"name\": \"50-59\", \"orientation\": \"v\", \"text\": \"\", \"type\": \"bar\", \"x\": [\"Female\", \"Male\"], \"y\": [80.0, 205.0]}, {\"marker\": {\"color\": \"rgba(255, 255, 51, 0.6)\", \"line\": {\"color\": \"rgba(255, 255, 51, 1.0)\", \"width\": 1}}, \"name\": \"60-69\", \"orientation\": \"v\", \"text\": \"\", \"type\": \"bar\", \"x\": [\"Female\", \"Male\"], \"y\": [78.0, 153.0]}, {\"marker\": {\"color\": \"rgba(128, 128, 0, 0.6)\", \"line\": {\"color\": \"rgba(128, 128, 0, 1.0)\", \"width\": 1}}, \"name\": \"70-79\", \"orientation\": \"v\", \"text\": \"\", \"type\": \"bar\", \"x\": [\"Female\", \"Male\"], \"y\": [33.0, 40.0]}, {\"marker\": {\"color\": \"rgba(251, 128, 114, 0.6)\", \"line\": {\"color\": \"rgba(251, 128, 114, 1.0)\", \"width\": 1}}, \"name\": \"80-89\", \"orientation\": \"v\", \"text\": \"\", \"type\": \"bar\", \"x\": [\"Female\", \"Male\"], \"y\": [11.0, 7.0]}, {\"marker\": {\"color\": \"rgba(128, 177, 211, 0.6)\", \"line\": {\"color\": \"rgba(128, 177, 211, 1.0)\", \"width\": 1}}, \"name\": \"90-99\", \"orientation\": \"v\", \"text\": \"\", \"type\": \"bar\", \"x\": [\"Female\", \"Male\"], \"y\": [\"\", 5.0]}],\n",
       "                        {\"legend\": {\"bgcolor\": \"#F5F6F9\", \"font\": {\"color\": \"#4D5663\"}}, \"paper_bgcolor\": \"#F5F6F9\", \"plot_bgcolor\": \"#F5F6F9\", \"template\": {\"data\": {\"bar\": [{\"error_x\": {\"color\": \"#2a3f5f\"}, \"error_y\": {\"color\": \"#2a3f5f\"}, \"marker\": {\"line\": {\"color\": \"#E5ECF6\", \"width\": 0.5}}, \"type\": \"bar\"}], \"barpolar\": [{\"marker\": {\"line\": {\"color\": \"#E5ECF6\", \"width\": 0.5}}, \"type\": \"barpolar\"}], \"carpet\": [{\"aaxis\": {\"endlinecolor\": \"#2a3f5f\", \"gridcolor\": \"white\", \"linecolor\": \"white\", \"minorgridcolor\": \"white\", \"startlinecolor\": \"#2a3f5f\"}, \"baxis\": {\"endlinecolor\": \"#2a3f5f\", \"gridcolor\": \"white\", \"linecolor\": \"white\", \"minorgridcolor\": \"white\", \"startlinecolor\": \"#2a3f5f\"}, \"type\": \"carpet\"}], \"choropleth\": [{\"colorbar\": {\"outlinewidth\": 0, \"ticks\": \"\"}, \"type\": \"choropleth\"}], \"contour\": [{\"colorbar\": {\"outlinewidth\": 0, \"ticks\": \"\"}, \"colorscale\": [[0.0, \"#0d0887\"], [0.1111111111111111, \"#46039f\"], [0.2222222222222222, \"#7201a8\"], [0.3333333333333333, \"#9c179e\"], [0.4444444444444444, \"#bd3786\"], [0.5555555555555556, \"#d8576b\"], [0.6666666666666666, \"#ed7953\"], [0.7777777777777778, \"#fb9f3a\"], [0.8888888888888888, \"#fdca26\"], [1.0, \"#f0f921\"]], \"type\": \"contour\"}], \"contourcarpet\": [{\"colorbar\": {\"outlinewidth\": 0, \"ticks\": \"\"}, \"type\": \"contourcarpet\"}], \"heatmap\": [{\"colorbar\": {\"outlinewidth\": 0, \"ticks\": \"\"}, \"colorscale\": [[0.0, \"#0d0887\"], [0.1111111111111111, \"#46039f\"], [0.2222222222222222, \"#7201a8\"], [0.3333333333333333, \"#9c179e\"], [0.4444444444444444, \"#bd3786\"], [0.5555555555555556, \"#d8576b\"], [0.6666666666666666, \"#ed7953\"], [0.7777777777777778, \"#fb9f3a\"], [0.8888888888888888, \"#fdca26\"], [1.0, \"#f0f921\"]], \"type\": \"heatmap\"}], \"heatmapgl\": [{\"colorbar\": {\"outlinewidth\": 0, \"ticks\": \"\"}, \"colorscale\": [[0.0, \"#0d0887\"], [0.1111111111111111, \"#46039f\"], [0.2222222222222222, \"#7201a8\"], [0.3333333333333333, \"#9c179e\"], [0.4444444444444444, \"#bd3786\"], [0.5555555555555556, \"#d8576b\"], [0.6666666666666666, \"#ed7953\"], [0.7777777777777778, \"#fb9f3a\"], [0.8888888888888888, \"#fdca26\"], [1.0, \"#f0f921\"]], \"type\": \"heatmapgl\"}], \"histogram\": [{\"marker\": {\"colorbar\": {\"outlinewidth\": 0, \"ticks\": \"\"}}, \"type\": \"histogram\"}], \"histogram2d\": [{\"colorbar\": {\"outlinewidth\": 0, \"ticks\": \"\"}, \"colorscale\": [[0.0, \"#0d0887\"], [0.1111111111111111, \"#46039f\"], [0.2222222222222222, \"#7201a8\"], [0.3333333333333333, \"#9c179e\"], [0.4444444444444444, \"#bd3786\"], [0.5555555555555556, \"#d8576b\"], [0.6666666666666666, \"#ed7953\"], [0.7777777777777778, \"#fb9f3a\"], [0.8888888888888888, \"#fdca26\"], [1.0, \"#f0f921\"]], \"type\": \"histogram2d\"}], \"histogram2dcontour\": [{\"colorbar\": {\"outlinewidth\": 0, \"ticks\": \"\"}, \"colorscale\": [[0.0, \"#0d0887\"], [0.1111111111111111, \"#46039f\"], [0.2222222222222222, \"#7201a8\"], [0.3333333333333333, \"#9c179e\"], [0.4444444444444444, \"#bd3786\"], [0.5555555555555556, \"#d8576b\"], [0.6666666666666666, \"#ed7953\"], [0.7777777777777778, \"#fb9f3a\"], [0.8888888888888888, \"#fdca26\"], [1.0, \"#f0f921\"]], \"type\": \"histogram2dcontour\"}], \"mesh3d\": [{\"colorbar\": {\"outlinewidth\": 0, \"ticks\": \"\"}, \"type\": \"mesh3d\"}], \"parcoords\": [{\"line\": {\"colorbar\": {\"outlinewidth\": 0, \"ticks\": \"\"}}, \"type\": \"parcoords\"}], \"pie\": [{\"automargin\": true, \"type\": \"pie\"}], \"scatter\": [{\"marker\": {\"colorbar\": {\"outlinewidth\": 0, \"ticks\": \"\"}}, \"type\": \"scatter\"}], \"scatter3d\": [{\"line\": {\"colorbar\": {\"outlinewidth\": 0, \"ticks\": \"\"}}, \"marker\": {\"colorbar\": {\"outlinewidth\": 0, \"ticks\": \"\"}}, \"type\": \"scatter3d\"}], \"scattercarpet\": [{\"marker\": {\"colorbar\": {\"outlinewidth\": 0, \"ticks\": \"\"}}, \"type\": \"scattercarpet\"}], \"scattergeo\": [{\"marker\": {\"colorbar\": {\"outlinewidth\": 0, \"ticks\": \"\"}}, \"type\": \"scattergeo\"}], \"scattergl\": [{\"marker\": {\"colorbar\": {\"outlinewidth\": 0, \"ticks\": \"\"}}, \"type\": \"scattergl\"}], \"scattermapbox\": [{\"marker\": {\"colorbar\": {\"outlinewidth\": 0, \"ticks\": \"\"}}, \"type\": \"scattermapbox\"}], \"scatterpolar\": [{\"marker\": {\"colorbar\": {\"outlinewidth\": 0, \"ticks\": \"\"}}, \"type\": \"scatterpolar\"}], \"scatterpolargl\": [{\"marker\": {\"colorbar\": {\"outlinewidth\": 0, \"ticks\": \"\"}}, \"type\": \"scatterpolargl\"}], \"scatterternary\": [{\"marker\": {\"colorbar\": {\"outlinewidth\": 0, \"ticks\": \"\"}}, \"type\": \"scatterternary\"}], \"surface\": [{\"colorbar\": {\"outlinewidth\": 0, \"ticks\": \"\"}, \"colorscale\": [[0.0, \"#0d0887\"], [0.1111111111111111, \"#46039f\"], [0.2222222222222222, \"#7201a8\"], [0.3333333333333333, \"#9c179e\"], [0.4444444444444444, \"#bd3786\"], [0.5555555555555556, \"#d8576b\"], [0.6666666666666666, \"#ed7953\"], [0.7777777777777778, \"#fb9f3a\"], [0.8888888888888888, \"#fdca26\"], [1.0, \"#f0f921\"]], \"type\": \"surface\"}], \"table\": [{\"cells\": {\"fill\": {\"color\": \"#EBF0F8\"}, \"line\": {\"color\": \"white\"}}, \"header\": {\"fill\": {\"color\": \"#C8D4E3\"}, \"line\": {\"color\": \"white\"}}, \"type\": \"table\"}]}, \"layout\": {\"annotationdefaults\": {\"arrowcolor\": \"#2a3f5f\", \"arrowhead\": 0, \"arrowwidth\": 1}, \"coloraxis\": {\"colorbar\": {\"outlinewidth\": 0, \"ticks\": \"\"}}, \"colorscale\": {\"diverging\": [[0, \"#8e0152\"], [0.1, \"#c51b7d\"], [0.2, \"#de77ae\"], [0.3, \"#f1b6da\"], [0.4, \"#fde0ef\"], [0.5, \"#f7f7f7\"], [0.6, \"#e6f5d0\"], [0.7, \"#b8e186\"], [0.8, \"#7fbc41\"], [0.9, \"#4d9221\"], [1, \"#276419\"]], \"sequential\": [[0.0, \"#0d0887\"], [0.1111111111111111, \"#46039f\"], [0.2222222222222222, \"#7201a8\"], [0.3333333333333333, \"#9c179e\"], [0.4444444444444444, \"#bd3786\"], [0.5555555555555556, \"#d8576b\"], [0.6666666666666666, \"#ed7953\"], [0.7777777777777778, \"#fb9f3a\"], [0.8888888888888888, \"#fdca26\"], [1.0, \"#f0f921\"]], \"sequentialminus\": [[0.0, \"#0d0887\"], [0.1111111111111111, \"#46039f\"], [0.2222222222222222, \"#7201a8\"], [0.3333333333333333, \"#9c179e\"], [0.4444444444444444, \"#bd3786\"], [0.5555555555555556, \"#d8576b\"], [0.6666666666666666, \"#ed7953\"], [0.7777777777777778, \"#fb9f3a\"], [0.8888888888888888, \"#fdca26\"], [1.0, \"#f0f921\"]]}, \"colorway\": [\"#636efa\", \"#EF553B\", \"#00cc96\", \"#ab63fa\", \"#FFA15A\", \"#19d3f3\", \"#FF6692\", \"#B6E880\", \"#FF97FF\", \"#FECB52\"], \"font\": {\"color\": \"#2a3f5f\"}, \"geo\": {\"bgcolor\": \"white\", \"lakecolor\": \"white\", \"landcolor\": \"#E5ECF6\", \"showlakes\": true, \"showland\": true, \"subunitcolor\": \"white\"}, \"hoverlabel\": {\"align\": \"left\"}, \"hovermode\": \"closest\", \"mapbox\": {\"style\": \"light\"}, \"paper_bgcolor\": \"white\", \"plot_bgcolor\": \"#E5ECF6\", \"polar\": {\"angularaxis\": {\"gridcolor\": \"white\", \"linecolor\": \"white\", \"ticks\": \"\"}, \"bgcolor\": \"#E5ECF6\", \"radialaxis\": {\"gridcolor\": \"white\", \"linecolor\": \"white\", \"ticks\": \"\"}}, \"scene\": {\"xaxis\": {\"backgroundcolor\": \"#E5ECF6\", \"gridcolor\": \"white\", \"gridwidth\": 2, \"linecolor\": \"white\", \"showbackground\": true, \"ticks\": \"\", \"zerolinecolor\": \"white\"}, \"yaxis\": {\"backgroundcolor\": \"#E5ECF6\", \"gridcolor\": \"white\", \"gridwidth\": 2, \"linecolor\": \"white\", \"showbackground\": true, \"ticks\": \"\", \"zerolinecolor\": \"white\"}, \"zaxis\": {\"backgroundcolor\": \"#E5ECF6\", \"gridcolor\": \"white\", \"gridwidth\": 2, \"linecolor\": \"white\", \"showbackground\": true, \"ticks\": \"\", \"zerolinecolor\": \"white\"}}, \"shapedefaults\": {\"line\": {\"color\": \"#2a3f5f\"}}, \"ternary\": {\"aaxis\": {\"gridcolor\": \"white\", \"linecolor\": \"white\", \"ticks\": \"\"}, \"baxis\": {\"gridcolor\": \"white\", \"linecolor\": \"white\", \"ticks\": \"\"}, \"bgcolor\": \"#E5ECF6\", \"caxis\": {\"gridcolor\": \"white\", \"linecolor\": \"white\", \"ticks\": \"\"}}, \"title\": {\"x\": 0.05}, \"xaxis\": {\"automargin\": true, \"gridcolor\": \"white\", \"linecolor\": \"white\", \"ticks\": \"\", \"title\": {\"standoff\": 15}, \"zerolinecolor\": \"white\", \"zerolinewidth\": 2}, \"yaxis\": {\"automargin\": true, \"gridcolor\": \"white\", \"linecolor\": \"white\", \"ticks\": \"\", \"title\": {\"standoff\": 15}, \"zerolinecolor\": \"white\", \"zerolinewidth\": 2}}}, \"title\": {\"font\": {\"color\": \"#4D5663\"}, \"text\": \"Number of Cases by Gender and Age Bracket\"}, \"xaxis\": {\"gridcolor\": \"#E1E5ED\", \"showgrid\": true, \"tickfont\": {\"color\": \"#4D5663\"}, \"title\": {\"font\": {\"color\": \"#4D5663\"}, \"text\": \"Gender/Age_Bracket\"}, \"zerolinecolor\": \"#E1E5ED\"}, \"yaxis\": {\"gridcolor\": \"#E1E5ED\", \"showgrid\": true, \"tickfont\": {\"color\": \"#4D5663\"}, \"title\": {\"font\": {\"color\": \"#4D5663\"}, \"text\": \"Count of Cases\"}, \"zerolinecolor\": \"#E1E5ED\"}},\n",
       "                        {\"showLink\": true, \"linkText\": \"Export to plot.ly\", \"plotlyServerURL\": \"https://plot.ly\", \"responsive\": true}\n",
       "                    ).then(function(){\n",
       "                            \n",
       "var gd = document.getElementById('f564e063-bd4e-4821-afe3-c5745ba74f17');\n",
       "var x = new MutationObserver(function (mutations, observer) {{\n",
       "        var display = window.getComputedStyle(gd).display;\n",
       "        if (!display || display === 'none') {{\n",
       "            console.log([gd, 'removed!']);\n",
       "            Plotly.purge(gd);\n",
       "            observer.disconnect();\n",
       "        }}\n",
       "}});\n",
       "\n",
       "// Listen for the removal of the full notebook cells\n",
       "var notebookContainer = gd.closest('#notebook-container');\n",
       "if (notebookContainer) {{\n",
       "    x.observe(notebookContainer, {childList: true});\n",
       "}}\n",
       "\n",
       "// Listen for the clearing of the current output cell\n",
       "var outputEl = gd.closest('.output');\n",
       "if (outputEl) {{\n",
       "    x.observe(outputEl, {childList: true});\n",
       "}}\n",
       "\n",
       "                        })\n",
       "                };\n",
       "                });\n",
       "            </script>\n",
       "        </div>"
      ]
     },
     "metadata": {},
     "output_type": "display_data"
    }
   ],
   "source": [
    "patients.groupby(['gender','Age_Bracket']).size().unstack().iplot(kind='bar',title=\"Number of Cases by Gender and Age Bracket\"\n",
    "                                                                  ,xTitle=\"Gender/Age_Bracket\"\n",
    "                                                                  ,yTitle=\"Count of Cases\")"
   ]
  },
  {
   "cell_type": "markdown",
   "metadata": {},
   "source": [
    "Among the Males, 30-39 group is most vulnerable.\n",
    "\n",
    "Count of Males is greater than Females."
   ]
  },
  {
   "cell_type": "markdown",
   "metadata": {},
   "source": [
    "#### Hotspots"
   ]
  },
  {
   "cell_type": "code",
   "execution_count": 29,
   "metadata": {},
   "outputs": [
    {
     "data": {
      "application/vnd.plotly.v1+json": {
       "config": {
        "plotlyServerURL": "https://plot.ly"
       },
       "data": [
        {
         "type": "bar",
         "x": [
          "Bharatpur",
          "Kannur",
          "Tiruppur",
          "Nagaur",
          "Tonk",
          "Gautam Buddha Nagar",
          "Ajmer",
          "Bengaluru Urban",
          "Coimbatore",
          "Kota",
          "Kanpur Nagar",
          "Kasaragod",
          "Krishna",
          "Saharanpur",
          "Lucknow",
          "Guntur",
          "Vadodara",
          "Kurnool",
          "Bhopal",
          "Jodhpur",
          "Agra",
          "Thane",
          "Surat",
          "Chennai",
          "Hyderabad",
          "Pune",
          "Jaipur",
          "Indore",
          "Ahmedabad",
          "Mumbai"
         ],
         "y": [
          110,
          111,
          112,
          113,
          115,
          117,
          123,
          135,
          141,
          158,
          170,
          175,
          179,
          181,
          191,
          211,
          231,
          278,
          321,
          364,
          374,
          392,
          526,
          528,
          557,
          680,
          808,
          1036,
          2181,
          2687
         ]
        }
       ],
       "layout": {
        "template": {
         "data": {
          "bar": [
           {
            "error_x": {
             "color": "#2a3f5f"
            },
            "error_y": {
             "color": "#2a3f5f"
            },
            "marker": {
             "line": {
              "color": "#E5ECF6",
              "width": 0.5
             }
            },
            "type": "bar"
           }
          ],
          "barpolar": [
           {
            "marker": {
             "line": {
              "color": "#E5ECF6",
              "width": 0.5
             }
            },
            "type": "barpolar"
           }
          ],
          "carpet": [
           {
            "aaxis": {
             "endlinecolor": "#2a3f5f",
             "gridcolor": "white",
             "linecolor": "white",
             "minorgridcolor": "white",
             "startlinecolor": "#2a3f5f"
            },
            "baxis": {
             "endlinecolor": "#2a3f5f",
             "gridcolor": "white",
             "linecolor": "white",
             "minorgridcolor": "white",
             "startlinecolor": "#2a3f5f"
            },
            "type": "carpet"
           }
          ],
          "choropleth": [
           {
            "colorbar": {
             "outlinewidth": 0,
             "ticks": ""
            },
            "type": "choropleth"
           }
          ],
          "contour": [
           {
            "colorbar": {
             "outlinewidth": 0,
             "ticks": ""
            },
            "colorscale": [
             [
              0,
              "#0d0887"
             ],
             [
              0.1111111111111111,
              "#46039f"
             ],
             [
              0.2222222222222222,
              "#7201a8"
             ],
             [
              0.3333333333333333,
              "#9c179e"
             ],
             [
              0.4444444444444444,
              "#bd3786"
             ],
             [
              0.5555555555555556,
              "#d8576b"
             ],
             [
              0.6666666666666666,
              "#ed7953"
             ],
             [
              0.7777777777777778,
              "#fb9f3a"
             ],
             [
              0.8888888888888888,
              "#fdca26"
             ],
             [
              1,
              "#f0f921"
             ]
            ],
            "type": "contour"
           }
          ],
          "contourcarpet": [
           {
            "colorbar": {
             "outlinewidth": 0,
             "ticks": ""
            },
            "type": "contourcarpet"
           }
          ],
          "heatmap": [
           {
            "colorbar": {
             "outlinewidth": 0,
             "ticks": ""
            },
            "colorscale": [
             [
              0,
              "#0d0887"
             ],
             [
              0.1111111111111111,
              "#46039f"
             ],
             [
              0.2222222222222222,
              "#7201a8"
             ],
             [
              0.3333333333333333,
              "#9c179e"
             ],
             [
              0.4444444444444444,
              "#bd3786"
             ],
             [
              0.5555555555555556,
              "#d8576b"
             ],
             [
              0.6666666666666666,
              "#ed7953"
             ],
             [
              0.7777777777777778,
              "#fb9f3a"
             ],
             [
              0.8888888888888888,
              "#fdca26"
             ],
             [
              1,
              "#f0f921"
             ]
            ],
            "type": "heatmap"
           }
          ],
          "heatmapgl": [
           {
            "colorbar": {
             "outlinewidth": 0,
             "ticks": ""
            },
            "colorscale": [
             [
              0,
              "#0d0887"
             ],
             [
              0.1111111111111111,
              "#46039f"
             ],
             [
              0.2222222222222222,
              "#7201a8"
             ],
             [
              0.3333333333333333,
              "#9c179e"
             ],
             [
              0.4444444444444444,
              "#bd3786"
             ],
             [
              0.5555555555555556,
              "#d8576b"
             ],
             [
              0.6666666666666666,
              "#ed7953"
             ],
             [
              0.7777777777777778,
              "#fb9f3a"
             ],
             [
              0.8888888888888888,
              "#fdca26"
             ],
             [
              1,
              "#f0f921"
             ]
            ],
            "type": "heatmapgl"
           }
          ],
          "histogram": [
           {
            "marker": {
             "colorbar": {
              "outlinewidth": 0,
              "ticks": ""
             }
            },
            "type": "histogram"
           }
          ],
          "histogram2d": [
           {
            "colorbar": {
             "outlinewidth": 0,
             "ticks": ""
            },
            "colorscale": [
             [
              0,
              "#0d0887"
             ],
             [
              0.1111111111111111,
              "#46039f"
             ],
             [
              0.2222222222222222,
              "#7201a8"
             ],
             [
              0.3333333333333333,
              "#9c179e"
             ],
             [
              0.4444444444444444,
              "#bd3786"
             ],
             [
              0.5555555555555556,
              "#d8576b"
             ],
             [
              0.6666666666666666,
              "#ed7953"
             ],
             [
              0.7777777777777778,
              "#fb9f3a"
             ],
             [
              0.8888888888888888,
              "#fdca26"
             ],
             [
              1,
              "#f0f921"
             ]
            ],
            "type": "histogram2d"
           }
          ],
          "histogram2dcontour": [
           {
            "colorbar": {
             "outlinewidth": 0,
             "ticks": ""
            },
            "colorscale": [
             [
              0,
              "#0d0887"
             ],
             [
              0.1111111111111111,
              "#46039f"
             ],
             [
              0.2222222222222222,
              "#7201a8"
             ],
             [
              0.3333333333333333,
              "#9c179e"
             ],
             [
              0.4444444444444444,
              "#bd3786"
             ],
             [
              0.5555555555555556,
              "#d8576b"
             ],
             [
              0.6666666666666666,
              "#ed7953"
             ],
             [
              0.7777777777777778,
              "#fb9f3a"
             ],
             [
              0.8888888888888888,
              "#fdca26"
             ],
             [
              1,
              "#f0f921"
             ]
            ],
            "type": "histogram2dcontour"
           }
          ],
          "mesh3d": [
           {
            "colorbar": {
             "outlinewidth": 0,
             "ticks": ""
            },
            "type": "mesh3d"
           }
          ],
          "parcoords": [
           {
            "line": {
             "colorbar": {
              "outlinewidth": 0,
              "ticks": ""
             }
            },
            "type": "parcoords"
           }
          ],
          "pie": [
           {
            "automargin": true,
            "type": "pie"
           }
          ],
          "scatter": [
           {
            "marker": {
             "colorbar": {
              "outlinewidth": 0,
              "ticks": ""
             }
            },
            "type": "scatter"
           }
          ],
          "scatter3d": [
           {
            "line": {
             "colorbar": {
              "outlinewidth": 0,
              "ticks": ""
             }
            },
            "marker": {
             "colorbar": {
              "outlinewidth": 0,
              "ticks": ""
             }
            },
            "type": "scatter3d"
           }
          ],
          "scattercarpet": [
           {
            "marker": {
             "colorbar": {
              "outlinewidth": 0,
              "ticks": ""
             }
            },
            "type": "scattercarpet"
           }
          ],
          "scattergeo": [
           {
            "marker": {
             "colorbar": {
              "outlinewidth": 0,
              "ticks": ""
             }
            },
            "type": "scattergeo"
           }
          ],
          "scattergl": [
           {
            "marker": {
             "colorbar": {
              "outlinewidth": 0,
              "ticks": ""
             }
            },
            "type": "scattergl"
           }
          ],
          "scattermapbox": [
           {
            "marker": {
             "colorbar": {
              "outlinewidth": 0,
              "ticks": ""
             }
            },
            "type": "scattermapbox"
           }
          ],
          "scatterpolar": [
           {
            "marker": {
             "colorbar": {
              "outlinewidth": 0,
              "ticks": ""
             }
            },
            "type": "scatterpolar"
           }
          ],
          "scatterpolargl": [
           {
            "marker": {
             "colorbar": {
              "outlinewidth": 0,
              "ticks": ""
             }
            },
            "type": "scatterpolargl"
           }
          ],
          "scatterternary": [
           {
            "marker": {
             "colorbar": {
              "outlinewidth": 0,
              "ticks": ""
             }
            },
            "type": "scatterternary"
           }
          ],
          "surface": [
           {
            "colorbar": {
             "outlinewidth": 0,
             "ticks": ""
            },
            "colorscale": [
             [
              0,
              "#0d0887"
             ],
             [
              0.1111111111111111,
              "#46039f"
             ],
             [
              0.2222222222222222,
              "#7201a8"
             ],
             [
              0.3333333333333333,
              "#9c179e"
             ],
             [
              0.4444444444444444,
              "#bd3786"
             ],
             [
              0.5555555555555556,
              "#d8576b"
             ],
             [
              0.6666666666666666,
              "#ed7953"
             ],
             [
              0.7777777777777778,
              "#fb9f3a"
             ],
             [
              0.8888888888888888,
              "#fdca26"
             ],
             [
              1,
              "#f0f921"
             ]
            ],
            "type": "surface"
           }
          ],
          "table": [
           {
            "cells": {
             "fill": {
              "color": "#EBF0F8"
             },
             "line": {
              "color": "white"
             }
            },
            "header": {
             "fill": {
              "color": "#C8D4E3"
             },
             "line": {
              "color": "white"
             }
            },
            "type": "table"
           }
          ]
         },
         "layout": {
          "annotationdefaults": {
           "arrowcolor": "#2a3f5f",
           "arrowhead": 0,
           "arrowwidth": 1
          },
          "coloraxis": {
           "colorbar": {
            "outlinewidth": 0,
            "ticks": ""
           }
          },
          "colorscale": {
           "diverging": [
            [
             0,
             "#8e0152"
            ],
            [
             0.1,
             "#c51b7d"
            ],
            [
             0.2,
             "#de77ae"
            ],
            [
             0.3,
             "#f1b6da"
            ],
            [
             0.4,
             "#fde0ef"
            ],
            [
             0.5,
             "#f7f7f7"
            ],
            [
             0.6,
             "#e6f5d0"
            ],
            [
             0.7,
             "#b8e186"
            ],
            [
             0.8,
             "#7fbc41"
            ],
            [
             0.9,
             "#4d9221"
            ],
            [
             1,
             "#276419"
            ]
           ],
           "sequential": [
            [
             0,
             "#0d0887"
            ],
            [
             0.1111111111111111,
             "#46039f"
            ],
            [
             0.2222222222222222,
             "#7201a8"
            ],
            [
             0.3333333333333333,
             "#9c179e"
            ],
            [
             0.4444444444444444,
             "#bd3786"
            ],
            [
             0.5555555555555556,
             "#d8576b"
            ],
            [
             0.6666666666666666,
             "#ed7953"
            ],
            [
             0.7777777777777778,
             "#fb9f3a"
            ],
            [
             0.8888888888888888,
             "#fdca26"
            ],
            [
             1,
             "#f0f921"
            ]
           ],
           "sequentialminus": [
            [
             0,
             "#0d0887"
            ],
            [
             0.1111111111111111,
             "#46039f"
            ],
            [
             0.2222222222222222,
             "#7201a8"
            ],
            [
             0.3333333333333333,
             "#9c179e"
            ],
            [
             0.4444444444444444,
             "#bd3786"
            ],
            [
             0.5555555555555556,
             "#d8576b"
            ],
            [
             0.6666666666666666,
             "#ed7953"
            ],
            [
             0.7777777777777778,
             "#fb9f3a"
            ],
            [
             0.8888888888888888,
             "#fdca26"
            ],
            [
             1,
             "#f0f921"
            ]
           ]
          },
          "colorway": [
           "#636efa",
           "#EF553B",
           "#00cc96",
           "#ab63fa",
           "#FFA15A",
           "#19d3f3",
           "#FF6692",
           "#B6E880",
           "#FF97FF",
           "#FECB52"
          ],
          "font": {
           "color": "#2a3f5f"
          },
          "geo": {
           "bgcolor": "white",
           "lakecolor": "white",
           "landcolor": "#E5ECF6",
           "showlakes": true,
           "showland": true,
           "subunitcolor": "white"
          },
          "hoverlabel": {
           "align": "left"
          },
          "hovermode": "closest",
          "mapbox": {
           "style": "light"
          },
          "paper_bgcolor": "white",
          "plot_bgcolor": "#E5ECF6",
          "polar": {
           "angularaxis": {
            "gridcolor": "white",
            "linecolor": "white",
            "ticks": ""
           },
           "bgcolor": "#E5ECF6",
           "radialaxis": {
            "gridcolor": "white",
            "linecolor": "white",
            "ticks": ""
           }
          },
          "scene": {
           "xaxis": {
            "backgroundcolor": "#E5ECF6",
            "gridcolor": "white",
            "gridwidth": 2,
            "linecolor": "white",
            "showbackground": true,
            "ticks": "",
            "zerolinecolor": "white"
           },
           "yaxis": {
            "backgroundcolor": "#E5ECF6",
            "gridcolor": "white",
            "gridwidth": 2,
            "linecolor": "white",
            "showbackground": true,
            "ticks": "",
            "zerolinecolor": "white"
           },
           "zaxis": {
            "backgroundcolor": "#E5ECF6",
            "gridcolor": "white",
            "gridwidth": 2,
            "linecolor": "white",
            "showbackground": true,
            "ticks": "",
            "zerolinecolor": "white"
           }
          },
          "shapedefaults": {
           "line": {
            "color": "#2a3f5f"
           }
          },
          "ternary": {
           "aaxis": {
            "gridcolor": "white",
            "linecolor": "white",
            "ticks": ""
           },
           "baxis": {
            "gridcolor": "white",
            "linecolor": "white",
            "ticks": ""
           },
           "bgcolor": "#E5ECF6",
           "caxis": {
            "gridcolor": "white",
            "linecolor": "white",
            "ticks": ""
           }
          },
          "title": {
           "x": 0.05
          },
          "xaxis": {
           "automargin": true,
           "gridcolor": "white",
           "linecolor": "white",
           "ticks": "",
           "title": {
            "standoff": 15
           },
           "zerolinecolor": "white",
           "zerolinewidth": 2
          },
          "yaxis": {
           "automargin": true,
           "gridcolor": "white",
           "linecolor": "white",
           "ticks": "",
           "title": {
            "standoff": 15
           },
           "zerolinecolor": "white",
           "zerolinewidth": 2
          }
         }
        },
        "title": {
         "text": "Top 30 Affected Districts"
        },
        "xaxis": {
         "title": {
          "text": "District"
         }
        },
        "yaxis": {
         "title": {
          "text": "Count"
         }
        }
       }
      },
      "text/html": [
       "<div>\n",
       "        \n",
       "        \n",
       "            <div id=\"f1bb500d-b37b-4eb3-8b38-dba9975c460e\" class=\"plotly-graph-div\" style=\"height:525px; width:100%;\"></div>\n",
       "            <script type=\"text/javascript\">\n",
       "                require([\"plotly\"], function(Plotly) {\n",
       "                    window.PLOTLYENV=window.PLOTLYENV || {};\n",
       "                    \n",
       "                if (document.getElementById(\"f1bb500d-b37b-4eb3-8b38-dba9975c460e\")) {\n",
       "                    Plotly.newPlot(\n",
       "                        'f1bb500d-b37b-4eb3-8b38-dba9975c460e',\n",
       "                        [{\"type\": \"bar\", \"x\": [\"Bharatpur\", \"Kannur\", \"Tiruppur\", \"Nagaur\", \"Tonk\", \"Gautam Buddha Nagar\", \"Ajmer\", \"Bengaluru Urban\", \"Coimbatore\", \"Kota\", \"Kanpur Nagar\", \"Kasaragod\", \"Krishna\", \"Saharanpur\", \"Lucknow\", \"Guntur\", \"Vadodara\", \"Kurnool\", \"Bhopal\", \"Jodhpur\", \"Agra\", \"Thane\", \"Surat\", \"Chennai\", \"Hyderabad\", \"Pune\", \"Jaipur\", \"Indore\", \"Ahmedabad\", \"Mumbai\"], \"y\": [110, 111, 112, 113, 115, 117, 123, 135, 141, 158, 170, 175, 179, 181, 191, 211, 231, 278, 321, 364, 374, 392, 526, 528, 557, 680, 808, 1036, 2181, 2687]}],\n",
       "                        {\"template\": {\"data\": {\"bar\": [{\"error_x\": {\"color\": \"#2a3f5f\"}, \"error_y\": {\"color\": \"#2a3f5f\"}, \"marker\": {\"line\": {\"color\": \"#E5ECF6\", \"width\": 0.5}}, \"type\": \"bar\"}], \"barpolar\": [{\"marker\": {\"line\": {\"color\": \"#E5ECF6\", \"width\": 0.5}}, \"type\": \"barpolar\"}], \"carpet\": [{\"aaxis\": {\"endlinecolor\": \"#2a3f5f\", \"gridcolor\": \"white\", \"linecolor\": \"white\", \"minorgridcolor\": \"white\", \"startlinecolor\": \"#2a3f5f\"}, \"baxis\": {\"endlinecolor\": \"#2a3f5f\", \"gridcolor\": \"white\", \"linecolor\": \"white\", \"minorgridcolor\": \"white\", \"startlinecolor\": \"#2a3f5f\"}, \"type\": \"carpet\"}], \"choropleth\": [{\"colorbar\": {\"outlinewidth\": 0, \"ticks\": \"\"}, \"type\": \"choropleth\"}], \"contour\": [{\"colorbar\": {\"outlinewidth\": 0, \"ticks\": \"\"}, \"colorscale\": [[0.0, \"#0d0887\"], [0.1111111111111111, \"#46039f\"], [0.2222222222222222, \"#7201a8\"], [0.3333333333333333, \"#9c179e\"], [0.4444444444444444, \"#bd3786\"], [0.5555555555555556, \"#d8576b\"], [0.6666666666666666, \"#ed7953\"], [0.7777777777777778, \"#fb9f3a\"], [0.8888888888888888, \"#fdca26\"], [1.0, \"#f0f921\"]], \"type\": \"contour\"}], \"contourcarpet\": [{\"colorbar\": {\"outlinewidth\": 0, \"ticks\": \"\"}, \"type\": \"contourcarpet\"}], \"heatmap\": [{\"colorbar\": {\"outlinewidth\": 0, \"ticks\": \"\"}, \"colorscale\": [[0.0, \"#0d0887\"], [0.1111111111111111, \"#46039f\"], [0.2222222222222222, \"#7201a8\"], [0.3333333333333333, \"#9c179e\"], [0.4444444444444444, \"#bd3786\"], [0.5555555555555556, \"#d8576b\"], [0.6666666666666666, \"#ed7953\"], [0.7777777777777778, \"#fb9f3a\"], [0.8888888888888888, \"#fdca26\"], [1.0, \"#f0f921\"]], \"type\": \"heatmap\"}], \"heatmapgl\": [{\"colorbar\": {\"outlinewidth\": 0, \"ticks\": \"\"}, \"colorscale\": [[0.0, \"#0d0887\"], [0.1111111111111111, \"#46039f\"], [0.2222222222222222, \"#7201a8\"], [0.3333333333333333, \"#9c179e\"], [0.4444444444444444, \"#bd3786\"], [0.5555555555555556, \"#d8576b\"], [0.6666666666666666, \"#ed7953\"], [0.7777777777777778, \"#fb9f3a\"], [0.8888888888888888, \"#fdca26\"], [1.0, \"#f0f921\"]], \"type\": \"heatmapgl\"}], \"histogram\": [{\"marker\": {\"colorbar\": {\"outlinewidth\": 0, \"ticks\": \"\"}}, \"type\": \"histogram\"}], \"histogram2d\": [{\"colorbar\": {\"outlinewidth\": 0, \"ticks\": \"\"}, \"colorscale\": [[0.0, \"#0d0887\"], [0.1111111111111111, \"#46039f\"], [0.2222222222222222, \"#7201a8\"], [0.3333333333333333, \"#9c179e\"], [0.4444444444444444, \"#bd3786\"], [0.5555555555555556, \"#d8576b\"], [0.6666666666666666, \"#ed7953\"], [0.7777777777777778, \"#fb9f3a\"], [0.8888888888888888, \"#fdca26\"], [1.0, \"#f0f921\"]], \"type\": \"histogram2d\"}], \"histogram2dcontour\": [{\"colorbar\": {\"outlinewidth\": 0, \"ticks\": \"\"}, \"colorscale\": [[0.0, \"#0d0887\"], [0.1111111111111111, \"#46039f\"], [0.2222222222222222, \"#7201a8\"], [0.3333333333333333, \"#9c179e\"], [0.4444444444444444, \"#bd3786\"], [0.5555555555555556, \"#d8576b\"], [0.6666666666666666, \"#ed7953\"], [0.7777777777777778, \"#fb9f3a\"], [0.8888888888888888, \"#fdca26\"], [1.0, \"#f0f921\"]], \"type\": \"histogram2dcontour\"}], \"mesh3d\": [{\"colorbar\": {\"outlinewidth\": 0, \"ticks\": \"\"}, \"type\": \"mesh3d\"}], \"parcoords\": [{\"line\": {\"colorbar\": {\"outlinewidth\": 0, \"ticks\": \"\"}}, \"type\": \"parcoords\"}], \"pie\": [{\"automargin\": true, \"type\": \"pie\"}], \"scatter\": [{\"marker\": {\"colorbar\": {\"outlinewidth\": 0, \"ticks\": \"\"}}, \"type\": \"scatter\"}], \"scatter3d\": [{\"line\": {\"colorbar\": {\"outlinewidth\": 0, \"ticks\": \"\"}}, \"marker\": {\"colorbar\": {\"outlinewidth\": 0, \"ticks\": \"\"}}, \"type\": \"scatter3d\"}], \"scattercarpet\": [{\"marker\": {\"colorbar\": {\"outlinewidth\": 0, \"ticks\": \"\"}}, \"type\": \"scattercarpet\"}], \"scattergeo\": [{\"marker\": {\"colorbar\": {\"outlinewidth\": 0, \"ticks\": \"\"}}, \"type\": \"scattergeo\"}], \"scattergl\": [{\"marker\": {\"colorbar\": {\"outlinewidth\": 0, \"ticks\": \"\"}}, \"type\": \"scattergl\"}], \"scattermapbox\": [{\"marker\": {\"colorbar\": {\"outlinewidth\": 0, \"ticks\": \"\"}}, \"type\": \"scattermapbox\"}], \"scatterpolar\": [{\"marker\": {\"colorbar\": {\"outlinewidth\": 0, \"ticks\": \"\"}}, \"type\": \"scatterpolar\"}], \"scatterpolargl\": [{\"marker\": {\"colorbar\": {\"outlinewidth\": 0, \"ticks\": \"\"}}, \"type\": \"scatterpolargl\"}], \"scatterternary\": [{\"marker\": {\"colorbar\": {\"outlinewidth\": 0, \"ticks\": \"\"}}, \"type\": \"scatterternary\"}], \"surface\": [{\"colorbar\": {\"outlinewidth\": 0, \"ticks\": \"\"}, \"colorscale\": [[0.0, \"#0d0887\"], [0.1111111111111111, \"#46039f\"], [0.2222222222222222, \"#7201a8\"], [0.3333333333333333, \"#9c179e\"], [0.4444444444444444, \"#bd3786\"], [0.5555555555555556, \"#d8576b\"], [0.6666666666666666, \"#ed7953\"], [0.7777777777777778, \"#fb9f3a\"], [0.8888888888888888, \"#fdca26\"], [1.0, \"#f0f921\"]], \"type\": \"surface\"}], \"table\": [{\"cells\": {\"fill\": {\"color\": \"#EBF0F8\"}, \"line\": {\"color\": \"white\"}}, \"header\": {\"fill\": {\"color\": \"#C8D4E3\"}, \"line\": {\"color\": \"white\"}}, \"type\": \"table\"}]}, \"layout\": {\"annotationdefaults\": {\"arrowcolor\": \"#2a3f5f\", \"arrowhead\": 0, \"arrowwidth\": 1}, \"coloraxis\": {\"colorbar\": {\"outlinewidth\": 0, \"ticks\": \"\"}}, \"colorscale\": {\"diverging\": [[0, \"#8e0152\"], [0.1, \"#c51b7d\"], [0.2, \"#de77ae\"], [0.3, \"#f1b6da\"], [0.4, \"#fde0ef\"], [0.5, \"#f7f7f7\"], [0.6, \"#e6f5d0\"], [0.7, \"#b8e186\"], [0.8, \"#7fbc41\"], [0.9, \"#4d9221\"], [1, \"#276419\"]], \"sequential\": [[0.0, \"#0d0887\"], [0.1111111111111111, \"#46039f\"], [0.2222222222222222, \"#7201a8\"], [0.3333333333333333, \"#9c179e\"], [0.4444444444444444, \"#bd3786\"], [0.5555555555555556, \"#d8576b\"], [0.6666666666666666, \"#ed7953\"], [0.7777777777777778, \"#fb9f3a\"], [0.8888888888888888, \"#fdca26\"], [1.0, \"#f0f921\"]], \"sequentialminus\": [[0.0, \"#0d0887\"], [0.1111111111111111, \"#46039f\"], [0.2222222222222222, \"#7201a8\"], [0.3333333333333333, \"#9c179e\"], [0.4444444444444444, \"#bd3786\"], [0.5555555555555556, \"#d8576b\"], [0.6666666666666666, \"#ed7953\"], [0.7777777777777778, \"#fb9f3a\"], [0.8888888888888888, \"#fdca26\"], [1.0, \"#f0f921\"]]}, \"colorway\": [\"#636efa\", \"#EF553B\", \"#00cc96\", \"#ab63fa\", \"#FFA15A\", \"#19d3f3\", \"#FF6692\", \"#B6E880\", \"#FF97FF\", \"#FECB52\"], \"font\": {\"color\": \"#2a3f5f\"}, \"geo\": {\"bgcolor\": \"white\", \"lakecolor\": \"white\", \"landcolor\": \"#E5ECF6\", \"showlakes\": true, \"showland\": true, \"subunitcolor\": \"white\"}, \"hoverlabel\": {\"align\": \"left\"}, \"hovermode\": \"closest\", \"mapbox\": {\"style\": \"light\"}, \"paper_bgcolor\": \"white\", \"plot_bgcolor\": \"#E5ECF6\", \"polar\": {\"angularaxis\": {\"gridcolor\": \"white\", \"linecolor\": \"white\", \"ticks\": \"\"}, \"bgcolor\": \"#E5ECF6\", \"radialaxis\": {\"gridcolor\": \"white\", \"linecolor\": \"white\", \"ticks\": \"\"}}, \"scene\": {\"xaxis\": {\"backgroundcolor\": \"#E5ECF6\", \"gridcolor\": \"white\", \"gridwidth\": 2, \"linecolor\": \"white\", \"showbackground\": true, \"ticks\": \"\", \"zerolinecolor\": \"white\"}, \"yaxis\": {\"backgroundcolor\": \"#E5ECF6\", \"gridcolor\": \"white\", \"gridwidth\": 2, \"linecolor\": \"white\", \"showbackground\": true, \"ticks\": \"\", \"zerolinecolor\": \"white\"}, \"zaxis\": {\"backgroundcolor\": \"#E5ECF6\", \"gridcolor\": \"white\", \"gridwidth\": 2, \"linecolor\": \"white\", \"showbackground\": true, \"ticks\": \"\", \"zerolinecolor\": \"white\"}}, \"shapedefaults\": {\"line\": {\"color\": \"#2a3f5f\"}}, \"ternary\": {\"aaxis\": {\"gridcolor\": \"white\", \"linecolor\": \"white\", \"ticks\": \"\"}, \"baxis\": {\"gridcolor\": \"white\", \"linecolor\": \"white\", \"ticks\": \"\"}, \"bgcolor\": \"#E5ECF6\", \"caxis\": {\"gridcolor\": \"white\", \"linecolor\": \"white\", \"ticks\": \"\"}}, \"title\": {\"x\": 0.05}, \"xaxis\": {\"automargin\": true, \"gridcolor\": \"white\", \"linecolor\": \"white\", \"ticks\": \"\", \"title\": {\"standoff\": 15}, \"zerolinecolor\": \"white\", \"zerolinewidth\": 2}, \"yaxis\": {\"automargin\": true, \"gridcolor\": \"white\", \"linecolor\": \"white\", \"ticks\": \"\", \"title\": {\"standoff\": 15}, \"zerolinecolor\": \"white\", \"zerolinewidth\": 2}}}, \"title\": {\"text\": \"Top 30 Affected Districts\"}, \"xaxis\": {\"title\": {\"text\": \"District\"}}, \"yaxis\": {\"title\": {\"text\": \"Count\"}}},\n",
       "                        {\"responsive\": true}\n",
       "                    ).then(function(){\n",
       "                            \n",
       "var gd = document.getElementById('f1bb500d-b37b-4eb3-8b38-dba9975c460e');\n",
       "var x = new MutationObserver(function (mutations, observer) {{\n",
       "        var display = window.getComputedStyle(gd).display;\n",
       "        if (!display || display === 'none') {{\n",
       "            console.log([gd, 'removed!']);\n",
       "            Plotly.purge(gd);\n",
       "            observer.disconnect();\n",
       "        }}\n",
       "}});\n",
       "\n",
       "// Listen for the removal of the full notebook cells\n",
       "var notebookContainer = gd.closest('#notebook-container');\n",
       "if (notebookContainer) {{\n",
       "    x.observe(notebookContainer, {childList: true});\n",
       "}}\n",
       "\n",
       "// Listen for the clearing of the current output cell\n",
       "var outputEl = gd.closest('.output');\n",
       "if (outputEl) {{\n",
       "    x.observe(outputEl, {childList: true});\n",
       "}}\n",
       "\n",
       "                        })\n",
       "                };\n",
       "                });\n",
       "            </script>\n",
       "        </div>"
      ]
     },
     "metadata": {},
     "output_type": "display_data"
    }
   ],
   "source": [
    "df = pd.DataFrame(patients.groupby('detected_district').size().sort_values().tail(30))\n",
    "df.columns = ['Count']\n",
    "fig=go.Figure()\n",
    "fig.add_trace(go.Bar(x=df.index,y=df['Count']))\n",
    "fig.update_layout(title='Top 30 Affected Districts',xaxis=dict(title='District'),yaxis=dict(title='Count'))"
   ]
  },
  {
   "cell_type": "markdown",
   "metadata": {},
   "source": [
    "#### Latest Data"
   ]
  },
  {
   "cell_type": "code",
   "execution_count": 33,
   "metadata": {},
   "outputs": [],
   "source": [
    "latest_data = data[data['Date'] == data['Date'].max()]"
   ]
  },
  {
   "cell_type": "code",
   "execution_count": 34,
   "metadata": {},
   "outputs": [],
   "source": [
    "latest_data['Mortality_Rate'] = round((latest_data['Deaths']/latest_data['Confirmed'])*100,2)\n",
    "latest_data['Recovery_Rate'] = round((latest_data['Cured']/latest_data['Confirmed'])*100,2)\n",
    "\n",
    "latest_data['Cases_Per_Million'] = round((latest_data['Confirmed']/latest_data['Population'])*1000000,0)\n",
    "latest_data['Deaths_Per_Million'] = round((latest_data['Deaths']/latest_data['Population'])*1000000,0)\n",
    "latest_data['Recovery_Per_Million'] = round((latest_data['Cured']/latest_data['Population'])*1000000,0)\n",
    "\n",
    "latest_data['Density_In_SqKM'] = latest_data['Density'].apply(lambda x: x.split()[0]).apply(lambda x: x.split(\"/\")[0]).apply(lambda x: x.replace(',','')).astype(float).astype(int)\n",
    "latest_data['Density_In_SqMi'] = latest_data['Density'].apply(lambda x: x.split()[1]).apply(lambda x: x[1:]).apply(lambda x: x.split(\"/\")[0]).apply(lambda x: x.replace(',','')).astype(float).astype(int)\n",
    "latest_data['Area_In_SqKM'] = latest_data['Area'].apply(lambda x: x.split()[0]).apply(lambda x: x.replace(',','')).astype(float).astype(int)\n",
    "latest_data['Area_In_SqMi'] = latest_data['Area'].apply(lambda x: x.split()[-3]).apply(lambda x: x[1:]).apply(lambda x: x.replace(',','')).astype(float).astype(int)\n",
    "\n",
    "latest_data['TotalNumHospitals_NHP18'] = latest_data['NumRuralHospitals_NHP18']+latest_data['NumUrbanHospitals_NHP18']\n",
    "latest_data['TotalBeds'] = latest_data['NumRuralBeds_NHP18']+latest_data['NumUrbanBeds_NHP18']+latest_data['NumPublicBeds_HMIS']\n",
    "\n",
    "latest_data['Beds_Per_Million'] = round((latest_data['TotalBeds']/latest_data['Population'])*1000000,0)\n",
    "\n",
    "\n",
    "latest_data.drop(['Rural population','Urban population','Area','Density','ConfirmedIndianNational','ConfirmedForeignNational',\n",
    "                 'Gender Ratio','NumPrimaryHealthCenters_HMIS','NumCommunityHealthCenters_HMIS','NumSubDistrictHospitals_HMIS'\n",
    "                 ,'NumDistrictHospitals_HMIS','NumRuralHospitals_NHP18','NumUrbanHospitals_NHP18','NumRuralBeds_NHP18','NumUrbanBeds_NHP18',\n",
    "                 'NumPublicBeds_HMIS'],axis=1,inplace=True)"
   ]
  },
  {
   "cell_type": "code",
   "execution_count": 35,
   "metadata": {},
   "outputs": [
    {
     "name": "stderr",
     "output_type": "stream",
     "text": [
      "C:\\Users\\kulka\\anaconda3\\lib\\site-packages\\matplotlib\\colors.py:527: RuntimeWarning:\n",
      "\n",
      "invalid value encountered in less\n",
      "\n"
     ]
    },
    {
     "data": {
      "text/html": [
       "<style  type=\"text/css\" >\n",
       "    #T_93ced500_8e31_11ea_bbd7_ccb0da3466acrow0_col1 {\n",
       "            background-color:  #f7fbff;\n",
       "            color:  #000000;\n",
       "        }    #T_93ced500_8e31_11ea_bbd7_ccb0da3466acrow0_col2 {\n",
       "            background-color:  #f5fbf3;\n",
       "            color:  #000000;\n",
       "        }    #T_93ced500_8e31_11ea_bbd7_ccb0da3466acrow0_col3 {\n",
       "            background-color:  #fff5f0;\n",
       "            color:  #000000;\n",
       "        }    #T_93ced500_8e31_11ea_bbd7_ccb0da3466acrow0_col4 {\n",
       "            background-color:  #f7fbff;\n",
       "            color:  #000000;\n",
       "        }    #T_93ced500_8e31_11ea_bbd7_ccb0da3466acrow0_col5 {\n",
       "            background-color:  #fff5f0;\n",
       "            color:  #000000;\n",
       "        }    #T_93ced500_8e31_11ea_bbd7_ccb0da3466acrow0_col6 {\n",
       "            background-color:  #b0d2e7;\n",
       "            color:  #000000;\n",
       "        }    #T_93ced500_8e31_11ea_bbd7_ccb0da3466acrow0_col7 {\n",
       "            background-color:  #004d1f;\n",
       "            color:  #f1f1f1;\n",
       "        }    #T_93ced500_8e31_11ea_bbd7_ccb0da3466acrow0_col8 {\n",
       "            background-color:  #f7fcf5;\n",
       "            color:  #000000;\n",
       "        }    #T_93ced500_8e31_11ea_bbd7_ccb0da3466acrow1_col1 {\n",
       "            background-color:  #deebf7;\n",
       "            color:  #000000;\n",
       "        }    #T_93ced500_8e31_11ea_bbd7_ccb0da3466acrow1_col2 {\n",
       "            background-color:  #c8e9c1;\n",
       "            color:  #000000;\n",
       "        }    #T_93ced500_8e31_11ea_bbd7_ccb0da3466acrow1_col3 {\n",
       "            background-color:  #feeae1;\n",
       "            color:  #000000;\n",
       "        }    #T_93ced500_8e31_11ea_bbd7_ccb0da3466acrow1_col4 {\n",
       "            background-color:  #e2edf8;\n",
       "            color:  #000000;\n",
       "        }    #T_93ced500_8e31_11ea_bbd7_ccb0da3466acrow1_col5 {\n",
       "            background-color:  #fcb89e;\n",
       "            color:  #000000;\n",
       "        }    #T_93ced500_8e31_11ea_bbd7_ccb0da3466acrow1_col6 {\n",
       "            background-color:  #dfecf7;\n",
       "            color:  #000000;\n",
       "        }    #T_93ced500_8e31_11ea_bbd7_ccb0da3466acrow1_col7 {\n",
       "            background-color:  #b2e0ac;\n",
       "            color:  #000000;\n",
       "        }    #T_93ced500_8e31_11ea_bbd7_ccb0da3466acrow1_col8 {\n",
       "            background-color:  #ccebc6;\n",
       "            color:  #000000;\n",
       "        }    #T_93ced500_8e31_11ea_bbd7_ccb0da3466acrow2_col1 {\n",
       "            background-color:  #f7fbff;\n",
       "            color:  #000000;\n",
       "        }    #T_93ced500_8e31_11ea_bbd7_ccb0da3466acrow2_col2 {\n",
       "            background-color:  #f7fcf5;\n",
       "            color:  #000000;\n",
       "        }    #T_93ced500_8e31_11ea_bbd7_ccb0da3466acrow2_col3 {\n",
       "            background-color:  #fff5f0;\n",
       "            color:  #000000;\n",
       "        }    #T_93ced500_8e31_11ea_bbd7_ccb0da3466acrow2_col4 {\n",
       "            background-color:  #f7fbff;\n",
       "            color:  #000000;\n",
       "        }    #T_93ced500_8e31_11ea_bbd7_ccb0da3466acrow2_col5 {\n",
       "            background-color:  #fff5f0;\n",
       "            color:  #000000;\n",
       "        }    #T_93ced500_8e31_11ea_bbd7_ccb0da3466acrow2_col6 {\n",
       "            background-color:  #f7fbff;\n",
       "            color:  #000000;\n",
       "        }    #T_93ced500_8e31_11ea_bbd7_ccb0da3466acrow2_col7 {\n",
       "            background-color:  #00441b;\n",
       "            color:  #f1f1f1;\n",
       "        }    #T_93ced500_8e31_11ea_bbd7_ccb0da3466acrow2_col8 {\n",
       "            background-color:  #70c274;\n",
       "            color:  #000000;\n",
       "        }    #T_93ced500_8e31_11ea_bbd7_ccb0da3466acrow3_col1 {\n",
       "            background-color:  #f7fbff;\n",
       "            color:  #000000;\n",
       "        }    #T_93ced500_8e31_11ea_bbd7_ccb0da3466acrow3_col2 {\n",
       "            background-color:  #f5fbf3;\n",
       "            color:  #000000;\n",
       "        }    #T_93ced500_8e31_11ea_bbd7_ccb0da3466acrow3_col3 {\n",
       "            background-color:  #fff5f0;\n",
       "            color:  #000000;\n",
       "        }    #T_93ced500_8e31_11ea_bbd7_ccb0da3466acrow3_col4 {\n",
       "            background-color:  #f7fbff;\n",
       "            color:  #000000;\n",
       "        }    #T_93ced500_8e31_11ea_bbd7_ccb0da3466acrow3_col5 {\n",
       "            background-color:  #fcb296;\n",
       "            color:  #000000;\n",
       "        }    #T_93ced500_8e31_11ea_bbd7_ccb0da3466acrow3_col6 {\n",
       "            background-color:  #f7fbff;\n",
       "            color:  #000000;\n",
       "        }    #T_93ced500_8e31_11ea_bbd7_ccb0da3466acrow3_col7 {\n",
       "            background-color:  #248c46;\n",
       "            color:  #000000;\n",
       "        }    #T_93ced500_8e31_11ea_bbd7_ccb0da3466acrow3_col8 {\n",
       "            background-color:  #e1f3dc;\n",
       "            color:  #000000;\n",
       "        }    #T_93ced500_8e31_11ea_bbd7_ccb0da3466acrow4_col1 {\n",
       "            background-color:  #eff6fc;\n",
       "            color:  #000000;\n",
       "        }    #T_93ced500_8e31_11ea_bbd7_ccb0da3466acrow4_col2 {\n",
       "            background-color:  #eff9eb;\n",
       "            color:  #000000;\n",
       "        }    #T_93ced500_8e31_11ea_bbd7_ccb0da3466acrow4_col3 {\n",
       "            background-color:  #fff4ef;\n",
       "            color:  #000000;\n",
       "        }    #T_93ced500_8e31_11ea_bbd7_ccb0da3466acrow4_col4 {\n",
       "            background-color:  #f0f6fd;\n",
       "            color:  #000000;\n",
       "        }    #T_93ced500_8e31_11ea_bbd7_ccb0da3466acrow4_col5 {\n",
       "            background-color:  #fee6da;\n",
       "            color:  #000000;\n",
       "        }    #T_93ced500_8e31_11ea_bbd7_ccb0da3466acrow4_col6 {\n",
       "            background-color:  #f5f9fe;\n",
       "            color:  #000000;\n",
       "        }    #T_93ced500_8e31_11ea_bbd7_ccb0da3466acrow4_col7 {\n",
       "            background-color:  #caeac3;\n",
       "            color:  #000000;\n",
       "        }    #T_93ced500_8e31_11ea_bbd7_ccb0da3466acrow4_col8 {\n",
       "            background-color:  #f7fcf5;\n",
       "            color:  #000000;\n",
       "        }    #T_93ced500_8e31_11ea_bbd7_ccb0da3466acrow5_col1 {\n",
       "            background-color:  #f6faff;\n",
       "            color:  #000000;\n",
       "        }    #T_93ced500_8e31_11ea_bbd7_ccb0da3466acrow5_col2 {\n",
       "            background-color:  #f6fcf4;\n",
       "            color:  #000000;\n",
       "        }    #T_93ced500_8e31_11ea_bbd7_ccb0da3466acrow5_col3 {\n",
       "            background-color:  #fff5f0;\n",
       "            color:  #000000;\n",
       "        }    #T_93ced500_8e31_11ea_bbd7_ccb0da3466acrow5_col4 {\n",
       "            background-color:  #f6faff;\n",
       "            color:  #000000;\n",
       "        }    #T_93ced500_8e31_11ea_bbd7_ccb0da3466acrow5_col5 {\n",
       "            background-color:  #fff5f0;\n",
       "            color:  #000000;\n",
       "        }    #T_93ced500_8e31_11ea_bbd7_ccb0da3466acrow5_col6 {\n",
       "            background-color:  #aed1e7;\n",
       "            color:  #000000;\n",
       "        }    #T_93ced500_8e31_11ea_bbd7_ccb0da3466acrow5_col7 {\n",
       "            background-color:  #d3eecd;\n",
       "            color:  #000000;\n",
       "        }    #T_93ced500_8e31_11ea_bbd7_ccb0da3466acrow5_col8 {\n",
       "            background-color:  #3ba458;\n",
       "            color:  #000000;\n",
       "        }    #T_93ced500_8e31_11ea_bbd7_ccb0da3466acrow6_col1 {\n",
       "            background-color:  #f6faff;\n",
       "            color:  #000000;\n",
       "        }    #T_93ced500_8e31_11ea_bbd7_ccb0da3466acrow6_col2 {\n",
       "            background-color:  #f5fbf2;\n",
       "            color:  #000000;\n",
       "        }    #T_93ced500_8e31_11ea_bbd7_ccb0da3466acrow6_col3 {\n",
       "            background-color:  #fff5f0;\n",
       "            color:  #000000;\n",
       "        }    #T_93ced500_8e31_11ea_bbd7_ccb0da3466acrow6_col4 {\n",
       "            background-color:  #f7fbff;\n",
       "            color:  #000000;\n",
       "        }    #T_93ced500_8e31_11ea_bbd7_ccb0da3466acrow6_col5 {\n",
       "            background-color:  #fff5f0;\n",
       "            color:  #000000;\n",
       "        }    #T_93ced500_8e31_11ea_bbd7_ccb0da3466acrow6_col6 {\n",
       "            background-color:  #f7fbff;\n",
       "            color:  #000000;\n",
       "        }    #T_93ced500_8e31_11ea_bbd7_ccb0da3466acrow6_col7 {\n",
       "            background-color:  #3fa95c;\n",
       "            color:  #000000;\n",
       "        }    #T_93ced500_8e31_11ea_bbd7_ccb0da3466acrow6_col8 {\n",
       "            background-color:  #e8f6e4;\n",
       "            color:  #000000;\n",
       "        }    #T_93ced500_8e31_11ea_bbd7_ccb0da3466acrow7_col1 {\n",
       "            background-color:  #a6cee4;\n",
       "            color:  #000000;\n",
       "        }    #T_93ced500_8e31_11ea_bbd7_ccb0da3466acrow7_col2 {\n",
       "            background-color:  #3da65a;\n",
       "            color:  #000000;\n",
       "        }    #T_93ced500_8e31_11ea_bbd7_ccb0da3466acrow7_col3 {\n",
       "            background-color:  #fee2d5;\n",
       "            color:  #000000;\n",
       "        }    #T_93ced500_8e31_11ea_bbd7_ccb0da3466acrow7_col4 {\n",
       "            background-color:  #b5d4e9;\n",
       "            color:  #000000;\n",
       "        }    #T_93ced500_8e31_11ea_bbd7_ccb0da3466acrow7_col5 {\n",
       "            background-color:  #fdd3c1;\n",
       "            color:  #000000;\n",
       "        }    #T_93ced500_8e31_11ea_bbd7_ccb0da3466acrow7_col6 {\n",
       "            background-color:  #08306b;\n",
       "            color:  #f1f1f1;\n",
       "        }    #T_93ced500_8e31_11ea_bbd7_ccb0da3466acrow7_col7 {\n",
       "            background-color:  #b8e3b2;\n",
       "            color:  #000000;\n",
       "        }    #T_93ced500_8e31_11ea_bbd7_ccb0da3466acrow7_col8 {\n",
       "            background-color:  #9cd797;\n",
       "            color:  #000000;\n",
       "        }    #T_93ced500_8e31_11ea_bbd7_ccb0da3466acrow8_col1 {\n",
       "            background-color:  #f7fbff;\n",
       "            color:  #000000;\n",
       "        }    #T_93ced500_8e31_11ea_bbd7_ccb0da3466acrow8_col2 {\n",
       "            background-color:  #f7fcf5;\n",
       "            color:  #000000;\n",
       "        }    #T_93ced500_8e31_11ea_bbd7_ccb0da3466acrow8_col3 {\n",
       "            background-color:  #fff5f0;\n",
       "            color:  #000000;\n",
       "        }    #T_93ced500_8e31_11ea_bbd7_ccb0da3466acrow8_col4 {\n",
       "            background-color:  #f7fbff;\n",
       "            color:  #000000;\n",
       "        }    #T_93ced500_8e31_11ea_bbd7_ccb0da3466acrow8_col5 {\n",
       "            background-color:  #fff5f0;\n",
       "            color:  #000000;\n",
       "        }    #T_93ced500_8e31_11ea_bbd7_ccb0da3466acrow8_col6 {\n",
       "            background-color:  #f5f9fe;\n",
       "            color:  #000000;\n",
       "        }    #T_93ced500_8e31_11ea_bbd7_ccb0da3466acrow8_col7 {\n",
       "            background-color:  #00441b;\n",
       "            color:  #f1f1f1;\n",
       "        }    #T_93ced500_8e31_11ea_bbd7_ccb0da3466acrow8_col8 {\n",
       "            background-color:  #50b264;\n",
       "            color:  #000000;\n",
       "        }    #T_93ced500_8e31_11ea_bbd7_ccb0da3466acrow9_col1 {\n",
       "            background-color:  #8cc0dd;\n",
       "            color:  #000000;\n",
       "        }    #T_93ced500_8e31_11ea_bbd7_ccb0da3466acrow9_col2 {\n",
       "            background-color:  #76c578;\n",
       "            color:  #000000;\n",
       "        }    #T_93ced500_8e31_11ea_bbd7_ccb0da3466acrow9_col3 {\n",
       "            background-color:  #f85f43;\n",
       "            color:  #000000;\n",
       "        }    #T_93ced500_8e31_11ea_bbd7_ccb0da3466acrow9_col4 {\n",
       "            background-color:  #95c5df;\n",
       "            color:  #000000;\n",
       "        }    #T_93ced500_8e31_11ea_bbd7_ccb0da3466acrow9_col5 {\n",
       "            background-color:  #ea362a;\n",
       "            color:  #f1f1f1;\n",
       "        }    #T_93ced500_8e31_11ea_bbd7_ccb0da3466acrow9_col6 {\n",
       "            background-color:  #add0e6;\n",
       "            color:  #000000;\n",
       "        }    #T_93ced500_8e31_11ea_bbd7_ccb0da3466acrow9_col7 {\n",
       "            background-color:  #d5efcf;\n",
       "            color:  #000000;\n",
       "        }    #T_93ced500_8e31_11ea_bbd7_ccb0da3466acrow9_col8 {\n",
       "            background-color:  #dff3da;\n",
       "            color:  #000000;\n",
       "        }    #T_93ced500_8e31_11ea_bbd7_ccb0da3466acrow10_col1 {\n",
       "            background-color:  #f1f7fd;\n",
       "            color:  #000000;\n",
       "        }    #T_93ced500_8e31_11ea_bbd7_ccb0da3466acrow10_col2 {\n",
       "            background-color:  #e7f6e2;\n",
       "            color:  #000000;\n",
       "        }    #T_93ced500_8e31_11ea_bbd7_ccb0da3466acrow10_col3 {\n",
       "            background-color:  #fff4ee;\n",
       "            color:  #000000;\n",
       "        }    #T_93ced500_8e31_11ea_bbd7_ccb0da3466acrow10_col4 {\n",
       "            background-color:  #f4f9fe;\n",
       "            color:  #000000;\n",
       "        }    #T_93ced500_8e31_11ea_bbd7_ccb0da3466acrow10_col5 {\n",
       "            background-color:  #fedecf;\n",
       "            color:  #000000;\n",
       "        }    #T_93ced500_8e31_11ea_bbd7_ccb0da3466acrow10_col6 {\n",
       "            background-color:  #ebf3fb;\n",
       "            color:  #000000;\n",
       "        }    #T_93ced500_8e31_11ea_bbd7_ccb0da3466acrow10_col7 {\n",
       "            background-color:  #5eb96b;\n",
       "            color:  #000000;\n",
       "        }    #T_93ced500_8e31_11ea_bbd7_ccb0da3466acrow10_col8 {\n",
       "            background-color:  #e7f6e2;\n",
       "            color:  #000000;\n",
       "        }    #T_93ced500_8e31_11ea_bbd7_ccb0da3466acrow11_col1 {\n",
       "            background-color:  #f7fbff;\n",
       "            color:  #000000;\n",
       "        }    #T_93ced500_8e31_11ea_bbd7_ccb0da3466acrow11_col2 {\n",
       "            background-color:  #f5fbf2;\n",
       "            color:  #000000;\n",
       "        }    #T_93ced500_8e31_11ea_bbd7_ccb0da3466acrow11_col3 {\n",
       "            background-color:  #fff5f0;\n",
       "            color:  #000000;\n",
       "        }    #T_93ced500_8e31_11ea_bbd7_ccb0da3466acrow11_col4 {\n",
       "            background-color:  #f7fbff;\n",
       "            color:  #000000;\n",
       "        }    #T_93ced500_8e31_11ea_bbd7_ccb0da3466acrow11_col5 {\n",
       "            background-color:  #fcab8f;\n",
       "            color:  #000000;\n",
       "        }    #T_93ced500_8e31_11ea_bbd7_ccb0da3466acrow11_col6 {\n",
       "            background-color:  #f4f9fe;\n",
       "            color:  #000000;\n",
       "        }    #T_93ced500_8e31_11ea_bbd7_ccb0da3466acrow11_col7 {\n",
       "            background-color:  #077331;\n",
       "            color:  #f1f1f1;\n",
       "        }    #T_93ced500_8e31_11ea_bbd7_ccb0da3466acrow11_col8 {\n",
       "            background-color:  #84cc83;\n",
       "            color:  #000000;\n",
       "        }    #T_93ced500_8e31_11ea_bbd7_ccb0da3466acrow12_col1 {\n",
       "            background-color:  #edf4fc;\n",
       "            color:  #000000;\n",
       "        }    #T_93ced500_8e31_11ea_bbd7_ccb0da3466acrow12_col2 {\n",
       "            background-color:  #e3f4de;\n",
       "            color:  #000000;\n",
       "        }    #T_93ced500_8e31_11ea_bbd7_ccb0da3466acrow12_col3 {\n",
       "            background-color:  #fff3ed;\n",
       "            color:  #000000;\n",
       "        }    #T_93ced500_8e31_11ea_bbd7_ccb0da3466acrow12_col4 {\n",
       "            background-color:  #eff6fc;\n",
       "            color:  #000000;\n",
       "        }    #T_93ced500_8e31_11ea_bbd7_ccb0da3466acrow12_col5 {\n",
       "            background-color:  #fedccd;\n",
       "            color:  #000000;\n",
       "        }    #T_93ced500_8e31_11ea_bbd7_ccb0da3466acrow12_col6 {\n",
       "            background-color:  #cee0f2;\n",
       "            color:  #000000;\n",
       "        }    #T_93ced500_8e31_11ea_bbd7_ccb0da3466acrow12_col7 {\n",
       "            background-color:  #95d391;\n",
       "            color:  #000000;\n",
       "        }    #T_93ced500_8e31_11ea_bbd7_ccb0da3466acrow12_col8 {\n",
       "            background-color:  #f7fcf5;\n",
       "            color:  #000000;\n",
       "        }    #T_93ced500_8e31_11ea_bbd7_ccb0da3466acrow13_col1 {\n",
       "            background-color:  #f5fafe;\n",
       "            color:  #000000;\n",
       "        }    #T_93ced500_8e31_11ea_bbd7_ccb0da3466acrow13_col2 {\n",
       "            background-color:  #f6fcf4;\n",
       "            color:  #000000;\n",
       "        }    #T_93ced500_8e31_11ea_bbd7_ccb0da3466acrow13_col3 {\n",
       "            background-color:  #fff4ef;\n",
       "            color:  #000000;\n",
       "        }    #T_93ced500_8e31_11ea_bbd7_ccb0da3466acrow13_col4 {\n",
       "            background-color:  #f5fafe;\n",
       "            color:  #000000;\n",
       "        }    #T_93ced500_8e31_11ea_bbd7_ccb0da3466acrow13_col5 {\n",
       "            background-color:  #fca689;\n",
       "            color:  #000000;\n",
       "        }    #T_93ced500_8e31_11ea_bbd7_ccb0da3466acrow13_col6 {\n",
       "            background-color:  #f6faff;\n",
       "            color:  #000000;\n",
       "        }    #T_93ced500_8e31_11ea_bbd7_ccb0da3466acrow13_col7 {\n",
       "            background-color:  #d6efd0;\n",
       "            color:  #000000;\n",
       "        }    #T_93ced500_8e31_11ea_bbd7_ccb0da3466acrow13_col8 {\n",
       "            background-color:  #f1faee;\n",
       "            color:  #000000;\n",
       "        }    #T_93ced500_8e31_11ea_bbd7_ccb0da3466acrow14_col1 {\n",
       "            background-color:  #eef5fc;\n",
       "            color:  #000000;\n",
       "        }    #T_93ced500_8e31_11ea_bbd7_ccb0da3466acrow14_col2 {\n",
       "            background-color:  #e1f3dc;\n",
       "            color:  #000000;\n",
       "        }    #T_93ced500_8e31_11ea_bbd7_ccb0da3466acrow14_col3 {\n",
       "            background-color:  #ffede5;\n",
       "            color:  #000000;\n",
       "        }    #T_93ced500_8e31_11ea_bbd7_ccb0da3466acrow14_col4 {\n",
       "            background-color:  #f2f7fd;\n",
       "            color:  #000000;\n",
       "        }    #T_93ced500_8e31_11ea_bbd7_ccb0da3466acrow14_col5 {\n",
       "            background-color:  #fb6e4e;\n",
       "            color:  #000000;\n",
       "        }    #T_93ced500_8e31_11ea_bbd7_ccb0da3466acrow14_col6 {\n",
       "            background-color:  #f0f6fd;\n",
       "            color:  #000000;\n",
       "        }    #T_93ced500_8e31_11ea_bbd7_ccb0da3466acrow14_col7 {\n",
       "            background-color:  #7dc87e;\n",
       "            color:  #000000;\n",
       "        }    #T_93ced500_8e31_11ea_bbd7_ccb0da3466acrow14_col8 {\n",
       "            background-color:  #bbe4b4;\n",
       "            color:  #000000;\n",
       "        }    #T_93ced500_8e31_11ea_bbd7_ccb0da3466acrow15_col1 {\n",
       "            background-color:  #f0f6fd;\n",
       "            color:  #000000;\n",
       "        }    #T_93ced500_8e31_11ea_bbd7_ccb0da3466acrow15_col2 {\n",
       "            background-color:  #d6efd0;\n",
       "            color:  #000000;\n",
       "        }    #T_93ced500_8e31_11ea_bbd7_ccb0da3466acrow15_col3 {\n",
       "            background-color:  #fff4ef;\n",
       "            color:  #000000;\n",
       "        }    #T_93ced500_8e31_11ea_bbd7_ccb0da3466acrow15_col4 {\n",
       "            background-color:  #f5fafe;\n",
       "            color:  #000000;\n",
       "        }    #T_93ced500_8e31_11ea_bbd7_ccb0da3466acrow15_col5 {\n",
       "            background-color:  #fee5d9;\n",
       "            color:  #000000;\n",
       "        }    #T_93ced500_8e31_11ea_bbd7_ccb0da3466acrow15_col6 {\n",
       "            background-color:  #edf4fc;\n",
       "            color:  #000000;\n",
       "        }    #T_93ced500_8e31_11ea_bbd7_ccb0da3466acrow15_col7 {\n",
       "            background-color:  #147e3a;\n",
       "            color:  #f1f1f1;\n",
       "        }    #T_93ced500_8e31_11ea_bbd7_ccb0da3466acrow15_col8 {\n",
       "            background-color:  #afdfa8;\n",
       "            color:  #000000;\n",
       "        }    #T_93ced500_8e31_11ea_bbd7_ccb0da3466acrow16_col1 {\n",
       "            background-color:  #f7fbff;\n",
       "            color:  #000000;\n",
       "        }    #T_93ced500_8e31_11ea_bbd7_ccb0da3466acrow16_col2 {\n",
       "            background-color:  #f6fcf4;\n",
       "            color:  #000000;\n",
       "        }    #T_93ced500_8e31_11ea_bbd7_ccb0da3466acrow16_col3 {\n",
       "            background-color:  #fff5f0;\n",
       "            color:  #000000;\n",
       "        }    #T_93ced500_8e31_11ea_bbd7_ccb0da3466acrow16_col4 {\n",
       "            background-color:  #f7fbff;\n",
       "            color:  #000000;\n",
       "        }    #T_93ced500_8e31_11ea_bbd7_ccb0da3466acrow16_col5 {\n",
       "            background-color:  #fff5f0;\n",
       "            color:  #000000;\n",
       "        }    #T_93ced500_8e31_11ea_bbd7_ccb0da3466acrow16_col6 {\n",
       "            background-color:  #5aa2cf;\n",
       "            color:  #000000;\n",
       "        }    #T_93ced500_8e31_11ea_bbd7_ccb0da3466acrow16_col7 {\n",
       "            background-color:  #92d28f;\n",
       "            color:  #000000;\n",
       "        }    #T_93ced500_8e31_11ea_bbd7_ccb0da3466acrow16_col8 {\n",
       "            background-color:  #f7fcf5;\n",
       "            color:  #000000;\n",
       "        }    #T_93ced500_8e31_11ea_bbd7_ccb0da3466acrow17_col1 {\n",
       "            background-color:  #cadef0;\n",
       "            color:  #000000;\n",
       "        }    #T_93ced500_8e31_11ea_bbd7_ccb0da3466acrow17_col2 {\n",
       "            background-color:  #a0d99b;\n",
       "            color:  #000000;\n",
       "        }    #T_93ced500_8e31_11ea_bbd7_ccb0da3466acrow17_col3 {\n",
       "            background-color:  #fcaa8d;\n",
       "            color:  #000000;\n",
       "        }    #T_93ced500_8e31_11ea_bbd7_ccb0da3466acrow17_col4 {\n",
       "            background-color:  #d1e2f3;\n",
       "            color:  #000000;\n",
       "        }    #T_93ced500_8e31_11ea_bbd7_ccb0da3466acrow17_col5 {\n",
       "            background-color:  #e12d26;\n",
       "            color:  #f1f1f1;\n",
       "        }    #T_93ced500_8e31_11ea_bbd7_ccb0da3466acrow17_col6 {\n",
       "            background-color:  #dae8f6;\n",
       "            color:  #000000;\n",
       "        }    #T_93ced500_8e31_11ea_bbd7_ccb0da3466acrow17_col7 {\n",
       "            background-color:  #c1e6ba;\n",
       "            color:  #000000;\n",
       "        }    #T_93ced500_8e31_11ea_bbd7_ccb0da3466acrow17_col8 {\n",
       "            background-color:  #e8f6e4;\n",
       "            color:  #000000;\n",
       "        }    #T_93ced500_8e31_11ea_bbd7_ccb0da3466acrow18_col1 {\n",
       "            background-color:  #08306b;\n",
       "            color:  #f1f1f1;\n",
       "        }    #T_93ced500_8e31_11ea_bbd7_ccb0da3466acrow18_col2 {\n",
       "            background-color:  #00441b;\n",
       "            color:  #f1f1f1;\n",
       "        }    #T_93ced500_8e31_11ea_bbd7_ccb0da3466acrow18_col3 {\n",
       "            background-color:  #67000d;\n",
       "            color:  #f1f1f1;\n",
       "        }    #T_93ced500_8e31_11ea_bbd7_ccb0da3466acrow18_col4 {\n",
       "            background-color:  #08306b;\n",
       "            color:  #f1f1f1;\n",
       "        }    #T_93ced500_8e31_11ea_bbd7_ccb0da3466acrow18_col5 {\n",
       "            background-color:  #fa6849;\n",
       "            color:  #000000;\n",
       "        }    #T_93ced500_8e31_11ea_bbd7_ccb0da3466acrow18_col6 {\n",
       "            background-color:  #8abfdd;\n",
       "            color:  #000000;\n",
       "        }    #T_93ced500_8e31_11ea_bbd7_ccb0da3466acrow18_col7 {\n",
       "            background-color:  #dcf2d7;\n",
       "            color:  #000000;\n",
       "        }    #T_93ced500_8e31_11ea_bbd7_ccb0da3466acrow18_col8 {\n",
       "            background-color:  #e5f5e0;\n",
       "            color:  #000000;\n",
       "        }    #T_93ced500_8e31_11ea_bbd7_ccb0da3466acrow19_col1 {\n",
       "            background-color:  #f7fbff;\n",
       "            color:  #000000;\n",
       "        }    #T_93ced500_8e31_11ea_bbd7_ccb0da3466acrow19_col2 {\n",
       "            background-color:  #f7fcf5;\n",
       "            color:  #000000;\n",
       "        }    #T_93ced500_8e31_11ea_bbd7_ccb0da3466acrow19_col3 {\n",
       "            background-color:  #fff5f0;\n",
       "            color:  #000000;\n",
       "        }    #T_93ced500_8e31_11ea_bbd7_ccb0da3466acrow19_col4 {\n",
       "            background-color:  #f7fbff;\n",
       "            color:  #000000;\n",
       "        }    #T_93ced500_8e31_11ea_bbd7_ccb0da3466acrow19_col5 {\n",
       "            background-color:  #fff5f0;\n",
       "            color:  #000000;\n",
       "        }    #T_93ced500_8e31_11ea_bbd7_ccb0da3466acrow19_col6 {\n",
       "            background-color:  #f7fbff;\n",
       "            color:  #000000;\n",
       "        }    #T_93ced500_8e31_11ea_bbd7_ccb0da3466acrow19_col7 {\n",
       "            background-color:  #00441b;\n",
       "            color:  #f1f1f1;\n",
       "        }    #T_93ced500_8e31_11ea_bbd7_ccb0da3466acrow19_col8 {\n",
       "            background-color:  #d2edcc;\n",
       "            color:  #000000;\n",
       "        }    #T_93ced500_8e31_11ea_bbd7_ccb0da3466acrow20_col1 {\n",
       "            background-color:  #f7fbff;\n",
       "            color:  #000000;\n",
       "        }    #T_93ced500_8e31_11ea_bbd7_ccb0da3466acrow20_col2 {\n",
       "            background-color:  #f7fcf5;\n",
       "            color:  #000000;\n",
       "        }    #T_93ced500_8e31_11ea_bbd7_ccb0da3466acrow20_col3 {\n",
       "            background-color:  #fff5f0;\n",
       "            color:  #000000;\n",
       "        }    #T_93ced500_8e31_11ea_bbd7_ccb0da3466acrow20_col4 {\n",
       "            background-color:  #f7fbff;\n",
       "            color:  #000000;\n",
       "        }    #T_93ced500_8e31_11ea_bbd7_ccb0da3466acrow20_col5 {\n",
       "            background-color:  #67000d;\n",
       "            color:  #f1f1f1;\n",
       "        }    #T_93ced500_8e31_11ea_bbd7_ccb0da3466acrow20_col6 {\n",
       "            background-color:  #f5fafe;\n",
       "            color:  #000000;\n",
       "        }    #T_93ced500_8e31_11ea_bbd7_ccb0da3466acrow20_col7 {\n",
       "            background-color:  #f7fcf5;\n",
       "            color:  #000000;\n",
       "        }    #T_93ced500_8e31_11ea_bbd7_ccb0da3466acrow20_col8 {\n",
       "            background-color:  #87cd86;\n",
       "            color:  #000000;\n",
       "        }    #T_93ced500_8e31_11ea_bbd7_ccb0da3466acrow21_col1 {\n",
       "            background-color:  #f7fbff;\n",
       "            color:  #000000;\n",
       "        }    #T_93ced500_8e31_11ea_bbd7_ccb0da3466acrow21_col2 {\n",
       "            background-color:  #f7fcf5;\n",
       "            color:  #000000;\n",
       "        }    #T_93ced500_8e31_11ea_bbd7_ccb0da3466acrow21_col3 {\n",
       "            background-color:  #fff5f0;\n",
       "            color:  #000000;\n",
       "        }    #T_93ced500_8e31_11ea_bbd7_ccb0da3466acrow21_col4 {\n",
       "            background-color:  #f7fbff;\n",
       "            color:  #000000;\n",
       "        }    #T_93ced500_8e31_11ea_bbd7_ccb0da3466acrow21_col5 {\n",
       "            background-color:  #fff5f0;\n",
       "            color:  #000000;\n",
       "        }    #T_93ced500_8e31_11ea_bbd7_ccb0da3466acrow21_col6 {\n",
       "            background-color:  #f7fbff;\n",
       "            color:  #000000;\n",
       "        }    #T_93ced500_8e31_11ea_bbd7_ccb0da3466acrow21_col7 {\n",
       "            background-color:  #f7fcf5;\n",
       "            color:  #000000;\n",
       "        }    #T_93ced500_8e31_11ea_bbd7_ccb0da3466acrow21_col8 {\n",
       "            background-color:  #4eb264;\n",
       "            color:  #000000;\n",
       "        }    #T_93ced500_8e31_11ea_bbd7_ccb0da3466acrow22_col1 {\n",
       "            background-color:  #f5f9fe;\n",
       "            color:  #000000;\n",
       "        }    #T_93ced500_8e31_11ea_bbd7_ccb0da3466acrow22_col2 {\n",
       "            background-color:  #f3faf0;\n",
       "            color:  #000000;\n",
       "        }    #T_93ced500_8e31_11ea_bbd7_ccb0da3466acrow22_col3 {\n",
       "            background-color:  #fff5f0;\n",
       "            color:  #000000;\n",
       "        }    #T_93ced500_8e31_11ea_bbd7_ccb0da3466acrow22_col4 {\n",
       "            background-color:  #f5fafe;\n",
       "            color:  #000000;\n",
       "        }    #T_93ced500_8e31_11ea_bbd7_ccb0da3466acrow22_col5 {\n",
       "            background-color:  #fee9df;\n",
       "            color:  #000000;\n",
       "        }    #T_93ced500_8e31_11ea_bbd7_ccb0da3466acrow22_col6 {\n",
       "            background-color:  #f5fafe;\n",
       "            color:  #000000;\n",
       "        }    #T_93ced500_8e31_11ea_bbd7_ccb0da3466acrow22_col7 {\n",
       "            background-color:  #a3da9d;\n",
       "            color:  #000000;\n",
       "        }    #T_93ced500_8e31_11ea_bbd7_ccb0da3466acrow22_col8 {\n",
       "            background-color:  #ebf7e7;\n",
       "            color:  #000000;\n",
       "        }    #T_93ced500_8e31_11ea_bbd7_ccb0da3466acrow23_col1 {\n",
       "            background-color:  #f7fbff;\n",
       "            color:  #000000;\n",
       "        }    #T_93ced500_8e31_11ea_bbd7_ccb0da3466acrow23_col2 {\n",
       "            background-color:  #f7fcf5;\n",
       "            color:  #000000;\n",
       "        }    #T_93ced500_8e31_11ea_bbd7_ccb0da3466acrow23_col3 {\n",
       "            background-color:  #fff5f0;\n",
       "            color:  #000000;\n",
       "        }    #T_93ced500_8e31_11ea_bbd7_ccb0da3466acrow23_col4 {\n",
       "            background-color:  #f7fbff;\n",
       "            color:  #000000;\n",
       "        }    #T_93ced500_8e31_11ea_bbd7_ccb0da3466acrow23_col5 {\n",
       "            background-color:  #fff5f0;\n",
       "            color:  #000000;\n",
       "        }    #T_93ced500_8e31_11ea_bbd7_ccb0da3466acrow23_col6 {\n",
       "            background-color:  #f4f9fe;\n",
       "            color:  #000000;\n",
       "        }    #T_93ced500_8e31_11ea_bbd7_ccb0da3466acrow23_col7 {\n",
       "            background-color:  #40aa5d;\n",
       "            color:  #000000;\n",
       "        }    #T_93ced500_8e31_11ea_bbd7_ccb0da3466acrow23_col8 {\n",
       "            background-color:  #00441b;\n",
       "            color:  #f1f1f1;\n",
       "        }    #T_93ced500_8e31_11ea_bbd7_ccb0da3466acrow24_col1 {\n",
       "            background-color:  #e7f0fa;\n",
       "            color:  #000000;\n",
       "        }    #T_93ced500_8e31_11ea_bbd7_ccb0da3466acrow24_col2 {\n",
       "            background-color:  #eff9ec;\n",
       "            color:  #000000;\n",
       "        }    #T_93ced500_8e31_11ea_bbd7_ccb0da3466acrow24_col3 {\n",
       "            background-color:  #ffefe8;\n",
       "            color:  #000000;\n",
       "        }    #T_93ced500_8e31_11ea_bbd7_ccb0da3466acrow24_col4 {\n",
       "            background-color:  #e5eff9;\n",
       "            color:  #000000;\n",
       "        }    #T_93ced500_8e31_11ea_bbd7_ccb0da3466acrow24_col5 {\n",
       "            background-color:  #fcc2aa;\n",
       "            color:  #000000;\n",
       "        }    #T_93ced500_8e31_11ea_bbd7_ccb0da3466acrow24_col6 {\n",
       "            background-color:  #dbe9f6;\n",
       "            color:  #000000;\n",
       "        }    #T_93ced500_8e31_11ea_bbd7_ccb0da3466acrow24_col7 {\n",
       "            background-color:  #e8f6e3;\n",
       "            color:  #000000;\n",
       "        }    #T_93ced500_8e31_11ea_bbd7_ccb0da3466acrow24_col8 {\n",
       "            background-color:  #e2f4dd;\n",
       "            color:  #000000;\n",
       "        }    #T_93ced500_8e31_11ea_bbd7_ccb0da3466acrow25_col1 {\n",
       "            background-color:  #ccdff1;\n",
       "            color:  #000000;\n",
       "        }    #T_93ced500_8e31_11ea_bbd7_ccb0da3466acrow25_col2 {\n",
       "            background-color:  #3da65a;\n",
       "            color:  #000000;\n",
       "        }    #T_93ced500_8e31_11ea_bbd7_ccb0da3466acrow25_col3 {\n",
       "            background-color:  #fedfd0;\n",
       "            color:  #000000;\n",
       "        }    #T_93ced500_8e31_11ea_bbd7_ccb0da3466acrow25_col4 {\n",
       "            background-color:  #dbe9f6;\n",
       "            color:  #000000;\n",
       "        }    #T_93ced500_8e31_11ea_bbd7_ccb0da3466acrow25_col5 {\n",
       "            background-color:  #fcad90;\n",
       "            color:  #000000;\n",
       "        }    #T_93ced500_8e31_11ea_bbd7_ccb0da3466acrow25_col6 {\n",
       "            background-color:  #d9e8f5;\n",
       "            color:  #000000;\n",
       "        }    #T_93ced500_8e31_11ea_bbd7_ccb0da3466acrow25_col7 {\n",
       "            background-color:  #7fc97f;\n",
       "            color:  #000000;\n",
       "        }    #T_93ced500_8e31_11ea_bbd7_ccb0da3466acrow25_col8 {\n",
       "            background-color:  #dff3da;\n",
       "            color:  #000000;\n",
       "        }    #T_93ced500_8e31_11ea_bbd7_ccb0da3466acrow26_col1 {\n",
       "            background-color:  #caddf0;\n",
       "            color:  #000000;\n",
       "        }    #T_93ced500_8e31_11ea_bbd7_ccb0da3466acrow26_col2 {\n",
       "            background-color:  #3ba458;\n",
       "            color:  #000000;\n",
       "        }    #T_93ced500_8e31_11ea_bbd7_ccb0da3466acrow26_col3 {\n",
       "            background-color:  #ffece3;\n",
       "            color:  #000000;\n",
       "        }    #T_93ced500_8e31_11ea_bbd7_ccb0da3466acrow26_col4 {\n",
       "            background-color:  #d8e7f5;\n",
       "            color:  #000000;\n",
       "        }    #T_93ced500_8e31_11ea_bbd7_ccb0da3466acrow26_col5 {\n",
       "            background-color:  #fee1d4;\n",
       "            color:  #000000;\n",
       "        }    #T_93ced500_8e31_11ea_bbd7_ccb0da3466acrow26_col6 {\n",
       "            background-color:  #d9e8f5;\n",
       "            color:  #000000;\n",
       "        }    #T_93ced500_8e31_11ea_bbd7_ccb0da3466acrow26_col7 {\n",
       "            background-color:  #84cc83;\n",
       "            color:  #000000;\n",
       "        }    #T_93ced500_8e31_11ea_bbd7_ccb0da3466acrow26_col8 {\n",
       "            background-color:  #bbe4b4;\n",
       "            color:  #000000;\n",
       "        }    #T_93ced500_8e31_11ea_bbd7_ccb0da3466acrow27_col1 {\n",
       "            background-color:  #e7f0fa;\n",
       "            color:  #000000;\n",
       "        }    #T_93ced500_8e31_11ea_bbd7_ccb0da3466acrow27_col2 {\n",
       "            background-color:  #cbebc5;\n",
       "            color:  #000000;\n",
       "        }    #T_93ced500_8e31_11ea_bbd7_ccb0da3466acrow27_col3 {\n",
       "            background-color:  #ffece4;\n",
       "            color:  #000000;\n",
       "        }    #T_93ced500_8e31_11ea_bbd7_ccb0da3466acrow27_col4 {\n",
       "            background-color:  #edf4fc;\n",
       "            color:  #000000;\n",
       "        }    #T_93ced500_8e31_11ea_bbd7_ccb0da3466acrow27_col5 {\n",
       "            background-color:  #fca486;\n",
       "            color:  #000000;\n",
       "        }    #T_93ced500_8e31_11ea_bbd7_ccb0da3466acrow27_col6 {\n",
       "            background-color:  #e1edf8;\n",
       "            color:  #000000;\n",
       "        }    #T_93ced500_8e31_11ea_bbd7_ccb0da3466acrow27_col7 {\n",
       "            background-color:  #86cc85;\n",
       "            color:  #000000;\n",
       "        }    #T_93ced500_8e31_11ea_bbd7_ccb0da3466acrow27_col8 {\n",
       "            background-color:  #f7fcf5;\n",
       "            color:  #000000;\n",
       "        }    #T_93ced500_8e31_11ea_bbd7_ccb0da3466acrow28_col1 {\n",
       "            background-color:  #f7fbff;\n",
       "            color:  #000000;\n",
       "        }    #T_93ced500_8e31_11ea_bbd7_ccb0da3466acrow28_col2 {\n",
       "            background-color:  #f7fcf5;\n",
       "            color:  #000000;\n",
       "        }    #T_93ced500_8e31_11ea_bbd7_ccb0da3466acrow28_col3 {\n",
       "            background-color:  #fff5f0;\n",
       "            color:  #000000;\n",
       "        }    #T_93ced500_8e31_11ea_bbd7_ccb0da3466acrow28_col4 {\n",
       "            background-color:  #f7fbff;\n",
       "            color:  #000000;\n",
       "        }    #T_93ced500_8e31_11ea_bbd7_ccb0da3466acrow28_col5 {\n",
       "            background-color:  #fff5f0;\n",
       "            color:  #000000;\n",
       "        }    #T_93ced500_8e31_11ea_bbd7_ccb0da3466acrow28_col6 {\n",
       "            background-color:  #f5fafe;\n",
       "            color:  #000000;\n",
       "        }    #T_93ced500_8e31_11ea_bbd7_ccb0da3466acrow28_col7 {\n",
       "            background-color:  #e5f5e0;\n",
       "            color:  #000000;\n",
       "        }    #T_93ced500_8e31_11ea_bbd7_ccb0da3466acrow28_col8 {\n",
       "            background-color:  #a4da9e;\n",
       "            color:  #000000;\n",
       "        }    #T_93ced500_8e31_11ea_bbd7_ccb0da3466acrow29_col1 {\n",
       "            background-color:  #f6faff;\n",
       "            color:  #000000;\n",
       "        }    #T_93ced500_8e31_11ea_bbd7_ccb0da3466acrow29_col2 {\n",
       "            background-color:  #f5fbf2;\n",
       "            color:  #000000;\n",
       "        }    #T_93ced500_8e31_11ea_bbd7_ccb0da3466acrow29_col3 {\n",
       "            background-color:  #fff5f0;\n",
       "            color:  #000000;\n",
       "        }    #T_93ced500_8e31_11ea_bbd7_ccb0da3466acrow29_col4 {\n",
       "            background-color:  #f7fbff;\n",
       "            color:  #000000;\n",
       "        }    #T_93ced500_8e31_11ea_bbd7_ccb0da3466acrow29_col5 {\n",
       "            background-color:  #fdcab5;\n",
       "            color:  #000000;\n",
       "        }    #T_93ced500_8e31_11ea_bbd7_ccb0da3466acrow29_col6 {\n",
       "            background-color:  #f4f9fe;\n",
       "            color:  #000000;\n",
       "        }    #T_93ced500_8e31_11ea_bbd7_ccb0da3466acrow29_col7 {\n",
       "            background-color:  #3ba458;\n",
       "            color:  #000000;\n",
       "        }    #T_93ced500_8e31_11ea_bbd7_ccb0da3466acrow29_col8 {\n",
       "            background-color:  #d4eece;\n",
       "            color:  #000000;\n",
       "        }    #T_93ced500_8e31_11ea_bbd7_ccb0da3466acrow30_col1 {\n",
       "            background-color:  #cde0f1;\n",
       "            color:  #000000;\n",
       "        }    #T_93ced500_8e31_11ea_bbd7_ccb0da3466acrow30_col2 {\n",
       "            background-color:  #a7dba0;\n",
       "            color:  #000000;\n",
       "        }    #T_93ced500_8e31_11ea_bbd7_ccb0da3466acrow30_col3 {\n",
       "            background-color:  #fee7dc;\n",
       "            color:  #000000;\n",
       "        }    #T_93ced500_8e31_11ea_bbd7_ccb0da3466acrow30_col4 {\n",
       "            background-color:  #d2e3f3;\n",
       "            color:  #000000;\n",
       "        }    #T_93ced500_8e31_11ea_bbd7_ccb0da3466acrow30_col5 {\n",
       "            background-color:  #fdcbb6;\n",
       "            color:  #000000;\n",
       "        }    #T_93ced500_8e31_11ea_bbd7_ccb0da3466acrow30_col6 {\n",
       "            background-color:  #eef5fc;\n",
       "            color:  #000000;\n",
       "        }    #T_93ced500_8e31_11ea_bbd7_ccb0da3466acrow30_col7 {\n",
       "            background-color:  #c0e6b9;\n",
       "            color:  #000000;\n",
       "        }    #T_93ced500_8e31_11ea_bbd7_ccb0da3466acrow30_col8 {\n",
       "            background-color:  #eef8ea;\n",
       "            color:  #000000;\n",
       "        }    #T_93ced500_8e31_11ea_bbd7_ccb0da3466acrow31_col1 {\n",
       "            background-color:  #e9f2fa;\n",
       "            color:  #000000;\n",
       "        }    #T_93ced500_8e31_11ea_bbd7_ccb0da3466acrow31_col2 {\n",
       "            background-color:  #edf8e9;\n",
       "            color:  #000000;\n",
       "        }    #T_93ced500_8e31_11ea_bbd7_ccb0da3466acrow31_col3 {\n",
       "            background-color:  #feeae1;\n",
       "            color:  #000000;\n",
       "        }    #T_93ced500_8e31_11ea_bbd7_ccb0da3466acrow31_col4 {\n",
       "            background-color:  #e8f1fa;\n",
       "            color:  #000000;\n",
       "        }    #T_93ced500_8e31_11ea_bbd7_ccb0da3466acrow31_col5 {\n",
       "            background-color:  #fc7f5f;\n",
       "            color:  #000000;\n",
       "        }    #T_93ced500_8e31_11ea_bbd7_ccb0da3466acrow31_col6 {\n",
       "            background-color:  #f0f6fd;\n",
       "            color:  #000000;\n",
       "        }    #T_93ced500_8e31_11ea_bbd7_ccb0da3466acrow31_col7 {\n",
       "            background-color:  #ddf2d8;\n",
       "            color:  #000000;\n",
       "        }    #T_93ced500_8e31_11ea_bbd7_ccb0da3466acrow31_col8 {\n",
       "            background-color:  #d7efd1;\n",
       "            color:  #000000;\n",
       "        }</style><table id=\"T_93ced500_8e31_11ea_bbd7_ccb0da3466ac\" ><thead>    <tr>        <th class=\"blank level0\" ></th>        <th class=\"col_heading level0 col0\" >State/UnionTerritory</th>        <th class=\"col_heading level0 col1\" >Confirmed</th>        <th class=\"col_heading level0 col2\" >Cured</th>        <th class=\"col_heading level0 col3\" >Deaths</th>        <th class=\"col_heading level0 col4\" >Active</th>        <th class=\"col_heading level0 col5\" >Mortality_Rate</th>        <th class=\"col_heading level0 col6\" >Cases_Per_Million</th>        <th class=\"col_heading level0 col7\" >Recovery_Rate</th>        <th class=\"col_heading level0 col8\" >Beds_Per_Million</th>    </tr></thead><tbody>\n",
       "                <tr>\n",
       "                        <th id=\"T_93ced500_8e31_11ea_bbd7_ccb0da3466aclevel0_row0\" class=\"row_heading level0 row0\" >1574</th>\n",
       "                        <td id=\"T_93ced500_8e31_11ea_bbd7_ccb0da3466acrow0_col0\" class=\"data row0 col0\" >Andaman and Nicobar Islands</td>\n",
       "                        <td id=\"T_93ced500_8e31_11ea_bbd7_ccb0da3466acrow0_col1\" class=\"data row0 col1\" >33</td>\n",
       "                        <td id=\"T_93ced500_8e31_11ea_bbd7_ccb0da3466acrow0_col2\" class=\"data row0 col2\" >32</td>\n",
       "                        <td id=\"T_93ced500_8e31_11ea_bbd7_ccb0da3466acrow0_col3\" class=\"data row0 col3\" >0</td>\n",
       "                        <td id=\"T_93ced500_8e31_11ea_bbd7_ccb0da3466acrow0_col4\" class=\"data row0 col4\" >1</td>\n",
       "                        <td id=\"T_93ced500_8e31_11ea_bbd7_ccb0da3466acrow0_col5\" class=\"data row0 col5\" >0.000000</td>\n",
       "                        <td id=\"T_93ced500_8e31_11ea_bbd7_ccb0da3466acrow0_col6\" class=\"data row0 col6\" >87.000000</td>\n",
       "                        <td id=\"T_93ced500_8e31_11ea_bbd7_ccb0da3466acrow0_col7\" class=\"data row0 col7\" >96.970000</td>\n",
       "                        <td id=\"T_93ced500_8e31_11ea_bbd7_ccb0da3466acrow0_col8\" class=\"data row0 col8\" >nan</td>\n",
       "            </tr>\n",
       "            <tr>\n",
       "                        <th id=\"T_93ced500_8e31_11ea_bbd7_ccb0da3466aclevel0_row1\" class=\"row_heading level0 row1\" >1575</th>\n",
       "                        <td id=\"T_93ced500_8e31_11ea_bbd7_ccb0da3466acrow1_col0\" class=\"data row1 col0\" >Andhra Pradesh</td>\n",
       "                        <td id=\"T_93ced500_8e31_11ea_bbd7_ccb0da3466acrow1_col1\" class=\"data row1 col1\" >1650</td>\n",
       "                        <td id=\"T_93ced500_8e31_11ea_bbd7_ccb0da3466acrow1_col2\" class=\"data row1 col2\" >524</td>\n",
       "                        <td id=\"T_93ced500_8e31_11ea_bbd7_ccb0da3466acrow1_col3\" class=\"data row1 col3\" >36</td>\n",
       "                        <td id=\"T_93ced500_8e31_11ea_bbd7_ccb0da3466acrow1_col4\" class=\"data row1 col4\" >1090</td>\n",
       "                        <td id=\"T_93ced500_8e31_11ea_bbd7_ccb0da3466acrow1_col5\" class=\"data row1 col5\" >2.180000</td>\n",
       "                        <td id=\"T_93ced500_8e31_11ea_bbd7_ccb0da3466acrow1_col6\" class=\"data row1 col6\" >33.000000</td>\n",
       "                        <td id=\"T_93ced500_8e31_11ea_bbd7_ccb0da3466acrow1_col7\" class=\"data row1 col7\" >31.760000</td>\n",
       "                        <td id=\"T_93ced500_8e31_11ea_bbd7_ccb0da3466acrow1_col8\" class=\"data row1 col8\" >1693.000000</td>\n",
       "            </tr>\n",
       "            <tr>\n",
       "                        <th id=\"T_93ced500_8e31_11ea_bbd7_ccb0da3466aclevel0_row2\" class=\"row_heading level0 row2\" >1576</th>\n",
       "                        <td id=\"T_93ced500_8e31_11ea_bbd7_ccb0da3466acrow2_col0\" class=\"data row2 col0\" >Arunachal Pradesh</td>\n",
       "                        <td id=\"T_93ced500_8e31_11ea_bbd7_ccb0da3466acrow2_col1\" class=\"data row2 col1\" >1</td>\n",
       "                        <td id=\"T_93ced500_8e31_11ea_bbd7_ccb0da3466acrow2_col2\" class=\"data row2 col2\" >1</td>\n",
       "                        <td id=\"T_93ced500_8e31_11ea_bbd7_ccb0da3466acrow2_col3\" class=\"data row2 col3\" >0</td>\n",
       "                        <td id=\"T_93ced500_8e31_11ea_bbd7_ccb0da3466acrow2_col4\" class=\"data row2 col4\" >0</td>\n",
       "                        <td id=\"T_93ced500_8e31_11ea_bbd7_ccb0da3466acrow2_col5\" class=\"data row2 col5\" >0.000000</td>\n",
       "                        <td id=\"T_93ced500_8e31_11ea_bbd7_ccb0da3466acrow2_col6\" class=\"data row2 col6\" >1.000000</td>\n",
       "                        <td id=\"T_93ced500_8e31_11ea_bbd7_ccb0da3466acrow2_col7\" class=\"data row2 col7\" >100.000000</td>\n",
       "                        <td id=\"T_93ced500_8e31_11ea_bbd7_ccb0da3466acrow2_col8\" class=\"data row2 col8\" >3414.000000</td>\n",
       "            </tr>\n",
       "            <tr>\n",
       "                        <th id=\"T_93ced500_8e31_11ea_bbd7_ccb0da3466aclevel0_row3\" class=\"row_heading level0 row3\" >1577</th>\n",
       "                        <td id=\"T_93ced500_8e31_11ea_bbd7_ccb0da3466acrow3_col0\" class=\"data row3 col0\" >Assam</td>\n",
       "                        <td id=\"T_93ced500_8e31_11ea_bbd7_ccb0da3466acrow3_col1\" class=\"data row3 col1\" >43</td>\n",
       "                        <td id=\"T_93ced500_8e31_11ea_bbd7_ccb0da3466acrow3_col2\" class=\"data row3 col2\" >32</td>\n",
       "                        <td id=\"T_93ced500_8e31_11ea_bbd7_ccb0da3466acrow3_col3\" class=\"data row3 col3\" >1</td>\n",
       "                        <td id=\"T_93ced500_8e31_11ea_bbd7_ccb0da3466acrow3_col4\" class=\"data row3 col4\" >10</td>\n",
       "                        <td id=\"T_93ced500_8e31_11ea_bbd7_ccb0da3466acrow3_col5\" class=\"data row3 col5\" >2.330000</td>\n",
       "                        <td id=\"T_93ced500_8e31_11ea_bbd7_ccb0da3466acrow3_col6\" class=\"data row3 col6\" >1.000000</td>\n",
       "                        <td id=\"T_93ced500_8e31_11ea_bbd7_ccb0da3466acrow3_col7\" class=\"data row3 col7\" >74.420000</td>\n",
       "                        <td id=\"T_93ced500_8e31_11ea_bbd7_ccb0da3466acrow3_col8\" class=\"data row3 col8\" >1162.000000</td>\n",
       "            </tr>\n",
       "            <tr>\n",
       "                        <th id=\"T_93ced500_8e31_11ea_bbd7_ccb0da3466aclevel0_row4\" class=\"row_heading level0 row4\" >1578</th>\n",
       "                        <td id=\"T_93ced500_8e31_11ea_bbd7_ccb0da3466acrow4_col0\" class=\"data row4 col0\" >Bihar</td>\n",
       "                        <td id=\"T_93ced500_8e31_11ea_bbd7_ccb0da3466acrow4_col1\" class=\"data row4 col1\" >517</td>\n",
       "                        <td id=\"T_93ced500_8e31_11ea_bbd7_ccb0da3466acrow4_col2\" class=\"data row4 col2\" >125</td>\n",
       "                        <td id=\"T_93ced500_8e31_11ea_bbd7_ccb0da3466acrow4_col3\" class=\"data row4 col3\" >4</td>\n",
       "                        <td id=\"T_93ced500_8e31_11ea_bbd7_ccb0da3466acrow4_col4\" class=\"data row4 col4\" >388</td>\n",
       "                        <td id=\"T_93ced500_8e31_11ea_bbd7_ccb0da3466acrow4_col5\" class=\"data row4 col5\" >0.770000</td>\n",
       "                        <td id=\"T_93ced500_8e31_11ea_bbd7_ccb0da3466acrow4_col6\" class=\"data row4 col6\" >5.000000</td>\n",
       "                        <td id=\"T_93ced500_8e31_11ea_bbd7_ccb0da3466acrow4_col7\" class=\"data row4 col7\" >24.180000</td>\n",
       "                        <td id=\"T_93ced500_8e31_11ea_bbd7_ccb0da3466acrow4_col8\" class=\"data row4 col8\" >286.000000</td>\n",
       "            </tr>\n",
       "            <tr>\n",
       "                        <th id=\"T_93ced500_8e31_11ea_bbd7_ccb0da3466aclevel0_row5\" class=\"row_heading level0 row5\" >1579</th>\n",
       "                        <td id=\"T_93ced500_8e31_11ea_bbd7_ccb0da3466acrow5_col0\" class=\"data row5 col0\" >Chandigarh</td>\n",
       "                        <td id=\"T_93ced500_8e31_11ea_bbd7_ccb0da3466acrow5_col1\" class=\"data row5 col1\" >94</td>\n",
       "                        <td id=\"T_93ced500_8e31_11ea_bbd7_ccb0da3466acrow5_col2\" class=\"data row5 col2\" >19</td>\n",
       "                        <td id=\"T_93ced500_8e31_11ea_bbd7_ccb0da3466acrow5_col3\" class=\"data row5 col3\" >0</td>\n",
       "                        <td id=\"T_93ced500_8e31_11ea_bbd7_ccb0da3466acrow5_col4\" class=\"data row5 col4\" >75</td>\n",
       "                        <td id=\"T_93ced500_8e31_11ea_bbd7_ccb0da3466acrow5_col5\" class=\"data row5 col5\" >0.000000</td>\n",
       "                        <td id=\"T_93ced500_8e31_11ea_bbd7_ccb0da3466acrow5_col6\" class=\"data row5 col6\" >89.000000</td>\n",
       "                        <td id=\"T_93ced500_8e31_11ea_bbd7_ccb0da3466acrow5_col7\" class=\"data row5 col7\" >20.210000</td>\n",
       "                        <td id=\"T_93ced500_8e31_11ea_bbd7_ccb0da3466acrow5_col8\" class=\"data row5 col8\" >4296.000000</td>\n",
       "            </tr>\n",
       "            <tr>\n",
       "                        <th id=\"T_93ced500_8e31_11ea_bbd7_ccb0da3466aclevel0_row6\" class=\"row_heading level0 row6\" >1580</th>\n",
       "                        <td id=\"T_93ced500_8e31_11ea_bbd7_ccb0da3466acrow6_col0\" class=\"data row6 col0\" >Chhattisgarh</td>\n",
       "                        <td id=\"T_93ced500_8e31_11ea_bbd7_ccb0da3466acrow6_col1\" class=\"data row6 col1\" >57</td>\n",
       "                        <td id=\"T_93ced500_8e31_11ea_bbd7_ccb0da3466acrow6_col2\" class=\"data row6 col2\" >36</td>\n",
       "                        <td id=\"T_93ced500_8e31_11ea_bbd7_ccb0da3466acrow6_col3\" class=\"data row6 col3\" >0</td>\n",
       "                        <td id=\"T_93ced500_8e31_11ea_bbd7_ccb0da3466acrow6_col4\" class=\"data row6 col4\" >21</td>\n",
       "                        <td id=\"T_93ced500_8e31_11ea_bbd7_ccb0da3466acrow6_col5\" class=\"data row6 col5\" >0.000000</td>\n",
       "                        <td id=\"T_93ced500_8e31_11ea_bbd7_ccb0da3466acrow6_col6\" class=\"data row6 col6\" >2.000000</td>\n",
       "                        <td id=\"T_93ced500_8e31_11ea_bbd7_ccb0da3466acrow6_col7\" class=\"data row6 col7\" >63.160000</td>\n",
       "                        <td id=\"T_93ced500_8e31_11ea_bbd7_ccb0da3466acrow6_col8\" class=\"data row6 col8\" >930.000000</td>\n",
       "            </tr>\n",
       "            <tr>\n",
       "                        <th id=\"T_93ced500_8e31_11ea_bbd7_ccb0da3466aclevel0_row7\" class=\"row_heading level0 row7\" >1581</th>\n",
       "                        <td id=\"T_93ced500_8e31_11ea_bbd7_ccb0da3466acrow7_col0\" class=\"data row7 col0\" >Delhi</td>\n",
       "                        <td id=\"T_93ced500_8e31_11ea_bbd7_ccb0da3466acrow7_col1\" class=\"data row7 col1\" >4549</td>\n",
       "                        <td id=\"T_93ced500_8e31_11ea_bbd7_ccb0da3466acrow7_col2\" class=\"data row7 col2\" >1362</td>\n",
       "                        <td id=\"T_93ced500_8e31_11ea_bbd7_ccb0da3466acrow7_col3\" class=\"data row7 col3\" >64</td>\n",
       "                        <td id=\"T_93ced500_8e31_11ea_bbd7_ccb0da3466acrow7_col4\" class=\"data row7 col4\" >3123</td>\n",
       "                        <td id=\"T_93ced500_8e31_11ea_bbd7_ccb0da3466acrow7_col5\" class=\"data row7 col5\" >1.410000</td>\n",
       "                        <td id=\"T_93ced500_8e31_11ea_bbd7_ccb0da3466acrow7_col6\" class=\"data row7 col6\" >271.000000</td>\n",
       "                        <td id=\"T_93ced500_8e31_11ea_bbd7_ccb0da3466acrow7_col7\" class=\"data row7 col7\" >29.940000</td>\n",
       "                        <td id=\"T_93ced500_8e31_11ea_bbd7_ccb0da3466acrow7_col8\" class=\"data row7 col8\" >2678.000000</td>\n",
       "            </tr>\n",
       "            <tr>\n",
       "                        <th id=\"T_93ced500_8e31_11ea_bbd7_ccb0da3466aclevel0_row8\" class=\"row_heading level0 row8\" >1582</th>\n",
       "                        <td id=\"T_93ced500_8e31_11ea_bbd7_ccb0da3466acrow8_col0\" class=\"data row8 col0\" >Goa</td>\n",
       "                        <td id=\"T_93ced500_8e31_11ea_bbd7_ccb0da3466acrow8_col1\" class=\"data row8 col1\" >7</td>\n",
       "                        <td id=\"T_93ced500_8e31_11ea_bbd7_ccb0da3466acrow8_col2\" class=\"data row8 col2\" >7</td>\n",
       "                        <td id=\"T_93ced500_8e31_11ea_bbd7_ccb0da3466acrow8_col3\" class=\"data row8 col3\" >0</td>\n",
       "                        <td id=\"T_93ced500_8e31_11ea_bbd7_ccb0da3466acrow8_col4\" class=\"data row8 col4\" >0</td>\n",
       "                        <td id=\"T_93ced500_8e31_11ea_bbd7_ccb0da3466acrow8_col5\" class=\"data row8 col5\" >0.000000</td>\n",
       "                        <td id=\"T_93ced500_8e31_11ea_bbd7_ccb0da3466acrow8_col6\" class=\"data row8 col6\" >5.000000</td>\n",
       "                        <td id=\"T_93ced500_8e31_11ea_bbd7_ccb0da3466acrow8_col7\" class=\"data row8 col7\" >100.000000</td>\n",
       "                        <td id=\"T_93ced500_8e31_11ea_bbd7_ccb0da3466acrow8_col8\" class=\"data row8 col8\" >3894.000000</td>\n",
       "            </tr>\n",
       "            <tr>\n",
       "                        <th id=\"T_93ced500_8e31_11ea_bbd7_ccb0da3466aclevel0_row9\" class=\"row_heading level0 row9\" >1583</th>\n",
       "                        <td id=\"T_93ced500_8e31_11ea_bbd7_ccb0da3466acrow9_col0\" class=\"data row9 col0\" >Gujarat</td>\n",
       "                        <td id=\"T_93ced500_8e31_11ea_bbd7_ccb0da3466acrow9_col1\" class=\"data row9 col1\" >5428</td>\n",
       "                        <td id=\"T_93ced500_8e31_11ea_bbd7_ccb0da3466acrow9_col2\" class=\"data row9 col2\" >1042</td>\n",
       "                        <td id=\"T_93ced500_8e31_11ea_bbd7_ccb0da3466acrow9_col3\" class=\"data row9 col3\" >290</td>\n",
       "                        <td id=\"T_93ced500_8e31_11ea_bbd7_ccb0da3466acrow9_col4\" class=\"data row9 col4\" >4096</td>\n",
       "                        <td id=\"T_93ced500_8e31_11ea_bbd7_ccb0da3466acrow9_col5\" class=\"data row9 col5\" >5.340000</td>\n",
       "                        <td id=\"T_93ced500_8e31_11ea_bbd7_ccb0da3466acrow9_col6\" class=\"data row9 col6\" >90.000000</td>\n",
       "                        <td id=\"T_93ced500_8e31_11ea_bbd7_ccb0da3466acrow9_col7\" class=\"data row9 col7\" >19.200000</td>\n",
       "                        <td id=\"T_93ced500_8e31_11ea_bbd7_ccb0da3466acrow9_col8\" class=\"data row9 col8\" >1215.000000</td>\n",
       "            </tr>\n",
       "            <tr>\n",
       "                        <th id=\"T_93ced500_8e31_11ea_bbd7_ccb0da3466aclevel0_row10\" class=\"row_heading level0 row10\" >1584</th>\n",
       "                        <td id=\"T_93ced500_8e31_11ea_bbd7_ccb0da3466acrow10_col0\" class=\"data row10 col0\" >Haryana</td>\n",
       "                        <td id=\"T_93ced500_8e31_11ea_bbd7_ccb0da3466acrow10_col1\" class=\"data row10 col1\" >442</td>\n",
       "                        <td id=\"T_93ced500_8e31_11ea_bbd7_ccb0da3466acrow10_col2\" class=\"data row10 col2\" >245</td>\n",
       "                        <td id=\"T_93ced500_8e31_11ea_bbd7_ccb0da3466acrow10_col3\" class=\"data row10 col3\" >5</td>\n",
       "                        <td id=\"T_93ced500_8e31_11ea_bbd7_ccb0da3466acrow10_col4\" class=\"data row10 col4\" >192</td>\n",
       "                        <td id=\"T_93ced500_8e31_11ea_bbd7_ccb0da3466acrow10_col5\" class=\"data row10 col5\" >1.130000</td>\n",
       "                        <td id=\"T_93ced500_8e31_11ea_bbd7_ccb0da3466acrow10_col6\" class=\"data row10 col6\" >17.000000</td>\n",
       "                        <td id=\"T_93ced500_8e31_11ea_bbd7_ccb0da3466acrow10_col7\" class=\"data row10 col7\" >55.430000</td>\n",
       "                        <td id=\"T_93ced500_8e31_11ea_bbd7_ccb0da3466acrow10_col8\" class=\"data row10 col8\" >989.000000</td>\n",
       "            </tr>\n",
       "            <tr>\n",
       "                        <th id=\"T_93ced500_8e31_11ea_bbd7_ccb0da3466aclevel0_row11\" class=\"row_heading level0 row11\" >1585</th>\n",
       "                        <td id=\"T_93ced500_8e31_11ea_bbd7_ccb0da3466acrow11_col0\" class=\"data row11 col0\" >Himachal Pradesh</td>\n",
       "                        <td id=\"T_93ced500_8e31_11ea_bbd7_ccb0da3466acrow11_col1\" class=\"data row11 col1\" >40</td>\n",
       "                        <td id=\"T_93ced500_8e31_11ea_bbd7_ccb0da3466acrow11_col2\" class=\"data row11 col2\" >34</td>\n",
       "                        <td id=\"T_93ced500_8e31_11ea_bbd7_ccb0da3466acrow11_col3\" class=\"data row11 col3\" >1</td>\n",
       "                        <td id=\"T_93ced500_8e31_11ea_bbd7_ccb0da3466acrow11_col4\" class=\"data row11 col4\" >5</td>\n",
       "                        <td id=\"T_93ced500_8e31_11ea_bbd7_ccb0da3466acrow11_col5\" class=\"data row11 col5\" >2.500000</td>\n",
       "                        <td id=\"T_93ced500_8e31_11ea_bbd7_ccb0da3466acrow11_col6\" class=\"data row11 col6\" >6.000000</td>\n",
       "                        <td id=\"T_93ced500_8e31_11ea_bbd7_ccb0da3466acrow11_col7\" class=\"data row11 col7\" >85.000000</td>\n",
       "                        <td id=\"T_93ced500_8e31_11ea_bbd7_ccb0da3466acrow11_col8\" class=\"data row11 col8\" >3074.000000</td>\n",
       "            </tr>\n",
       "            <tr>\n",
       "                        <th id=\"T_93ced500_8e31_11ea_bbd7_ccb0da3466aclevel0_row12\" class=\"row_heading level0 row12\" >1586</th>\n",
       "                        <td id=\"T_93ced500_8e31_11ea_bbd7_ccb0da3466acrow12_col0\" class=\"data row12 col0\" >Jammu and Kashmir</td>\n",
       "                        <td id=\"T_93ced500_8e31_11ea_bbd7_ccb0da3466acrow12_col1\" class=\"data row12 col1\" >701</td>\n",
       "                        <td id=\"T_93ced500_8e31_11ea_bbd7_ccb0da3466acrow12_col2\" class=\"data row12 col2\" >287</td>\n",
       "                        <td id=\"T_93ced500_8e31_11ea_bbd7_ccb0da3466acrow12_col3\" class=\"data row12 col3\" >8</td>\n",
       "                        <td id=\"T_93ced500_8e31_11ea_bbd7_ccb0da3466acrow12_col4\" class=\"data row12 col4\" >406</td>\n",
       "                        <td id=\"T_93ced500_8e31_11ea_bbd7_ccb0da3466acrow12_col5\" class=\"data row12 col5\" >1.140000</td>\n",
       "                        <td id=\"T_93ced500_8e31_11ea_bbd7_ccb0da3466acrow12_col6\" class=\"data row12 col6\" >57.000000</td>\n",
       "                        <td id=\"T_93ced500_8e31_11ea_bbd7_ccb0da3466acrow12_col7\" class=\"data row12 col7\" >40.940000</td>\n",
       "                        <td id=\"T_93ced500_8e31_11ea_bbd7_ccb0da3466acrow12_col8\" class=\"data row12 col8\" >nan</td>\n",
       "            </tr>\n",
       "            <tr>\n",
       "                        <th id=\"T_93ced500_8e31_11ea_bbd7_ccb0da3466aclevel0_row13\" class=\"row_heading level0 row13\" >1587</th>\n",
       "                        <td id=\"T_93ced500_8e31_11ea_bbd7_ccb0da3466acrow13_col0\" class=\"data row13 col0\" >Jharkhand</td>\n",
       "                        <td id=\"T_93ced500_8e31_11ea_bbd7_ccb0da3466acrow13_col1\" class=\"data row13 col1\" >115</td>\n",
       "                        <td id=\"T_93ced500_8e31_11ea_bbd7_ccb0da3466acrow13_col2\" class=\"data row13 col2\" >22</td>\n",
       "                        <td id=\"T_93ced500_8e31_11ea_bbd7_ccb0da3466acrow13_col3\" class=\"data row13 col3\" >3</td>\n",
       "                        <td id=\"T_93ced500_8e31_11ea_bbd7_ccb0da3466acrow13_col4\" class=\"data row13 col4\" >90</td>\n",
       "                        <td id=\"T_93ced500_8e31_11ea_bbd7_ccb0da3466acrow13_col5\" class=\"data row13 col5\" >2.610000</td>\n",
       "                        <td id=\"T_93ced500_8e31_11ea_bbd7_ccb0da3466acrow13_col6\" class=\"data row13 col6\" >3.000000</td>\n",
       "                        <td id=\"T_93ced500_8e31_11ea_bbd7_ccb0da3466acrow13_col7\" class=\"data row13 col7\" >19.130000</td>\n",
       "                        <td id=\"T_93ced500_8e31_11ea_bbd7_ccb0da3466acrow13_col8\" class=\"data row13 col8\" >551.000000</td>\n",
       "            </tr>\n",
       "            <tr>\n",
       "                        <th id=\"T_93ced500_8e31_11ea_bbd7_ccb0da3466aclevel0_row14\" class=\"row_heading level0 row14\" >1588</th>\n",
       "                        <td id=\"T_93ced500_8e31_11ea_bbd7_ccb0da3466acrow14_col0\" class=\"data row14 col0\" >Karnataka</td>\n",
       "                        <td id=\"T_93ced500_8e31_11ea_bbd7_ccb0da3466acrow14_col1\" class=\"data row14 col1\" >642</td>\n",
       "                        <td id=\"T_93ced500_8e31_11ea_bbd7_ccb0da3466acrow14_col2\" class=\"data row14 col2\" >304</td>\n",
       "                        <td id=\"T_93ced500_8e31_11ea_bbd7_ccb0da3466acrow14_col3\" class=\"data row14 col3\" >26</td>\n",
       "                        <td id=\"T_93ced500_8e31_11ea_bbd7_ccb0da3466acrow14_col4\" class=\"data row14 col4\" >312</td>\n",
       "                        <td id=\"T_93ced500_8e31_11ea_bbd7_ccb0da3466acrow14_col5\" class=\"data row14 col5\" >4.050000</td>\n",
       "                        <td id=\"T_93ced500_8e31_11ea_bbd7_ccb0da3466acrow14_col6\" class=\"data row14 col6\" >11.000000</td>\n",
       "                        <td id=\"T_93ced500_8e31_11ea_bbd7_ccb0da3466acrow14_col7\" class=\"data row14 col7\" >47.350000</td>\n",
       "                        <td id=\"T_93ced500_8e31_11ea_bbd7_ccb0da3466acrow14_col8\" class=\"data row14 col8\" >2071.000000</td>\n",
       "            </tr>\n",
       "            <tr>\n",
       "                        <th id=\"T_93ced500_8e31_11ea_bbd7_ccb0da3466aclevel0_row15\" class=\"row_heading level0 row15\" >1589</th>\n",
       "                        <td id=\"T_93ced500_8e31_11ea_bbd7_ccb0da3466acrow15_col0\" class=\"data row15 col0\" >Kerala</td>\n",
       "                        <td id=\"T_93ced500_8e31_11ea_bbd7_ccb0da3466acrow15_col1\" class=\"data row15 col1\" >500</td>\n",
       "                        <td id=\"T_93ced500_8e31_11ea_bbd7_ccb0da3466acrow15_col2\" class=\"data row15 col2\" >401</td>\n",
       "                        <td id=\"T_93ced500_8e31_11ea_bbd7_ccb0da3466acrow15_col3\" class=\"data row15 col3\" >4</td>\n",
       "                        <td id=\"T_93ced500_8e31_11ea_bbd7_ccb0da3466acrow15_col4\" class=\"data row15 col4\" >95</td>\n",
       "                        <td id=\"T_93ced500_8e31_11ea_bbd7_ccb0da3466acrow15_col5\" class=\"data row15 col5\" >0.800000</td>\n",
       "                        <td id=\"T_93ced500_8e31_11ea_bbd7_ccb0da3466acrow15_col6\" class=\"data row15 col6\" >15.000000</td>\n",
       "                        <td id=\"T_93ced500_8e31_11ea_bbd7_ccb0da3466acrow15_col7\" class=\"data row15 col7\" >80.200000</td>\n",
       "                        <td id=\"T_93ced500_8e31_11ea_bbd7_ccb0da3466acrow15_col8\" class=\"data row15 col8\" >2320.000000</td>\n",
       "            </tr>\n",
       "            <tr>\n",
       "                        <th id=\"T_93ced500_8e31_11ea_bbd7_ccb0da3466aclevel0_row16\" class=\"row_heading level0 row16\" >1590</th>\n",
       "                        <td id=\"T_93ced500_8e31_11ea_bbd7_ccb0da3466acrow16_col0\" class=\"data row16 col0\" >Ladakh</td>\n",
       "                        <td id=\"T_93ced500_8e31_11ea_bbd7_ccb0da3466acrow16_col1\" class=\"data row16 col1\" >41</td>\n",
       "                        <td id=\"T_93ced500_8e31_11ea_bbd7_ccb0da3466acrow16_col2\" class=\"data row16 col2\" >17</td>\n",
       "                        <td id=\"T_93ced500_8e31_11ea_bbd7_ccb0da3466acrow16_col3\" class=\"data row16 col3\" >0</td>\n",
       "                        <td id=\"T_93ced500_8e31_11ea_bbd7_ccb0da3466acrow16_col4\" class=\"data row16 col4\" >24</td>\n",
       "                        <td id=\"T_93ced500_8e31_11ea_bbd7_ccb0da3466acrow16_col5\" class=\"data row16 col5\" >0.000000</td>\n",
       "                        <td id=\"T_93ced500_8e31_11ea_bbd7_ccb0da3466acrow16_col6\" class=\"data row16 col6\" >150.000000</td>\n",
       "                        <td id=\"T_93ced500_8e31_11ea_bbd7_ccb0da3466acrow16_col7\" class=\"data row16 col7\" >41.460000</td>\n",
       "                        <td id=\"T_93ced500_8e31_11ea_bbd7_ccb0da3466acrow16_col8\" class=\"data row16 col8\" >nan</td>\n",
       "            </tr>\n",
       "            <tr>\n",
       "                        <th id=\"T_93ced500_8e31_11ea_bbd7_ccb0da3466aclevel0_row17\" class=\"row_heading level0 row17\" >1591</th>\n",
       "                        <td id=\"T_93ced500_8e31_11ea_bbd7_ccb0da3466acrow17_col0\" class=\"data row17 col0\" >Madhya Pradesh</td>\n",
       "                        <td id=\"T_93ced500_8e31_11ea_bbd7_ccb0da3466acrow17_col1\" class=\"data row17 col1\" >2942</td>\n",
       "                        <td id=\"T_93ced500_8e31_11ea_bbd7_ccb0da3466acrow17_col2\" class=\"data row17 col2\" >798</td>\n",
       "                        <td id=\"T_93ced500_8e31_11ea_bbd7_ccb0da3466acrow17_col3\" class=\"data row17 col3\" >165</td>\n",
       "                        <td id=\"T_93ced500_8e31_11ea_bbd7_ccb0da3466acrow17_col4\" class=\"data row17 col4\" >1979</td>\n",
       "                        <td id=\"T_93ced500_8e31_11ea_bbd7_ccb0da3466acrow17_col5\" class=\"data row17 col5\" >5.610000</td>\n",
       "                        <td id=\"T_93ced500_8e31_11ea_bbd7_ccb0da3466acrow17_col6\" class=\"data row17 col6\" >41.000000</td>\n",
       "                        <td id=\"T_93ced500_8e31_11ea_bbd7_ccb0da3466acrow17_col7\" class=\"data row17 col7\" >27.120000</td>\n",
       "                        <td id=\"T_93ced500_8e31_11ea_bbd7_ccb0da3466acrow17_col8\" class=\"data row17 col8\" >922.000000</td>\n",
       "            </tr>\n",
       "            <tr>\n",
       "                        <th id=\"T_93ced500_8e31_11ea_bbd7_ccb0da3466aclevel0_row18\" class=\"row_heading level0 row18\" >1592</th>\n",
       "                        <td id=\"T_93ced500_8e31_11ea_bbd7_ccb0da3466acrow18_col0\" class=\"data row18 col0\" >Maharashtra</td>\n",
       "                        <td id=\"T_93ced500_8e31_11ea_bbd7_ccb0da3466acrow18_col1\" class=\"data row18 col1\" >12974</td>\n",
       "                        <td id=\"T_93ced500_8e31_11ea_bbd7_ccb0da3466acrow18_col2\" class=\"data row18 col2\" >2115</td>\n",
       "                        <td id=\"T_93ced500_8e31_11ea_bbd7_ccb0da3466acrow18_col3\" class=\"data row18 col3\" >548</td>\n",
       "                        <td id=\"T_93ced500_8e31_11ea_bbd7_ccb0da3466acrow18_col4\" class=\"data row18 col4\" >10311</td>\n",
       "                        <td id=\"T_93ced500_8e31_11ea_bbd7_ccb0da3466acrow18_col5\" class=\"data row18 col5\" >4.220000</td>\n",
       "                        <td id=\"T_93ced500_8e31_11ea_bbd7_ccb0da3466acrow18_col6\" class=\"data row18 col6\" >115.000000</td>\n",
       "                        <td id=\"T_93ced500_8e31_11ea_bbd7_ccb0da3466acrow18_col7\" class=\"data row18 col7\" >16.300000</td>\n",
       "                        <td id=\"T_93ced500_8e31_11ea_bbd7_ccb0da3466acrow18_col8\" class=\"data row18 col8\" >1072.000000</td>\n",
       "            </tr>\n",
       "            <tr>\n",
       "                        <th id=\"T_93ced500_8e31_11ea_bbd7_ccb0da3466aclevel0_row19\" class=\"row_heading level0 row19\" >1593</th>\n",
       "                        <td id=\"T_93ced500_8e31_11ea_bbd7_ccb0da3466acrow19_col0\" class=\"data row19 col0\" >Manipur</td>\n",
       "                        <td id=\"T_93ced500_8e31_11ea_bbd7_ccb0da3466acrow19_col1\" class=\"data row19 col1\" >2</td>\n",
       "                        <td id=\"T_93ced500_8e31_11ea_bbd7_ccb0da3466acrow19_col2\" class=\"data row19 col2\" >2</td>\n",
       "                        <td id=\"T_93ced500_8e31_11ea_bbd7_ccb0da3466acrow19_col3\" class=\"data row19 col3\" >0</td>\n",
       "                        <td id=\"T_93ced500_8e31_11ea_bbd7_ccb0da3466acrow19_col4\" class=\"data row19 col4\" >0</td>\n",
       "                        <td id=\"T_93ced500_8e31_11ea_bbd7_ccb0da3466acrow19_col5\" class=\"data row19 col5\" >0.000000</td>\n",
       "                        <td id=\"T_93ced500_8e31_11ea_bbd7_ccb0da3466acrow19_col6\" class=\"data row19 col6\" >1.000000</td>\n",
       "                        <td id=\"T_93ced500_8e31_11ea_bbd7_ccb0da3466acrow19_col7\" class=\"data row19 col7\" >100.000000</td>\n",
       "                        <td id=\"T_93ced500_8e31_11ea_bbd7_ccb0da3466acrow19_col8\" class=\"data row19 col8\" >1552.000000</td>\n",
       "            </tr>\n",
       "            <tr>\n",
       "                        <th id=\"T_93ced500_8e31_11ea_bbd7_ccb0da3466aclevel0_row20\" class=\"row_heading level0 row20\" >1594</th>\n",
       "                        <td id=\"T_93ced500_8e31_11ea_bbd7_ccb0da3466acrow20_col0\" class=\"data row20 col0\" >Meghalaya</td>\n",
       "                        <td id=\"T_93ced500_8e31_11ea_bbd7_ccb0da3466acrow20_col1\" class=\"data row20 col1\" >12</td>\n",
       "                        <td id=\"T_93ced500_8e31_11ea_bbd7_ccb0da3466acrow20_col2\" class=\"data row20 col2\" >0</td>\n",
       "                        <td id=\"T_93ced500_8e31_11ea_bbd7_ccb0da3466acrow20_col3\" class=\"data row20 col3\" >1</td>\n",
       "                        <td id=\"T_93ced500_8e31_11ea_bbd7_ccb0da3466acrow20_col4\" class=\"data row20 col4\" >11</td>\n",
       "                        <td id=\"T_93ced500_8e31_11ea_bbd7_ccb0da3466acrow20_col5\" class=\"data row20 col5\" >8.330000</td>\n",
       "                        <td id=\"T_93ced500_8e31_11ea_bbd7_ccb0da3466acrow20_col6\" class=\"data row20 col6\" >4.000000</td>\n",
       "                        <td id=\"T_93ced500_8e31_11ea_bbd7_ccb0da3466acrow20_col7\" class=\"data row20 col7\" >0.000000</td>\n",
       "                        <td id=\"T_93ced500_8e31_11ea_bbd7_ccb0da3466acrow20_col8\" class=\"data row20 col8\" >3048.000000</td>\n",
       "            </tr>\n",
       "            <tr>\n",
       "                        <th id=\"T_93ced500_8e31_11ea_bbd7_ccb0da3466aclevel0_row21\" class=\"row_heading level0 row21\" >1595</th>\n",
       "                        <td id=\"T_93ced500_8e31_11ea_bbd7_ccb0da3466acrow21_col0\" class=\"data row21 col0\" >Mizoram</td>\n",
       "                        <td id=\"T_93ced500_8e31_11ea_bbd7_ccb0da3466acrow21_col1\" class=\"data row21 col1\" >1</td>\n",
       "                        <td id=\"T_93ced500_8e31_11ea_bbd7_ccb0da3466acrow21_col2\" class=\"data row21 col2\" >0</td>\n",
       "                        <td id=\"T_93ced500_8e31_11ea_bbd7_ccb0da3466acrow21_col3\" class=\"data row21 col3\" >0</td>\n",
       "                        <td id=\"T_93ced500_8e31_11ea_bbd7_ccb0da3466acrow21_col4\" class=\"data row21 col4\" >1</td>\n",
       "                        <td id=\"T_93ced500_8e31_11ea_bbd7_ccb0da3466acrow21_col5\" class=\"data row21 col5\" >0.000000</td>\n",
       "                        <td id=\"T_93ced500_8e31_11ea_bbd7_ccb0da3466acrow21_col6\" class=\"data row21 col6\" >1.000000</td>\n",
       "                        <td id=\"T_93ced500_8e31_11ea_bbd7_ccb0da3466acrow21_col7\" class=\"data row21 col7\" >0.000000</td>\n",
       "                        <td id=\"T_93ced500_8e31_11ea_bbd7_ccb0da3466acrow21_col8\" class=\"data row21 col8\" >3927.000000</td>\n",
       "            </tr>\n",
       "            <tr>\n",
       "                        <th id=\"T_93ced500_8e31_11ea_bbd7_ccb0da3466aclevel0_row22\" class=\"row_heading level0 row22\" >1596</th>\n",
       "                        <td id=\"T_93ced500_8e31_11ea_bbd7_ccb0da3466acrow22_col0\" class=\"data row22 col0\" >Odisha</td>\n",
       "                        <td id=\"T_93ced500_8e31_11ea_bbd7_ccb0da3466acrow22_col1\" class=\"data row22 col1\" >163</td>\n",
       "                        <td id=\"T_93ced500_8e31_11ea_bbd7_ccb0da3466acrow22_col2\" class=\"data row22 col2\" >60</td>\n",
       "                        <td id=\"T_93ced500_8e31_11ea_bbd7_ccb0da3466acrow22_col3\" class=\"data row22 col3\" >1</td>\n",
       "                        <td id=\"T_93ced500_8e31_11ea_bbd7_ccb0da3466acrow22_col4\" class=\"data row22 col4\" >102</td>\n",
       "                        <td id=\"T_93ced500_8e31_11ea_bbd7_ccb0da3466acrow22_col5\" class=\"data row22 col5\" >0.610000</td>\n",
       "                        <td id=\"T_93ced500_8e31_11ea_bbd7_ccb0da3466acrow22_col6\" class=\"data row22 col6\" >4.000000</td>\n",
       "                        <td id=\"T_93ced500_8e31_11ea_bbd7_ccb0da3466acrow22_col7\" class=\"data row22 col7\" >36.810000</td>\n",
       "                        <td id=\"T_93ced500_8e31_11ea_bbd7_ccb0da3466acrow22_col8\" class=\"data row22 col8\" >834.000000</td>\n",
       "            </tr>\n",
       "            <tr>\n",
       "                        <th id=\"T_93ced500_8e31_11ea_bbd7_ccb0da3466aclevel0_row23\" class=\"row_heading level0 row23\" >1597</th>\n",
       "                        <td id=\"T_93ced500_8e31_11ea_bbd7_ccb0da3466acrow23_col0\" class=\"data row23 col0\" >Puducherry</td>\n",
       "                        <td id=\"T_93ced500_8e31_11ea_bbd7_ccb0da3466acrow23_col1\" class=\"data row23 col1\" >8</td>\n",
       "                        <td id=\"T_93ced500_8e31_11ea_bbd7_ccb0da3466acrow23_col2\" class=\"data row23 col2\" >5</td>\n",
       "                        <td id=\"T_93ced500_8e31_11ea_bbd7_ccb0da3466acrow23_col3\" class=\"data row23 col3\" >0</td>\n",
       "                        <td id=\"T_93ced500_8e31_11ea_bbd7_ccb0da3466acrow23_col4\" class=\"data row23 col4\" >3</td>\n",
       "                        <td id=\"T_93ced500_8e31_11ea_bbd7_ccb0da3466acrow23_col5\" class=\"data row23 col5\" >0.000000</td>\n",
       "                        <td id=\"T_93ced500_8e31_11ea_bbd7_ccb0da3466acrow23_col6\" class=\"data row23 col6\" >6.000000</td>\n",
       "                        <td id=\"T_93ced500_8e31_11ea_bbd7_ccb0da3466acrow23_col7\" class=\"data row23 col7\" >62.500000</td>\n",
       "                        <td id=\"T_93ced500_8e31_11ea_bbd7_ccb0da3466acrow23_col8\" class=\"data row23 col8\" >6435.000000</td>\n",
       "            </tr>\n",
       "            <tr>\n",
       "                        <th id=\"T_93ced500_8e31_11ea_bbd7_ccb0da3466aclevel0_row24\" class=\"row_heading level0 row24\" >1598</th>\n",
       "                        <td id=\"T_93ced500_8e31_11ea_bbd7_ccb0da3466acrow24_col0\" class=\"data row24 col0\" >Punjab</td>\n",
       "                        <td id=\"T_93ced500_8e31_11ea_bbd7_ccb0da3466acrow24_col1\" class=\"data row24 col1\" >1102</td>\n",
       "                        <td id=\"T_93ced500_8e31_11ea_bbd7_ccb0da3466acrow24_col2\" class=\"data row24 col2\" >117</td>\n",
       "                        <td id=\"T_93ced500_8e31_11ea_bbd7_ccb0da3466acrow24_col3\" class=\"data row24 col3\" >21</td>\n",
       "                        <td id=\"T_93ced500_8e31_11ea_bbd7_ccb0da3466acrow24_col4\" class=\"data row24 col4\" >964</td>\n",
       "                        <td id=\"T_93ced500_8e31_11ea_bbd7_ccb0da3466acrow24_col5\" class=\"data row24 col5\" >1.910000</td>\n",
       "                        <td id=\"T_93ced500_8e31_11ea_bbd7_ccb0da3466acrow24_col6\" class=\"data row24 col6\" >40.000000</td>\n",
       "                        <td id=\"T_93ced500_8e31_11ea_bbd7_ccb0da3466acrow24_col7\" class=\"data row24 col7\" >10.620000</td>\n",
       "                        <td id=\"T_93ced500_8e31_11ea_bbd7_ccb0da3466acrow24_col8\" class=\"data row24 col8\" >1134.000000</td>\n",
       "            </tr>\n",
       "            <tr>\n",
       "                        <th id=\"T_93ced500_8e31_11ea_bbd7_ccb0da3466aclevel0_row25\" class=\"row_heading level0 row25\" >1599</th>\n",
       "                        <td id=\"T_93ced500_8e31_11ea_bbd7_ccb0da3466acrow25_col0\" class=\"data row25 col0\" >Rajasthan</td>\n",
       "                        <td id=\"T_93ced500_8e31_11ea_bbd7_ccb0da3466acrow25_col1\" class=\"data row25 col1\" >2886</td>\n",
       "                        <td id=\"T_93ced500_8e31_11ea_bbd7_ccb0da3466acrow25_col2\" class=\"data row25 col2\" >1356</td>\n",
       "                        <td id=\"T_93ced500_8e31_11ea_bbd7_ccb0da3466acrow25_col3\" class=\"data row25 col3\" >71</td>\n",
       "                        <td id=\"T_93ced500_8e31_11ea_bbd7_ccb0da3466acrow25_col4\" class=\"data row25 col4\" >1459</td>\n",
       "                        <td id=\"T_93ced500_8e31_11ea_bbd7_ccb0da3466acrow25_col5\" class=\"data row25 col5\" >2.460000</td>\n",
       "                        <td id=\"T_93ced500_8e31_11ea_bbd7_ccb0da3466acrow25_col6\" class=\"data row25 col6\" >42.000000</td>\n",
       "                        <td id=\"T_93ced500_8e31_11ea_bbd7_ccb0da3466acrow25_col7\" class=\"data row25 col7\" >46.990000</td>\n",
       "                        <td id=\"T_93ced500_8e31_11ea_bbd7_ccb0da3466acrow25_col8\" class=\"data row25 col8\" >1221.000000</td>\n",
       "            </tr>\n",
       "            <tr>\n",
       "                        <th id=\"T_93ced500_8e31_11ea_bbd7_ccb0da3466aclevel0_row26\" class=\"row_heading level0 row26\" >1600</th>\n",
       "                        <td id=\"T_93ced500_8e31_11ea_bbd7_ccb0da3466acrow26_col0\" class=\"data row26 col0\" >Tamil Nadu</td>\n",
       "                        <td id=\"T_93ced500_8e31_11ea_bbd7_ccb0da3466acrow26_col1\" class=\"data row26 col1\" >3023</td>\n",
       "                        <td id=\"T_93ced500_8e31_11ea_bbd7_ccb0da3466acrow26_col2\" class=\"data row26 col2\" >1379</td>\n",
       "                        <td id=\"T_93ced500_8e31_11ea_bbd7_ccb0da3466acrow26_col3\" class=\"data row26 col3\" >30</td>\n",
       "                        <td id=\"T_93ced500_8e31_11ea_bbd7_ccb0da3466acrow26_col4\" class=\"data row26 col4\" >1614</td>\n",
       "                        <td id=\"T_93ced500_8e31_11ea_bbd7_ccb0da3466acrow26_col5\" class=\"data row26 col5\" >0.990000</td>\n",
       "                        <td id=\"T_93ced500_8e31_11ea_bbd7_ccb0da3466acrow26_col6\" class=\"data row26 col6\" >42.000000</td>\n",
       "                        <td id=\"T_93ced500_8e31_11ea_bbd7_ccb0da3466acrow26_col7\" class=\"data row26 col7\" >45.620000</td>\n",
       "                        <td id=\"T_93ced500_8e31_11ea_bbd7_ccb0da3466acrow26_col8\" class=\"data row26 col8\" >2081.000000</td>\n",
       "            </tr>\n",
       "            <tr>\n",
       "                        <th id=\"T_93ced500_8e31_11ea_bbd7_ccb0da3466aclevel0_row27\" class=\"row_heading level0 row27\" >1601</th>\n",
       "                        <td id=\"T_93ced500_8e31_11ea_bbd7_ccb0da3466acrow27_col0\" class=\"data row27 col0\" >Telengana</td>\n",
       "                        <td id=\"T_93ced500_8e31_11ea_bbd7_ccb0da3466acrow27_col1\" class=\"data row27 col1\" >1082</td>\n",
       "                        <td id=\"T_93ced500_8e31_11ea_bbd7_ccb0da3466acrow27_col2\" class=\"data row27 col2\" >490</td>\n",
       "                        <td id=\"T_93ced500_8e31_11ea_bbd7_ccb0da3466acrow27_col3\" class=\"data row27 col3\" >29</td>\n",
       "                        <td id=\"T_93ced500_8e31_11ea_bbd7_ccb0da3466acrow27_col4\" class=\"data row27 col4\" >563</td>\n",
       "                        <td id=\"T_93ced500_8e31_11ea_bbd7_ccb0da3466acrow27_col5\" class=\"data row27 col5\" >2.680000</td>\n",
       "                        <td id=\"T_93ced500_8e31_11ea_bbd7_ccb0da3466acrow27_col6\" class=\"data row27 col6\" >31.000000</td>\n",
       "                        <td id=\"T_93ced500_8e31_11ea_bbd7_ccb0da3466acrow27_col7\" class=\"data row27 col7\" >45.290000</td>\n",
       "                        <td id=\"T_93ced500_8e31_11ea_bbd7_ccb0da3466acrow27_col8\" class=\"data row27 col8\" >nan</td>\n",
       "            </tr>\n",
       "            <tr>\n",
       "                        <th id=\"T_93ced500_8e31_11ea_bbd7_ccb0da3466aclevel0_row28\" class=\"row_heading level0 row28\" >1602</th>\n",
       "                        <td id=\"T_93ced500_8e31_11ea_bbd7_ccb0da3466acrow28_col0\" class=\"data row28 col0\" >Tripura</td>\n",
       "                        <td id=\"T_93ced500_8e31_11ea_bbd7_ccb0da3466acrow28_col1\" class=\"data row28 col1\" >16</td>\n",
       "                        <td id=\"T_93ced500_8e31_11ea_bbd7_ccb0da3466acrow28_col2\" class=\"data row28 col2\" >2</td>\n",
       "                        <td id=\"T_93ced500_8e31_11ea_bbd7_ccb0da3466acrow28_col3\" class=\"data row28 col3\" >0</td>\n",
       "                        <td id=\"T_93ced500_8e31_11ea_bbd7_ccb0da3466acrow28_col4\" class=\"data row28 col4\" >14</td>\n",
       "                        <td id=\"T_93ced500_8e31_11ea_bbd7_ccb0da3466acrow28_col5\" class=\"data row28 col5\" >0.000000</td>\n",
       "                        <td id=\"T_93ced500_8e31_11ea_bbd7_ccb0da3466acrow28_col6\" class=\"data row28 col6\" >4.000000</td>\n",
       "                        <td id=\"T_93ced500_8e31_11ea_bbd7_ccb0da3466acrow28_col7\" class=\"data row28 col7\" >12.500000</td>\n",
       "                        <td id=\"T_93ced500_8e31_11ea_bbd7_ccb0da3466acrow28_col8\" class=\"data row28 col8\" >2535.000000</td>\n",
       "            </tr>\n",
       "            <tr>\n",
       "                        <th id=\"T_93ced500_8e31_11ea_bbd7_ccb0da3466aclevel0_row29\" class=\"row_heading level0 row29\" >1603</th>\n",
       "                        <td id=\"T_93ced500_8e31_11ea_bbd7_ccb0da3466acrow29_col0\" class=\"data row29 col0\" >Uttarakhand</td>\n",
       "                        <td id=\"T_93ced500_8e31_11ea_bbd7_ccb0da3466acrow29_col1\" class=\"data row29 col1\" >60</td>\n",
       "                        <td id=\"T_93ced500_8e31_11ea_bbd7_ccb0da3466acrow29_col2\" class=\"data row29 col2\" >39</td>\n",
       "                        <td id=\"T_93ced500_8e31_11ea_bbd7_ccb0da3466acrow29_col3\" class=\"data row29 col3\" >1</td>\n",
       "                        <td id=\"T_93ced500_8e31_11ea_bbd7_ccb0da3466acrow29_col4\" class=\"data row29 col4\" >20</td>\n",
       "                        <td id=\"T_93ced500_8e31_11ea_bbd7_ccb0da3466acrow29_col5\" class=\"data row29 col5\" >1.670000</td>\n",
       "                        <td id=\"T_93ced500_8e31_11ea_bbd7_ccb0da3466acrow29_col6\" class=\"data row29 col6\" >6.000000</td>\n",
       "                        <td id=\"T_93ced500_8e31_11ea_bbd7_ccb0da3466acrow29_col7\" class=\"data row29 col7\" >65.000000</td>\n",
       "                        <td id=\"T_93ced500_8e31_11ea_bbd7_ccb0da3466acrow29_col8\" class=\"data row29 col8\" >1504.000000</td>\n",
       "            </tr>\n",
       "            <tr>\n",
       "                        <th id=\"T_93ced500_8e31_11ea_bbd7_ccb0da3466aclevel0_row30\" class=\"row_heading level0 row30\" >1604</th>\n",
       "                        <td id=\"T_93ced500_8e31_11ea_bbd7_ccb0da3466acrow30_col0\" class=\"data row30 col0\" >Uttar Pradesh</td>\n",
       "                        <td id=\"T_93ced500_8e31_11ea_bbd7_ccb0da3466acrow30_col1\" class=\"data row30 col1\" >2742</td>\n",
       "                        <td id=\"T_93ced500_8e31_11ea_bbd7_ccb0da3466acrow30_col2\" class=\"data row30 col2\" >758</td>\n",
       "                        <td id=\"T_93ced500_8e31_11ea_bbd7_ccb0da3466acrow30_col3\" class=\"data row30 col3\" >45</td>\n",
       "                        <td id=\"T_93ced500_8e31_11ea_bbd7_ccb0da3466acrow30_col4\" class=\"data row30 col4\" >1939</td>\n",
       "                        <td id=\"T_93ced500_8e31_11ea_bbd7_ccb0da3466acrow30_col5\" class=\"data row30 col5\" >1.640000</td>\n",
       "                        <td id=\"T_93ced500_8e31_11ea_bbd7_ccb0da3466acrow30_col6\" class=\"data row30 col6\" >14.000000</td>\n",
       "                        <td id=\"T_93ced500_8e31_11ea_bbd7_ccb0da3466acrow30_col7\" class=\"data row30 col7\" >27.640000</td>\n",
       "                        <td id=\"T_93ced500_8e31_11ea_bbd7_ccb0da3466acrow30_col8\" class=\"data row30 col8\" >673.000000</td>\n",
       "            </tr>\n",
       "            <tr>\n",
       "                        <th id=\"T_93ced500_8e31_11ea_bbd7_ccb0da3466aclevel0_row31\" class=\"row_heading level0 row31\" >1605</th>\n",
       "                        <td id=\"T_93ced500_8e31_11ea_bbd7_ccb0da3466acrow31_col0\" class=\"data row31 col0\" >West Bengal</td>\n",
       "                        <td id=\"T_93ced500_8e31_11ea_bbd7_ccb0da3466acrow31_col1\" class=\"data row31 col1\" >963</td>\n",
       "                        <td id=\"T_93ced500_8e31_11ea_bbd7_ccb0da3466acrow31_col2\" class=\"data row31 col2\" >151</td>\n",
       "                        <td id=\"T_93ced500_8e31_11ea_bbd7_ccb0da3466acrow31_col3\" class=\"data row31 col3\" >35</td>\n",
       "                        <td id=\"T_93ced500_8e31_11ea_bbd7_ccb0da3466acrow31_col4\" class=\"data row31 col4\" >777</td>\n",
       "                        <td id=\"T_93ced500_8e31_11ea_bbd7_ccb0da3466acrow31_col5\" class=\"data row31 col5\" >3.630000</td>\n",
       "                        <td id=\"T_93ced500_8e31_11ea_bbd7_ccb0da3466acrow31_col6\" class=\"data row31 col6\" >11.000000</td>\n",
       "                        <td id=\"T_93ced500_8e31_11ea_bbd7_ccb0da3466acrow31_col7\" class=\"data row31 col7\" >15.680000</td>\n",
       "                        <td id=\"T_93ced500_8e31_11ea_bbd7_ccb0da3466acrow31_col8\" class=\"data row31 col8\" >1421.000000</td>\n",
       "            </tr>\n",
       "    </tbody></table>"
      ],
      "text/plain": [
       "<pandas.io.formats.style.Styler at 0x16acf578ec8>"
      ]
     },
     "execution_count": 35,
     "metadata": {},
     "output_type": "execute_result"
    }
   ],
   "source": [
    "data = latest_data[['State/UnionTerritory','Confirmed','Cured','Deaths','Active','Mortality_Rate','Cases_Per_Million','Recovery_Rate','Beds_Per_Million']]\n",
    "data.style.background_gradient(cmap='Blues',subset=['Confirmed','Cases_Per_Million','Active']).background_gradient(cmap='Greens', subset=['Cured','Recovery_Rate','Beds_Per_Million']).background_gradient(cmap='Reds', subset=['Deaths','Mortality_Rate'])"
   ]
  },
  {
   "cell_type": "markdown",
   "metadata": {},
   "source": [
    "Some observations from the table above,\n",
    "1. Althought the Mortality Rate of Meghalaya is Highest, it may also be attributed to the fact that only 12 cases have been reported out of which there is one casuality. Apart from this, Mortality Rate of Maharashtra, MP,Gujarat seem to be high.\n",
    "2. We can also see a few missing values in the Beds_Per_Million column of the above table which might be because the number of Beds are not recorded in the states/UT's. \n",
    "3. We can also see that Delhi has highest Cases_Per_Million count and no other states is close to it."
   ]
  },
  {
   "cell_type": "markdown",
   "metadata": {},
   "source": [
    "#### Cases Based on Pupulation Density"
   ]
  },
  {
   "cell_type": "code",
   "execution_count": 37,
   "metadata": {},
   "outputs": [
    {
     "data": {
      "application/vnd.plotly.v1+json": {
       "config": {
        "plotlyServerURL": "https://plot.ly"
       },
       "data": [
        {
         "hovertemplate": "State/UnionTerritory=Andaman and Nicobar Islands<br>Confirmed=%{x}<br>Density_In_SqKM=%{y}<br>Population=%{marker.size}<extra></extra>",
         "legendgroup": "Andaman and Nicobar Islands",
         "marker": {
          "color": "#636efa",
          "size": [
           380581
          ],
          "sizemode": "area",
          "sizeref": 499530.8525,
          "symbol": "circle"
         },
         "mode": "markers",
         "name": "Andaman and Nicobar Islands",
         "showlegend": true,
         "type": "scatter",
         "x": [
          33
         ],
         "xaxis": "x",
         "y": [
          46
         ],
         "yaxis": "y"
        },
        {
         "hovertemplate": "State/UnionTerritory=Andhra Pradesh<br>Confirmed=%{x}<br>Density_In_SqKM=%{y}<br>Population=%{marker.size}<extra></extra>",
         "legendgroup": "Andhra Pradesh",
         "marker": {
          "color": "#EF553B",
          "size": [
           49577103
          ],
          "sizemode": "area",
          "sizeref": 499530.8525,
          "symbol": "circle"
         },
         "mode": "markers",
         "name": "Andhra Pradesh",
         "showlegend": true,
         "type": "scatter",
         "x": [
          1650
         ],
         "xaxis": "x",
         "y": [
          303
         ],
         "yaxis": "y"
        },
        {
         "hovertemplate": "State/UnionTerritory=Arunachal Pradesh<br>Confirmed=%{x}<br>Density_In_SqKM=%{y}<br>Population=%{marker.size}<extra></extra>",
         "legendgroup": "Arunachal Pradesh",
         "marker": {
          "color": "#00cc96",
          "size": [
           1383727
          ],
          "sizemode": "area",
          "sizeref": 499530.8525,
          "symbol": "circle"
         },
         "mode": "markers",
         "name": "Arunachal Pradesh",
         "showlegend": true,
         "type": "scatter",
         "x": [
          1
         ],
         "xaxis": "x",
         "y": [
          17
         ],
         "yaxis": "y"
        },
        {
         "hovertemplate": "State/UnionTerritory=Assam<br>Confirmed=%{x}<br>Density_In_SqKM=%{y}<br>Population=%{marker.size}<extra></extra>",
         "legendgroup": "Assam",
         "marker": {
          "color": "#ab63fa",
          "size": [
           31205576
          ],
          "sizemode": "area",
          "sizeref": 499530.8525,
          "symbol": "circle"
         },
         "mode": "markers",
         "name": "Assam",
         "showlegend": true,
         "type": "scatter",
         "x": [
          43
         ],
         "xaxis": "x",
         "y": [
          397
         ],
         "yaxis": "y"
        },
        {
         "hovertemplate": "State/UnionTerritory=Bihar<br>Confirmed=%{x}<br>Density_In_SqKM=%{y}<br>Population=%{marker.size}<extra></extra>",
         "legendgroup": "Bihar",
         "marker": {
          "color": "#FFA15A",
          "size": [
           104099452
          ],
          "sizemode": "area",
          "sizeref": 499530.8525,
          "symbol": "circle"
         },
         "mode": "markers",
         "name": "Bihar",
         "showlegend": true,
         "type": "scatter",
         "x": [
          517
         ],
         "xaxis": "x",
         "y": [
          1102
         ],
         "yaxis": "y"
        },
        {
         "hovertemplate": "State/UnionTerritory=Chandigarh<br>Confirmed=%{x}<br>Density_In_SqKM=%{y}<br>Population=%{marker.size}<extra></extra>",
         "legendgroup": "Chandigarh",
         "marker": {
          "color": "#19d3f3",
          "size": [
           1055450
          ],
          "sizemode": "area",
          "sizeref": 499530.8525,
          "symbol": "circle"
         },
         "mode": "markers",
         "name": "Chandigarh",
         "showlegend": true,
         "type": "scatter",
         "x": [
          94
         ],
         "xaxis": "x",
         "y": [
          9252
         ],
         "yaxis": "y"
        },
        {
         "hovertemplate": "State/UnionTerritory=Chhattisgarh<br>Confirmed=%{x}<br>Density_In_SqKM=%{y}<br>Population=%{marker.size}<extra></extra>",
         "legendgroup": "Chhattisgarh",
         "marker": {
          "color": "#FF6692",
          "size": [
           25545198
          ],
          "sizemode": "area",
          "sizeref": 499530.8525,
          "symbol": "circle"
         },
         "mode": "markers",
         "name": "Chhattisgarh",
         "showlegend": true,
         "type": "scatter",
         "x": [
          57
         ],
         "xaxis": "x",
         "y": [
          189
         ],
         "yaxis": "y"
        },
        {
         "hovertemplate": "State/UnionTerritory=Delhi<br>Confirmed=%{x}<br>Density_In_SqKM=%{y}<br>Population=%{marker.size}<extra></extra>",
         "legendgroup": "Delhi",
         "marker": {
          "color": "#B6E880",
          "size": [
           16787941
          ],
          "sizemode": "area",
          "sizeref": 499530.8525,
          "symbol": "circle"
         },
         "mode": "markers",
         "name": "Delhi",
         "showlegend": true,
         "type": "scatter",
         "x": [
          4549
         ],
         "xaxis": "x",
         "y": [
          11297
         ],
         "yaxis": "y"
        },
        {
         "hovertemplate": "State/UnionTerritory=Goa<br>Confirmed=%{x}<br>Density_In_SqKM=%{y}<br>Population=%{marker.size}<extra></extra>",
         "legendgroup": "Goa",
         "marker": {
          "color": "#FF97FF",
          "size": [
           1458545
          ],
          "sizemode": "area",
          "sizeref": 499530.8525,
          "symbol": "circle"
         },
         "mode": "markers",
         "name": "Goa",
         "showlegend": true,
         "type": "scatter",
         "x": [
          7
         ],
         "xaxis": "x",
         "y": [
          394
         ],
         "yaxis": "y"
        },
        {
         "hovertemplate": "State/UnionTerritory=Gujarat<br>Confirmed=%{x}<br>Density_In_SqKM=%{y}<br>Population=%{marker.size}<extra></extra>",
         "legendgroup": "Gujarat",
         "marker": {
          "color": "#FECB52",
          "size": [
           60439692
          ],
          "sizemode": "area",
          "sizeref": 499530.8525,
          "symbol": "circle"
         },
         "mode": "markers",
         "name": "Gujarat",
         "showlegend": true,
         "type": "scatter",
         "x": [
          5428
         ],
         "xaxis": "x",
         "y": [
          308
         ],
         "yaxis": "y"
        },
        {
         "hovertemplate": "State/UnionTerritory=Haryana<br>Confirmed=%{x}<br>Density_In_SqKM=%{y}<br>Population=%{marker.size}<extra></extra>",
         "legendgroup": "Haryana",
         "marker": {
          "color": "#636efa",
          "size": [
           25351462
          ],
          "sizemode": "area",
          "sizeref": 499530.8525,
          "symbol": "circle"
         },
         "mode": "markers",
         "name": "Haryana",
         "showlegend": true,
         "type": "scatter",
         "x": [
          442
         ],
         "xaxis": "x",
         "y": [
          573
         ],
         "yaxis": "y"
        },
        {
         "hovertemplate": "State/UnionTerritory=Himachal Pradesh<br>Confirmed=%{x}<br>Density_In_SqKM=%{y}<br>Population=%{marker.size}<extra></extra>",
         "legendgroup": "Himachal Pradesh",
         "marker": {
          "color": "#EF553B",
          "size": [
           6864602
          ],
          "sizemode": "area",
          "sizeref": 499530.8525,
          "symbol": "circle"
         },
         "mode": "markers",
         "name": "Himachal Pradesh",
         "showlegend": true,
         "type": "scatter",
         "x": [
          40
         ],
         "xaxis": "x",
         "y": [
          123
         ],
         "yaxis": "y"
        },
        {
         "hovertemplate": "State/UnionTerritory=Jammu and Kashmir<br>Confirmed=%{x}<br>Density_In_SqKM=%{y}<br>Population=%{marker.size}<extra></extra>",
         "legendgroup": "Jammu and Kashmir",
         "marker": {
          "color": "#00cc96",
          "size": [
           12267032
          ],
          "sizemode": "area",
          "sizeref": 499530.8525,
          "symbol": "circle"
         },
         "mode": "markers",
         "name": "Jammu and Kashmir",
         "showlegend": true,
         "type": "scatter",
         "x": [
          701
         ],
         "xaxis": "x",
         "y": [
          98
         ],
         "yaxis": "y"
        },
        {
         "hovertemplate": "State/UnionTerritory=Jharkhand<br>Confirmed=%{x}<br>Density_In_SqKM=%{y}<br>Population=%{marker.size}<extra></extra>",
         "legendgroup": "Jharkhand",
         "marker": {
          "color": "#ab63fa",
          "size": [
           32988134
          ],
          "sizemode": "area",
          "sizeref": 499530.8525,
          "symbol": "circle"
         },
         "mode": "markers",
         "name": "Jharkhand",
         "showlegend": true,
         "type": "scatter",
         "x": [
          115
         ],
         "xaxis": "x",
         "y": [
          414
         ],
         "yaxis": "y"
        },
        {
         "hovertemplate": "State/UnionTerritory=Karnataka<br>Confirmed=%{x}<br>Density_In_SqKM=%{y}<br>Population=%{marker.size}<extra></extra>",
         "legendgroup": "Karnataka",
         "marker": {
          "color": "#FFA15A",
          "size": [
           61095297
          ],
          "sizemode": "area",
          "sizeref": 499530.8525,
          "symbol": "circle"
         },
         "mode": "markers",
         "name": "Karnataka",
         "showlegend": true,
         "type": "scatter",
         "x": [
          642
         ],
         "xaxis": "x",
         "y": [
          319
         ],
         "yaxis": "y"
        },
        {
         "hovertemplate": "State/UnionTerritory=Kerala<br>Confirmed=%{x}<br>Density_In_SqKM=%{y}<br>Population=%{marker.size}<extra></extra>",
         "legendgroup": "Kerala",
         "marker": {
          "color": "#19d3f3",
          "size": [
           33406061
          ],
          "sizemode": "area",
          "sizeref": 499530.8525,
          "symbol": "circle"
         },
         "mode": "markers",
         "name": "Kerala",
         "showlegend": true,
         "type": "scatter",
         "x": [
          500
         ],
         "xaxis": "x",
         "y": [
          859
         ],
         "yaxis": "y"
        },
        {
         "hovertemplate": "State/UnionTerritory=Ladakh<br>Confirmed=%{x}<br>Density_In_SqKM=%{y}<br>Population=%{marker.size}<extra></extra>",
         "legendgroup": "Ladakh",
         "marker": {
          "color": "#FF6692",
          "size": [
           274000
          ],
          "sizemode": "area",
          "sizeref": 499530.8525,
          "symbol": "circle"
         },
         "mode": "markers",
         "name": "Ladakh",
         "showlegend": true,
         "type": "scatter",
         "x": [
          41
         ],
         "xaxis": "x",
         "y": [
          2
         ],
         "yaxis": "y"
        },
        {
         "hovertemplate": "State/UnionTerritory=Madhya Pradesh<br>Confirmed=%{x}<br>Density_In_SqKM=%{y}<br>Population=%{marker.size}<extra></extra>",
         "legendgroup": "Madhya Pradesh",
         "marker": {
          "color": "#B6E880",
          "size": [
           72626809
          ],
          "sizemode": "area",
          "sizeref": 499530.8525,
          "symbol": "circle"
         },
         "mode": "markers",
         "name": "Madhya Pradesh",
         "showlegend": true,
         "type": "scatter",
         "x": [
          2942
         ],
         "xaxis": "x",
         "y": [
          236
         ],
         "yaxis": "y"
        },
        {
         "hovertemplate": "State/UnionTerritory=Maharashtra<br>Confirmed=%{x}<br>Density_In_SqKM=%{y}<br>Population=%{marker.size}<extra></extra>",
         "legendgroup": "Maharashtra",
         "marker": {
          "color": "#FF97FF",
          "size": [
           112374333
          ],
          "sizemode": "area",
          "sizeref": 499530.8525,
          "symbol": "circle"
         },
         "mode": "markers",
         "name": "Maharashtra",
         "showlegend": true,
         "type": "scatter",
         "x": [
          12974
         ],
         "xaxis": "x",
         "y": [
          365
         ],
         "yaxis": "y"
        },
        {
         "hovertemplate": "State/UnionTerritory=Manipur<br>Confirmed=%{x}<br>Density_In_SqKM=%{y}<br>Population=%{marker.size}<extra></extra>",
         "legendgroup": "Manipur",
         "marker": {
          "color": "#FECB52",
          "size": [
           2570390
          ],
          "sizemode": "area",
          "sizeref": 499530.8525,
          "symbol": "circle"
         },
         "mode": "markers",
         "name": "Manipur",
         "showlegend": true,
         "type": "scatter",
         "x": [
          2
         ],
         "xaxis": "x",
         "y": [
          122
         ],
         "yaxis": "y"
        },
        {
         "hovertemplate": "State/UnionTerritory=Meghalaya<br>Confirmed=%{x}<br>Density_In_SqKM=%{y}<br>Population=%{marker.size}<extra></extra>",
         "legendgroup": "Meghalaya",
         "marker": {
          "color": "#636efa",
          "size": [
           2966889
          ],
          "sizemode": "area",
          "sizeref": 499530.8525,
          "symbol": "circle"
         },
         "mode": "markers",
         "name": "Meghalaya",
         "showlegend": true,
         "type": "scatter",
         "x": [
          12
         ],
         "xaxis": "x",
         "y": [
          132
         ],
         "yaxis": "y"
        },
        {
         "hovertemplate": "State/UnionTerritory=Mizoram<br>Confirmed=%{x}<br>Density_In_SqKM=%{y}<br>Population=%{marker.size}<extra></extra>",
         "legendgroup": "Mizoram",
         "marker": {
          "color": "#EF553B",
          "size": [
           1097206
          ],
          "sizemode": "area",
          "sizeref": 499530.8525,
          "symbol": "circle"
         },
         "mode": "markers",
         "name": "Mizoram",
         "showlegend": true,
         "type": "scatter",
         "x": [
          1
         ],
         "xaxis": "x",
         "y": [
          52
         ],
         "yaxis": "y"
        },
        {
         "hovertemplate": "State/UnionTerritory=Odisha<br>Confirmed=%{x}<br>Density_In_SqKM=%{y}<br>Population=%{marker.size}<extra></extra>",
         "legendgroup": "Odisha",
         "marker": {
          "color": "#00cc96",
          "size": [
           41974218
          ],
          "sizemode": "area",
          "sizeref": 499530.8525,
          "symbol": "circle"
         },
         "mode": "markers",
         "name": "Odisha",
         "showlegend": true,
         "type": "scatter",
         "x": [
          163
         ],
         "xaxis": "x",
         "y": [
          269
         ],
         "yaxis": "y"
        },
        {
         "hovertemplate": "State/UnionTerritory=Puducherry<br>Confirmed=%{x}<br>Density_In_SqKM=%{y}<br>Population=%{marker.size}<extra></extra>",
         "legendgroup": "Puducherry",
         "marker": {
          "color": "#ab63fa",
          "size": [
           1247953
          ],
          "sizemode": "area",
          "sizeref": 499530.8525,
          "symbol": "circle"
         },
         "mode": "markers",
         "name": "Puducherry",
         "showlegend": true,
         "type": "scatter",
         "x": [
          8
         ],
         "xaxis": "x",
         "y": [
          2598
         ],
         "yaxis": "y"
        },
        {
         "hovertemplate": "State/UnionTerritory=Punjab<br>Confirmed=%{x}<br>Density_In_SqKM=%{y}<br>Population=%{marker.size}<extra></extra>",
         "legendgroup": "Punjab",
         "marker": {
          "color": "#FFA15A",
          "size": [
           27743338
          ],
          "sizemode": "area",
          "sizeref": 499530.8525,
          "symbol": "circle"
         },
         "mode": "markers",
         "name": "Punjab",
         "showlegend": true,
         "type": "scatter",
         "x": [
          1102
         ],
         "xaxis": "x",
         "y": [
          550
         ],
         "yaxis": "y"
        },
        {
         "hovertemplate": "State/UnionTerritory=Rajasthan<br>Confirmed=%{x}<br>Density_In_SqKM=%{y}<br>Population=%{marker.size}<extra></extra>",
         "legendgroup": "Rajasthan",
         "marker": {
          "color": "#19d3f3",
          "size": [
           68548437
          ],
          "sizemode": "area",
          "sizeref": 499530.8525,
          "symbol": "circle"
         },
         "mode": "markers",
         "name": "Rajasthan",
         "showlegend": true,
         "type": "scatter",
         "x": [
          2886
         ],
         "xaxis": "x",
         "y": [
          201
         ],
         "yaxis": "y"
        },
        {
         "hovertemplate": "State/UnionTerritory=Tamil Nadu<br>Confirmed=%{x}<br>Density_In_SqKM=%{y}<br>Population=%{marker.size}<extra></extra>",
         "legendgroup": "Tamil Nadu",
         "marker": {
          "color": "#FF6692",
          "size": [
           72147030
          ],
          "sizemode": "area",
          "sizeref": 499530.8525,
          "symbol": "circle"
         },
         "mode": "markers",
         "name": "Tamil Nadu",
         "showlegend": true,
         "type": "scatter",
         "x": [
          3023
         ],
         "xaxis": "x",
         "y": [
          555
         ],
         "yaxis": "y"
        },
        {
         "hovertemplate": "State/UnionTerritory=Telengana<br>Confirmed=%{x}<br>Density_In_SqKM=%{y}<br>Population=%{marker.size}<extra></extra>",
         "legendgroup": "Telengana",
         "marker": {
          "color": "#B6E880",
          "size": [
           35003674
          ],
          "sizemode": "area",
          "sizeref": 499530.8525,
          "symbol": "circle"
         },
         "mode": "markers",
         "name": "Telengana",
         "showlegend": true,
         "type": "scatter",
         "x": [
          1082
         ],
         "xaxis": "x",
         "y": [
          312
         ],
         "yaxis": "y"
        },
        {
         "hovertemplate": "State/UnionTerritory=Tripura<br>Confirmed=%{x}<br>Density_In_SqKM=%{y}<br>Population=%{marker.size}<extra></extra>",
         "legendgroup": "Tripura",
         "marker": {
          "color": "#FF97FF",
          "size": [
           3673917
          ],
          "sizemode": "area",
          "sizeref": 499530.8525,
          "symbol": "circle"
         },
         "mode": "markers",
         "name": "Tripura",
         "showlegend": true,
         "type": "scatter",
         "x": [
          16
         ],
         "xaxis": "x",
         "y": [
          350
         ],
         "yaxis": "y"
        },
        {
         "hovertemplate": "State/UnionTerritory=Uttarakhand<br>Confirmed=%{x}<br>Density_In_SqKM=%{y}<br>Population=%{marker.size}<extra></extra>",
         "legendgroup": "Uttarakhand",
         "marker": {
          "color": "#FECB52",
          "size": [
           10086292
          ],
          "sizemode": "area",
          "sizeref": 499530.8525,
          "symbol": "circle"
         },
         "mode": "markers",
         "name": "Uttarakhand",
         "showlegend": true,
         "type": "scatter",
         "x": [
          60
         ],
         "xaxis": "x",
         "y": [
          189
         ],
         "yaxis": "y"
        },
        {
         "hovertemplate": "State/UnionTerritory=Uttar Pradesh<br>Confirmed=%{x}<br>Density_In_SqKM=%{y}<br>Population=%{marker.size}<extra></extra>",
         "legendgroup": "Uttar Pradesh",
         "marker": {
          "color": "#636efa",
          "size": [
           199812341
          ],
          "sizemode": "area",
          "sizeref": 499530.8525,
          "symbol": "circle"
         },
         "mode": "markers",
         "name": "Uttar Pradesh",
         "showlegend": true,
         "type": "scatter",
         "x": [
          2742
         ],
         "xaxis": "x",
         "y": [
          828
         ],
         "yaxis": "y"
        },
        {
         "hovertemplate": "State/UnionTerritory=West Bengal<br>Confirmed=%{x}<br>Density_In_SqKM=%{y}<br>Population=%{marker.size}<extra></extra>",
         "legendgroup": "West Bengal",
         "marker": {
          "color": "#EF553B",
          "size": [
           91276115
          ],
          "sizemode": "area",
          "sizeref": 499530.8525,
          "symbol": "circle"
         },
         "mode": "markers",
         "name": "West Bengal",
         "showlegend": true,
         "type": "scatter",
         "x": [
          963
         ],
         "xaxis": "x",
         "y": [
          1029
         ],
         "yaxis": "y"
        }
       ],
       "layout": {
        "legend": {
         "itemsizing": "constant",
         "title": {
          "text": "State/UnionTerritory"
         },
         "tracegroupgap": 0
        },
        "margin": {
         "t": 60
        },
        "template": {
         "data": {
          "bar": [
           {
            "error_x": {
             "color": "#2a3f5f"
            },
            "error_y": {
             "color": "#2a3f5f"
            },
            "marker": {
             "line": {
              "color": "#E5ECF6",
              "width": 0.5
             }
            },
            "type": "bar"
           }
          ],
          "barpolar": [
           {
            "marker": {
             "line": {
              "color": "#E5ECF6",
              "width": 0.5
             }
            },
            "type": "barpolar"
           }
          ],
          "carpet": [
           {
            "aaxis": {
             "endlinecolor": "#2a3f5f",
             "gridcolor": "white",
             "linecolor": "white",
             "minorgridcolor": "white",
             "startlinecolor": "#2a3f5f"
            },
            "baxis": {
             "endlinecolor": "#2a3f5f",
             "gridcolor": "white",
             "linecolor": "white",
             "minorgridcolor": "white",
             "startlinecolor": "#2a3f5f"
            },
            "type": "carpet"
           }
          ],
          "choropleth": [
           {
            "colorbar": {
             "outlinewidth": 0,
             "ticks": ""
            },
            "type": "choropleth"
           }
          ],
          "contour": [
           {
            "colorbar": {
             "outlinewidth": 0,
             "ticks": ""
            },
            "colorscale": [
             [
              0,
              "#0d0887"
             ],
             [
              0.1111111111111111,
              "#46039f"
             ],
             [
              0.2222222222222222,
              "#7201a8"
             ],
             [
              0.3333333333333333,
              "#9c179e"
             ],
             [
              0.4444444444444444,
              "#bd3786"
             ],
             [
              0.5555555555555556,
              "#d8576b"
             ],
             [
              0.6666666666666666,
              "#ed7953"
             ],
             [
              0.7777777777777778,
              "#fb9f3a"
             ],
             [
              0.8888888888888888,
              "#fdca26"
             ],
             [
              1,
              "#f0f921"
             ]
            ],
            "type": "contour"
           }
          ],
          "contourcarpet": [
           {
            "colorbar": {
             "outlinewidth": 0,
             "ticks": ""
            },
            "type": "contourcarpet"
           }
          ],
          "heatmap": [
           {
            "colorbar": {
             "outlinewidth": 0,
             "ticks": ""
            },
            "colorscale": [
             [
              0,
              "#0d0887"
             ],
             [
              0.1111111111111111,
              "#46039f"
             ],
             [
              0.2222222222222222,
              "#7201a8"
             ],
             [
              0.3333333333333333,
              "#9c179e"
             ],
             [
              0.4444444444444444,
              "#bd3786"
             ],
             [
              0.5555555555555556,
              "#d8576b"
             ],
             [
              0.6666666666666666,
              "#ed7953"
             ],
             [
              0.7777777777777778,
              "#fb9f3a"
             ],
             [
              0.8888888888888888,
              "#fdca26"
             ],
             [
              1,
              "#f0f921"
             ]
            ],
            "type": "heatmap"
           }
          ],
          "heatmapgl": [
           {
            "colorbar": {
             "outlinewidth": 0,
             "ticks": ""
            },
            "colorscale": [
             [
              0,
              "#0d0887"
             ],
             [
              0.1111111111111111,
              "#46039f"
             ],
             [
              0.2222222222222222,
              "#7201a8"
             ],
             [
              0.3333333333333333,
              "#9c179e"
             ],
             [
              0.4444444444444444,
              "#bd3786"
             ],
             [
              0.5555555555555556,
              "#d8576b"
             ],
             [
              0.6666666666666666,
              "#ed7953"
             ],
             [
              0.7777777777777778,
              "#fb9f3a"
             ],
             [
              0.8888888888888888,
              "#fdca26"
             ],
             [
              1,
              "#f0f921"
             ]
            ],
            "type": "heatmapgl"
           }
          ],
          "histogram": [
           {
            "marker": {
             "colorbar": {
              "outlinewidth": 0,
              "ticks": ""
             }
            },
            "type": "histogram"
           }
          ],
          "histogram2d": [
           {
            "colorbar": {
             "outlinewidth": 0,
             "ticks": ""
            },
            "colorscale": [
             [
              0,
              "#0d0887"
             ],
             [
              0.1111111111111111,
              "#46039f"
             ],
             [
              0.2222222222222222,
              "#7201a8"
             ],
             [
              0.3333333333333333,
              "#9c179e"
             ],
             [
              0.4444444444444444,
              "#bd3786"
             ],
             [
              0.5555555555555556,
              "#d8576b"
             ],
             [
              0.6666666666666666,
              "#ed7953"
             ],
             [
              0.7777777777777778,
              "#fb9f3a"
             ],
             [
              0.8888888888888888,
              "#fdca26"
             ],
             [
              1,
              "#f0f921"
             ]
            ],
            "type": "histogram2d"
           }
          ],
          "histogram2dcontour": [
           {
            "colorbar": {
             "outlinewidth": 0,
             "ticks": ""
            },
            "colorscale": [
             [
              0,
              "#0d0887"
             ],
             [
              0.1111111111111111,
              "#46039f"
             ],
             [
              0.2222222222222222,
              "#7201a8"
             ],
             [
              0.3333333333333333,
              "#9c179e"
             ],
             [
              0.4444444444444444,
              "#bd3786"
             ],
             [
              0.5555555555555556,
              "#d8576b"
             ],
             [
              0.6666666666666666,
              "#ed7953"
             ],
             [
              0.7777777777777778,
              "#fb9f3a"
             ],
             [
              0.8888888888888888,
              "#fdca26"
             ],
             [
              1,
              "#f0f921"
             ]
            ],
            "type": "histogram2dcontour"
           }
          ],
          "mesh3d": [
           {
            "colorbar": {
             "outlinewidth": 0,
             "ticks": ""
            },
            "type": "mesh3d"
           }
          ],
          "parcoords": [
           {
            "line": {
             "colorbar": {
              "outlinewidth": 0,
              "ticks": ""
             }
            },
            "type": "parcoords"
           }
          ],
          "pie": [
           {
            "automargin": true,
            "type": "pie"
           }
          ],
          "scatter": [
           {
            "marker": {
             "colorbar": {
              "outlinewidth": 0,
              "ticks": ""
             }
            },
            "type": "scatter"
           }
          ],
          "scatter3d": [
           {
            "line": {
             "colorbar": {
              "outlinewidth": 0,
              "ticks": ""
             }
            },
            "marker": {
             "colorbar": {
              "outlinewidth": 0,
              "ticks": ""
             }
            },
            "type": "scatter3d"
           }
          ],
          "scattercarpet": [
           {
            "marker": {
             "colorbar": {
              "outlinewidth": 0,
              "ticks": ""
             }
            },
            "type": "scattercarpet"
           }
          ],
          "scattergeo": [
           {
            "marker": {
             "colorbar": {
              "outlinewidth": 0,
              "ticks": ""
             }
            },
            "type": "scattergeo"
           }
          ],
          "scattergl": [
           {
            "marker": {
             "colorbar": {
              "outlinewidth": 0,
              "ticks": ""
             }
            },
            "type": "scattergl"
           }
          ],
          "scattermapbox": [
           {
            "marker": {
             "colorbar": {
              "outlinewidth": 0,
              "ticks": ""
             }
            },
            "type": "scattermapbox"
           }
          ],
          "scatterpolar": [
           {
            "marker": {
             "colorbar": {
              "outlinewidth": 0,
              "ticks": ""
             }
            },
            "type": "scatterpolar"
           }
          ],
          "scatterpolargl": [
           {
            "marker": {
             "colorbar": {
              "outlinewidth": 0,
              "ticks": ""
             }
            },
            "type": "scatterpolargl"
           }
          ],
          "scatterternary": [
           {
            "marker": {
             "colorbar": {
              "outlinewidth": 0,
              "ticks": ""
             }
            },
            "type": "scatterternary"
           }
          ],
          "surface": [
           {
            "colorbar": {
             "outlinewidth": 0,
             "ticks": ""
            },
            "colorscale": [
             [
              0,
              "#0d0887"
             ],
             [
              0.1111111111111111,
              "#46039f"
             ],
             [
              0.2222222222222222,
              "#7201a8"
             ],
             [
              0.3333333333333333,
              "#9c179e"
             ],
             [
              0.4444444444444444,
              "#bd3786"
             ],
             [
              0.5555555555555556,
              "#d8576b"
             ],
             [
              0.6666666666666666,
              "#ed7953"
             ],
             [
              0.7777777777777778,
              "#fb9f3a"
             ],
             [
              0.8888888888888888,
              "#fdca26"
             ],
             [
              1,
              "#f0f921"
             ]
            ],
            "type": "surface"
           }
          ],
          "table": [
           {
            "cells": {
             "fill": {
              "color": "#EBF0F8"
             },
             "line": {
              "color": "white"
             }
            },
            "header": {
             "fill": {
              "color": "#C8D4E3"
             },
             "line": {
              "color": "white"
             }
            },
            "type": "table"
           }
          ]
         },
         "layout": {
          "annotationdefaults": {
           "arrowcolor": "#2a3f5f",
           "arrowhead": 0,
           "arrowwidth": 1
          },
          "coloraxis": {
           "colorbar": {
            "outlinewidth": 0,
            "ticks": ""
           }
          },
          "colorscale": {
           "diverging": [
            [
             0,
             "#8e0152"
            ],
            [
             0.1,
             "#c51b7d"
            ],
            [
             0.2,
             "#de77ae"
            ],
            [
             0.3,
             "#f1b6da"
            ],
            [
             0.4,
             "#fde0ef"
            ],
            [
             0.5,
             "#f7f7f7"
            ],
            [
             0.6,
             "#e6f5d0"
            ],
            [
             0.7,
             "#b8e186"
            ],
            [
             0.8,
             "#7fbc41"
            ],
            [
             0.9,
             "#4d9221"
            ],
            [
             1,
             "#276419"
            ]
           ],
           "sequential": [
            [
             0,
             "#0d0887"
            ],
            [
             0.1111111111111111,
             "#46039f"
            ],
            [
             0.2222222222222222,
             "#7201a8"
            ],
            [
             0.3333333333333333,
             "#9c179e"
            ],
            [
             0.4444444444444444,
             "#bd3786"
            ],
            [
             0.5555555555555556,
             "#d8576b"
            ],
            [
             0.6666666666666666,
             "#ed7953"
            ],
            [
             0.7777777777777778,
             "#fb9f3a"
            ],
            [
             0.8888888888888888,
             "#fdca26"
            ],
            [
             1,
             "#f0f921"
            ]
           ],
           "sequentialminus": [
            [
             0,
             "#0d0887"
            ],
            [
             0.1111111111111111,
             "#46039f"
            ],
            [
             0.2222222222222222,
             "#7201a8"
            ],
            [
             0.3333333333333333,
             "#9c179e"
            ],
            [
             0.4444444444444444,
             "#bd3786"
            ],
            [
             0.5555555555555556,
             "#d8576b"
            ],
            [
             0.6666666666666666,
             "#ed7953"
            ],
            [
             0.7777777777777778,
             "#fb9f3a"
            ],
            [
             0.8888888888888888,
             "#fdca26"
            ],
            [
             1,
             "#f0f921"
            ]
           ]
          },
          "colorway": [
           "#636efa",
           "#EF553B",
           "#00cc96",
           "#ab63fa",
           "#FFA15A",
           "#19d3f3",
           "#FF6692",
           "#B6E880",
           "#FF97FF",
           "#FECB52"
          ],
          "font": {
           "color": "#2a3f5f"
          },
          "geo": {
           "bgcolor": "white",
           "lakecolor": "white",
           "landcolor": "#E5ECF6",
           "showlakes": true,
           "showland": true,
           "subunitcolor": "white"
          },
          "hoverlabel": {
           "align": "left"
          },
          "hovermode": "closest",
          "mapbox": {
           "style": "light"
          },
          "paper_bgcolor": "white",
          "plot_bgcolor": "#E5ECF6",
          "polar": {
           "angularaxis": {
            "gridcolor": "white",
            "linecolor": "white",
            "ticks": ""
           },
           "bgcolor": "#E5ECF6",
           "radialaxis": {
            "gridcolor": "white",
            "linecolor": "white",
            "ticks": ""
           }
          },
          "scene": {
           "xaxis": {
            "backgroundcolor": "#E5ECF6",
            "gridcolor": "white",
            "gridwidth": 2,
            "linecolor": "white",
            "showbackground": true,
            "ticks": "",
            "zerolinecolor": "white"
           },
           "yaxis": {
            "backgroundcolor": "#E5ECF6",
            "gridcolor": "white",
            "gridwidth": 2,
            "linecolor": "white",
            "showbackground": true,
            "ticks": "",
            "zerolinecolor": "white"
           },
           "zaxis": {
            "backgroundcolor": "#E5ECF6",
            "gridcolor": "white",
            "gridwidth": 2,
            "linecolor": "white",
            "showbackground": true,
            "ticks": "",
            "zerolinecolor": "white"
           }
          },
          "shapedefaults": {
           "line": {
            "color": "#2a3f5f"
           }
          },
          "ternary": {
           "aaxis": {
            "gridcolor": "white",
            "linecolor": "white",
            "ticks": ""
           },
           "baxis": {
            "gridcolor": "white",
            "linecolor": "white",
            "ticks": ""
           },
           "bgcolor": "#E5ECF6",
           "caxis": {
            "gridcolor": "white",
            "linecolor": "white",
            "ticks": ""
           }
          },
          "title": {
           "x": 0.05
          },
          "xaxis": {
           "automargin": true,
           "gridcolor": "white",
           "linecolor": "white",
           "ticks": "",
           "title": {
            "standoff": 15
           },
           "zerolinecolor": "white",
           "zerolinewidth": 2
          },
          "yaxis": {
           "automargin": true,
           "gridcolor": "white",
           "linecolor": "white",
           "ticks": "",
           "title": {
            "standoff": 15
           },
           "zerolinecolor": "white",
           "zerolinewidth": 2
          }
         }
        },
        "title": {
         "text": "Total Confirmed Cases vs Population Density(per sq km)"
        },
        "xaxis": {
         "anchor": "y",
         "domain": [
          0,
          1
         ],
         "title": {
          "text": "Total Confirmed Cases"
         }
        },
        "yaxis": {
         "anchor": "x",
         "domain": [
          0,
          1
         ],
         "title": {
          "text": "Population Density(per sq km)"
         }
        }
       }
      },
      "text/html": [
       "<div>\n",
       "        \n",
       "        \n",
       "            <div id=\"5b75aa30-4b03-49fb-b43f-87791e054ab5\" class=\"plotly-graph-div\" style=\"height:525px; width:100%;\"></div>\n",
       "            <script type=\"text/javascript\">\n",
       "                require([\"plotly\"], function(Plotly) {\n",
       "                    window.PLOTLYENV=window.PLOTLYENV || {};\n",
       "                    \n",
       "                if (document.getElementById(\"5b75aa30-4b03-49fb-b43f-87791e054ab5\")) {\n",
       "                    Plotly.newPlot(\n",
       "                        '5b75aa30-4b03-49fb-b43f-87791e054ab5',\n",
       "                        [{\"hovertemplate\": \"State/UnionTerritory=Andaman and Nicobar Islands<br>Confirmed=%{x}<br>Density_In_SqKM=%{y}<br>Population=%{marker.size}<extra></extra>\", \"legendgroup\": \"Andaman and Nicobar Islands\", \"marker\": {\"color\": \"#636efa\", \"size\": [380581.0], \"sizemode\": \"area\", \"sizeref\": 499530.8525, \"symbol\": \"circle\"}, \"mode\": \"markers\", \"name\": \"Andaman and Nicobar Islands\", \"showlegend\": true, \"type\": \"scatter\", \"x\": [33], \"xaxis\": \"x\", \"y\": [46], \"yaxis\": \"y\"}, {\"hovertemplate\": \"State/UnionTerritory=Andhra Pradesh<br>Confirmed=%{x}<br>Density_In_SqKM=%{y}<br>Population=%{marker.size}<extra></extra>\", \"legendgroup\": \"Andhra Pradesh\", \"marker\": {\"color\": \"#EF553B\", \"size\": [49577103.0], \"sizemode\": \"area\", \"sizeref\": 499530.8525, \"symbol\": \"circle\"}, \"mode\": \"markers\", \"name\": \"Andhra Pradesh\", \"showlegend\": true, \"type\": \"scatter\", \"x\": [1650], \"xaxis\": \"x\", \"y\": [303], \"yaxis\": \"y\"}, {\"hovertemplate\": \"State/UnionTerritory=Arunachal Pradesh<br>Confirmed=%{x}<br>Density_In_SqKM=%{y}<br>Population=%{marker.size}<extra></extra>\", \"legendgroup\": \"Arunachal Pradesh\", \"marker\": {\"color\": \"#00cc96\", \"size\": [1383727.0], \"sizemode\": \"area\", \"sizeref\": 499530.8525, \"symbol\": \"circle\"}, \"mode\": \"markers\", \"name\": \"Arunachal Pradesh\", \"showlegend\": true, \"type\": \"scatter\", \"x\": [1], \"xaxis\": \"x\", \"y\": [17], \"yaxis\": \"y\"}, {\"hovertemplate\": \"State/UnionTerritory=Assam<br>Confirmed=%{x}<br>Density_In_SqKM=%{y}<br>Population=%{marker.size}<extra></extra>\", \"legendgroup\": \"Assam\", \"marker\": {\"color\": \"#ab63fa\", \"size\": [31205576.0], \"sizemode\": \"area\", \"sizeref\": 499530.8525, \"symbol\": \"circle\"}, \"mode\": \"markers\", \"name\": \"Assam\", \"showlegend\": true, \"type\": \"scatter\", \"x\": [43], \"xaxis\": \"x\", \"y\": [397], \"yaxis\": \"y\"}, {\"hovertemplate\": \"State/UnionTerritory=Bihar<br>Confirmed=%{x}<br>Density_In_SqKM=%{y}<br>Population=%{marker.size}<extra></extra>\", \"legendgroup\": \"Bihar\", \"marker\": {\"color\": \"#FFA15A\", \"size\": [104099452.0], \"sizemode\": \"area\", \"sizeref\": 499530.8525, \"symbol\": \"circle\"}, \"mode\": \"markers\", \"name\": \"Bihar\", \"showlegend\": true, \"type\": \"scatter\", \"x\": [517], \"xaxis\": \"x\", \"y\": [1102], \"yaxis\": \"y\"}, {\"hovertemplate\": \"State/UnionTerritory=Chandigarh<br>Confirmed=%{x}<br>Density_In_SqKM=%{y}<br>Population=%{marker.size}<extra></extra>\", \"legendgroup\": \"Chandigarh\", \"marker\": {\"color\": \"#19d3f3\", \"size\": [1055450.0], \"sizemode\": \"area\", \"sizeref\": 499530.8525, \"symbol\": \"circle\"}, \"mode\": \"markers\", \"name\": \"Chandigarh\", \"showlegend\": true, \"type\": \"scatter\", \"x\": [94], \"xaxis\": \"x\", \"y\": [9252], \"yaxis\": \"y\"}, {\"hovertemplate\": \"State/UnionTerritory=Chhattisgarh<br>Confirmed=%{x}<br>Density_In_SqKM=%{y}<br>Population=%{marker.size}<extra></extra>\", \"legendgroup\": \"Chhattisgarh\", \"marker\": {\"color\": \"#FF6692\", \"size\": [25545198.0], \"sizemode\": \"area\", \"sizeref\": 499530.8525, \"symbol\": \"circle\"}, \"mode\": \"markers\", \"name\": \"Chhattisgarh\", \"showlegend\": true, \"type\": \"scatter\", \"x\": [57], \"xaxis\": \"x\", \"y\": [189], \"yaxis\": \"y\"}, {\"hovertemplate\": \"State/UnionTerritory=Delhi<br>Confirmed=%{x}<br>Density_In_SqKM=%{y}<br>Population=%{marker.size}<extra></extra>\", \"legendgroup\": \"Delhi\", \"marker\": {\"color\": \"#B6E880\", \"size\": [16787941.0], \"sizemode\": \"area\", \"sizeref\": 499530.8525, \"symbol\": \"circle\"}, \"mode\": \"markers\", \"name\": \"Delhi\", \"showlegend\": true, \"type\": \"scatter\", \"x\": [4549], \"xaxis\": \"x\", \"y\": [11297], \"yaxis\": \"y\"}, {\"hovertemplate\": \"State/UnionTerritory=Goa<br>Confirmed=%{x}<br>Density_In_SqKM=%{y}<br>Population=%{marker.size}<extra></extra>\", \"legendgroup\": \"Goa\", \"marker\": {\"color\": \"#FF97FF\", \"size\": [1458545.0], \"sizemode\": \"area\", \"sizeref\": 499530.8525, \"symbol\": \"circle\"}, \"mode\": \"markers\", \"name\": \"Goa\", \"showlegend\": true, \"type\": \"scatter\", \"x\": [7], \"xaxis\": \"x\", \"y\": [394], \"yaxis\": \"y\"}, {\"hovertemplate\": \"State/UnionTerritory=Gujarat<br>Confirmed=%{x}<br>Density_In_SqKM=%{y}<br>Population=%{marker.size}<extra></extra>\", \"legendgroup\": \"Gujarat\", \"marker\": {\"color\": \"#FECB52\", \"size\": [60439692.0], \"sizemode\": \"area\", \"sizeref\": 499530.8525, \"symbol\": \"circle\"}, \"mode\": \"markers\", \"name\": \"Gujarat\", \"showlegend\": true, \"type\": \"scatter\", \"x\": [5428], \"xaxis\": \"x\", \"y\": [308], \"yaxis\": \"y\"}, {\"hovertemplate\": \"State/UnionTerritory=Haryana<br>Confirmed=%{x}<br>Density_In_SqKM=%{y}<br>Population=%{marker.size}<extra></extra>\", \"legendgroup\": \"Haryana\", \"marker\": {\"color\": \"#636efa\", \"size\": [25351462.0], \"sizemode\": \"area\", \"sizeref\": 499530.8525, \"symbol\": \"circle\"}, \"mode\": \"markers\", \"name\": \"Haryana\", \"showlegend\": true, \"type\": \"scatter\", \"x\": [442], \"xaxis\": \"x\", \"y\": [573], \"yaxis\": \"y\"}, {\"hovertemplate\": \"State/UnionTerritory=Himachal Pradesh<br>Confirmed=%{x}<br>Density_In_SqKM=%{y}<br>Population=%{marker.size}<extra></extra>\", \"legendgroup\": \"Himachal Pradesh\", \"marker\": {\"color\": \"#EF553B\", \"size\": [6864602.0], \"sizemode\": \"area\", \"sizeref\": 499530.8525, \"symbol\": \"circle\"}, \"mode\": \"markers\", \"name\": \"Himachal Pradesh\", \"showlegend\": true, \"type\": \"scatter\", \"x\": [40], \"xaxis\": \"x\", \"y\": [123], \"yaxis\": \"y\"}, {\"hovertemplate\": \"State/UnionTerritory=Jammu and Kashmir<br>Confirmed=%{x}<br>Density_In_SqKM=%{y}<br>Population=%{marker.size}<extra></extra>\", \"legendgroup\": \"Jammu and Kashmir\", \"marker\": {\"color\": \"#00cc96\", \"size\": [12267032.0], \"sizemode\": \"area\", \"sizeref\": 499530.8525, \"symbol\": \"circle\"}, \"mode\": \"markers\", \"name\": \"Jammu and Kashmir\", \"showlegend\": true, \"type\": \"scatter\", \"x\": [701], \"xaxis\": \"x\", \"y\": [98], \"yaxis\": \"y\"}, {\"hovertemplate\": \"State/UnionTerritory=Jharkhand<br>Confirmed=%{x}<br>Density_In_SqKM=%{y}<br>Population=%{marker.size}<extra></extra>\", \"legendgroup\": \"Jharkhand\", \"marker\": {\"color\": \"#ab63fa\", \"size\": [32988134.0], \"sizemode\": \"area\", \"sizeref\": 499530.8525, \"symbol\": \"circle\"}, \"mode\": \"markers\", \"name\": \"Jharkhand\", \"showlegend\": true, \"type\": \"scatter\", \"x\": [115], \"xaxis\": \"x\", \"y\": [414], \"yaxis\": \"y\"}, {\"hovertemplate\": \"State/UnionTerritory=Karnataka<br>Confirmed=%{x}<br>Density_In_SqKM=%{y}<br>Population=%{marker.size}<extra></extra>\", \"legendgroup\": \"Karnataka\", \"marker\": {\"color\": \"#FFA15A\", \"size\": [61095297.0], \"sizemode\": \"area\", \"sizeref\": 499530.8525, \"symbol\": \"circle\"}, \"mode\": \"markers\", \"name\": \"Karnataka\", \"showlegend\": true, \"type\": \"scatter\", \"x\": [642], \"xaxis\": \"x\", \"y\": [319], \"yaxis\": \"y\"}, {\"hovertemplate\": \"State/UnionTerritory=Kerala<br>Confirmed=%{x}<br>Density_In_SqKM=%{y}<br>Population=%{marker.size}<extra></extra>\", \"legendgroup\": \"Kerala\", \"marker\": {\"color\": \"#19d3f3\", \"size\": [33406061.0], \"sizemode\": \"area\", \"sizeref\": 499530.8525, \"symbol\": \"circle\"}, \"mode\": \"markers\", \"name\": \"Kerala\", \"showlegend\": true, \"type\": \"scatter\", \"x\": [500], \"xaxis\": \"x\", \"y\": [859], \"yaxis\": \"y\"}, {\"hovertemplate\": \"State/UnionTerritory=Ladakh<br>Confirmed=%{x}<br>Density_In_SqKM=%{y}<br>Population=%{marker.size}<extra></extra>\", \"legendgroup\": \"Ladakh\", \"marker\": {\"color\": \"#FF6692\", \"size\": [274000.0], \"sizemode\": \"area\", \"sizeref\": 499530.8525, \"symbol\": \"circle\"}, \"mode\": \"markers\", \"name\": \"Ladakh\", \"showlegend\": true, \"type\": \"scatter\", \"x\": [41], \"xaxis\": \"x\", \"y\": [2], \"yaxis\": \"y\"}, {\"hovertemplate\": \"State/UnionTerritory=Madhya Pradesh<br>Confirmed=%{x}<br>Density_In_SqKM=%{y}<br>Population=%{marker.size}<extra></extra>\", \"legendgroup\": \"Madhya Pradesh\", \"marker\": {\"color\": \"#B6E880\", \"size\": [72626809.0], \"sizemode\": \"area\", \"sizeref\": 499530.8525, \"symbol\": \"circle\"}, \"mode\": \"markers\", \"name\": \"Madhya Pradesh\", \"showlegend\": true, \"type\": \"scatter\", \"x\": [2942], \"xaxis\": \"x\", \"y\": [236], \"yaxis\": \"y\"}, {\"hovertemplate\": \"State/UnionTerritory=Maharashtra<br>Confirmed=%{x}<br>Density_In_SqKM=%{y}<br>Population=%{marker.size}<extra></extra>\", \"legendgroup\": \"Maharashtra\", \"marker\": {\"color\": \"#FF97FF\", \"size\": [112374333.0], \"sizemode\": \"area\", \"sizeref\": 499530.8525, \"symbol\": \"circle\"}, \"mode\": \"markers\", \"name\": \"Maharashtra\", \"showlegend\": true, \"type\": \"scatter\", \"x\": [12974], \"xaxis\": \"x\", \"y\": [365], \"yaxis\": \"y\"}, {\"hovertemplate\": \"State/UnionTerritory=Manipur<br>Confirmed=%{x}<br>Density_In_SqKM=%{y}<br>Population=%{marker.size}<extra></extra>\", \"legendgroup\": \"Manipur\", \"marker\": {\"color\": \"#FECB52\", \"size\": [2570390.0], \"sizemode\": \"area\", \"sizeref\": 499530.8525, \"symbol\": \"circle\"}, \"mode\": \"markers\", \"name\": \"Manipur\", \"showlegend\": true, \"type\": \"scatter\", \"x\": [2], \"xaxis\": \"x\", \"y\": [122], \"yaxis\": \"y\"}, {\"hovertemplate\": \"State/UnionTerritory=Meghalaya<br>Confirmed=%{x}<br>Density_In_SqKM=%{y}<br>Population=%{marker.size}<extra></extra>\", \"legendgroup\": \"Meghalaya\", \"marker\": {\"color\": \"#636efa\", \"size\": [2966889.0], \"sizemode\": \"area\", \"sizeref\": 499530.8525, \"symbol\": \"circle\"}, \"mode\": \"markers\", \"name\": \"Meghalaya\", \"showlegend\": true, \"type\": \"scatter\", \"x\": [12], \"xaxis\": \"x\", \"y\": [132], \"yaxis\": \"y\"}, {\"hovertemplate\": \"State/UnionTerritory=Mizoram<br>Confirmed=%{x}<br>Density_In_SqKM=%{y}<br>Population=%{marker.size}<extra></extra>\", \"legendgroup\": \"Mizoram\", \"marker\": {\"color\": \"#EF553B\", \"size\": [1097206.0], \"sizemode\": \"area\", \"sizeref\": 499530.8525, \"symbol\": \"circle\"}, \"mode\": \"markers\", \"name\": \"Mizoram\", \"showlegend\": true, \"type\": \"scatter\", \"x\": [1], \"xaxis\": \"x\", \"y\": [52], \"yaxis\": \"y\"}, {\"hovertemplate\": \"State/UnionTerritory=Odisha<br>Confirmed=%{x}<br>Density_In_SqKM=%{y}<br>Population=%{marker.size}<extra></extra>\", \"legendgroup\": \"Odisha\", \"marker\": {\"color\": \"#00cc96\", \"size\": [41974218.0], \"sizemode\": \"area\", \"sizeref\": 499530.8525, \"symbol\": \"circle\"}, \"mode\": \"markers\", \"name\": \"Odisha\", \"showlegend\": true, \"type\": \"scatter\", \"x\": [163], \"xaxis\": \"x\", \"y\": [269], \"yaxis\": \"y\"}, {\"hovertemplate\": \"State/UnionTerritory=Puducherry<br>Confirmed=%{x}<br>Density_In_SqKM=%{y}<br>Population=%{marker.size}<extra></extra>\", \"legendgroup\": \"Puducherry\", \"marker\": {\"color\": \"#ab63fa\", \"size\": [1247953.0], \"sizemode\": \"area\", \"sizeref\": 499530.8525, \"symbol\": \"circle\"}, \"mode\": \"markers\", \"name\": \"Puducherry\", \"showlegend\": true, \"type\": \"scatter\", \"x\": [8], \"xaxis\": \"x\", \"y\": [2598], \"yaxis\": \"y\"}, {\"hovertemplate\": \"State/UnionTerritory=Punjab<br>Confirmed=%{x}<br>Density_In_SqKM=%{y}<br>Population=%{marker.size}<extra></extra>\", \"legendgroup\": \"Punjab\", \"marker\": {\"color\": \"#FFA15A\", \"size\": [27743338.0], \"sizemode\": \"area\", \"sizeref\": 499530.8525, \"symbol\": \"circle\"}, \"mode\": \"markers\", \"name\": \"Punjab\", \"showlegend\": true, \"type\": \"scatter\", \"x\": [1102], \"xaxis\": \"x\", \"y\": [550], \"yaxis\": \"y\"}, {\"hovertemplate\": \"State/UnionTerritory=Rajasthan<br>Confirmed=%{x}<br>Density_In_SqKM=%{y}<br>Population=%{marker.size}<extra></extra>\", \"legendgroup\": \"Rajasthan\", \"marker\": {\"color\": \"#19d3f3\", \"size\": [68548437.0], \"sizemode\": \"area\", \"sizeref\": 499530.8525, \"symbol\": \"circle\"}, \"mode\": \"markers\", \"name\": \"Rajasthan\", \"showlegend\": true, \"type\": \"scatter\", \"x\": [2886], \"xaxis\": \"x\", \"y\": [201], \"yaxis\": \"y\"}, {\"hovertemplate\": \"State/UnionTerritory=Tamil Nadu<br>Confirmed=%{x}<br>Density_In_SqKM=%{y}<br>Population=%{marker.size}<extra></extra>\", \"legendgroup\": \"Tamil Nadu\", \"marker\": {\"color\": \"#FF6692\", \"size\": [72147030.0], \"sizemode\": \"area\", \"sizeref\": 499530.8525, \"symbol\": \"circle\"}, \"mode\": \"markers\", \"name\": \"Tamil Nadu\", \"showlegend\": true, \"type\": \"scatter\", \"x\": [3023], \"xaxis\": \"x\", \"y\": [555], \"yaxis\": \"y\"}, {\"hovertemplate\": \"State/UnionTerritory=Telengana<br>Confirmed=%{x}<br>Density_In_SqKM=%{y}<br>Population=%{marker.size}<extra></extra>\", \"legendgroup\": \"Telengana\", \"marker\": {\"color\": \"#B6E880\", \"size\": [35003674.0], \"sizemode\": \"area\", \"sizeref\": 499530.8525, \"symbol\": \"circle\"}, \"mode\": \"markers\", \"name\": \"Telengana\", \"showlegend\": true, \"type\": \"scatter\", \"x\": [1082], \"xaxis\": \"x\", \"y\": [312], \"yaxis\": \"y\"}, {\"hovertemplate\": \"State/UnionTerritory=Tripura<br>Confirmed=%{x}<br>Density_In_SqKM=%{y}<br>Population=%{marker.size}<extra></extra>\", \"legendgroup\": \"Tripura\", \"marker\": {\"color\": \"#FF97FF\", \"size\": [3673917.0], \"sizemode\": \"area\", \"sizeref\": 499530.8525, \"symbol\": \"circle\"}, \"mode\": \"markers\", \"name\": \"Tripura\", \"showlegend\": true, \"type\": \"scatter\", \"x\": [16], \"xaxis\": \"x\", \"y\": [350], \"yaxis\": \"y\"}, {\"hovertemplate\": \"State/UnionTerritory=Uttarakhand<br>Confirmed=%{x}<br>Density_In_SqKM=%{y}<br>Population=%{marker.size}<extra></extra>\", \"legendgroup\": \"Uttarakhand\", \"marker\": {\"color\": \"#FECB52\", \"size\": [10086292.0], \"sizemode\": \"area\", \"sizeref\": 499530.8525, \"symbol\": \"circle\"}, \"mode\": \"markers\", \"name\": \"Uttarakhand\", \"showlegend\": true, \"type\": \"scatter\", \"x\": [60], \"xaxis\": \"x\", \"y\": [189], \"yaxis\": \"y\"}, {\"hovertemplate\": \"State/UnionTerritory=Uttar Pradesh<br>Confirmed=%{x}<br>Density_In_SqKM=%{y}<br>Population=%{marker.size}<extra></extra>\", \"legendgroup\": \"Uttar Pradesh\", \"marker\": {\"color\": \"#636efa\", \"size\": [199812341.0], \"sizemode\": \"area\", \"sizeref\": 499530.8525, \"symbol\": \"circle\"}, \"mode\": \"markers\", \"name\": \"Uttar Pradesh\", \"showlegend\": true, \"type\": \"scatter\", \"x\": [2742], \"xaxis\": \"x\", \"y\": [828], \"yaxis\": \"y\"}, {\"hovertemplate\": \"State/UnionTerritory=West Bengal<br>Confirmed=%{x}<br>Density_In_SqKM=%{y}<br>Population=%{marker.size}<extra></extra>\", \"legendgroup\": \"West Bengal\", \"marker\": {\"color\": \"#EF553B\", \"size\": [91276115.0], \"sizemode\": \"area\", \"sizeref\": 499530.8525, \"symbol\": \"circle\"}, \"mode\": \"markers\", \"name\": \"West Bengal\", \"showlegend\": true, \"type\": \"scatter\", \"x\": [963], \"xaxis\": \"x\", \"y\": [1029], \"yaxis\": \"y\"}],\n",
       "                        {\"legend\": {\"itemsizing\": \"constant\", \"title\": {\"text\": \"State/UnionTerritory\"}, \"tracegroupgap\": 0}, \"margin\": {\"t\": 60}, \"template\": {\"data\": {\"bar\": [{\"error_x\": {\"color\": \"#2a3f5f\"}, \"error_y\": {\"color\": \"#2a3f5f\"}, \"marker\": {\"line\": {\"color\": \"#E5ECF6\", \"width\": 0.5}}, \"type\": \"bar\"}], \"barpolar\": [{\"marker\": {\"line\": {\"color\": \"#E5ECF6\", \"width\": 0.5}}, \"type\": \"barpolar\"}], \"carpet\": [{\"aaxis\": {\"endlinecolor\": \"#2a3f5f\", \"gridcolor\": \"white\", \"linecolor\": \"white\", \"minorgridcolor\": \"white\", \"startlinecolor\": \"#2a3f5f\"}, \"baxis\": {\"endlinecolor\": \"#2a3f5f\", \"gridcolor\": \"white\", \"linecolor\": \"white\", \"minorgridcolor\": \"white\", \"startlinecolor\": \"#2a3f5f\"}, \"type\": \"carpet\"}], \"choropleth\": [{\"colorbar\": {\"outlinewidth\": 0, \"ticks\": \"\"}, \"type\": \"choropleth\"}], \"contour\": [{\"colorbar\": {\"outlinewidth\": 0, \"ticks\": \"\"}, \"colorscale\": [[0.0, \"#0d0887\"], [0.1111111111111111, \"#46039f\"], [0.2222222222222222, \"#7201a8\"], [0.3333333333333333, \"#9c179e\"], [0.4444444444444444, \"#bd3786\"], [0.5555555555555556, \"#d8576b\"], [0.6666666666666666, \"#ed7953\"], [0.7777777777777778, \"#fb9f3a\"], [0.8888888888888888, \"#fdca26\"], [1.0, \"#f0f921\"]], \"type\": \"contour\"}], \"contourcarpet\": [{\"colorbar\": {\"outlinewidth\": 0, \"ticks\": \"\"}, \"type\": \"contourcarpet\"}], \"heatmap\": [{\"colorbar\": {\"outlinewidth\": 0, \"ticks\": \"\"}, \"colorscale\": [[0.0, \"#0d0887\"], [0.1111111111111111, \"#46039f\"], [0.2222222222222222, \"#7201a8\"], [0.3333333333333333, \"#9c179e\"], [0.4444444444444444, \"#bd3786\"], [0.5555555555555556, \"#d8576b\"], [0.6666666666666666, \"#ed7953\"], [0.7777777777777778, \"#fb9f3a\"], [0.8888888888888888, \"#fdca26\"], [1.0, \"#f0f921\"]], \"type\": \"heatmap\"}], \"heatmapgl\": [{\"colorbar\": {\"outlinewidth\": 0, \"ticks\": \"\"}, \"colorscale\": [[0.0, \"#0d0887\"], [0.1111111111111111, \"#46039f\"], [0.2222222222222222, \"#7201a8\"], [0.3333333333333333, \"#9c179e\"], [0.4444444444444444, \"#bd3786\"], [0.5555555555555556, \"#d8576b\"], [0.6666666666666666, \"#ed7953\"], [0.7777777777777778, \"#fb9f3a\"], [0.8888888888888888, \"#fdca26\"], [1.0, \"#f0f921\"]], \"type\": \"heatmapgl\"}], \"histogram\": [{\"marker\": {\"colorbar\": {\"outlinewidth\": 0, \"ticks\": \"\"}}, \"type\": \"histogram\"}], \"histogram2d\": [{\"colorbar\": {\"outlinewidth\": 0, \"ticks\": \"\"}, \"colorscale\": [[0.0, \"#0d0887\"], [0.1111111111111111, \"#46039f\"], [0.2222222222222222, \"#7201a8\"], [0.3333333333333333, \"#9c179e\"], [0.4444444444444444, \"#bd3786\"], [0.5555555555555556, \"#d8576b\"], [0.6666666666666666, \"#ed7953\"], [0.7777777777777778, \"#fb9f3a\"], [0.8888888888888888, \"#fdca26\"], [1.0, \"#f0f921\"]], \"type\": \"histogram2d\"}], \"histogram2dcontour\": [{\"colorbar\": {\"outlinewidth\": 0, \"ticks\": \"\"}, \"colorscale\": [[0.0, \"#0d0887\"], [0.1111111111111111, \"#46039f\"], [0.2222222222222222, \"#7201a8\"], [0.3333333333333333, \"#9c179e\"], [0.4444444444444444, \"#bd3786\"], [0.5555555555555556, \"#d8576b\"], [0.6666666666666666, \"#ed7953\"], [0.7777777777777778, \"#fb9f3a\"], [0.8888888888888888, \"#fdca26\"], [1.0, \"#f0f921\"]], \"type\": \"histogram2dcontour\"}], \"mesh3d\": [{\"colorbar\": {\"outlinewidth\": 0, \"ticks\": \"\"}, \"type\": \"mesh3d\"}], \"parcoords\": [{\"line\": {\"colorbar\": {\"outlinewidth\": 0, \"ticks\": \"\"}}, \"type\": \"parcoords\"}], \"pie\": [{\"automargin\": true, \"type\": \"pie\"}], \"scatter\": [{\"marker\": {\"colorbar\": {\"outlinewidth\": 0, \"ticks\": \"\"}}, \"type\": \"scatter\"}], \"scatter3d\": [{\"line\": {\"colorbar\": {\"outlinewidth\": 0, \"ticks\": \"\"}}, \"marker\": {\"colorbar\": {\"outlinewidth\": 0, \"ticks\": \"\"}}, \"type\": \"scatter3d\"}], \"scattercarpet\": [{\"marker\": {\"colorbar\": {\"outlinewidth\": 0, \"ticks\": \"\"}}, \"type\": \"scattercarpet\"}], \"scattergeo\": [{\"marker\": {\"colorbar\": {\"outlinewidth\": 0, \"ticks\": \"\"}}, \"type\": \"scattergeo\"}], \"scattergl\": [{\"marker\": {\"colorbar\": {\"outlinewidth\": 0, \"ticks\": \"\"}}, \"type\": \"scattergl\"}], \"scattermapbox\": [{\"marker\": {\"colorbar\": {\"outlinewidth\": 0, \"ticks\": \"\"}}, \"type\": \"scattermapbox\"}], \"scatterpolar\": [{\"marker\": {\"colorbar\": {\"outlinewidth\": 0, \"ticks\": \"\"}}, \"type\": \"scatterpolar\"}], \"scatterpolargl\": [{\"marker\": {\"colorbar\": {\"outlinewidth\": 0, \"ticks\": \"\"}}, \"type\": \"scatterpolargl\"}], \"scatterternary\": [{\"marker\": {\"colorbar\": {\"outlinewidth\": 0, \"ticks\": \"\"}}, \"type\": \"scatterternary\"}], \"surface\": [{\"colorbar\": {\"outlinewidth\": 0, \"ticks\": \"\"}, \"colorscale\": [[0.0, \"#0d0887\"], [0.1111111111111111, \"#46039f\"], [0.2222222222222222, \"#7201a8\"], [0.3333333333333333, \"#9c179e\"], [0.4444444444444444, \"#bd3786\"], [0.5555555555555556, \"#d8576b\"], [0.6666666666666666, \"#ed7953\"], [0.7777777777777778, \"#fb9f3a\"], [0.8888888888888888, \"#fdca26\"], [1.0, \"#f0f921\"]], \"type\": \"surface\"}], \"table\": [{\"cells\": {\"fill\": {\"color\": \"#EBF0F8\"}, \"line\": {\"color\": \"white\"}}, \"header\": {\"fill\": {\"color\": \"#C8D4E3\"}, \"line\": {\"color\": \"white\"}}, \"type\": \"table\"}]}, \"layout\": {\"annotationdefaults\": {\"arrowcolor\": \"#2a3f5f\", \"arrowhead\": 0, \"arrowwidth\": 1}, \"coloraxis\": {\"colorbar\": {\"outlinewidth\": 0, \"ticks\": \"\"}}, \"colorscale\": {\"diverging\": [[0, \"#8e0152\"], [0.1, \"#c51b7d\"], [0.2, \"#de77ae\"], [0.3, \"#f1b6da\"], [0.4, \"#fde0ef\"], [0.5, \"#f7f7f7\"], [0.6, \"#e6f5d0\"], [0.7, \"#b8e186\"], [0.8, \"#7fbc41\"], [0.9, \"#4d9221\"], [1, \"#276419\"]], \"sequential\": [[0.0, \"#0d0887\"], [0.1111111111111111, \"#46039f\"], [0.2222222222222222, \"#7201a8\"], [0.3333333333333333, \"#9c179e\"], [0.4444444444444444, \"#bd3786\"], [0.5555555555555556, \"#d8576b\"], [0.6666666666666666, \"#ed7953\"], [0.7777777777777778, \"#fb9f3a\"], [0.8888888888888888, \"#fdca26\"], [1.0, \"#f0f921\"]], \"sequentialminus\": [[0.0, \"#0d0887\"], [0.1111111111111111, \"#46039f\"], [0.2222222222222222, \"#7201a8\"], [0.3333333333333333, \"#9c179e\"], [0.4444444444444444, \"#bd3786\"], [0.5555555555555556, \"#d8576b\"], [0.6666666666666666, \"#ed7953\"], [0.7777777777777778, \"#fb9f3a\"], [0.8888888888888888, \"#fdca26\"], [1.0, \"#f0f921\"]]}, \"colorway\": [\"#636efa\", \"#EF553B\", \"#00cc96\", \"#ab63fa\", \"#FFA15A\", \"#19d3f3\", \"#FF6692\", \"#B6E880\", \"#FF97FF\", \"#FECB52\"], \"font\": {\"color\": \"#2a3f5f\"}, \"geo\": {\"bgcolor\": \"white\", \"lakecolor\": \"white\", \"landcolor\": \"#E5ECF6\", \"showlakes\": true, \"showland\": true, \"subunitcolor\": \"white\"}, \"hoverlabel\": {\"align\": \"left\"}, \"hovermode\": \"closest\", \"mapbox\": {\"style\": \"light\"}, \"paper_bgcolor\": \"white\", \"plot_bgcolor\": \"#E5ECF6\", \"polar\": {\"angularaxis\": {\"gridcolor\": \"white\", \"linecolor\": \"white\", \"ticks\": \"\"}, \"bgcolor\": \"#E5ECF6\", \"radialaxis\": {\"gridcolor\": \"white\", \"linecolor\": \"white\", \"ticks\": \"\"}}, \"scene\": {\"xaxis\": {\"backgroundcolor\": \"#E5ECF6\", \"gridcolor\": \"white\", \"gridwidth\": 2, \"linecolor\": \"white\", \"showbackground\": true, \"ticks\": \"\", \"zerolinecolor\": \"white\"}, \"yaxis\": {\"backgroundcolor\": \"#E5ECF6\", \"gridcolor\": \"white\", \"gridwidth\": 2, \"linecolor\": \"white\", \"showbackground\": true, \"ticks\": \"\", \"zerolinecolor\": \"white\"}, \"zaxis\": {\"backgroundcolor\": \"#E5ECF6\", \"gridcolor\": \"white\", \"gridwidth\": 2, \"linecolor\": \"white\", \"showbackground\": true, \"ticks\": \"\", \"zerolinecolor\": \"white\"}}, \"shapedefaults\": {\"line\": {\"color\": \"#2a3f5f\"}}, \"ternary\": {\"aaxis\": {\"gridcolor\": \"white\", \"linecolor\": \"white\", \"ticks\": \"\"}, \"baxis\": {\"gridcolor\": \"white\", \"linecolor\": \"white\", \"ticks\": \"\"}, \"bgcolor\": \"#E5ECF6\", \"caxis\": {\"gridcolor\": \"white\", \"linecolor\": \"white\", \"ticks\": \"\"}}, \"title\": {\"x\": 0.05}, \"xaxis\": {\"automargin\": true, \"gridcolor\": \"white\", \"linecolor\": \"white\", \"ticks\": \"\", \"title\": {\"standoff\": 15}, \"zerolinecolor\": \"white\", \"zerolinewidth\": 2}, \"yaxis\": {\"automargin\": true, \"gridcolor\": \"white\", \"linecolor\": \"white\", \"ticks\": \"\", \"title\": {\"standoff\": 15}, \"zerolinecolor\": \"white\", \"zerolinewidth\": 2}}}, \"title\": {\"text\": \"Total Confirmed Cases vs Population Density(per sq km)\"}, \"xaxis\": {\"anchor\": \"y\", \"domain\": [0.0, 1.0], \"title\": {\"text\": \"Total Confirmed Cases\"}}, \"yaxis\": {\"anchor\": \"x\", \"domain\": [0.0, 1.0], \"title\": {\"text\": \"Population Density(per sq km)\"}}},\n",
       "                        {\"responsive\": true}\n",
       "                    ).then(function(){\n",
       "                            \n",
       "var gd = document.getElementById('5b75aa30-4b03-49fb-b43f-87791e054ab5');\n",
       "var x = new MutationObserver(function (mutations, observer) {{\n",
       "        var display = window.getComputedStyle(gd).display;\n",
       "        if (!display || display === 'none') {{\n",
       "            console.log([gd, 'removed!']);\n",
       "            Plotly.purge(gd);\n",
       "            observer.disconnect();\n",
       "        }}\n",
       "}});\n",
       "\n",
       "// Listen for the removal of the full notebook cells\n",
       "var notebookContainer = gd.closest('#notebook-container');\n",
       "if (notebookContainer) {{\n",
       "    x.observe(notebookContainer, {childList: true});\n",
       "}}\n",
       "\n",
       "// Listen for the clearing of the current output cell\n",
       "var outputEl = gd.closest('.output');\n",
       "if (outputEl) {{\n",
       "    x.observe(outputEl, {childList: true});\n",
       "}}\n",
       "\n",
       "                        })\n",
       "                };\n",
       "                });\n",
       "            </script>\n",
       "        </div>"
      ]
     },
     "metadata": {},
     "output_type": "display_data"
    }
   ],
   "source": [
    "fig = px.scatter(latest_data,x='Confirmed',y='Density_In_SqKM',size='Population',color='State/UnionTerritory')\n",
    "fig.update_layout(title='Total Confirmed Cases vs Population Density(per sq km)')\n",
    "fig.update_yaxes(title_text='Population Density(per sq km)')\n",
    "fig.update_xaxes(title_text='Total Confirmed Cases')\n",
    "fig.show()"
   ]
  },
  {
   "cell_type": "markdown",
   "metadata": {},
   "source": [
    "We can see above that Population density has no relationship with the number of cases. \n",
    "\n",
    "We can see one outlier, Delhi which has very high population density per sq KM.\n",
    "\n",
    "We can also see that Maharashtra, which has low population densit but has high number of cases."
   ]
  },
  {
   "cell_type": "markdown",
   "metadata": {},
   "source": [
    "#### Testing Centers Across India and Number of Patients Tested"
   ]
  },
  {
   "cell_type": "code",
   "execution_count": 38,
   "metadata": {},
   "outputs": [],
   "source": [
    "testing_details = pd.read_csv(\"C:/Users/kulka/Desktop/AV_Hackathon_Codes/Plotly_Covid/Data/ICMRTestingDetails.csv\",parse_dates=['DateTime'])\n",
    "testing_details.drop(\"SNo\",axis=1,inplace=True)\n",
    "\n",
    "testing_labs = pd.read_csv(\"C:/Users/kulka/Desktop/AV_Hackathon_Codes/Plotly_Covid/Data/ICMRTestingLabs.csv\")\n",
    "\n",
    "state_testing = pd.read_csv(\"C:/Users/kulka/Desktop/AV_Hackathon_Codes/Plotly_Covid/Data/StatewiseTestingDetails.csv\",parse_dates=['Date'])"
   ]
  },
  {
   "cell_type": "code",
   "execution_count": 39,
   "metadata": {},
   "outputs": [
    {
     "data": {
      "application/vnd.plotly.v1+json": {
       "config": {
        "plotlyServerURL": "https://plot.ly"
       },
       "data": [
        {
         "marker": {
          "color": "blue",
          "line": {
           "color": "black"
          }
         },
         "type": "bar",
         "x": [
          "Maharashtra",
          "Tamil Nadu",
          "Telangana",
          "Delhi",
          "Uttar Pradesh",
          "Karnataka",
          "Gujarat",
          "West Bengal",
          "Kerala",
          "Haryana",
          "Madhya Pradesh",
          "Rajasthan",
          "Odisha",
          "Andhra Pradesh",
          "Assam",
          "Bihar",
          "Punjab",
          "Jammu and Kashmir",
          "Jharkhand",
          "Himachal Pradesh",
          "Chhattisgarh",
          "Chandigarh",
          "Uttarakhand",
          "Manipur",
          "Tripura",
          "Sikkim",
          "Andaman and Nicobar Islands",
          "Puducherry",
          "Mizoram",
          "Meghalaya",
          "Goa",
          "Dadra and Nagar Haveli and Daman and Diu",
          "Arunachal Pradesh",
          "Ladakh"
         ],
         "y": [
          39,
          26,
          19,
          18,
          17,
          17,
          14,
          13,
          12,
          11,
          10,
          9,
          7,
          7,
          6,
          6,
          5,
          4,
          3,
          3,
          3,
          3,
          3,
          2,
          1,
          1,
          1,
          1,
          1,
          1,
          1,
          1,
          1,
          1
         ]
        }
       ],
       "layout": {
        "template": {
         "data": {
          "bar": [
           {
            "error_x": {
             "color": "#2a3f5f"
            },
            "error_y": {
             "color": "#2a3f5f"
            },
            "marker": {
             "line": {
              "color": "#E5ECF6",
              "width": 0.5
             }
            },
            "type": "bar"
           }
          ],
          "barpolar": [
           {
            "marker": {
             "line": {
              "color": "#E5ECF6",
              "width": 0.5
             }
            },
            "type": "barpolar"
           }
          ],
          "carpet": [
           {
            "aaxis": {
             "endlinecolor": "#2a3f5f",
             "gridcolor": "white",
             "linecolor": "white",
             "minorgridcolor": "white",
             "startlinecolor": "#2a3f5f"
            },
            "baxis": {
             "endlinecolor": "#2a3f5f",
             "gridcolor": "white",
             "linecolor": "white",
             "minorgridcolor": "white",
             "startlinecolor": "#2a3f5f"
            },
            "type": "carpet"
           }
          ],
          "choropleth": [
           {
            "colorbar": {
             "outlinewidth": 0,
             "ticks": ""
            },
            "type": "choropleth"
           }
          ],
          "contour": [
           {
            "colorbar": {
             "outlinewidth": 0,
             "ticks": ""
            },
            "colorscale": [
             [
              0,
              "#0d0887"
             ],
             [
              0.1111111111111111,
              "#46039f"
             ],
             [
              0.2222222222222222,
              "#7201a8"
             ],
             [
              0.3333333333333333,
              "#9c179e"
             ],
             [
              0.4444444444444444,
              "#bd3786"
             ],
             [
              0.5555555555555556,
              "#d8576b"
             ],
             [
              0.6666666666666666,
              "#ed7953"
             ],
             [
              0.7777777777777778,
              "#fb9f3a"
             ],
             [
              0.8888888888888888,
              "#fdca26"
             ],
             [
              1,
              "#f0f921"
             ]
            ],
            "type": "contour"
           }
          ],
          "contourcarpet": [
           {
            "colorbar": {
             "outlinewidth": 0,
             "ticks": ""
            },
            "type": "contourcarpet"
           }
          ],
          "heatmap": [
           {
            "colorbar": {
             "outlinewidth": 0,
             "ticks": ""
            },
            "colorscale": [
             [
              0,
              "#0d0887"
             ],
             [
              0.1111111111111111,
              "#46039f"
             ],
             [
              0.2222222222222222,
              "#7201a8"
             ],
             [
              0.3333333333333333,
              "#9c179e"
             ],
             [
              0.4444444444444444,
              "#bd3786"
             ],
             [
              0.5555555555555556,
              "#d8576b"
             ],
             [
              0.6666666666666666,
              "#ed7953"
             ],
             [
              0.7777777777777778,
              "#fb9f3a"
             ],
             [
              0.8888888888888888,
              "#fdca26"
             ],
             [
              1,
              "#f0f921"
             ]
            ],
            "type": "heatmap"
           }
          ],
          "heatmapgl": [
           {
            "colorbar": {
             "outlinewidth": 0,
             "ticks": ""
            },
            "colorscale": [
             [
              0,
              "#0d0887"
             ],
             [
              0.1111111111111111,
              "#46039f"
             ],
             [
              0.2222222222222222,
              "#7201a8"
             ],
             [
              0.3333333333333333,
              "#9c179e"
             ],
             [
              0.4444444444444444,
              "#bd3786"
             ],
             [
              0.5555555555555556,
              "#d8576b"
             ],
             [
              0.6666666666666666,
              "#ed7953"
             ],
             [
              0.7777777777777778,
              "#fb9f3a"
             ],
             [
              0.8888888888888888,
              "#fdca26"
             ],
             [
              1,
              "#f0f921"
             ]
            ],
            "type": "heatmapgl"
           }
          ],
          "histogram": [
           {
            "marker": {
             "colorbar": {
              "outlinewidth": 0,
              "ticks": ""
             }
            },
            "type": "histogram"
           }
          ],
          "histogram2d": [
           {
            "colorbar": {
             "outlinewidth": 0,
             "ticks": ""
            },
            "colorscale": [
             [
              0,
              "#0d0887"
             ],
             [
              0.1111111111111111,
              "#46039f"
             ],
             [
              0.2222222222222222,
              "#7201a8"
             ],
             [
              0.3333333333333333,
              "#9c179e"
             ],
             [
              0.4444444444444444,
              "#bd3786"
             ],
             [
              0.5555555555555556,
              "#d8576b"
             ],
             [
              0.6666666666666666,
              "#ed7953"
             ],
             [
              0.7777777777777778,
              "#fb9f3a"
             ],
             [
              0.8888888888888888,
              "#fdca26"
             ],
             [
              1,
              "#f0f921"
             ]
            ],
            "type": "histogram2d"
           }
          ],
          "histogram2dcontour": [
           {
            "colorbar": {
             "outlinewidth": 0,
             "ticks": ""
            },
            "colorscale": [
             [
              0,
              "#0d0887"
             ],
             [
              0.1111111111111111,
              "#46039f"
             ],
             [
              0.2222222222222222,
              "#7201a8"
             ],
             [
              0.3333333333333333,
              "#9c179e"
             ],
             [
              0.4444444444444444,
              "#bd3786"
             ],
             [
              0.5555555555555556,
              "#d8576b"
             ],
             [
              0.6666666666666666,
              "#ed7953"
             ],
             [
              0.7777777777777778,
              "#fb9f3a"
             ],
             [
              0.8888888888888888,
              "#fdca26"
             ],
             [
              1,
              "#f0f921"
             ]
            ],
            "type": "histogram2dcontour"
           }
          ],
          "mesh3d": [
           {
            "colorbar": {
             "outlinewidth": 0,
             "ticks": ""
            },
            "type": "mesh3d"
           }
          ],
          "parcoords": [
           {
            "line": {
             "colorbar": {
              "outlinewidth": 0,
              "ticks": ""
             }
            },
            "type": "parcoords"
           }
          ],
          "pie": [
           {
            "automargin": true,
            "type": "pie"
           }
          ],
          "scatter": [
           {
            "marker": {
             "colorbar": {
              "outlinewidth": 0,
              "ticks": ""
             }
            },
            "type": "scatter"
           }
          ],
          "scatter3d": [
           {
            "line": {
             "colorbar": {
              "outlinewidth": 0,
              "ticks": ""
             }
            },
            "marker": {
             "colorbar": {
              "outlinewidth": 0,
              "ticks": ""
             }
            },
            "type": "scatter3d"
           }
          ],
          "scattercarpet": [
           {
            "marker": {
             "colorbar": {
              "outlinewidth": 0,
              "ticks": ""
             }
            },
            "type": "scattercarpet"
           }
          ],
          "scattergeo": [
           {
            "marker": {
             "colorbar": {
              "outlinewidth": 0,
              "ticks": ""
             }
            },
            "type": "scattergeo"
           }
          ],
          "scattergl": [
           {
            "marker": {
             "colorbar": {
              "outlinewidth": 0,
              "ticks": ""
             }
            },
            "type": "scattergl"
           }
          ],
          "scattermapbox": [
           {
            "marker": {
             "colorbar": {
              "outlinewidth": 0,
              "ticks": ""
             }
            },
            "type": "scattermapbox"
           }
          ],
          "scatterpolar": [
           {
            "marker": {
             "colorbar": {
              "outlinewidth": 0,
              "ticks": ""
             }
            },
            "type": "scatterpolar"
           }
          ],
          "scatterpolargl": [
           {
            "marker": {
             "colorbar": {
              "outlinewidth": 0,
              "ticks": ""
             }
            },
            "type": "scatterpolargl"
           }
          ],
          "scatterternary": [
           {
            "marker": {
             "colorbar": {
              "outlinewidth": 0,
              "ticks": ""
             }
            },
            "type": "scatterternary"
           }
          ],
          "surface": [
           {
            "colorbar": {
             "outlinewidth": 0,
             "ticks": ""
            },
            "colorscale": [
             [
              0,
              "#0d0887"
             ],
             [
              0.1111111111111111,
              "#46039f"
             ],
             [
              0.2222222222222222,
              "#7201a8"
             ],
             [
              0.3333333333333333,
              "#9c179e"
             ],
             [
              0.4444444444444444,
              "#bd3786"
             ],
             [
              0.5555555555555556,
              "#d8576b"
             ],
             [
              0.6666666666666666,
              "#ed7953"
             ],
             [
              0.7777777777777778,
              "#fb9f3a"
             ],
             [
              0.8888888888888888,
              "#fdca26"
             ],
             [
              1,
              "#f0f921"
             ]
            ],
            "type": "surface"
           }
          ],
          "table": [
           {
            "cells": {
             "fill": {
              "color": "#EBF0F8"
             },
             "line": {
              "color": "white"
             }
            },
            "header": {
             "fill": {
              "color": "#C8D4E3"
             },
             "line": {
              "color": "white"
             }
            },
            "type": "table"
           }
          ]
         },
         "layout": {
          "annotationdefaults": {
           "arrowcolor": "#2a3f5f",
           "arrowhead": 0,
           "arrowwidth": 1
          },
          "coloraxis": {
           "colorbar": {
            "outlinewidth": 0,
            "ticks": ""
           }
          },
          "colorscale": {
           "diverging": [
            [
             0,
             "#8e0152"
            ],
            [
             0.1,
             "#c51b7d"
            ],
            [
             0.2,
             "#de77ae"
            ],
            [
             0.3,
             "#f1b6da"
            ],
            [
             0.4,
             "#fde0ef"
            ],
            [
             0.5,
             "#f7f7f7"
            ],
            [
             0.6,
             "#e6f5d0"
            ],
            [
             0.7,
             "#b8e186"
            ],
            [
             0.8,
             "#7fbc41"
            ],
            [
             0.9,
             "#4d9221"
            ],
            [
             1,
             "#276419"
            ]
           ],
           "sequential": [
            [
             0,
             "#0d0887"
            ],
            [
             0.1111111111111111,
             "#46039f"
            ],
            [
             0.2222222222222222,
             "#7201a8"
            ],
            [
             0.3333333333333333,
             "#9c179e"
            ],
            [
             0.4444444444444444,
             "#bd3786"
            ],
            [
             0.5555555555555556,
             "#d8576b"
            ],
            [
             0.6666666666666666,
             "#ed7953"
            ],
            [
             0.7777777777777778,
             "#fb9f3a"
            ],
            [
             0.8888888888888888,
             "#fdca26"
            ],
            [
             1,
             "#f0f921"
            ]
           ],
           "sequentialminus": [
            [
             0,
             "#0d0887"
            ],
            [
             0.1111111111111111,
             "#46039f"
            ],
            [
             0.2222222222222222,
             "#7201a8"
            ],
            [
             0.3333333333333333,
             "#9c179e"
            ],
            [
             0.4444444444444444,
             "#bd3786"
            ],
            [
             0.5555555555555556,
             "#d8576b"
            ],
            [
             0.6666666666666666,
             "#ed7953"
            ],
            [
             0.7777777777777778,
             "#fb9f3a"
            ],
            [
             0.8888888888888888,
             "#fdca26"
            ],
            [
             1,
             "#f0f921"
            ]
           ]
          },
          "colorway": [
           "#636efa",
           "#EF553B",
           "#00cc96",
           "#ab63fa",
           "#FFA15A",
           "#19d3f3",
           "#FF6692",
           "#B6E880",
           "#FF97FF",
           "#FECB52"
          ],
          "font": {
           "color": "#2a3f5f"
          },
          "geo": {
           "bgcolor": "white",
           "lakecolor": "white",
           "landcolor": "#E5ECF6",
           "showlakes": true,
           "showland": true,
           "subunitcolor": "white"
          },
          "hoverlabel": {
           "align": "left"
          },
          "hovermode": "closest",
          "mapbox": {
           "style": "light"
          },
          "paper_bgcolor": "white",
          "plot_bgcolor": "#E5ECF6",
          "polar": {
           "angularaxis": {
            "gridcolor": "white",
            "linecolor": "white",
            "ticks": ""
           },
           "bgcolor": "#E5ECF6",
           "radialaxis": {
            "gridcolor": "white",
            "linecolor": "white",
            "ticks": ""
           }
          },
          "scene": {
           "xaxis": {
            "backgroundcolor": "#E5ECF6",
            "gridcolor": "white",
            "gridwidth": 2,
            "linecolor": "white",
            "showbackground": true,
            "ticks": "",
            "zerolinecolor": "white"
           },
           "yaxis": {
            "backgroundcolor": "#E5ECF6",
            "gridcolor": "white",
            "gridwidth": 2,
            "linecolor": "white",
            "showbackground": true,
            "ticks": "",
            "zerolinecolor": "white"
           },
           "zaxis": {
            "backgroundcolor": "#E5ECF6",
            "gridcolor": "white",
            "gridwidth": 2,
            "linecolor": "white",
            "showbackground": true,
            "ticks": "",
            "zerolinecolor": "white"
           }
          },
          "shapedefaults": {
           "line": {
            "color": "#2a3f5f"
           }
          },
          "ternary": {
           "aaxis": {
            "gridcolor": "white",
            "linecolor": "white",
            "ticks": ""
           },
           "baxis": {
            "gridcolor": "white",
            "linecolor": "white",
            "ticks": ""
           },
           "bgcolor": "#E5ECF6",
           "caxis": {
            "gridcolor": "white",
            "linecolor": "white",
            "ticks": ""
           }
          },
          "title": {
           "x": 0.05
          },
          "xaxis": {
           "automargin": true,
           "gridcolor": "white",
           "linecolor": "white",
           "ticks": "",
           "title": {
            "standoff": 15
           },
           "zerolinecolor": "white",
           "zerolinewidth": 2
          },
          "yaxis": {
           "automargin": true,
           "gridcolor": "white",
           "linecolor": "white",
           "ticks": "",
           "title": {
            "standoff": 15
           },
           "zerolinecolor": "white",
           "zerolinewidth": 2
          }
         }
        },
        "title": {
         "text": "COVID19 Testing Labs Across States and UT's"
        },
        "xaxis": {
         "title": {
          "text": "State/UT"
         }
        },
        "yaxis": {
         "title": {
          "text": "Count"
         }
        }
       }
      },
      "text/html": [
       "<div>\n",
       "        \n",
       "        \n",
       "            <div id=\"8b850735-93a1-4551-98b3-b77f96a0e2d4\" class=\"plotly-graph-div\" style=\"height:525px; width:100%;\"></div>\n",
       "            <script type=\"text/javascript\">\n",
       "                require([\"plotly\"], function(Plotly) {\n",
       "                    window.PLOTLYENV=window.PLOTLYENV || {};\n",
       "                    \n",
       "                if (document.getElementById(\"8b850735-93a1-4551-98b3-b77f96a0e2d4\")) {\n",
       "                    Plotly.newPlot(\n",
       "                        '8b850735-93a1-4551-98b3-b77f96a0e2d4',\n",
       "                        [{\"marker\": {\"color\": \"blue\", \"line\": {\"color\": \"black\"}}, \"type\": \"bar\", \"x\": [\"Maharashtra\", \"Tamil Nadu\", \"Telangana\", \"Delhi\", \"Uttar Pradesh\", \"Karnataka\", \"Gujarat\", \"West Bengal\", \"Kerala\", \"Haryana\", \"Madhya Pradesh\", \"Rajasthan\", \"Odisha\", \"Andhra Pradesh\", \"Assam\", \"Bihar\", \"Punjab\", \"Jammu and Kashmir\", \"Jharkhand\", \"Himachal Pradesh\", \"Chhattisgarh\", \"Chandigarh\", \"Uttarakhand\", \"Manipur\", \"Tripura\", \"Sikkim\", \"Andaman and Nicobar Islands\", \"Puducherry\", \"Mizoram\", \"Meghalaya\", \"Goa\", \"Dadra and Nagar Haveli and Daman and Diu\", \"Arunachal Pradesh\", \"Ladakh\"], \"y\": [39, 26, 19, 18, 17, 17, 14, 13, 12, 11, 10, 9, 7, 7, 6, 6, 5, 4, 3, 3, 3, 3, 3, 2, 1, 1, 1, 1, 1, 1, 1, 1, 1, 1]}],\n",
       "                        {\"template\": {\"data\": {\"bar\": [{\"error_x\": {\"color\": \"#2a3f5f\"}, \"error_y\": {\"color\": \"#2a3f5f\"}, \"marker\": {\"line\": {\"color\": \"#E5ECF6\", \"width\": 0.5}}, \"type\": \"bar\"}], \"barpolar\": [{\"marker\": {\"line\": {\"color\": \"#E5ECF6\", \"width\": 0.5}}, \"type\": \"barpolar\"}], \"carpet\": [{\"aaxis\": {\"endlinecolor\": \"#2a3f5f\", \"gridcolor\": \"white\", \"linecolor\": \"white\", \"minorgridcolor\": \"white\", \"startlinecolor\": \"#2a3f5f\"}, \"baxis\": {\"endlinecolor\": \"#2a3f5f\", \"gridcolor\": \"white\", \"linecolor\": \"white\", \"minorgridcolor\": \"white\", \"startlinecolor\": \"#2a3f5f\"}, \"type\": \"carpet\"}], \"choropleth\": [{\"colorbar\": {\"outlinewidth\": 0, \"ticks\": \"\"}, \"type\": \"choropleth\"}], \"contour\": [{\"colorbar\": {\"outlinewidth\": 0, \"ticks\": \"\"}, \"colorscale\": [[0.0, \"#0d0887\"], [0.1111111111111111, \"#46039f\"], [0.2222222222222222, \"#7201a8\"], [0.3333333333333333, \"#9c179e\"], [0.4444444444444444, \"#bd3786\"], [0.5555555555555556, \"#d8576b\"], [0.6666666666666666, \"#ed7953\"], [0.7777777777777778, \"#fb9f3a\"], [0.8888888888888888, \"#fdca26\"], [1.0, \"#f0f921\"]], \"type\": \"contour\"}], \"contourcarpet\": [{\"colorbar\": {\"outlinewidth\": 0, \"ticks\": \"\"}, \"type\": \"contourcarpet\"}], \"heatmap\": [{\"colorbar\": {\"outlinewidth\": 0, \"ticks\": \"\"}, \"colorscale\": [[0.0, \"#0d0887\"], [0.1111111111111111, \"#46039f\"], [0.2222222222222222, \"#7201a8\"], [0.3333333333333333, \"#9c179e\"], [0.4444444444444444, \"#bd3786\"], [0.5555555555555556, \"#d8576b\"], [0.6666666666666666, \"#ed7953\"], [0.7777777777777778, \"#fb9f3a\"], [0.8888888888888888, \"#fdca26\"], [1.0, \"#f0f921\"]], \"type\": \"heatmap\"}], \"heatmapgl\": [{\"colorbar\": {\"outlinewidth\": 0, \"ticks\": \"\"}, \"colorscale\": [[0.0, \"#0d0887\"], [0.1111111111111111, \"#46039f\"], [0.2222222222222222, \"#7201a8\"], [0.3333333333333333, \"#9c179e\"], [0.4444444444444444, \"#bd3786\"], [0.5555555555555556, \"#d8576b\"], [0.6666666666666666, \"#ed7953\"], [0.7777777777777778, \"#fb9f3a\"], [0.8888888888888888, \"#fdca26\"], [1.0, \"#f0f921\"]], \"type\": \"heatmapgl\"}], \"histogram\": [{\"marker\": {\"colorbar\": {\"outlinewidth\": 0, \"ticks\": \"\"}}, \"type\": \"histogram\"}], \"histogram2d\": [{\"colorbar\": {\"outlinewidth\": 0, \"ticks\": \"\"}, \"colorscale\": [[0.0, \"#0d0887\"], [0.1111111111111111, \"#46039f\"], [0.2222222222222222, \"#7201a8\"], [0.3333333333333333, \"#9c179e\"], [0.4444444444444444, \"#bd3786\"], [0.5555555555555556, \"#d8576b\"], [0.6666666666666666, \"#ed7953\"], [0.7777777777777778, \"#fb9f3a\"], [0.8888888888888888, \"#fdca26\"], [1.0, \"#f0f921\"]], \"type\": \"histogram2d\"}], \"histogram2dcontour\": [{\"colorbar\": {\"outlinewidth\": 0, \"ticks\": \"\"}, \"colorscale\": [[0.0, \"#0d0887\"], [0.1111111111111111, \"#46039f\"], [0.2222222222222222, \"#7201a8\"], [0.3333333333333333, \"#9c179e\"], [0.4444444444444444, \"#bd3786\"], [0.5555555555555556, \"#d8576b\"], [0.6666666666666666, \"#ed7953\"], [0.7777777777777778, \"#fb9f3a\"], [0.8888888888888888, \"#fdca26\"], [1.0, \"#f0f921\"]], \"type\": \"histogram2dcontour\"}], \"mesh3d\": [{\"colorbar\": {\"outlinewidth\": 0, \"ticks\": \"\"}, \"type\": \"mesh3d\"}], \"parcoords\": [{\"line\": {\"colorbar\": {\"outlinewidth\": 0, \"ticks\": \"\"}}, \"type\": \"parcoords\"}], \"pie\": [{\"automargin\": true, \"type\": \"pie\"}], \"scatter\": [{\"marker\": {\"colorbar\": {\"outlinewidth\": 0, \"ticks\": \"\"}}, \"type\": \"scatter\"}], \"scatter3d\": [{\"line\": {\"colorbar\": {\"outlinewidth\": 0, \"ticks\": \"\"}}, \"marker\": {\"colorbar\": {\"outlinewidth\": 0, \"ticks\": \"\"}}, \"type\": \"scatter3d\"}], \"scattercarpet\": [{\"marker\": {\"colorbar\": {\"outlinewidth\": 0, \"ticks\": \"\"}}, \"type\": \"scattercarpet\"}], \"scattergeo\": [{\"marker\": {\"colorbar\": {\"outlinewidth\": 0, \"ticks\": \"\"}}, \"type\": \"scattergeo\"}], \"scattergl\": [{\"marker\": {\"colorbar\": {\"outlinewidth\": 0, \"ticks\": \"\"}}, \"type\": \"scattergl\"}], \"scattermapbox\": [{\"marker\": {\"colorbar\": {\"outlinewidth\": 0, \"ticks\": \"\"}}, \"type\": \"scattermapbox\"}], \"scatterpolar\": [{\"marker\": {\"colorbar\": {\"outlinewidth\": 0, \"ticks\": \"\"}}, \"type\": \"scatterpolar\"}], \"scatterpolargl\": [{\"marker\": {\"colorbar\": {\"outlinewidth\": 0, \"ticks\": \"\"}}, \"type\": \"scatterpolargl\"}], \"scatterternary\": [{\"marker\": {\"colorbar\": {\"outlinewidth\": 0, \"ticks\": \"\"}}, \"type\": \"scatterternary\"}], \"surface\": [{\"colorbar\": {\"outlinewidth\": 0, \"ticks\": \"\"}, \"colorscale\": [[0.0, \"#0d0887\"], [0.1111111111111111, \"#46039f\"], [0.2222222222222222, \"#7201a8\"], [0.3333333333333333, \"#9c179e\"], [0.4444444444444444, \"#bd3786\"], [0.5555555555555556, \"#d8576b\"], [0.6666666666666666, \"#ed7953\"], [0.7777777777777778, \"#fb9f3a\"], [0.8888888888888888, \"#fdca26\"], [1.0, \"#f0f921\"]], \"type\": \"surface\"}], \"table\": [{\"cells\": {\"fill\": {\"color\": \"#EBF0F8\"}, \"line\": {\"color\": \"white\"}}, \"header\": {\"fill\": {\"color\": \"#C8D4E3\"}, \"line\": {\"color\": \"white\"}}, \"type\": \"table\"}]}, \"layout\": {\"annotationdefaults\": {\"arrowcolor\": \"#2a3f5f\", \"arrowhead\": 0, \"arrowwidth\": 1}, \"coloraxis\": {\"colorbar\": {\"outlinewidth\": 0, \"ticks\": \"\"}}, \"colorscale\": {\"diverging\": [[0, \"#8e0152\"], [0.1, \"#c51b7d\"], [0.2, \"#de77ae\"], [0.3, \"#f1b6da\"], [0.4, \"#fde0ef\"], [0.5, \"#f7f7f7\"], [0.6, \"#e6f5d0\"], [0.7, \"#b8e186\"], [0.8, \"#7fbc41\"], [0.9, \"#4d9221\"], [1, \"#276419\"]], \"sequential\": [[0.0, \"#0d0887\"], [0.1111111111111111, \"#46039f\"], [0.2222222222222222, \"#7201a8\"], [0.3333333333333333, \"#9c179e\"], [0.4444444444444444, \"#bd3786\"], [0.5555555555555556, \"#d8576b\"], [0.6666666666666666, \"#ed7953\"], [0.7777777777777778, \"#fb9f3a\"], [0.8888888888888888, \"#fdca26\"], [1.0, \"#f0f921\"]], \"sequentialminus\": [[0.0, \"#0d0887\"], [0.1111111111111111, \"#46039f\"], [0.2222222222222222, \"#7201a8\"], [0.3333333333333333, \"#9c179e\"], [0.4444444444444444, \"#bd3786\"], [0.5555555555555556, \"#d8576b\"], [0.6666666666666666, \"#ed7953\"], [0.7777777777777778, \"#fb9f3a\"], [0.8888888888888888, \"#fdca26\"], [1.0, \"#f0f921\"]]}, \"colorway\": [\"#636efa\", \"#EF553B\", \"#00cc96\", \"#ab63fa\", \"#FFA15A\", \"#19d3f3\", \"#FF6692\", \"#B6E880\", \"#FF97FF\", \"#FECB52\"], \"font\": {\"color\": \"#2a3f5f\"}, \"geo\": {\"bgcolor\": \"white\", \"lakecolor\": \"white\", \"landcolor\": \"#E5ECF6\", \"showlakes\": true, \"showland\": true, \"subunitcolor\": \"white\"}, \"hoverlabel\": {\"align\": \"left\"}, \"hovermode\": \"closest\", \"mapbox\": {\"style\": \"light\"}, \"paper_bgcolor\": \"white\", \"plot_bgcolor\": \"#E5ECF6\", \"polar\": {\"angularaxis\": {\"gridcolor\": \"white\", \"linecolor\": \"white\", \"ticks\": \"\"}, \"bgcolor\": \"#E5ECF6\", \"radialaxis\": {\"gridcolor\": \"white\", \"linecolor\": \"white\", \"ticks\": \"\"}}, \"scene\": {\"xaxis\": {\"backgroundcolor\": \"#E5ECF6\", \"gridcolor\": \"white\", \"gridwidth\": 2, \"linecolor\": \"white\", \"showbackground\": true, \"ticks\": \"\", \"zerolinecolor\": \"white\"}, \"yaxis\": {\"backgroundcolor\": \"#E5ECF6\", \"gridcolor\": \"white\", \"gridwidth\": 2, \"linecolor\": \"white\", \"showbackground\": true, \"ticks\": \"\", \"zerolinecolor\": \"white\"}, \"zaxis\": {\"backgroundcolor\": \"#E5ECF6\", \"gridcolor\": \"white\", \"gridwidth\": 2, \"linecolor\": \"white\", \"showbackground\": true, \"ticks\": \"\", \"zerolinecolor\": \"white\"}}, \"shapedefaults\": {\"line\": {\"color\": \"#2a3f5f\"}}, \"ternary\": {\"aaxis\": {\"gridcolor\": \"white\", \"linecolor\": \"white\", \"ticks\": \"\"}, \"baxis\": {\"gridcolor\": \"white\", \"linecolor\": \"white\", \"ticks\": \"\"}, \"bgcolor\": \"#E5ECF6\", \"caxis\": {\"gridcolor\": \"white\", \"linecolor\": \"white\", \"ticks\": \"\"}}, \"title\": {\"x\": 0.05}, \"xaxis\": {\"automargin\": true, \"gridcolor\": \"white\", \"linecolor\": \"white\", \"ticks\": \"\", \"title\": {\"standoff\": 15}, \"zerolinecolor\": \"white\", \"zerolinewidth\": 2}, \"yaxis\": {\"automargin\": true, \"gridcolor\": \"white\", \"linecolor\": \"white\", \"ticks\": \"\", \"title\": {\"standoff\": 15}, \"zerolinecolor\": \"white\", \"zerolinewidth\": 2}}}, \"title\": {\"text\": \"COVID19 Testing Labs Across States and UT's\"}, \"xaxis\": {\"title\": {\"text\": \"State/UT\"}}, \"yaxis\": {\"title\": {\"text\": \"Count\"}}},\n",
       "                        {\"responsive\": true}\n",
       "                    ).then(function(){\n",
       "                            \n",
       "var gd = document.getElementById('8b850735-93a1-4551-98b3-b77f96a0e2d4');\n",
       "var x = new MutationObserver(function (mutations, observer) {{\n",
       "        var display = window.getComputedStyle(gd).display;\n",
       "        if (!display || display === 'none') {{\n",
       "            console.log([gd, 'removed!']);\n",
       "            Plotly.purge(gd);\n",
       "            observer.disconnect();\n",
       "        }}\n",
       "}});\n",
       "\n",
       "// Listen for the removal of the full notebook cells\n",
       "var notebookContainer = gd.closest('#notebook-container');\n",
       "if (notebookContainer) {{\n",
       "    x.observe(notebookContainer, {childList: true});\n",
       "}}\n",
       "\n",
       "// Listen for the clearing of the current output cell\n",
       "var outputEl = gd.closest('.output');\n",
       "if (outputEl) {{\n",
       "    x.observe(outputEl, {childList: true});\n",
       "}}\n",
       "\n",
       "                        })\n",
       "                };\n",
       "                });\n",
       "            </script>\n",
       "        </div>"
      ]
     },
     "metadata": {},
     "output_type": "display_data"
    }
   ],
   "source": [
    "labs_across_states = testing_labs.groupby('state',as_index=False)['lab'].count().sort_values('lab',ascending=False)\n",
    "fig = go.Figure(data=(go.Bar(x=labs_across_states['state'], y=labs_across_states['lab'],marker_color='blue',marker_line_color='black')))\n",
    "fig.update_layout(title=\"COVID19 Testing Labs Across States and UT's\",xaxis=dict(title=\"State/UT\"),yaxis=dict(title=\"Count\"))"
   ]
  },
  {
   "cell_type": "markdown",
   "metadata": {},
   "source": [
    "Maharashtra has the highest number of testing centers followed by Tamil Nadu, Telangana and Delhi, this is as expected because these are the states having highest number of cases. \n",
    "\n",
    "Surprising thing is tat MP which has high cases does not have many testing centers.\n",
    "\n",
    "Most of the North Eastern states have just 1 testing center each and this may be because they have fewer cases. "
   ]
  },
  {
   "cell_type": "code",
   "execution_count": 40,
   "metadata": {},
   "outputs": [
    {
     "data": {
      "application/vnd.plotly.v1+json": {
       "config": {
        "plotlyServerURL": "https://plot.ly"
       },
       "data": [
        {
         "marker": {
          "color": "blue",
          "line": {
           "color": "black"
          }
         },
         "type": "bar",
         "x": [
          "Mumbai",
          "New Delhi",
          "Hyderabad",
          "Kolkata",
          "Chennai",
          "Bengaluru",
          "Pune",
          "Ahmedabad",
          "Gurugram",
          "Bhopal",
          "Lucknow",
          "Patna",
          "Bhubaneswar",
          "Thiruvananthapuram",
          "Surat",
          "Navi Mumbai",
          "Chandigarh",
          "Coimbatore",
          "Nagpur",
          "Kozhikode",
          "Jaipur",
          "Secunderabad",
          "Gwalior",
          "Raipur",
          "Jodhpur",
          "Vellore",
          "Trichy",
          "Srinagar",
          "Imphal",
          "Thane",
          "Amritsar",
          "Noida",
          "Ranchi",
          "Mysuru",
          "Rohtak",
          "Naharlagun",
          "Rishikesh",
          "Patiala",
          "Prayagraj",
          "Port Blair",
          "Rajkot",
          "Rourkela",
          "Puttampalli",
          "Puducherry",
          "Perundurai",
          "Nagercoil",
          "Agartala",
          "Sagar",
          "Theni",
          "Villupuram",
          "Vijayawada",
          "Varanasi",
          "Vandanam",
          "Vadodara",
          "Udhampur",
          "Udaipur",
          "Tirupati",
          "Tirunelveli",
          "Thrissur",
          "Thiruvar",
          "Thalassery",
          "Saifai",
          "Thalappady",
          "Tezpur",
          "Sonipat",
          "Solapur",
          "Silvassa",
          "Siliguri",
          "Silchar",
          "Shivamogga",
          "Shimla",
          "Shillong",
          "Salem",
          "Muzaffarpur",
          "Ladakh",
          "Miraj",
          "Guntur",
          "Greater Noida",
          "Gorakhpur",
          "Goa",
          "Gangtok",
          "Faridkot",
          "Faridabad",
          "Ernakulam",
          "Dibrugarh",
          "Dhule",
          "Dharmapuri",
          "Dhanbad",
          "Dehradun",
          "Darbhanga",
          "Cuttack",
          "Bikaner",
          "Bhavnagar",
          "Berhampur",
          "Bellary",
          "Belagavi",
          "Barpeta",
          "Aurangabad",
          "Anantapur",
          "Aligarh",
          "Ajmer",
          "Aizawl",
          "Gulbarga",
          "Guwahati",
          "Midnapore",
          "Haldwani",
          "Meerut",
          "Mangalore",
          "Malda",
          "Madurai",
          "Ludhiana",
          "Agra",
          "Kota",
          "Kasauli",
          "Kasaragod",
          "Karnal",
          "Kanpur",
          "Kangra",
          "Kakinada",
          "Jorhat",
          "Jhansi",
          "Jhalawar",
          "Jamshedpur",
          "Jamnagar",
          "Jammu",
          "Jagdalpur",
          "Jabalpur",
          "Indore",
          "Hubli",
          "Hisar",
          "Hassan",
          "Vishakhapatnam"
         ],
         "y": [
          19,
          18,
          17,
          10,
          10,
          9,
          8,
          7,
          6,
          5,
          5,
          4,
          4,
          4,
          3,
          3,
          3,
          3,
          3,
          2,
          2,
          2,
          2,
          2,
          2,
          2,
          2,
          2,
          2,
          2,
          2,
          2,
          1,
          1,
          1,
          1,
          1,
          1,
          1,
          1,
          1,
          1,
          1,
          1,
          1,
          1,
          1,
          1,
          1,
          1,
          1,
          1,
          1,
          1,
          1,
          1,
          1,
          1,
          1,
          1,
          1,
          1,
          1,
          1,
          1,
          1,
          1,
          1,
          1,
          1,
          1,
          1,
          1,
          1,
          1,
          1,
          1,
          1,
          1,
          1,
          1,
          1,
          1,
          1,
          1,
          1,
          1,
          1,
          1,
          1,
          1,
          1,
          1,
          1,
          1,
          1,
          1,
          1,
          1,
          1,
          1,
          1,
          1,
          1,
          1,
          1,
          1,
          1,
          1,
          1,
          1,
          1,
          1,
          1,
          1,
          1,
          1,
          1,
          1,
          1,
          1,
          1,
          1,
          1,
          1,
          1,
          1,
          1,
          1,
          1,
          1,
          1
         ]
        }
       ],
       "layout": {
        "template": {
         "data": {
          "bar": [
           {
            "error_x": {
             "color": "#2a3f5f"
            },
            "error_y": {
             "color": "#2a3f5f"
            },
            "marker": {
             "line": {
              "color": "#E5ECF6",
              "width": 0.5
             }
            },
            "type": "bar"
           }
          ],
          "barpolar": [
           {
            "marker": {
             "line": {
              "color": "#E5ECF6",
              "width": 0.5
             }
            },
            "type": "barpolar"
           }
          ],
          "carpet": [
           {
            "aaxis": {
             "endlinecolor": "#2a3f5f",
             "gridcolor": "white",
             "linecolor": "white",
             "minorgridcolor": "white",
             "startlinecolor": "#2a3f5f"
            },
            "baxis": {
             "endlinecolor": "#2a3f5f",
             "gridcolor": "white",
             "linecolor": "white",
             "minorgridcolor": "white",
             "startlinecolor": "#2a3f5f"
            },
            "type": "carpet"
           }
          ],
          "choropleth": [
           {
            "colorbar": {
             "outlinewidth": 0,
             "ticks": ""
            },
            "type": "choropleth"
           }
          ],
          "contour": [
           {
            "colorbar": {
             "outlinewidth": 0,
             "ticks": ""
            },
            "colorscale": [
             [
              0,
              "#0d0887"
             ],
             [
              0.1111111111111111,
              "#46039f"
             ],
             [
              0.2222222222222222,
              "#7201a8"
             ],
             [
              0.3333333333333333,
              "#9c179e"
             ],
             [
              0.4444444444444444,
              "#bd3786"
             ],
             [
              0.5555555555555556,
              "#d8576b"
             ],
             [
              0.6666666666666666,
              "#ed7953"
             ],
             [
              0.7777777777777778,
              "#fb9f3a"
             ],
             [
              0.8888888888888888,
              "#fdca26"
             ],
             [
              1,
              "#f0f921"
             ]
            ],
            "type": "contour"
           }
          ],
          "contourcarpet": [
           {
            "colorbar": {
             "outlinewidth": 0,
             "ticks": ""
            },
            "type": "contourcarpet"
           }
          ],
          "heatmap": [
           {
            "colorbar": {
             "outlinewidth": 0,
             "ticks": ""
            },
            "colorscale": [
             [
              0,
              "#0d0887"
             ],
             [
              0.1111111111111111,
              "#46039f"
             ],
             [
              0.2222222222222222,
              "#7201a8"
             ],
             [
              0.3333333333333333,
              "#9c179e"
             ],
             [
              0.4444444444444444,
              "#bd3786"
             ],
             [
              0.5555555555555556,
              "#d8576b"
             ],
             [
              0.6666666666666666,
              "#ed7953"
             ],
             [
              0.7777777777777778,
              "#fb9f3a"
             ],
             [
              0.8888888888888888,
              "#fdca26"
             ],
             [
              1,
              "#f0f921"
             ]
            ],
            "type": "heatmap"
           }
          ],
          "heatmapgl": [
           {
            "colorbar": {
             "outlinewidth": 0,
             "ticks": ""
            },
            "colorscale": [
             [
              0,
              "#0d0887"
             ],
             [
              0.1111111111111111,
              "#46039f"
             ],
             [
              0.2222222222222222,
              "#7201a8"
             ],
             [
              0.3333333333333333,
              "#9c179e"
             ],
             [
              0.4444444444444444,
              "#bd3786"
             ],
             [
              0.5555555555555556,
              "#d8576b"
             ],
             [
              0.6666666666666666,
              "#ed7953"
             ],
             [
              0.7777777777777778,
              "#fb9f3a"
             ],
             [
              0.8888888888888888,
              "#fdca26"
             ],
             [
              1,
              "#f0f921"
             ]
            ],
            "type": "heatmapgl"
           }
          ],
          "histogram": [
           {
            "marker": {
             "colorbar": {
              "outlinewidth": 0,
              "ticks": ""
             }
            },
            "type": "histogram"
           }
          ],
          "histogram2d": [
           {
            "colorbar": {
             "outlinewidth": 0,
             "ticks": ""
            },
            "colorscale": [
             [
              0,
              "#0d0887"
             ],
             [
              0.1111111111111111,
              "#46039f"
             ],
             [
              0.2222222222222222,
              "#7201a8"
             ],
             [
              0.3333333333333333,
              "#9c179e"
             ],
             [
              0.4444444444444444,
              "#bd3786"
             ],
             [
              0.5555555555555556,
              "#d8576b"
             ],
             [
              0.6666666666666666,
              "#ed7953"
             ],
             [
              0.7777777777777778,
              "#fb9f3a"
             ],
             [
              0.8888888888888888,
              "#fdca26"
             ],
             [
              1,
              "#f0f921"
             ]
            ],
            "type": "histogram2d"
           }
          ],
          "histogram2dcontour": [
           {
            "colorbar": {
             "outlinewidth": 0,
             "ticks": ""
            },
            "colorscale": [
             [
              0,
              "#0d0887"
             ],
             [
              0.1111111111111111,
              "#46039f"
             ],
             [
              0.2222222222222222,
              "#7201a8"
             ],
             [
              0.3333333333333333,
              "#9c179e"
             ],
             [
              0.4444444444444444,
              "#bd3786"
             ],
             [
              0.5555555555555556,
              "#d8576b"
             ],
             [
              0.6666666666666666,
              "#ed7953"
             ],
             [
              0.7777777777777778,
              "#fb9f3a"
             ],
             [
              0.8888888888888888,
              "#fdca26"
             ],
             [
              1,
              "#f0f921"
             ]
            ],
            "type": "histogram2dcontour"
           }
          ],
          "mesh3d": [
           {
            "colorbar": {
             "outlinewidth": 0,
             "ticks": ""
            },
            "type": "mesh3d"
           }
          ],
          "parcoords": [
           {
            "line": {
             "colorbar": {
              "outlinewidth": 0,
              "ticks": ""
             }
            },
            "type": "parcoords"
           }
          ],
          "pie": [
           {
            "automargin": true,
            "type": "pie"
           }
          ],
          "scatter": [
           {
            "marker": {
             "colorbar": {
              "outlinewidth": 0,
              "ticks": ""
             }
            },
            "type": "scatter"
           }
          ],
          "scatter3d": [
           {
            "line": {
             "colorbar": {
              "outlinewidth": 0,
              "ticks": ""
             }
            },
            "marker": {
             "colorbar": {
              "outlinewidth": 0,
              "ticks": ""
             }
            },
            "type": "scatter3d"
           }
          ],
          "scattercarpet": [
           {
            "marker": {
             "colorbar": {
              "outlinewidth": 0,
              "ticks": ""
             }
            },
            "type": "scattercarpet"
           }
          ],
          "scattergeo": [
           {
            "marker": {
             "colorbar": {
              "outlinewidth": 0,
              "ticks": ""
             }
            },
            "type": "scattergeo"
           }
          ],
          "scattergl": [
           {
            "marker": {
             "colorbar": {
              "outlinewidth": 0,
              "ticks": ""
             }
            },
            "type": "scattergl"
           }
          ],
          "scattermapbox": [
           {
            "marker": {
             "colorbar": {
              "outlinewidth": 0,
              "ticks": ""
             }
            },
            "type": "scattermapbox"
           }
          ],
          "scatterpolar": [
           {
            "marker": {
             "colorbar": {
              "outlinewidth": 0,
              "ticks": ""
             }
            },
            "type": "scatterpolar"
           }
          ],
          "scatterpolargl": [
           {
            "marker": {
             "colorbar": {
              "outlinewidth": 0,
              "ticks": ""
             }
            },
            "type": "scatterpolargl"
           }
          ],
          "scatterternary": [
           {
            "marker": {
             "colorbar": {
              "outlinewidth": 0,
              "ticks": ""
             }
            },
            "type": "scatterternary"
           }
          ],
          "surface": [
           {
            "colorbar": {
             "outlinewidth": 0,
             "ticks": ""
            },
            "colorscale": [
             [
              0,
              "#0d0887"
             ],
             [
              0.1111111111111111,
              "#46039f"
             ],
             [
              0.2222222222222222,
              "#7201a8"
             ],
             [
              0.3333333333333333,
              "#9c179e"
             ],
             [
              0.4444444444444444,
              "#bd3786"
             ],
             [
              0.5555555555555556,
              "#d8576b"
             ],
             [
              0.6666666666666666,
              "#ed7953"
             ],
             [
              0.7777777777777778,
              "#fb9f3a"
             ],
             [
              0.8888888888888888,
              "#fdca26"
             ],
             [
              1,
              "#f0f921"
             ]
            ],
            "type": "surface"
           }
          ],
          "table": [
           {
            "cells": {
             "fill": {
              "color": "#EBF0F8"
             },
             "line": {
              "color": "white"
             }
            },
            "header": {
             "fill": {
              "color": "#C8D4E3"
             },
             "line": {
              "color": "white"
             }
            },
            "type": "table"
           }
          ]
         },
         "layout": {
          "annotationdefaults": {
           "arrowcolor": "#2a3f5f",
           "arrowhead": 0,
           "arrowwidth": 1
          },
          "coloraxis": {
           "colorbar": {
            "outlinewidth": 0,
            "ticks": ""
           }
          },
          "colorscale": {
           "diverging": [
            [
             0,
             "#8e0152"
            ],
            [
             0.1,
             "#c51b7d"
            ],
            [
             0.2,
             "#de77ae"
            ],
            [
             0.3,
             "#f1b6da"
            ],
            [
             0.4,
             "#fde0ef"
            ],
            [
             0.5,
             "#f7f7f7"
            ],
            [
             0.6,
             "#e6f5d0"
            ],
            [
             0.7,
             "#b8e186"
            ],
            [
             0.8,
             "#7fbc41"
            ],
            [
             0.9,
             "#4d9221"
            ],
            [
             1,
             "#276419"
            ]
           ],
           "sequential": [
            [
             0,
             "#0d0887"
            ],
            [
             0.1111111111111111,
             "#46039f"
            ],
            [
             0.2222222222222222,
             "#7201a8"
            ],
            [
             0.3333333333333333,
             "#9c179e"
            ],
            [
             0.4444444444444444,
             "#bd3786"
            ],
            [
             0.5555555555555556,
             "#d8576b"
            ],
            [
             0.6666666666666666,
             "#ed7953"
            ],
            [
             0.7777777777777778,
             "#fb9f3a"
            ],
            [
             0.8888888888888888,
             "#fdca26"
            ],
            [
             1,
             "#f0f921"
            ]
           ],
           "sequentialminus": [
            [
             0,
             "#0d0887"
            ],
            [
             0.1111111111111111,
             "#46039f"
            ],
            [
             0.2222222222222222,
             "#7201a8"
            ],
            [
             0.3333333333333333,
             "#9c179e"
            ],
            [
             0.4444444444444444,
             "#bd3786"
            ],
            [
             0.5555555555555556,
             "#d8576b"
            ],
            [
             0.6666666666666666,
             "#ed7953"
            ],
            [
             0.7777777777777778,
             "#fb9f3a"
            ],
            [
             0.8888888888888888,
             "#fdca26"
            ],
            [
             1,
             "#f0f921"
            ]
           ]
          },
          "colorway": [
           "#636efa",
           "#EF553B",
           "#00cc96",
           "#ab63fa",
           "#FFA15A",
           "#19d3f3",
           "#FF6692",
           "#B6E880",
           "#FF97FF",
           "#FECB52"
          ],
          "font": {
           "color": "#2a3f5f"
          },
          "geo": {
           "bgcolor": "white",
           "lakecolor": "white",
           "landcolor": "#E5ECF6",
           "showlakes": true,
           "showland": true,
           "subunitcolor": "white"
          },
          "hoverlabel": {
           "align": "left"
          },
          "hovermode": "closest",
          "mapbox": {
           "style": "light"
          },
          "paper_bgcolor": "white",
          "plot_bgcolor": "#E5ECF6",
          "polar": {
           "angularaxis": {
            "gridcolor": "white",
            "linecolor": "white",
            "ticks": ""
           },
           "bgcolor": "#E5ECF6",
           "radialaxis": {
            "gridcolor": "white",
            "linecolor": "white",
            "ticks": ""
           }
          },
          "scene": {
           "xaxis": {
            "backgroundcolor": "#E5ECF6",
            "gridcolor": "white",
            "gridwidth": 2,
            "linecolor": "white",
            "showbackground": true,
            "ticks": "",
            "zerolinecolor": "white"
           },
           "yaxis": {
            "backgroundcolor": "#E5ECF6",
            "gridcolor": "white",
            "gridwidth": 2,
            "linecolor": "white",
            "showbackground": true,
            "ticks": "",
            "zerolinecolor": "white"
           },
           "zaxis": {
            "backgroundcolor": "#E5ECF6",
            "gridcolor": "white",
            "gridwidth": 2,
            "linecolor": "white",
            "showbackground": true,
            "ticks": "",
            "zerolinecolor": "white"
           }
          },
          "shapedefaults": {
           "line": {
            "color": "#2a3f5f"
           }
          },
          "ternary": {
           "aaxis": {
            "gridcolor": "white",
            "linecolor": "white",
            "ticks": ""
           },
           "baxis": {
            "gridcolor": "white",
            "linecolor": "white",
            "ticks": ""
           },
           "bgcolor": "#E5ECF6",
           "caxis": {
            "gridcolor": "white",
            "linecolor": "white",
            "ticks": ""
           }
          },
          "title": {
           "x": 0.05
          },
          "xaxis": {
           "automargin": true,
           "gridcolor": "white",
           "linecolor": "white",
           "ticks": "",
           "title": {
            "standoff": 15
           },
           "zerolinecolor": "white",
           "zerolinewidth": 2
          },
          "yaxis": {
           "automargin": true,
           "gridcolor": "white",
           "linecolor": "white",
           "ticks": "",
           "title": {
            "standoff": 15
           },
           "zerolinecolor": "white",
           "zerolinewidth": 2
          }
         }
        },
        "title": {
         "text": "COVID19 Testing Labs Across Cities"
        },
        "xaxis": {
         "title": {
          "text": "City"
         }
        },
        "yaxis": {
         "title": {
          "text": "Count"
         }
        }
       }
      },
      "text/html": [
       "<div>\n",
       "        \n",
       "        \n",
       "            <div id=\"206368b0-0931-4695-92bb-fa7f4f03e6c4\" class=\"plotly-graph-div\" style=\"height:525px; width:100%;\"></div>\n",
       "            <script type=\"text/javascript\">\n",
       "                require([\"plotly\"], function(Plotly) {\n",
       "                    window.PLOTLYENV=window.PLOTLYENV || {};\n",
       "                    \n",
       "                if (document.getElementById(\"206368b0-0931-4695-92bb-fa7f4f03e6c4\")) {\n",
       "                    Plotly.newPlot(\n",
       "                        '206368b0-0931-4695-92bb-fa7f4f03e6c4',\n",
       "                        [{\"marker\": {\"color\": \"blue\", \"line\": {\"color\": \"black\"}}, \"type\": \"bar\", \"x\": [\"Mumbai\", \"New Delhi\", \"Hyderabad\", \"Kolkata\", \"Chennai\", \"Bengaluru\", \"Pune\", \"Ahmedabad\", \"Gurugram\", \"Bhopal\", \"Lucknow\", \"Patna\", \"Bhubaneswar\", \"Thiruvananthapuram\", \"Surat\", \"Navi Mumbai\", \"Chandigarh\", \"Coimbatore\", \"Nagpur\", \"Kozhikode\", \"Jaipur\", \"Secunderabad\", \"Gwalior\", \"Raipur\", \"Jodhpur\", \"Vellore\", \"Trichy\", \"Srinagar\", \"Imphal\", \"Thane\", \"Amritsar\", \"Noida\", \"Ranchi\", \"Mysuru\", \"Rohtak\", \"Naharlagun\", \"Rishikesh\", \"Patiala\", \"Prayagraj\", \"Port Blair\", \"Rajkot\", \"Rourkela\", \"Puttampalli\", \"Puducherry\", \"Perundurai\", \"Nagercoil\", \"Agartala\", \"Sagar\", \"Theni\", \"Villupuram\", \"Vijayawada\", \"Varanasi\", \"Vandanam\", \"Vadodara\", \"Udhampur\", \"Udaipur\", \"Tirupati\", \"Tirunelveli\", \"Thrissur\", \"Thiruvar\", \"Thalassery\", \"Saifai\", \"Thalappady\", \"Tezpur\", \"Sonipat\", \"Solapur\", \"Silvassa\", \"Siliguri\", \"Silchar\", \"Shivamogga\", \"Shimla\", \"Shillong\", \"Salem\", \"Muzaffarpur\", \"Ladakh\", \"Miraj\", \"Guntur\", \"Greater Noida\", \"Gorakhpur\", \"Goa\", \"Gangtok\", \"Faridkot\", \"Faridabad\", \"Ernakulam\", \"Dibrugarh\", \"Dhule\", \"Dharmapuri\", \"Dhanbad\", \"Dehradun\", \"Darbhanga\", \"Cuttack\", \"Bikaner\", \"Bhavnagar\", \"Berhampur\", \"Bellary\", \"Belagavi\", \"Barpeta\", \"Aurangabad\", \"Anantapur\", \"Aligarh\", \"Ajmer\", \"Aizawl\", \"Gulbarga\", \"Guwahati\", \"Midnapore\", \"Haldwani\", \"Meerut\", \"Mangalore\", \"Malda\", \"Madurai\", \"Ludhiana\", \"Agra\", \"Kota\", \"Kasauli\", \"Kasaragod\", \"Karnal\", \"Kanpur\", \"Kangra\", \"Kakinada\", \"Jorhat\", \"Jhansi\", \"Jhalawar\", \"Jamshedpur\", \"Jamnagar\", \"Jammu\", \"Jagdalpur\", \"Jabalpur\", \"Indore\", \"Hubli\", \"Hisar\", \"Hassan\", \"Vishakhapatnam\"], \"y\": [19, 18, 17, 10, 10, 9, 8, 7, 6, 5, 5, 4, 4, 4, 3, 3, 3, 3, 3, 2, 2, 2, 2, 2, 2, 2, 2, 2, 2, 2, 2, 2, 1, 1, 1, 1, 1, 1, 1, 1, 1, 1, 1, 1, 1, 1, 1, 1, 1, 1, 1, 1, 1, 1, 1, 1, 1, 1, 1, 1, 1, 1, 1, 1, 1, 1, 1, 1, 1, 1, 1, 1, 1, 1, 1, 1, 1, 1, 1, 1, 1, 1, 1, 1, 1, 1, 1, 1, 1, 1, 1, 1, 1, 1, 1, 1, 1, 1, 1, 1, 1, 1, 1, 1, 1, 1, 1, 1, 1, 1, 1, 1, 1, 1, 1, 1, 1, 1, 1, 1, 1, 1, 1, 1, 1, 1, 1, 1, 1, 1, 1, 1]}],\n",
       "                        {\"template\": {\"data\": {\"bar\": [{\"error_x\": {\"color\": \"#2a3f5f\"}, \"error_y\": {\"color\": \"#2a3f5f\"}, \"marker\": {\"line\": {\"color\": \"#E5ECF6\", \"width\": 0.5}}, \"type\": \"bar\"}], \"barpolar\": [{\"marker\": {\"line\": {\"color\": \"#E5ECF6\", \"width\": 0.5}}, \"type\": \"barpolar\"}], \"carpet\": [{\"aaxis\": {\"endlinecolor\": \"#2a3f5f\", \"gridcolor\": \"white\", \"linecolor\": \"white\", \"minorgridcolor\": \"white\", \"startlinecolor\": \"#2a3f5f\"}, \"baxis\": {\"endlinecolor\": \"#2a3f5f\", \"gridcolor\": \"white\", \"linecolor\": \"white\", \"minorgridcolor\": \"white\", \"startlinecolor\": \"#2a3f5f\"}, \"type\": \"carpet\"}], \"choropleth\": [{\"colorbar\": {\"outlinewidth\": 0, \"ticks\": \"\"}, \"type\": \"choropleth\"}], \"contour\": [{\"colorbar\": {\"outlinewidth\": 0, \"ticks\": \"\"}, \"colorscale\": [[0.0, \"#0d0887\"], [0.1111111111111111, \"#46039f\"], [0.2222222222222222, \"#7201a8\"], [0.3333333333333333, \"#9c179e\"], [0.4444444444444444, \"#bd3786\"], [0.5555555555555556, \"#d8576b\"], [0.6666666666666666, \"#ed7953\"], [0.7777777777777778, \"#fb9f3a\"], [0.8888888888888888, \"#fdca26\"], [1.0, \"#f0f921\"]], \"type\": \"contour\"}], \"contourcarpet\": [{\"colorbar\": {\"outlinewidth\": 0, \"ticks\": \"\"}, \"type\": \"contourcarpet\"}], \"heatmap\": [{\"colorbar\": {\"outlinewidth\": 0, \"ticks\": \"\"}, \"colorscale\": [[0.0, \"#0d0887\"], [0.1111111111111111, \"#46039f\"], [0.2222222222222222, \"#7201a8\"], [0.3333333333333333, \"#9c179e\"], [0.4444444444444444, \"#bd3786\"], [0.5555555555555556, \"#d8576b\"], [0.6666666666666666, \"#ed7953\"], [0.7777777777777778, \"#fb9f3a\"], [0.8888888888888888, \"#fdca26\"], [1.0, \"#f0f921\"]], \"type\": \"heatmap\"}], \"heatmapgl\": [{\"colorbar\": {\"outlinewidth\": 0, \"ticks\": \"\"}, \"colorscale\": [[0.0, \"#0d0887\"], [0.1111111111111111, \"#46039f\"], [0.2222222222222222, \"#7201a8\"], [0.3333333333333333, \"#9c179e\"], [0.4444444444444444, \"#bd3786\"], [0.5555555555555556, \"#d8576b\"], [0.6666666666666666, \"#ed7953\"], [0.7777777777777778, \"#fb9f3a\"], [0.8888888888888888, \"#fdca26\"], [1.0, \"#f0f921\"]], \"type\": \"heatmapgl\"}], \"histogram\": [{\"marker\": {\"colorbar\": {\"outlinewidth\": 0, \"ticks\": \"\"}}, \"type\": \"histogram\"}], \"histogram2d\": [{\"colorbar\": {\"outlinewidth\": 0, \"ticks\": \"\"}, \"colorscale\": [[0.0, \"#0d0887\"], [0.1111111111111111, \"#46039f\"], [0.2222222222222222, \"#7201a8\"], [0.3333333333333333, \"#9c179e\"], [0.4444444444444444, \"#bd3786\"], [0.5555555555555556, \"#d8576b\"], [0.6666666666666666, \"#ed7953\"], [0.7777777777777778, \"#fb9f3a\"], [0.8888888888888888, \"#fdca26\"], [1.0, \"#f0f921\"]], \"type\": \"histogram2d\"}], \"histogram2dcontour\": [{\"colorbar\": {\"outlinewidth\": 0, \"ticks\": \"\"}, \"colorscale\": [[0.0, \"#0d0887\"], [0.1111111111111111, \"#46039f\"], [0.2222222222222222, \"#7201a8\"], [0.3333333333333333, \"#9c179e\"], [0.4444444444444444, \"#bd3786\"], [0.5555555555555556, \"#d8576b\"], [0.6666666666666666, \"#ed7953\"], [0.7777777777777778, \"#fb9f3a\"], [0.8888888888888888, \"#fdca26\"], [1.0, \"#f0f921\"]], \"type\": \"histogram2dcontour\"}], \"mesh3d\": [{\"colorbar\": {\"outlinewidth\": 0, \"ticks\": \"\"}, \"type\": \"mesh3d\"}], \"parcoords\": [{\"line\": {\"colorbar\": {\"outlinewidth\": 0, \"ticks\": \"\"}}, \"type\": \"parcoords\"}], \"pie\": [{\"automargin\": true, \"type\": \"pie\"}], \"scatter\": [{\"marker\": {\"colorbar\": {\"outlinewidth\": 0, \"ticks\": \"\"}}, \"type\": \"scatter\"}], \"scatter3d\": [{\"line\": {\"colorbar\": {\"outlinewidth\": 0, \"ticks\": \"\"}}, \"marker\": {\"colorbar\": {\"outlinewidth\": 0, \"ticks\": \"\"}}, \"type\": \"scatter3d\"}], \"scattercarpet\": [{\"marker\": {\"colorbar\": {\"outlinewidth\": 0, \"ticks\": \"\"}}, \"type\": \"scattercarpet\"}], \"scattergeo\": [{\"marker\": {\"colorbar\": {\"outlinewidth\": 0, \"ticks\": \"\"}}, \"type\": \"scattergeo\"}], \"scattergl\": [{\"marker\": {\"colorbar\": {\"outlinewidth\": 0, \"ticks\": \"\"}}, \"type\": \"scattergl\"}], \"scattermapbox\": [{\"marker\": {\"colorbar\": {\"outlinewidth\": 0, \"ticks\": \"\"}}, \"type\": \"scattermapbox\"}], \"scatterpolar\": [{\"marker\": {\"colorbar\": {\"outlinewidth\": 0, \"ticks\": \"\"}}, \"type\": \"scatterpolar\"}], \"scatterpolargl\": [{\"marker\": {\"colorbar\": {\"outlinewidth\": 0, \"ticks\": \"\"}}, \"type\": \"scatterpolargl\"}], \"scatterternary\": [{\"marker\": {\"colorbar\": {\"outlinewidth\": 0, \"ticks\": \"\"}}, \"type\": \"scatterternary\"}], \"surface\": [{\"colorbar\": {\"outlinewidth\": 0, \"ticks\": \"\"}, \"colorscale\": [[0.0, \"#0d0887\"], [0.1111111111111111, \"#46039f\"], [0.2222222222222222, \"#7201a8\"], [0.3333333333333333, \"#9c179e\"], [0.4444444444444444, \"#bd3786\"], [0.5555555555555556, \"#d8576b\"], [0.6666666666666666, \"#ed7953\"], [0.7777777777777778, \"#fb9f3a\"], [0.8888888888888888, \"#fdca26\"], [1.0, \"#f0f921\"]], \"type\": \"surface\"}], \"table\": [{\"cells\": {\"fill\": {\"color\": \"#EBF0F8\"}, \"line\": {\"color\": \"white\"}}, \"header\": {\"fill\": {\"color\": \"#C8D4E3\"}, \"line\": {\"color\": \"white\"}}, \"type\": \"table\"}]}, \"layout\": {\"annotationdefaults\": {\"arrowcolor\": \"#2a3f5f\", \"arrowhead\": 0, \"arrowwidth\": 1}, \"coloraxis\": {\"colorbar\": {\"outlinewidth\": 0, \"ticks\": \"\"}}, \"colorscale\": {\"diverging\": [[0, \"#8e0152\"], [0.1, \"#c51b7d\"], [0.2, \"#de77ae\"], [0.3, \"#f1b6da\"], [0.4, \"#fde0ef\"], [0.5, \"#f7f7f7\"], [0.6, \"#e6f5d0\"], [0.7, \"#b8e186\"], [0.8, \"#7fbc41\"], [0.9, \"#4d9221\"], [1, \"#276419\"]], \"sequential\": [[0.0, \"#0d0887\"], [0.1111111111111111, \"#46039f\"], [0.2222222222222222, \"#7201a8\"], [0.3333333333333333, \"#9c179e\"], [0.4444444444444444, \"#bd3786\"], [0.5555555555555556, \"#d8576b\"], [0.6666666666666666, \"#ed7953\"], [0.7777777777777778, \"#fb9f3a\"], [0.8888888888888888, \"#fdca26\"], [1.0, \"#f0f921\"]], \"sequentialminus\": [[0.0, \"#0d0887\"], [0.1111111111111111, \"#46039f\"], [0.2222222222222222, \"#7201a8\"], [0.3333333333333333, \"#9c179e\"], [0.4444444444444444, \"#bd3786\"], [0.5555555555555556, \"#d8576b\"], [0.6666666666666666, \"#ed7953\"], [0.7777777777777778, \"#fb9f3a\"], [0.8888888888888888, \"#fdca26\"], [1.0, \"#f0f921\"]]}, \"colorway\": [\"#636efa\", \"#EF553B\", \"#00cc96\", \"#ab63fa\", \"#FFA15A\", \"#19d3f3\", \"#FF6692\", \"#B6E880\", \"#FF97FF\", \"#FECB52\"], \"font\": {\"color\": \"#2a3f5f\"}, \"geo\": {\"bgcolor\": \"white\", \"lakecolor\": \"white\", \"landcolor\": \"#E5ECF6\", \"showlakes\": true, \"showland\": true, \"subunitcolor\": \"white\"}, \"hoverlabel\": {\"align\": \"left\"}, \"hovermode\": \"closest\", \"mapbox\": {\"style\": \"light\"}, \"paper_bgcolor\": \"white\", \"plot_bgcolor\": \"#E5ECF6\", \"polar\": {\"angularaxis\": {\"gridcolor\": \"white\", \"linecolor\": \"white\", \"ticks\": \"\"}, \"bgcolor\": \"#E5ECF6\", \"radialaxis\": {\"gridcolor\": \"white\", \"linecolor\": \"white\", \"ticks\": \"\"}}, \"scene\": {\"xaxis\": {\"backgroundcolor\": \"#E5ECF6\", \"gridcolor\": \"white\", \"gridwidth\": 2, \"linecolor\": \"white\", \"showbackground\": true, \"ticks\": \"\", \"zerolinecolor\": \"white\"}, \"yaxis\": {\"backgroundcolor\": \"#E5ECF6\", \"gridcolor\": \"white\", \"gridwidth\": 2, \"linecolor\": \"white\", \"showbackground\": true, \"ticks\": \"\", \"zerolinecolor\": \"white\"}, \"zaxis\": {\"backgroundcolor\": \"#E5ECF6\", \"gridcolor\": \"white\", \"gridwidth\": 2, \"linecolor\": \"white\", \"showbackground\": true, \"ticks\": \"\", \"zerolinecolor\": \"white\"}}, \"shapedefaults\": {\"line\": {\"color\": \"#2a3f5f\"}}, \"ternary\": {\"aaxis\": {\"gridcolor\": \"white\", \"linecolor\": \"white\", \"ticks\": \"\"}, \"baxis\": {\"gridcolor\": \"white\", \"linecolor\": \"white\", \"ticks\": \"\"}, \"bgcolor\": \"#E5ECF6\", \"caxis\": {\"gridcolor\": \"white\", \"linecolor\": \"white\", \"ticks\": \"\"}}, \"title\": {\"x\": 0.05}, \"xaxis\": {\"automargin\": true, \"gridcolor\": \"white\", \"linecolor\": \"white\", \"ticks\": \"\", \"title\": {\"standoff\": 15}, \"zerolinecolor\": \"white\", \"zerolinewidth\": 2}, \"yaxis\": {\"automargin\": true, \"gridcolor\": \"white\", \"linecolor\": \"white\", \"ticks\": \"\", \"title\": {\"standoff\": 15}, \"zerolinecolor\": \"white\", \"zerolinewidth\": 2}}}, \"title\": {\"text\": \"COVID19 Testing Labs Across Cities\"}, \"xaxis\": {\"title\": {\"text\": \"City\"}}, \"yaxis\": {\"title\": {\"text\": \"Count\"}}},\n",
       "                        {\"responsive\": true}\n",
       "                    ).then(function(){\n",
       "                            \n",
       "var gd = document.getElementById('206368b0-0931-4695-92bb-fa7f4f03e6c4');\n",
       "var x = new MutationObserver(function (mutations, observer) {{\n",
       "        var display = window.getComputedStyle(gd).display;\n",
       "        if (!display || display === 'none') {{\n",
       "            console.log([gd, 'removed!']);\n",
       "            Plotly.purge(gd);\n",
       "            observer.disconnect();\n",
       "        }}\n",
       "}});\n",
       "\n",
       "// Listen for the removal of the full notebook cells\n",
       "var notebookContainer = gd.closest('#notebook-container');\n",
       "if (notebookContainer) {{\n",
       "    x.observe(notebookContainer, {childList: true});\n",
       "}}\n",
       "\n",
       "// Listen for the clearing of the current output cell\n",
       "var outputEl = gd.closest('.output');\n",
       "if (outputEl) {{\n",
       "    x.observe(outputEl, {childList: true});\n",
       "}}\n",
       "\n",
       "                        })\n",
       "                };\n",
       "                });\n",
       "            </script>\n",
       "        </div>"
      ]
     },
     "metadata": {},
     "output_type": "display_data"
    }
   ],
   "source": [
    "labs_across_states = testing_labs.groupby('city',as_index=False)['lab'].count().sort_values('lab',ascending=False)\n",
    "fig = go.Figure(data=(go.Bar(x=labs_across_states['city'], y=labs_across_states['lab'],marker_color='blue',marker_line_color='black')))\n",
    "fig.update_layout(title=\"COVID19 Testing Labs Across Cities\",xaxis=dict(title=\"City\"),yaxis=dict(title=\"Count\"))"
   ]
  },
  {
   "cell_type": "markdown",
   "metadata": {},
   "source": [
    "As Expected, Metropolitan cities have high number of testing centers with Mumber being the highest followed by Delhi and Hyderabad."
   ]
  },
  {
   "cell_type": "code",
   "execution_count": 41,
   "metadata": {},
   "outputs": [
    {
     "data": {
      "image/png": "[encoded data removed]",
      "text/plain": [
       "<Figure size 720x288 with 1 Axes>"
      ]
     },
     "metadata": {},
     "output_type": "display_data"
    }
   ],
   "source": [
    "plt.figure(figsize=(10,4))\n",
    "testing_labs.groupby('type')['lab'].count().sort_values(ascending=False).plot(kind='bar');\n",
    "plt.xticks(rotation=360);\n",
    "plt.xlabel(\"Type of Testing Center\");\n",
    "plt.ylabel(\"Count\");\n",
    "plt.title(\"Type of COVID19 Testing Center\");"
   ]
  },
  {
   "cell_type": "markdown",
   "metadata": {},
   "source": [
    "We can see that the testing centers are still controlled by the Government.And private centers are also in good numbers."
   ]
  },
  {
   "cell_type": "markdown",
   "metadata": {},
   "source": [
    "#### Exploring COVID19 Cases from Karnataka"
   ]
  },
  {
   "cell_type": "code",
   "execution_count": 42,
   "metadata": {},
   "outputs": [],
   "source": [
    "Karnataka = patients[patients['detected_state']==\"Karnataka\"]"
   ]
  },
  {
   "cell_type": "code",
   "execution_count": 43,
   "metadata": {},
   "outputs": [
    {
     "data": {
      "application/vnd.plotly.v1+json": {
       "config": {
        "plotlyServerURL": "https://plot.ly"
       },
       "data": [
        {
         "type": "bar",
         "x": [
          "Bengaluru Urban",
          "Mysuru",
          "Belagavi",
          "Vijayapura",
          "Kalaburagi",
          "Bagalkote",
          "Dakshina Kannada",
          "Chikkaballapura",
          "Mandya",
          "Bidar",
          "Ballari",
          "Uttara Kannada",
          "Bengaluru Rural",
          "Dharwad",
          "Gadag",
          "Davanagere",
          "Tumakuru",
          "Udupi",
          "Kodagu"
         ],
         "y": [
          135,
          89,
          54,
          39,
          38,
          24,
          18,
          18,
          16,
          15,
          13,
          11,
          10,
          9,
          4,
          3,
          3,
          3,
          1
         ]
        }
       ],
       "layout": {
        "template": {
         "data": {
          "bar": [
           {
            "error_x": {
             "color": "#2a3f5f"
            },
            "error_y": {
             "color": "#2a3f5f"
            },
            "marker": {
             "line": {
              "color": "#E5ECF6",
              "width": 0.5
             }
            },
            "type": "bar"
           }
          ],
          "barpolar": [
           {
            "marker": {
             "line": {
              "color": "#E5ECF6",
              "width": 0.5
             }
            },
            "type": "barpolar"
           }
          ],
          "carpet": [
           {
            "aaxis": {
             "endlinecolor": "#2a3f5f",
             "gridcolor": "white",
             "linecolor": "white",
             "minorgridcolor": "white",
             "startlinecolor": "#2a3f5f"
            },
            "baxis": {
             "endlinecolor": "#2a3f5f",
             "gridcolor": "white",
             "linecolor": "white",
             "minorgridcolor": "white",
             "startlinecolor": "#2a3f5f"
            },
            "type": "carpet"
           }
          ],
          "choropleth": [
           {
            "colorbar": {
             "outlinewidth": 0,
             "ticks": ""
            },
            "type": "choropleth"
           }
          ],
          "contour": [
           {
            "colorbar": {
             "outlinewidth": 0,
             "ticks": ""
            },
            "colorscale": [
             [
              0,
              "#0d0887"
             ],
             [
              0.1111111111111111,
              "#46039f"
             ],
             [
              0.2222222222222222,
              "#7201a8"
             ],
             [
              0.3333333333333333,
              "#9c179e"
             ],
             [
              0.4444444444444444,
              "#bd3786"
             ],
             [
              0.5555555555555556,
              "#d8576b"
             ],
             [
              0.6666666666666666,
              "#ed7953"
             ],
             [
              0.7777777777777778,
              "#fb9f3a"
             ],
             [
              0.8888888888888888,
              "#fdca26"
             ],
             [
              1,
              "#f0f921"
             ]
            ],
            "type": "contour"
           }
          ],
          "contourcarpet": [
           {
            "colorbar": {
             "outlinewidth": 0,
             "ticks": ""
            },
            "type": "contourcarpet"
           }
          ],
          "heatmap": [
           {
            "colorbar": {
             "outlinewidth": 0,
             "ticks": ""
            },
            "colorscale": [
             [
              0,
              "#0d0887"
             ],
             [
              0.1111111111111111,
              "#46039f"
             ],
             [
              0.2222222222222222,
              "#7201a8"
             ],
             [
              0.3333333333333333,
              "#9c179e"
             ],
             [
              0.4444444444444444,
              "#bd3786"
             ],
             [
              0.5555555555555556,
              "#d8576b"
             ],
             [
              0.6666666666666666,
              "#ed7953"
             ],
             [
              0.7777777777777778,
              "#fb9f3a"
             ],
             [
              0.8888888888888888,
              "#fdca26"
             ],
             [
              1,
              "#f0f921"
             ]
            ],
            "type": "heatmap"
           }
          ],
          "heatmapgl": [
           {
            "colorbar": {
             "outlinewidth": 0,
             "ticks": ""
            },
            "colorscale": [
             [
              0,
              "#0d0887"
             ],
             [
              0.1111111111111111,
              "#46039f"
             ],
             [
              0.2222222222222222,
              "#7201a8"
             ],
             [
              0.3333333333333333,
              "#9c179e"
             ],
             [
              0.4444444444444444,
              "#bd3786"
             ],
             [
              0.5555555555555556,
              "#d8576b"
             ],
             [
              0.6666666666666666,
              "#ed7953"
             ],
             [
              0.7777777777777778,
              "#fb9f3a"
             ],
             [
              0.8888888888888888,
              "#fdca26"
             ],
             [
              1,
              "#f0f921"
             ]
            ],
            "type": "heatmapgl"
           }
          ],
          "histogram": [
           {
            "marker": {
             "colorbar": {
              "outlinewidth": 0,
              "ticks": ""
             }
            },
            "type": "histogram"
           }
          ],
          "histogram2d": [
           {
            "colorbar": {
             "outlinewidth": 0,
             "ticks": ""
            },
            "colorscale": [
             [
              0,
              "#0d0887"
             ],
             [
              0.1111111111111111,
              "#46039f"
             ],
             [
              0.2222222222222222,
              "#7201a8"
             ],
             [
              0.3333333333333333,
              "#9c179e"
             ],
             [
              0.4444444444444444,
              "#bd3786"
             ],
             [
              0.5555555555555556,
              "#d8576b"
             ],
             [
              0.6666666666666666,
              "#ed7953"
             ],
             [
              0.7777777777777778,
              "#fb9f3a"
             ],
             [
              0.8888888888888888,
              "#fdca26"
             ],
             [
              1,
              "#f0f921"
             ]
            ],
            "type": "histogram2d"
           }
          ],
          "histogram2dcontour": [
           {
            "colorbar": {
             "outlinewidth": 0,
             "ticks": ""
            },
            "colorscale": [
             [
              0,
              "#0d0887"
             ],
             [
              0.1111111111111111,
              "#46039f"
             ],
             [
              0.2222222222222222,
              "#7201a8"
             ],
             [
              0.3333333333333333,
              "#9c179e"
             ],
             [
              0.4444444444444444,
              "#bd3786"
             ],
             [
              0.5555555555555556,
              "#d8576b"
             ],
             [
              0.6666666666666666,
              "#ed7953"
             ],
             [
              0.7777777777777778,
              "#fb9f3a"
             ],
             [
              0.8888888888888888,
              "#fdca26"
             ],
             [
              1,
              "#f0f921"
             ]
            ],
            "type": "histogram2dcontour"
           }
          ],
          "mesh3d": [
           {
            "colorbar": {
             "outlinewidth": 0,
             "ticks": ""
            },
            "type": "mesh3d"
           }
          ],
          "parcoords": [
           {
            "line": {
             "colorbar": {
              "outlinewidth": 0,
              "ticks": ""
             }
            },
            "type": "parcoords"
           }
          ],
          "pie": [
           {
            "automargin": true,
            "type": "pie"
           }
          ],
          "scatter": [
           {
            "marker": {
             "colorbar": {
              "outlinewidth": 0,
              "ticks": ""
             }
            },
            "type": "scatter"
           }
          ],
          "scatter3d": [
           {
            "line": {
             "colorbar": {
              "outlinewidth": 0,
              "ticks": ""
             }
            },
            "marker": {
             "colorbar": {
              "outlinewidth": 0,
              "ticks": ""
             }
            },
            "type": "scatter3d"
           }
          ],
          "scattercarpet": [
           {
            "marker": {
             "colorbar": {
              "outlinewidth": 0,
              "ticks": ""
             }
            },
            "type": "scattercarpet"
           }
          ],
          "scattergeo": [
           {
            "marker": {
             "colorbar": {
              "outlinewidth": 0,
              "ticks": ""
             }
            },
            "type": "scattergeo"
           }
          ],
          "scattergl": [
           {
            "marker": {
             "colorbar": {
              "outlinewidth": 0,
              "ticks": ""
             }
            },
            "type": "scattergl"
           }
          ],
          "scattermapbox": [
           {
            "marker": {
             "colorbar": {
              "outlinewidth": 0,
              "ticks": ""
             }
            },
            "type": "scattermapbox"
           }
          ],
          "scatterpolar": [
           {
            "marker": {
             "colorbar": {
              "outlinewidth": 0,
              "ticks": ""
             }
            },
            "type": "scatterpolar"
           }
          ],
          "scatterpolargl": [
           {
            "marker": {
             "colorbar": {
              "outlinewidth": 0,
              "ticks": ""
             }
            },
            "type": "scatterpolargl"
           }
          ],
          "scatterternary": [
           {
            "marker": {
             "colorbar": {
              "outlinewidth": 0,
              "ticks": ""
             }
            },
            "type": "scatterternary"
           }
          ],
          "surface": [
           {
            "colorbar": {
             "outlinewidth": 0,
             "ticks": ""
            },
            "colorscale": [
             [
              0,
              "#0d0887"
             ],
             [
              0.1111111111111111,
              "#46039f"
             ],
             [
              0.2222222222222222,
              "#7201a8"
             ],
             [
              0.3333333333333333,
              "#9c179e"
             ],
             [
              0.4444444444444444,
              "#bd3786"
             ],
             [
              0.5555555555555556,
              "#d8576b"
             ],
             [
              0.6666666666666666,
              "#ed7953"
             ],
             [
              0.7777777777777778,
              "#fb9f3a"
             ],
             [
              0.8888888888888888,
              "#fdca26"
             ],
             [
              1,
              "#f0f921"
             ]
            ],
            "type": "surface"
           }
          ],
          "table": [
           {
            "cells": {
             "fill": {
              "color": "#EBF0F8"
             },
             "line": {
              "color": "white"
             }
            },
            "header": {
             "fill": {
              "color": "#C8D4E3"
             },
             "line": {
              "color": "white"
             }
            },
            "type": "table"
           }
          ]
         },
         "layout": {
          "annotationdefaults": {
           "arrowcolor": "#2a3f5f",
           "arrowhead": 0,
           "arrowwidth": 1
          },
          "coloraxis": {
           "colorbar": {
            "outlinewidth": 0,
            "ticks": ""
           }
          },
          "colorscale": {
           "diverging": [
            [
             0,
             "#8e0152"
            ],
            [
             0.1,
             "#c51b7d"
            ],
            [
             0.2,
             "#de77ae"
            ],
            [
             0.3,
             "#f1b6da"
            ],
            [
             0.4,
             "#fde0ef"
            ],
            [
             0.5,
             "#f7f7f7"
            ],
            [
             0.6,
             "#e6f5d0"
            ],
            [
             0.7,
             "#b8e186"
            ],
            [
             0.8,
             "#7fbc41"
            ],
            [
             0.9,
             "#4d9221"
            ],
            [
             1,
             "#276419"
            ]
           ],
           "sequential": [
            [
             0,
             "#0d0887"
            ],
            [
             0.1111111111111111,
             "#46039f"
            ],
            [
             0.2222222222222222,
             "#7201a8"
            ],
            [
             0.3333333333333333,
             "#9c179e"
            ],
            [
             0.4444444444444444,
             "#bd3786"
            ],
            [
             0.5555555555555556,
             "#d8576b"
            ],
            [
             0.6666666666666666,
             "#ed7953"
            ],
            [
             0.7777777777777778,
             "#fb9f3a"
            ],
            [
             0.8888888888888888,
             "#fdca26"
            ],
            [
             1,
             "#f0f921"
            ]
           ],
           "sequentialminus": [
            [
             0,
             "#0d0887"
            ],
            [
             0.1111111111111111,
             "#46039f"
            ],
            [
             0.2222222222222222,
             "#7201a8"
            ],
            [
             0.3333333333333333,
             "#9c179e"
            ],
            [
             0.4444444444444444,
             "#bd3786"
            ],
            [
             0.5555555555555556,
             "#d8576b"
            ],
            [
             0.6666666666666666,
             "#ed7953"
            ],
            [
             0.7777777777777778,
             "#fb9f3a"
            ],
            [
             0.8888888888888888,
             "#fdca26"
            ],
            [
             1,
             "#f0f921"
            ]
           ]
          },
          "colorway": [
           "#636efa",
           "#EF553B",
           "#00cc96",
           "#ab63fa",
           "#FFA15A",
           "#19d3f3",
           "#FF6692",
           "#B6E880",
           "#FF97FF",
           "#FECB52"
          ],
          "font": {
           "color": "#2a3f5f"
          },
          "geo": {
           "bgcolor": "white",
           "lakecolor": "white",
           "landcolor": "#E5ECF6",
           "showlakes": true,
           "showland": true,
           "subunitcolor": "white"
          },
          "hoverlabel": {
           "align": "left"
          },
          "hovermode": "closest",
          "mapbox": {
           "style": "light"
          },
          "paper_bgcolor": "white",
          "plot_bgcolor": "#E5ECF6",
          "polar": {
           "angularaxis": {
            "gridcolor": "white",
            "linecolor": "white",
            "ticks": ""
           },
           "bgcolor": "#E5ECF6",
           "radialaxis": {
            "gridcolor": "white",
            "linecolor": "white",
            "ticks": ""
           }
          },
          "scene": {
           "xaxis": {
            "backgroundcolor": "#E5ECF6",
            "gridcolor": "white",
            "gridwidth": 2,
            "linecolor": "white",
            "showbackground": true,
            "ticks": "",
            "zerolinecolor": "white"
           },
           "yaxis": {
            "backgroundcolor": "#E5ECF6",
            "gridcolor": "white",
            "gridwidth": 2,
            "linecolor": "white",
            "showbackground": true,
            "ticks": "",
            "zerolinecolor": "white"
           },
           "zaxis": {
            "backgroundcolor": "#E5ECF6",
            "gridcolor": "white",
            "gridwidth": 2,
            "linecolor": "white",
            "showbackground": true,
            "ticks": "",
            "zerolinecolor": "white"
           }
          },
          "shapedefaults": {
           "line": {
            "color": "#2a3f5f"
           }
          },
          "ternary": {
           "aaxis": {
            "gridcolor": "white",
            "linecolor": "white",
            "ticks": ""
           },
           "baxis": {
            "gridcolor": "white",
            "linecolor": "white",
            "ticks": ""
           },
           "bgcolor": "#E5ECF6",
           "caxis": {
            "gridcolor": "white",
            "linecolor": "white",
            "ticks": ""
           }
          },
          "title": {
           "x": 0.05
          },
          "xaxis": {
           "automargin": true,
           "gridcolor": "white",
           "linecolor": "white",
           "ticks": "",
           "title": {
            "standoff": 15
           },
           "zerolinecolor": "white",
           "zerolinewidth": 2
          },
          "yaxis": {
           "automargin": true,
           "gridcolor": "white",
           "linecolor": "white",
           "ticks": "",
           "title": {
            "standoff": 15
           },
           "zerolinecolor": "white",
           "zerolinewidth": 2
          }
         }
        },
        "title": {
         "text": "Cases Across Districts of Karnataka"
        },
        "xaxis": {
         "title": {
          "text": "District"
         }
        },
        "yaxis": {
         "title": {
          "text": "Count"
         }
        }
       }
      },
      "text/html": [
       "<div>\n",
       "        \n",
       "        \n",
       "            <div id=\"95729850-d5f3-490a-9da5-a311d244889c\" class=\"plotly-graph-div\" style=\"height:525px; width:100%;\"></div>\n",
       "            <script type=\"text/javascript\">\n",
       "                require([\"plotly\"], function(Plotly) {\n",
       "                    window.PLOTLYENV=window.PLOTLYENV || {};\n",
       "                    \n",
       "                if (document.getElementById(\"95729850-d5f3-490a-9da5-a311d244889c\")) {\n",
       "                    Plotly.newPlot(\n",
       "                        '95729850-d5f3-490a-9da5-a311d244889c',\n",
       "                        [{\"type\": \"bar\", \"x\": [\"Bengaluru Urban\", \"Mysuru\", \"Belagavi\", \"Vijayapura\", \"Kalaburagi\", \"Bagalkote\", \"Dakshina Kannada\", \"Chikkaballapura\", \"Mandya\", \"Bidar\", \"Ballari\", \"Uttara Kannada\", \"Bengaluru Rural\", \"Dharwad\", \"Gadag\", \"Davanagere\", \"Tumakuru\", \"Udupi\", \"Kodagu\"], \"y\": [135, 89, 54, 39, 38, 24, 18, 18, 16, 15, 13, 11, 10, 9, 4, 3, 3, 3, 1]}],\n",
       "                        {\"template\": {\"data\": {\"bar\": [{\"error_x\": {\"color\": \"#2a3f5f\"}, \"error_y\": {\"color\": \"#2a3f5f\"}, \"marker\": {\"line\": {\"color\": \"#E5ECF6\", \"width\": 0.5}}, \"type\": \"bar\"}], \"barpolar\": [{\"marker\": {\"line\": {\"color\": \"#E5ECF6\", \"width\": 0.5}}, \"type\": \"barpolar\"}], \"carpet\": [{\"aaxis\": {\"endlinecolor\": \"#2a3f5f\", \"gridcolor\": \"white\", \"linecolor\": \"white\", \"minorgridcolor\": \"white\", \"startlinecolor\": \"#2a3f5f\"}, \"baxis\": {\"endlinecolor\": \"#2a3f5f\", \"gridcolor\": \"white\", \"linecolor\": \"white\", \"minorgridcolor\": \"white\", \"startlinecolor\": \"#2a3f5f\"}, \"type\": \"carpet\"}], \"choropleth\": [{\"colorbar\": {\"outlinewidth\": 0, \"ticks\": \"\"}, \"type\": \"choropleth\"}], \"contour\": [{\"colorbar\": {\"outlinewidth\": 0, \"ticks\": \"\"}, \"colorscale\": [[0.0, \"#0d0887\"], [0.1111111111111111, \"#46039f\"], [0.2222222222222222, \"#7201a8\"], [0.3333333333333333, \"#9c179e\"], [0.4444444444444444, \"#bd3786\"], [0.5555555555555556, \"#d8576b\"], [0.6666666666666666, \"#ed7953\"], [0.7777777777777778, \"#fb9f3a\"], [0.8888888888888888, \"#fdca26\"], [1.0, \"#f0f921\"]], \"type\": \"contour\"}], \"contourcarpet\": [{\"colorbar\": {\"outlinewidth\": 0, \"ticks\": \"\"}, \"type\": \"contourcarpet\"}], \"heatmap\": [{\"colorbar\": {\"outlinewidth\": 0, \"ticks\": \"\"}, \"colorscale\": [[0.0, \"#0d0887\"], [0.1111111111111111, \"#46039f\"], [0.2222222222222222, \"#7201a8\"], [0.3333333333333333, \"#9c179e\"], [0.4444444444444444, \"#bd3786\"], [0.5555555555555556, \"#d8576b\"], [0.6666666666666666, \"#ed7953\"], [0.7777777777777778, \"#fb9f3a\"], [0.8888888888888888, \"#fdca26\"], [1.0, \"#f0f921\"]], \"type\": \"heatmap\"}], \"heatmapgl\": [{\"colorbar\": {\"outlinewidth\": 0, \"ticks\": \"\"}, \"colorscale\": [[0.0, \"#0d0887\"], [0.1111111111111111, \"#46039f\"], [0.2222222222222222, \"#7201a8\"], [0.3333333333333333, \"#9c179e\"], [0.4444444444444444, \"#bd3786\"], [0.5555555555555556, \"#d8576b\"], [0.6666666666666666, \"#ed7953\"], [0.7777777777777778, \"#fb9f3a\"], [0.8888888888888888, \"#fdca26\"], [1.0, \"#f0f921\"]], \"type\": \"heatmapgl\"}], \"histogram\": [{\"marker\": {\"colorbar\": {\"outlinewidth\": 0, \"ticks\": \"\"}}, \"type\": \"histogram\"}], \"histogram2d\": [{\"colorbar\": {\"outlinewidth\": 0, \"ticks\": \"\"}, \"colorscale\": [[0.0, \"#0d0887\"], [0.1111111111111111, \"#46039f\"], [0.2222222222222222, \"#7201a8\"], [0.3333333333333333, \"#9c179e\"], [0.4444444444444444, \"#bd3786\"], [0.5555555555555556, \"#d8576b\"], [0.6666666666666666, \"#ed7953\"], [0.7777777777777778, \"#fb9f3a\"], [0.8888888888888888, \"#fdca26\"], [1.0, \"#f0f921\"]], \"type\": \"histogram2d\"}], \"histogram2dcontour\": [{\"colorbar\": {\"outlinewidth\": 0, \"ticks\": \"\"}, \"colorscale\": [[0.0, \"#0d0887\"], [0.1111111111111111, \"#46039f\"], [0.2222222222222222, \"#7201a8\"], [0.3333333333333333, \"#9c179e\"], [0.4444444444444444, \"#bd3786\"], [0.5555555555555556, \"#d8576b\"], [0.6666666666666666, \"#ed7953\"], [0.7777777777777778, \"#fb9f3a\"], [0.8888888888888888, \"#fdca26\"], [1.0, \"#f0f921\"]], \"type\": \"histogram2dcontour\"}], \"mesh3d\": [{\"colorbar\": {\"outlinewidth\": 0, \"ticks\": \"\"}, \"type\": \"mesh3d\"}], \"parcoords\": [{\"line\": {\"colorbar\": {\"outlinewidth\": 0, \"ticks\": \"\"}}, \"type\": \"parcoords\"}], \"pie\": [{\"automargin\": true, \"type\": \"pie\"}], \"scatter\": [{\"marker\": {\"colorbar\": {\"outlinewidth\": 0, \"ticks\": \"\"}}, \"type\": \"scatter\"}], \"scatter3d\": [{\"line\": {\"colorbar\": {\"outlinewidth\": 0, \"ticks\": \"\"}}, \"marker\": {\"colorbar\": {\"outlinewidth\": 0, \"ticks\": \"\"}}, \"type\": \"scatter3d\"}], \"scattercarpet\": [{\"marker\": {\"colorbar\": {\"outlinewidth\": 0, \"ticks\": \"\"}}, \"type\": \"scattercarpet\"}], \"scattergeo\": [{\"marker\": {\"colorbar\": {\"outlinewidth\": 0, \"ticks\": \"\"}}, \"type\": \"scattergeo\"}], \"scattergl\": [{\"marker\": {\"colorbar\": {\"outlinewidth\": 0, \"ticks\": \"\"}}, \"type\": \"scattergl\"}], \"scattermapbox\": [{\"marker\": {\"colorbar\": {\"outlinewidth\": 0, \"ticks\": \"\"}}, \"type\": \"scattermapbox\"}], \"scatterpolar\": [{\"marker\": {\"colorbar\": {\"outlinewidth\": 0, \"ticks\": \"\"}}, \"type\": \"scatterpolar\"}], \"scatterpolargl\": [{\"marker\": {\"colorbar\": {\"outlinewidth\": 0, \"ticks\": \"\"}}, \"type\": \"scatterpolargl\"}], \"scatterternary\": [{\"marker\": {\"colorbar\": {\"outlinewidth\": 0, \"ticks\": \"\"}}, \"type\": \"scatterternary\"}], \"surface\": [{\"colorbar\": {\"outlinewidth\": 0, \"ticks\": \"\"}, \"colorscale\": [[0.0, \"#0d0887\"], [0.1111111111111111, \"#46039f\"], [0.2222222222222222, \"#7201a8\"], [0.3333333333333333, \"#9c179e\"], [0.4444444444444444, \"#bd3786\"], [0.5555555555555556, \"#d8576b\"], [0.6666666666666666, \"#ed7953\"], [0.7777777777777778, \"#fb9f3a\"], [0.8888888888888888, \"#fdca26\"], [1.0, \"#f0f921\"]], \"type\": \"surface\"}], \"table\": [{\"cells\": {\"fill\": {\"color\": \"#EBF0F8\"}, \"line\": {\"color\": \"white\"}}, \"header\": {\"fill\": {\"color\": \"#C8D4E3\"}, \"line\": {\"color\": \"white\"}}, \"type\": \"table\"}]}, \"layout\": {\"annotationdefaults\": {\"arrowcolor\": \"#2a3f5f\", \"arrowhead\": 0, \"arrowwidth\": 1}, \"coloraxis\": {\"colorbar\": {\"outlinewidth\": 0, \"ticks\": \"\"}}, \"colorscale\": {\"diverging\": [[0, \"#8e0152\"], [0.1, \"#c51b7d\"], [0.2, \"#de77ae\"], [0.3, \"#f1b6da\"], [0.4, \"#fde0ef\"], [0.5, \"#f7f7f7\"], [0.6, \"#e6f5d0\"], [0.7, \"#b8e186\"], [0.8, \"#7fbc41\"], [0.9, \"#4d9221\"], [1, \"#276419\"]], \"sequential\": [[0.0, \"#0d0887\"], [0.1111111111111111, \"#46039f\"], [0.2222222222222222, \"#7201a8\"], [0.3333333333333333, \"#9c179e\"], [0.4444444444444444, \"#bd3786\"], [0.5555555555555556, \"#d8576b\"], [0.6666666666666666, \"#ed7953\"], [0.7777777777777778, \"#fb9f3a\"], [0.8888888888888888, \"#fdca26\"], [1.0, \"#f0f921\"]], \"sequentialminus\": [[0.0, \"#0d0887\"], [0.1111111111111111, \"#46039f\"], [0.2222222222222222, \"#7201a8\"], [0.3333333333333333, \"#9c179e\"], [0.4444444444444444, \"#bd3786\"], [0.5555555555555556, \"#d8576b\"], [0.6666666666666666, \"#ed7953\"], [0.7777777777777778, \"#fb9f3a\"], [0.8888888888888888, \"#fdca26\"], [1.0, \"#f0f921\"]]}, \"colorway\": [\"#636efa\", \"#EF553B\", \"#00cc96\", \"#ab63fa\", \"#FFA15A\", \"#19d3f3\", \"#FF6692\", \"#B6E880\", \"#FF97FF\", \"#FECB52\"], \"font\": {\"color\": \"#2a3f5f\"}, \"geo\": {\"bgcolor\": \"white\", \"lakecolor\": \"white\", \"landcolor\": \"#E5ECF6\", \"showlakes\": true, \"showland\": true, \"subunitcolor\": \"white\"}, \"hoverlabel\": {\"align\": \"left\"}, \"hovermode\": \"closest\", \"mapbox\": {\"style\": \"light\"}, \"paper_bgcolor\": \"white\", \"plot_bgcolor\": \"#E5ECF6\", \"polar\": {\"angularaxis\": {\"gridcolor\": \"white\", \"linecolor\": \"white\", \"ticks\": \"\"}, \"bgcolor\": \"#E5ECF6\", \"radialaxis\": {\"gridcolor\": \"white\", \"linecolor\": \"white\", \"ticks\": \"\"}}, \"scene\": {\"xaxis\": {\"backgroundcolor\": \"#E5ECF6\", \"gridcolor\": \"white\", \"gridwidth\": 2, \"linecolor\": \"white\", \"showbackground\": true, \"ticks\": \"\", \"zerolinecolor\": \"white\"}, \"yaxis\": {\"backgroundcolor\": \"#E5ECF6\", \"gridcolor\": \"white\", \"gridwidth\": 2, \"linecolor\": \"white\", \"showbackground\": true, \"ticks\": \"\", \"zerolinecolor\": \"white\"}, \"zaxis\": {\"backgroundcolor\": \"#E5ECF6\", \"gridcolor\": \"white\", \"gridwidth\": 2, \"linecolor\": \"white\", \"showbackground\": true, \"ticks\": \"\", \"zerolinecolor\": \"white\"}}, \"shapedefaults\": {\"line\": {\"color\": \"#2a3f5f\"}}, \"ternary\": {\"aaxis\": {\"gridcolor\": \"white\", \"linecolor\": \"white\", \"ticks\": \"\"}, \"baxis\": {\"gridcolor\": \"white\", \"linecolor\": \"white\", \"ticks\": \"\"}, \"bgcolor\": \"#E5ECF6\", \"caxis\": {\"gridcolor\": \"white\", \"linecolor\": \"white\", \"ticks\": \"\"}}, \"title\": {\"x\": 0.05}, \"xaxis\": {\"automargin\": true, \"gridcolor\": \"white\", \"linecolor\": \"white\", \"ticks\": \"\", \"title\": {\"standoff\": 15}, \"zerolinecolor\": \"white\", \"zerolinewidth\": 2}, \"yaxis\": {\"automargin\": true, \"gridcolor\": \"white\", \"linecolor\": \"white\", \"ticks\": \"\", \"title\": {\"standoff\": 15}, \"zerolinecolor\": \"white\", \"zerolinewidth\": 2}}}, \"title\": {\"text\": \"Cases Across Districts of Karnataka\"}, \"xaxis\": {\"title\": {\"text\": \"District\"}}, \"yaxis\": {\"title\": {\"text\": \"Count\"}}},\n",
       "                        {\"responsive\": true}\n",
       "                    ).then(function(){\n",
       "                            \n",
       "var gd = document.getElementById('95729850-d5f3-490a-9da5-a311d244889c');\n",
       "var x = new MutationObserver(function (mutations, observer) {{\n",
       "        var display = window.getComputedStyle(gd).display;\n",
       "        if (!display || display === 'none') {{\n",
       "            console.log([gd, 'removed!']);\n",
       "            Plotly.purge(gd);\n",
       "            observer.disconnect();\n",
       "        }}\n",
       "}});\n",
       "\n",
       "// Listen for the removal of the full notebook cells\n",
       "var notebookContainer = gd.closest('#notebook-container');\n",
       "if (notebookContainer) {{\n",
       "    x.observe(notebookContainer, {childList: true});\n",
       "}}\n",
       "\n",
       "// Listen for the clearing of the current output cell\n",
       "var outputEl = gd.closest('.output');\n",
       "if (outputEl) {{\n",
       "    x.observe(outputEl, {childList: true});\n",
       "}}\n",
       "\n",
       "                        })\n",
       "                };\n",
       "                });\n",
       "            </script>\n",
       "        </div>"
      ]
     },
     "metadata": {},
     "output_type": "display_data"
    }
   ],
   "source": [
    "karnataka_district_count = Karnataka.groupby('detected_district')['detected_district'].count().sort_values(ascending=False).to_frame()\n",
    "karnataka_district_count.columns = ['Count']\n",
    "fig = go.Figure(data=(go.Bar(x=karnataka_district_count.index,y=karnataka_district_count['Count'])))\n",
    "fig.update_layout(title=\"Cases Across Districts of Karnataka\",xaxis=dict(title=\"District\"),yaxis=dict(title=\"Count\"))"
   ]
  },
  {
   "cell_type": "markdown",
   "metadata": {},
   "source": [
    "Bengaluru, Mysuru, Belagavi,Vijayapura and Kalaburagi seem to have high number of cases."
   ]
  },
  {
   "cell_type": "code",
   "execution_count": 44,
   "metadata": {},
   "outputs": [],
   "source": [
    "Karnataka['detected_city'].replace({\"Nanjangud\":\"Nanjanagudu\"},inplace=True)"
   ]
  },
  {
   "cell_type": "code",
   "execution_count": 45,
   "metadata": {},
   "outputs": [
    {
     "data": {
      "application/vnd.plotly.v1+json": {
       "config": {
        "plotlyServerURL": "https://plot.ly"
       },
       "data": [
        {
         "type": "bar",
         "x": [
          "Bengaluru",
          "Nanjanagudu",
          "Hirebagewadi",
          "Raibagh",
          "Mudhol",
          "Hospete",
          "Bhatkal",
          "Malavalli",
          "Gauribidanur",
          "Kalaburagi",
          "Hubballi",
          "Mangaluru",
          "Hospet",
          "Hubli",
          "Raibag",
          "Bengaluru ",
          "Gowribidanur",
          "Jamalpur",
          "Davangere",
          "Bidar",
          "Bantwala",
          "Uppinangadi",
          "Jamakhandi",
          "Mysuru",
          "Raibhag",
          "Udupi",
          "Chikkaballapura",
          "Bantwal",
          "Tumkur",
          "Basavakalyan",
          "Bellary",
          "Shahgunj",
          "Shahbad",
          "Puttur",
          "Bilal Colony",
          "Chikkodi",
          "Jamkhandi",
          "Panemangalore",
          "Doddaballapura",
          "Nanjangudu",
          "Golekbana",
          "Malvalli",
          "Hosayellapur",
          "Lalwani Rd",
          "Kodagu",
          "Kiramani Colony",
          "Bagewadi"
         ],
         "y": [
          47,
          40,
          12,
          10,
          8,
          8,
          7,
          7,
          6,
          5,
          4,
          4,
          3,
          3,
          3,
          3,
          2,
          2,
          2,
          2,
          2,
          2,
          2,
          2,
          2,
          1,
          1,
          1,
          1,
          1,
          1,
          1,
          1,
          1,
          1,
          1,
          1,
          1,
          1,
          1,
          1,
          1,
          1,
          1,
          1,
          1,
          1
         ]
        }
       ],
       "layout": {
        "template": {
         "data": {
          "bar": [
           {
            "error_x": {
             "color": "#2a3f5f"
            },
            "error_y": {
             "color": "#2a3f5f"
            },
            "marker": {
             "line": {
              "color": "#E5ECF6",
              "width": 0.5
             }
            },
            "type": "bar"
           }
          ],
          "barpolar": [
           {
            "marker": {
             "line": {
              "color": "#E5ECF6",
              "width": 0.5
             }
            },
            "type": "barpolar"
           }
          ],
          "carpet": [
           {
            "aaxis": {
             "endlinecolor": "#2a3f5f",
             "gridcolor": "white",
             "linecolor": "white",
             "minorgridcolor": "white",
             "startlinecolor": "#2a3f5f"
            },
            "baxis": {
             "endlinecolor": "#2a3f5f",
             "gridcolor": "white",
             "linecolor": "white",
             "minorgridcolor": "white",
             "startlinecolor": "#2a3f5f"
            },
            "type": "carpet"
           }
          ],
          "choropleth": [
           {
            "colorbar": {
             "outlinewidth": 0,
             "ticks": ""
            },
            "type": "choropleth"
           }
          ],
          "contour": [
           {
            "colorbar": {
             "outlinewidth": 0,
             "ticks": ""
            },
            "colorscale": [
             [
              0,
              "#0d0887"
             ],
             [
              0.1111111111111111,
              "#46039f"
             ],
             [
              0.2222222222222222,
              "#7201a8"
             ],
             [
              0.3333333333333333,
              "#9c179e"
             ],
             [
              0.4444444444444444,
              "#bd3786"
             ],
             [
              0.5555555555555556,
              "#d8576b"
             ],
             [
              0.6666666666666666,
              "#ed7953"
             ],
             [
              0.7777777777777778,
              "#fb9f3a"
             ],
             [
              0.8888888888888888,
              "#fdca26"
             ],
             [
              1,
              "#f0f921"
             ]
            ],
            "type": "contour"
           }
          ],
          "contourcarpet": [
           {
            "colorbar": {
             "outlinewidth": 0,
             "ticks": ""
            },
            "type": "contourcarpet"
           }
          ],
          "heatmap": [
           {
            "colorbar": {
             "outlinewidth": 0,
             "ticks": ""
            },
            "colorscale": [
             [
              0,
              "#0d0887"
             ],
             [
              0.1111111111111111,
              "#46039f"
             ],
             [
              0.2222222222222222,
              "#7201a8"
             ],
             [
              0.3333333333333333,
              "#9c179e"
             ],
             [
              0.4444444444444444,
              "#bd3786"
             ],
             [
              0.5555555555555556,
              "#d8576b"
             ],
             [
              0.6666666666666666,
              "#ed7953"
             ],
             [
              0.7777777777777778,
              "#fb9f3a"
             ],
             [
              0.8888888888888888,
              "#fdca26"
             ],
             [
              1,
              "#f0f921"
             ]
            ],
            "type": "heatmap"
           }
          ],
          "heatmapgl": [
           {
            "colorbar": {
             "outlinewidth": 0,
             "ticks": ""
            },
            "colorscale": [
             [
              0,
              "#0d0887"
             ],
             [
              0.1111111111111111,
              "#46039f"
             ],
             [
              0.2222222222222222,
              "#7201a8"
             ],
             [
              0.3333333333333333,
              "#9c179e"
             ],
             [
              0.4444444444444444,
              "#bd3786"
             ],
             [
              0.5555555555555556,
              "#d8576b"
             ],
             [
              0.6666666666666666,
              "#ed7953"
             ],
             [
              0.7777777777777778,
              "#fb9f3a"
             ],
             [
              0.8888888888888888,
              "#fdca26"
             ],
             [
              1,
              "#f0f921"
             ]
            ],
            "type": "heatmapgl"
           }
          ],
          "histogram": [
           {
            "marker": {
             "colorbar": {
              "outlinewidth": 0,
              "ticks": ""
             }
            },
            "type": "histogram"
           }
          ],
          "histogram2d": [
           {
            "colorbar": {
             "outlinewidth": 0,
             "ticks": ""
            },
            "colorscale": [
             [
              0,
              "#0d0887"
             ],
             [
              0.1111111111111111,
              "#46039f"
             ],
             [
              0.2222222222222222,
              "#7201a8"
             ],
             [
              0.3333333333333333,
              "#9c179e"
             ],
             [
              0.4444444444444444,
              "#bd3786"
             ],
             [
              0.5555555555555556,
              "#d8576b"
             ],
             [
              0.6666666666666666,
              "#ed7953"
             ],
             [
              0.7777777777777778,
              "#fb9f3a"
             ],
             [
              0.8888888888888888,
              "#fdca26"
             ],
             [
              1,
              "#f0f921"
             ]
            ],
            "type": "histogram2d"
           }
          ],
          "histogram2dcontour": [
           {
            "colorbar": {
             "outlinewidth": 0,
             "ticks": ""
            },
            "colorscale": [
             [
              0,
              "#0d0887"
             ],
             [
              0.1111111111111111,
              "#46039f"
             ],
             [
              0.2222222222222222,
              "#7201a8"
             ],
             [
              0.3333333333333333,
              "#9c179e"
             ],
             [
              0.4444444444444444,
              "#bd3786"
             ],
             [
              0.5555555555555556,
              "#d8576b"
             ],
             [
              0.6666666666666666,
              "#ed7953"
             ],
             [
              0.7777777777777778,
              "#fb9f3a"
             ],
             [
              0.8888888888888888,
              "#fdca26"
             ],
             [
              1,
              "#f0f921"
             ]
            ],
            "type": "histogram2dcontour"
           }
          ],
          "mesh3d": [
           {
            "colorbar": {
             "outlinewidth": 0,
             "ticks": ""
            },
            "type": "mesh3d"
           }
          ],
          "parcoords": [
           {
            "line": {
             "colorbar": {
              "outlinewidth": 0,
              "ticks": ""
             }
            },
            "type": "parcoords"
           }
          ],
          "pie": [
           {
            "automargin": true,
            "type": "pie"
           }
          ],
          "scatter": [
           {
            "marker": {
             "colorbar": {
              "outlinewidth": 0,
              "ticks": ""
             }
            },
            "type": "scatter"
           }
          ],
          "scatter3d": [
           {
            "line": {
             "colorbar": {
              "outlinewidth": 0,
              "ticks": ""
             }
            },
            "marker": {
             "colorbar": {
              "outlinewidth": 0,
              "ticks": ""
             }
            },
            "type": "scatter3d"
           }
          ],
          "scattercarpet": [
           {
            "marker": {
             "colorbar": {
              "outlinewidth": 0,
              "ticks": ""
             }
            },
            "type": "scattercarpet"
           }
          ],
          "scattergeo": [
           {
            "marker": {
             "colorbar": {
              "outlinewidth": 0,
              "ticks": ""
             }
            },
            "type": "scattergeo"
           }
          ],
          "scattergl": [
           {
            "marker": {
             "colorbar": {
              "outlinewidth": 0,
              "ticks": ""
             }
            },
            "type": "scattergl"
           }
          ],
          "scattermapbox": [
           {
            "marker": {
             "colorbar": {
              "outlinewidth": 0,
              "ticks": ""
             }
            },
            "type": "scattermapbox"
           }
          ],
          "scatterpolar": [
           {
            "marker": {
             "colorbar": {
              "outlinewidth": 0,
              "ticks": ""
             }
            },
            "type": "scatterpolar"
           }
          ],
          "scatterpolargl": [
           {
            "marker": {
             "colorbar": {
              "outlinewidth": 0,
              "ticks": ""
             }
            },
            "type": "scatterpolargl"
           }
          ],
          "scatterternary": [
           {
            "marker": {
             "colorbar": {
              "outlinewidth": 0,
              "ticks": ""
             }
            },
            "type": "scatterternary"
           }
          ],
          "surface": [
           {
            "colorbar": {
             "outlinewidth": 0,
             "ticks": ""
            },
            "colorscale": [
             [
              0,
              "#0d0887"
             ],
             [
              0.1111111111111111,
              "#46039f"
             ],
             [
              0.2222222222222222,
              "#7201a8"
             ],
             [
              0.3333333333333333,
              "#9c179e"
             ],
             [
              0.4444444444444444,
              "#bd3786"
             ],
             [
              0.5555555555555556,
              "#d8576b"
             ],
             [
              0.6666666666666666,
              "#ed7953"
             ],
             [
              0.7777777777777778,
              "#fb9f3a"
             ],
             [
              0.8888888888888888,
              "#fdca26"
             ],
             [
              1,
              "#f0f921"
             ]
            ],
            "type": "surface"
           }
          ],
          "table": [
           {
            "cells": {
             "fill": {
              "color": "#EBF0F8"
             },
             "line": {
              "color": "white"
             }
            },
            "header": {
             "fill": {
              "color": "#C8D4E3"
             },
             "line": {
              "color": "white"
             }
            },
            "type": "table"
           }
          ]
         },
         "layout": {
          "annotationdefaults": {
           "arrowcolor": "#2a3f5f",
           "arrowhead": 0,
           "arrowwidth": 1
          },
          "coloraxis": {
           "colorbar": {
            "outlinewidth": 0,
            "ticks": ""
           }
          },
          "colorscale": {
           "diverging": [
            [
             0,
             "#8e0152"
            ],
            [
             0.1,
             "#c51b7d"
            ],
            [
             0.2,
             "#de77ae"
            ],
            [
             0.3,
             "#f1b6da"
            ],
            [
             0.4,
             "#fde0ef"
            ],
            [
             0.5,
             "#f7f7f7"
            ],
            [
             0.6,
             "#e6f5d0"
            ],
            [
             0.7,
             "#b8e186"
            ],
            [
             0.8,
             "#7fbc41"
            ],
            [
             0.9,
             "#4d9221"
            ],
            [
             1,
             "#276419"
            ]
           ],
           "sequential": [
            [
             0,
             "#0d0887"
            ],
            [
             0.1111111111111111,
             "#46039f"
            ],
            [
             0.2222222222222222,
             "#7201a8"
            ],
            [
             0.3333333333333333,
             "#9c179e"
            ],
            [
             0.4444444444444444,
             "#bd3786"
            ],
            [
             0.5555555555555556,
             "#d8576b"
            ],
            [
             0.6666666666666666,
             "#ed7953"
            ],
            [
             0.7777777777777778,
             "#fb9f3a"
            ],
            [
             0.8888888888888888,
             "#fdca26"
            ],
            [
             1,
             "#f0f921"
            ]
           ],
           "sequentialminus": [
            [
             0,
             "#0d0887"
            ],
            [
             0.1111111111111111,
             "#46039f"
            ],
            [
             0.2222222222222222,
             "#7201a8"
            ],
            [
             0.3333333333333333,
             "#9c179e"
            ],
            [
             0.4444444444444444,
             "#bd3786"
            ],
            [
             0.5555555555555556,
             "#d8576b"
            ],
            [
             0.6666666666666666,
             "#ed7953"
            ],
            [
             0.7777777777777778,
             "#fb9f3a"
            ],
            [
             0.8888888888888888,
             "#fdca26"
            ],
            [
             1,
             "#f0f921"
            ]
           ]
          },
          "colorway": [
           "#636efa",
           "#EF553B",
           "#00cc96",
           "#ab63fa",
           "#FFA15A",
           "#19d3f3",
           "#FF6692",
           "#B6E880",
           "#FF97FF",
           "#FECB52"
          ],
          "font": {
           "color": "#2a3f5f"
          },
          "geo": {
           "bgcolor": "white",
           "lakecolor": "white",
           "landcolor": "#E5ECF6",
           "showlakes": true,
           "showland": true,
           "subunitcolor": "white"
          },
          "hoverlabel": {
           "align": "left"
          },
          "hovermode": "closest",
          "mapbox": {
           "style": "light"
          },
          "paper_bgcolor": "white",
          "plot_bgcolor": "#E5ECF6",
          "polar": {
           "angularaxis": {
            "gridcolor": "white",
            "linecolor": "white",
            "ticks": ""
           },
           "bgcolor": "#E5ECF6",
           "radialaxis": {
            "gridcolor": "white",
            "linecolor": "white",
            "ticks": ""
           }
          },
          "scene": {
           "xaxis": {
            "backgroundcolor": "#E5ECF6",
            "gridcolor": "white",
            "gridwidth": 2,
            "linecolor": "white",
            "showbackground": true,
            "ticks": "",
            "zerolinecolor": "white"
           },
           "yaxis": {
            "backgroundcolor": "#E5ECF6",
            "gridcolor": "white",
            "gridwidth": 2,
            "linecolor": "white",
            "showbackground": true,
            "ticks": "",
            "zerolinecolor": "white"
           },
           "zaxis": {
            "backgroundcolor": "#E5ECF6",
            "gridcolor": "white",
            "gridwidth": 2,
            "linecolor": "white",
            "showbackground": true,
            "ticks": "",
            "zerolinecolor": "white"
           }
          },
          "shapedefaults": {
           "line": {
            "color": "#2a3f5f"
           }
          },
          "ternary": {
           "aaxis": {
            "gridcolor": "white",
            "linecolor": "white",
            "ticks": ""
           },
           "baxis": {
            "gridcolor": "white",
            "linecolor": "white",
            "ticks": ""
           },
           "bgcolor": "#E5ECF6",
           "caxis": {
            "gridcolor": "white",
            "linecolor": "white",
            "ticks": ""
           }
          },
          "title": {
           "x": 0.05
          },
          "xaxis": {
           "automargin": true,
           "gridcolor": "white",
           "linecolor": "white",
           "ticks": "",
           "title": {
            "standoff": 15
           },
           "zerolinecolor": "white",
           "zerolinewidth": 2
          },
          "yaxis": {
           "automargin": true,
           "gridcolor": "white",
           "linecolor": "white",
           "ticks": "",
           "title": {
            "standoff": 15
           },
           "zerolinecolor": "white",
           "zerolinewidth": 2
          }
         }
        },
        "title": {
         "text": "Cases Across Cities of Karnataka"
        },
        "xaxis": {
         "title": {
          "text": "City"
         }
        },
        "yaxis": {
         "title": {
          "text": "Count"
         }
        }
       }
      },
      "text/html": [
       "<div>\n",
       "        \n",
       "        \n",
       "            <div id=\"ec26caae-79af-463b-9dd3-7dbe365f0439\" class=\"plotly-graph-div\" style=\"height:525px; width:100%;\"></div>\n",
       "            <script type=\"text/javascript\">\n",
       "                require([\"plotly\"], function(Plotly) {\n",
       "                    window.PLOTLYENV=window.PLOTLYENV || {};\n",
       "                    \n",
       "                if (document.getElementById(\"ec26caae-79af-463b-9dd3-7dbe365f0439\")) {\n",
       "                    Plotly.newPlot(\n",
       "                        'ec26caae-79af-463b-9dd3-7dbe365f0439',\n",
       "                        [{\"type\": \"bar\", \"x\": [\"Bengaluru\", \"Nanjanagudu\", \"Hirebagewadi\", \"Raibagh\", \"Mudhol\", \"Hospete\", \"Bhatkal\", \"Malavalli\", \"Gauribidanur\", \"Kalaburagi\", \"Hubballi\", \"Mangaluru\", \"Hospet\", \"Hubli\", \"Raibag\", \"Bengaluru \", \"Gowribidanur\", \"Jamalpur\", \"Davangere\", \"Bidar\", \"Bantwala\", \"Uppinangadi\", \"Jamakhandi\", \"Mysuru\", \"Raibhag\", \"Udupi\", \"Chikkaballapura\", \"Bantwal\", \"Tumkur\", \"Basavakalyan\", \"Bellary\", \"Shahgunj\", \"Shahbad\", \"Puttur\", \"Bilal Colony\", \"Chikkodi\", \"Jamkhandi\", \"Panemangalore\", \"Doddaballapura\", \"Nanjangudu\", \"Golekbana\", \"Malvalli\", \"Hosayellapur\", \"Lalwani Rd\", \"Kodagu\", \"Kiramani Colony\", \"Bagewadi\"], \"y\": [47, 40, 12, 10, 8, 8, 7, 7, 6, 5, 4, 4, 3, 3, 3, 3, 2, 2, 2, 2, 2, 2, 2, 2, 2, 1, 1, 1, 1, 1, 1, 1, 1, 1, 1, 1, 1, 1, 1, 1, 1, 1, 1, 1, 1, 1, 1]}],\n",
       "                        {\"template\": {\"data\": {\"bar\": [{\"error_x\": {\"color\": \"#2a3f5f\"}, \"error_y\": {\"color\": \"#2a3f5f\"}, \"marker\": {\"line\": {\"color\": \"#E5ECF6\", \"width\": 0.5}}, \"type\": \"bar\"}], \"barpolar\": [{\"marker\": {\"line\": {\"color\": \"#E5ECF6\", \"width\": 0.5}}, \"type\": \"barpolar\"}], \"carpet\": [{\"aaxis\": {\"endlinecolor\": \"#2a3f5f\", \"gridcolor\": \"white\", \"linecolor\": \"white\", \"minorgridcolor\": \"white\", \"startlinecolor\": \"#2a3f5f\"}, \"baxis\": {\"endlinecolor\": \"#2a3f5f\", \"gridcolor\": \"white\", \"linecolor\": \"white\", \"minorgridcolor\": \"white\", \"startlinecolor\": \"#2a3f5f\"}, \"type\": \"carpet\"}], \"choropleth\": [{\"colorbar\": {\"outlinewidth\": 0, \"ticks\": \"\"}, \"type\": \"choropleth\"}], \"contour\": [{\"colorbar\": {\"outlinewidth\": 0, \"ticks\": \"\"}, \"colorscale\": [[0.0, \"#0d0887\"], [0.1111111111111111, \"#46039f\"], [0.2222222222222222, \"#7201a8\"], [0.3333333333333333, \"#9c179e\"], [0.4444444444444444, \"#bd3786\"], [0.5555555555555556, \"#d8576b\"], [0.6666666666666666, \"#ed7953\"], [0.7777777777777778, \"#fb9f3a\"], [0.8888888888888888, \"#fdca26\"], [1.0, \"#f0f921\"]], \"type\": \"contour\"}], \"contourcarpet\": [{\"colorbar\": {\"outlinewidth\": 0, \"ticks\": \"\"}, \"type\": \"contourcarpet\"}], \"heatmap\": [{\"colorbar\": {\"outlinewidth\": 0, \"ticks\": \"\"}, \"colorscale\": [[0.0, \"#0d0887\"], [0.1111111111111111, \"#46039f\"], [0.2222222222222222, \"#7201a8\"], [0.3333333333333333, \"#9c179e\"], [0.4444444444444444, \"#bd3786\"], [0.5555555555555556, \"#d8576b\"], [0.6666666666666666, \"#ed7953\"], [0.7777777777777778, \"#fb9f3a\"], [0.8888888888888888, \"#fdca26\"], [1.0, \"#f0f921\"]], \"type\": \"heatmap\"}], \"heatmapgl\": [{\"colorbar\": {\"outlinewidth\": 0, \"ticks\": \"\"}, \"colorscale\": [[0.0, \"#0d0887\"], [0.1111111111111111, \"#46039f\"], [0.2222222222222222, \"#7201a8\"], [0.3333333333333333, \"#9c179e\"], [0.4444444444444444, \"#bd3786\"], [0.5555555555555556, \"#d8576b\"], [0.6666666666666666, \"#ed7953\"], [0.7777777777777778, \"#fb9f3a\"], [0.8888888888888888, \"#fdca26\"], [1.0, \"#f0f921\"]], \"type\": \"heatmapgl\"}], \"histogram\": [{\"marker\": {\"colorbar\": {\"outlinewidth\": 0, \"ticks\": \"\"}}, \"type\": \"histogram\"}], \"histogram2d\": [{\"colorbar\": {\"outlinewidth\": 0, \"ticks\": \"\"}, \"colorscale\": [[0.0, \"#0d0887\"], [0.1111111111111111, \"#46039f\"], [0.2222222222222222, \"#7201a8\"], [0.3333333333333333, \"#9c179e\"], [0.4444444444444444, \"#bd3786\"], [0.5555555555555556, \"#d8576b\"], [0.6666666666666666, \"#ed7953\"], [0.7777777777777778, \"#fb9f3a\"], [0.8888888888888888, \"#fdca26\"], [1.0, \"#f0f921\"]], \"type\": \"histogram2d\"}], \"histogram2dcontour\": [{\"colorbar\": {\"outlinewidth\": 0, \"ticks\": \"\"}, \"colorscale\": [[0.0, \"#0d0887\"], [0.1111111111111111, \"#46039f\"], [0.2222222222222222, \"#7201a8\"], [0.3333333333333333, \"#9c179e\"], [0.4444444444444444, \"#bd3786\"], [0.5555555555555556, \"#d8576b\"], [0.6666666666666666, \"#ed7953\"], [0.7777777777777778, \"#fb9f3a\"], [0.8888888888888888, \"#fdca26\"], [1.0, \"#f0f921\"]], \"type\": \"histogram2dcontour\"}], \"mesh3d\": [{\"colorbar\": {\"outlinewidth\": 0, \"ticks\": \"\"}, \"type\": \"mesh3d\"}], \"parcoords\": [{\"line\": {\"colorbar\": {\"outlinewidth\": 0, \"ticks\": \"\"}}, \"type\": \"parcoords\"}], \"pie\": [{\"automargin\": true, \"type\": \"pie\"}], \"scatter\": [{\"marker\": {\"colorbar\": {\"outlinewidth\": 0, \"ticks\": \"\"}}, \"type\": \"scatter\"}], \"scatter3d\": [{\"line\": {\"colorbar\": {\"outlinewidth\": 0, \"ticks\": \"\"}}, \"marker\": {\"colorbar\": {\"outlinewidth\": 0, \"ticks\": \"\"}}, \"type\": \"scatter3d\"}], \"scattercarpet\": [{\"marker\": {\"colorbar\": {\"outlinewidth\": 0, \"ticks\": \"\"}}, \"type\": \"scattercarpet\"}], \"scattergeo\": [{\"marker\": {\"colorbar\": {\"outlinewidth\": 0, \"ticks\": \"\"}}, \"type\": \"scattergeo\"}], \"scattergl\": [{\"marker\": {\"colorbar\": {\"outlinewidth\": 0, \"ticks\": \"\"}}, \"type\": \"scattergl\"}], \"scattermapbox\": [{\"marker\": {\"colorbar\": {\"outlinewidth\": 0, \"ticks\": \"\"}}, \"type\": \"scattermapbox\"}], \"scatterpolar\": [{\"marker\": {\"colorbar\": {\"outlinewidth\": 0, \"ticks\": \"\"}}, \"type\": \"scatterpolar\"}], \"scatterpolargl\": [{\"marker\": {\"colorbar\": {\"outlinewidth\": 0, \"ticks\": \"\"}}, \"type\": \"scatterpolargl\"}], \"scatterternary\": [{\"marker\": {\"colorbar\": {\"outlinewidth\": 0, \"ticks\": \"\"}}, \"type\": \"scatterternary\"}], \"surface\": [{\"colorbar\": {\"outlinewidth\": 0, \"ticks\": \"\"}, \"colorscale\": [[0.0, \"#0d0887\"], [0.1111111111111111, \"#46039f\"], [0.2222222222222222, \"#7201a8\"], [0.3333333333333333, \"#9c179e\"], [0.4444444444444444, \"#bd3786\"], [0.5555555555555556, \"#d8576b\"], [0.6666666666666666, \"#ed7953\"], [0.7777777777777778, \"#fb9f3a\"], [0.8888888888888888, \"#fdca26\"], [1.0, \"#f0f921\"]], \"type\": \"surface\"}], \"table\": [{\"cells\": {\"fill\": {\"color\": \"#EBF0F8\"}, \"line\": {\"color\": \"white\"}}, \"header\": {\"fill\": {\"color\": \"#C8D4E3\"}, \"line\": {\"color\": \"white\"}}, \"type\": \"table\"}]}, \"layout\": {\"annotationdefaults\": {\"arrowcolor\": \"#2a3f5f\", \"arrowhead\": 0, \"arrowwidth\": 1}, \"coloraxis\": {\"colorbar\": {\"outlinewidth\": 0, \"ticks\": \"\"}}, \"colorscale\": {\"diverging\": [[0, \"#8e0152\"], [0.1, \"#c51b7d\"], [0.2, \"#de77ae\"], [0.3, \"#f1b6da\"], [0.4, \"#fde0ef\"], [0.5, \"#f7f7f7\"], [0.6, \"#e6f5d0\"], [0.7, \"#b8e186\"], [0.8, \"#7fbc41\"], [0.9, \"#4d9221\"], [1, \"#276419\"]], \"sequential\": [[0.0, \"#0d0887\"], [0.1111111111111111, \"#46039f\"], [0.2222222222222222, \"#7201a8\"], [0.3333333333333333, \"#9c179e\"], [0.4444444444444444, \"#bd3786\"], [0.5555555555555556, \"#d8576b\"], [0.6666666666666666, \"#ed7953\"], [0.7777777777777778, \"#fb9f3a\"], [0.8888888888888888, \"#fdca26\"], [1.0, \"#f0f921\"]], \"sequentialminus\": [[0.0, \"#0d0887\"], [0.1111111111111111, \"#46039f\"], [0.2222222222222222, \"#7201a8\"], [0.3333333333333333, \"#9c179e\"], [0.4444444444444444, \"#bd3786\"], [0.5555555555555556, \"#d8576b\"], [0.6666666666666666, \"#ed7953\"], [0.7777777777777778, \"#fb9f3a\"], [0.8888888888888888, \"#fdca26\"], [1.0, \"#f0f921\"]]}, \"colorway\": [\"#636efa\", \"#EF553B\", \"#00cc96\", \"#ab63fa\", \"#FFA15A\", \"#19d3f3\", \"#FF6692\", \"#B6E880\", \"#FF97FF\", \"#FECB52\"], \"font\": {\"color\": \"#2a3f5f\"}, \"geo\": {\"bgcolor\": \"white\", \"lakecolor\": \"white\", \"landcolor\": \"#E5ECF6\", \"showlakes\": true, \"showland\": true, \"subunitcolor\": \"white\"}, \"hoverlabel\": {\"align\": \"left\"}, \"hovermode\": \"closest\", \"mapbox\": {\"style\": \"light\"}, \"paper_bgcolor\": \"white\", \"plot_bgcolor\": \"#E5ECF6\", \"polar\": {\"angularaxis\": {\"gridcolor\": \"white\", \"linecolor\": \"white\", \"ticks\": \"\"}, \"bgcolor\": \"#E5ECF6\", \"radialaxis\": {\"gridcolor\": \"white\", \"linecolor\": \"white\", \"ticks\": \"\"}}, \"scene\": {\"xaxis\": {\"backgroundcolor\": \"#E5ECF6\", \"gridcolor\": \"white\", \"gridwidth\": 2, \"linecolor\": \"white\", \"showbackground\": true, \"ticks\": \"\", \"zerolinecolor\": \"white\"}, \"yaxis\": {\"backgroundcolor\": \"#E5ECF6\", \"gridcolor\": \"white\", \"gridwidth\": 2, \"linecolor\": \"white\", \"showbackground\": true, \"ticks\": \"\", \"zerolinecolor\": \"white\"}, \"zaxis\": {\"backgroundcolor\": \"#E5ECF6\", \"gridcolor\": \"white\", \"gridwidth\": 2, \"linecolor\": \"white\", \"showbackground\": true, \"ticks\": \"\", \"zerolinecolor\": \"white\"}}, \"shapedefaults\": {\"line\": {\"color\": \"#2a3f5f\"}}, \"ternary\": {\"aaxis\": {\"gridcolor\": \"white\", \"linecolor\": \"white\", \"ticks\": \"\"}, \"baxis\": {\"gridcolor\": \"white\", \"linecolor\": \"white\", \"ticks\": \"\"}, \"bgcolor\": \"#E5ECF6\", \"caxis\": {\"gridcolor\": \"white\", \"linecolor\": \"white\", \"ticks\": \"\"}}, \"title\": {\"x\": 0.05}, \"xaxis\": {\"automargin\": true, \"gridcolor\": \"white\", \"linecolor\": \"white\", \"ticks\": \"\", \"title\": {\"standoff\": 15}, \"zerolinecolor\": \"white\", \"zerolinewidth\": 2}, \"yaxis\": {\"automargin\": true, \"gridcolor\": \"white\", \"linecolor\": \"white\", \"ticks\": \"\", \"title\": {\"standoff\": 15}, \"zerolinecolor\": \"white\", \"zerolinewidth\": 2}}}, \"title\": {\"text\": \"Cases Across Cities of Karnataka\"}, \"xaxis\": {\"title\": {\"text\": \"City\"}}, \"yaxis\": {\"title\": {\"text\": \"Count\"}}},\n",
       "                        {\"responsive\": true}\n",
       "                    ).then(function(){\n",
       "                            \n",
       "var gd = document.getElementById('ec26caae-79af-463b-9dd3-7dbe365f0439');\n",
       "var x = new MutationObserver(function (mutations, observer) {{\n",
       "        var display = window.getComputedStyle(gd).display;\n",
       "        if (!display || display === 'none') {{\n",
       "            console.log([gd, 'removed!']);\n",
       "            Plotly.purge(gd);\n",
       "            observer.disconnect();\n",
       "        }}\n",
       "}});\n",
       "\n",
       "// Listen for the removal of the full notebook cells\n",
       "var notebookContainer = gd.closest('#notebook-container');\n",
       "if (notebookContainer) {{\n",
       "    x.observe(notebookContainer, {childList: true});\n",
       "}}\n",
       "\n",
       "// Listen for the clearing of the current output cell\n",
       "var outputEl = gd.closest('.output');\n",
       "if (outputEl) {{\n",
       "    x.observe(outputEl, {childList: true});\n",
       "}}\n",
       "\n",
       "                        })\n",
       "                };\n",
       "                });\n",
       "            </script>\n",
       "        </div>"
      ]
     },
     "metadata": {},
     "output_type": "display_data"
    }
   ],
   "source": [
    "karnataka_district_count = Karnataka.groupby('detected_city')['detected_city'].count().sort_values(ascending=False).to_frame()\n",
    "karnataka_district_count.columns = ['Count']\n",
    "fig = go.Figure(data=(go.Bar(x=karnataka_district_count.index,y=karnataka_district_count['Count'])))\n",
    "fig.update_layout(title=\"Cases Across Cities of Karnataka\",xaxis=dict(title=\"City\"),yaxis=dict(title=\"Count\"))"
   ]
  },
  {
   "cell_type": "markdown",
   "metadata": {},
   "source": [
    "Bengaluru and Nanjanagudu have almost 20% of the cases in Karnataka. \n",
    "\n",
    "There are many cities with just 1 affected patient."
   ]
  },
  {
   "cell_type": "code",
   "execution_count": 48,
   "metadata": {},
   "outputs": [
    {
     "data": {
      "application/vnd.plotly.v1+json": {
       "config": {
        "plotlyServerURL": "https://plot.ly"
       },
       "data": [
        {
         "marker": {
          "color": "blue",
          "line": {
           "color": "black"
          }
         },
         "name": "TotalSamples",
         "type": "bar",
         "x": [
          "2020-04-03T00:00:00",
          "2020-04-07T00:00:00",
          "2020-04-08T00:00:00",
          "2020-04-09T00:00:00",
          "2020-04-10T00:00:00",
          "2020-04-11T00:00:00",
          "2020-04-12T00:00:00",
          "2020-04-13T00:00:00",
          "2020-04-14T00:00:00",
          "2020-04-15T00:00:00",
          "2020-04-16T00:00:00",
          "2020-04-17T00:00:00",
          "2020-04-18T00:00:00",
          "2020-04-19T00:00:00",
          "2020-04-20T00:00:00",
          "2020-04-21T00:00:00",
          "2020-04-22T00:00:00",
          "2020-04-23T00:00:00",
          "2020-04-24T00:00:00",
          "2020-04-25T00:00:00",
          "2020-04-26T00:00:00",
          "2020-04-27T00:00:00",
          "2020-04-28T00:00:00"
         ],
         "y": [
          4587,
          6580,
          6967,
          7613,
          7975,
          8560,
          9251,
          10017,
          11107,
          12483,
          13724,
          17594,
          19186,
          21367,
          23460,
          26233,
          29512,
          32122,
          35958,
          39083,
          42964,
          45685,
          50512
         ]
        },
        {
         "marker": {
          "color": "green",
          "line": {
           "color": "black"
          }
         },
         "name": "Negative",
         "type": "bar",
         "x": [
          "2020-04-03T00:00:00",
          "2020-04-07T00:00:00",
          "2020-04-08T00:00:00",
          "2020-04-09T00:00:00",
          "2020-04-10T00:00:00",
          "2020-04-11T00:00:00",
          "2020-04-12T00:00:00",
          "2020-04-13T00:00:00",
          "2020-04-14T00:00:00",
          "2020-04-15T00:00:00",
          "2020-04-16T00:00:00",
          "2020-04-17T00:00:00",
          "2020-04-18T00:00:00",
          "2020-04-19T00:00:00",
          "2020-04-20T00:00:00",
          "2020-04-21T00:00:00",
          "2020-04-22T00:00:00",
          "2020-04-23T00:00:00",
          "2020-04-24T00:00:00",
          "2020-04-25T00:00:00",
          "2020-04-26T00:00:00",
          "2020-04-27T00:00:00",
          "2020-04-28T00:00:00"
         ],
         "y": [
          4281,
          5942,
          6473,
          7176,
          7673,
          8231,
          8831,
          9572,
          10554,
          11905,
          13074,
          14606,
          15658,
          17662,
          19497,
          22222,
          25424,
          28174,
          31914,
          34888,
          38207,
          43791,
          48508
         ]
        },
        {
         "marker": {
          "color": "red",
          "line": {
           "color": "black"
          }
         },
         "name": "Positive",
         "type": "bar",
         "x": [
          "2020-04-03T00:00:00",
          "2020-04-07T00:00:00",
          "2020-04-08T00:00:00",
          "2020-04-09T00:00:00",
          "2020-04-10T00:00:00",
          "2020-04-11T00:00:00",
          "2020-04-12T00:00:00",
          "2020-04-13T00:00:00",
          "2020-04-14T00:00:00",
          "2020-04-15T00:00:00",
          "2020-04-16T00:00:00",
          "2020-04-17T00:00:00",
          "2020-04-18T00:00:00",
          "2020-04-19T00:00:00",
          "2020-04-20T00:00:00",
          "2020-04-21T00:00:00",
          "2020-04-22T00:00:00",
          "2020-04-23T00:00:00",
          "2020-04-24T00:00:00",
          "2020-04-25T00:00:00",
          "2020-04-26T00:00:00",
          "2020-04-27T00:00:00",
          "2020-04-28T00:00:00"
         ],
         "y": [
          128,
          175,
          181,
          197,
          207,
          215,
          232,
          247,
          260,
          279,
          315,
          359,
          384,
          390,
          408,
          418,
          427,
          445,
          474,
          500,
          503,
          512,
          523
         ]
        }
       ],
       "layout": {
        "barmode": "relative",
        "template": {
         "data": {
          "bar": [
           {
            "error_x": {
             "color": "#2a3f5f"
            },
            "error_y": {
             "color": "#2a3f5f"
            },
            "marker": {
             "line": {
              "color": "#E5ECF6",
              "width": 0.5
             }
            },
            "type": "bar"
           }
          ],
          "barpolar": [
           {
            "marker": {
             "line": {
              "color": "#E5ECF6",
              "width": 0.5
             }
            },
            "type": "barpolar"
           }
          ],
          "carpet": [
           {
            "aaxis": {
             "endlinecolor": "#2a3f5f",
             "gridcolor": "white",
             "linecolor": "white",
             "minorgridcolor": "white",
             "startlinecolor": "#2a3f5f"
            },
            "baxis": {
             "endlinecolor": "#2a3f5f",
             "gridcolor": "white",
             "linecolor": "white",
             "minorgridcolor": "white",
             "startlinecolor": "#2a3f5f"
            },
            "type": "carpet"
           }
          ],
          "choropleth": [
           {
            "colorbar": {
             "outlinewidth": 0,
             "ticks": ""
            },
            "type": "choropleth"
           }
          ],
          "contour": [
           {
            "colorbar": {
             "outlinewidth": 0,
             "ticks": ""
            },
            "colorscale": [
             [
              0,
              "#0d0887"
             ],
             [
              0.1111111111111111,
              "#46039f"
             ],
             [
              0.2222222222222222,
              "#7201a8"
             ],
             [
              0.3333333333333333,
              "#9c179e"
             ],
             [
              0.4444444444444444,
              "#bd3786"
             ],
             [
              0.5555555555555556,
              "#d8576b"
             ],
             [
              0.6666666666666666,
              "#ed7953"
             ],
             [
              0.7777777777777778,
              "#fb9f3a"
             ],
             [
              0.8888888888888888,
              "#fdca26"
             ],
             [
              1,
              "#f0f921"
             ]
            ],
            "type": "contour"
           }
          ],
          "contourcarpet": [
           {
            "colorbar": {
             "outlinewidth": 0,
             "ticks": ""
            },
            "type": "contourcarpet"
           }
          ],
          "heatmap": [
           {
            "colorbar": {
             "outlinewidth": 0,
             "ticks": ""
            },
            "colorscale": [
             [
              0,
              "#0d0887"
             ],
             [
              0.1111111111111111,
              "#46039f"
             ],
             [
              0.2222222222222222,
              "#7201a8"
             ],
             [
              0.3333333333333333,
              "#9c179e"
             ],
             [
              0.4444444444444444,
              "#bd3786"
             ],
             [
              0.5555555555555556,
              "#d8576b"
             ],
             [
              0.6666666666666666,
              "#ed7953"
             ],
             [
              0.7777777777777778,
              "#fb9f3a"
             ],
             [
              0.8888888888888888,
              "#fdca26"
             ],
             [
              1,
              "#f0f921"
             ]
            ],
            "type": "heatmap"
           }
          ],
          "heatmapgl": [
           {
            "colorbar": {
             "outlinewidth": 0,
             "ticks": ""
            },
            "colorscale": [
             [
              0,
              "#0d0887"
             ],
             [
              0.1111111111111111,
              "#46039f"
             ],
             [
              0.2222222222222222,
              "#7201a8"
             ],
             [
              0.3333333333333333,
              "#9c179e"
             ],
             [
              0.4444444444444444,
              "#bd3786"
             ],
             [
              0.5555555555555556,
              "#d8576b"
             ],
             [
              0.6666666666666666,
              "#ed7953"
             ],
             [
              0.7777777777777778,
              "#fb9f3a"
             ],
             [
              0.8888888888888888,
              "#fdca26"
             ],
             [
              1,
              "#f0f921"
             ]
            ],
            "type": "heatmapgl"
           }
          ],
          "histogram": [
           {
            "marker": {
             "colorbar": {
              "outlinewidth": 0,
              "ticks": ""
             }
            },
            "type": "histogram"
           }
          ],
          "histogram2d": [
           {
            "colorbar": {
             "outlinewidth": 0,
             "ticks": ""
            },
            "colorscale": [
             [
              0,
              "#0d0887"
             ],
             [
              0.1111111111111111,
              "#46039f"
             ],
             [
              0.2222222222222222,
              "#7201a8"
             ],
             [
              0.3333333333333333,
              "#9c179e"
             ],
             [
              0.4444444444444444,
              "#bd3786"
             ],
             [
              0.5555555555555556,
              "#d8576b"
             ],
             [
              0.6666666666666666,
              "#ed7953"
             ],
             [
              0.7777777777777778,
              "#fb9f3a"
             ],
             [
              0.8888888888888888,
              "#fdca26"
             ],
             [
              1,
              "#f0f921"
             ]
            ],
            "type": "histogram2d"
           }
          ],
          "histogram2dcontour": [
           {
            "colorbar": {
             "outlinewidth": 0,
             "ticks": ""
            },
            "colorscale": [
             [
              0,
              "#0d0887"
             ],
             [
              0.1111111111111111,
              "#46039f"
             ],
             [
              0.2222222222222222,
              "#7201a8"
             ],
             [
              0.3333333333333333,
              "#9c179e"
             ],
             [
              0.4444444444444444,
              "#bd3786"
             ],
             [
              0.5555555555555556,
              "#d8576b"
             ],
             [
              0.6666666666666666,
              "#ed7953"
             ],
             [
              0.7777777777777778,
              "#fb9f3a"
             ],
             [
              0.8888888888888888,
              "#fdca26"
             ],
             [
              1,
              "#f0f921"
             ]
            ],
            "type": "histogram2dcontour"
           }
          ],
          "mesh3d": [
           {
            "colorbar": {
             "outlinewidth": 0,
             "ticks": ""
            },
            "type": "mesh3d"
           }
          ],
          "parcoords": [
           {
            "line": {
             "colorbar": {
              "outlinewidth": 0,
              "ticks": ""
             }
            },
            "type": "parcoords"
           }
          ],
          "pie": [
           {
            "automargin": true,
            "type": "pie"
           }
          ],
          "scatter": [
           {
            "marker": {
             "colorbar": {
              "outlinewidth": 0,
              "ticks": ""
             }
            },
            "type": "scatter"
           }
          ],
          "scatter3d": [
           {
            "line": {
             "colorbar": {
              "outlinewidth": 0,
              "ticks": ""
             }
            },
            "marker": {
             "colorbar": {
              "outlinewidth": 0,
              "ticks": ""
             }
            },
            "type": "scatter3d"
           }
          ],
          "scattercarpet": [
           {
            "marker": {
             "colorbar": {
              "outlinewidth": 0,
              "ticks": ""
             }
            },
            "type": "scattercarpet"
           }
          ],
          "scattergeo": [
           {
            "marker": {
             "colorbar": {
              "outlinewidth": 0,
              "ticks": ""
             }
            },
            "type": "scattergeo"
           }
          ],
          "scattergl": [
           {
            "marker": {
             "colorbar": {
              "outlinewidth": 0,
              "ticks": ""
             }
            },
            "type": "scattergl"
           }
          ],
          "scattermapbox": [
           {
            "marker": {
             "colorbar": {
              "outlinewidth": 0,
              "ticks": ""
             }
            },
            "type": "scattermapbox"
           }
          ],
          "scatterpolar": [
           {
            "marker": {
             "colorbar": {
              "outlinewidth": 0,
              "ticks": ""
             }
            },
            "type": "scatterpolar"
           }
          ],
          "scatterpolargl": [
           {
            "marker": {
             "colorbar": {
              "outlinewidth": 0,
              "ticks": ""
             }
            },
            "type": "scatterpolargl"
           }
          ],
          "scatterternary": [
           {
            "marker": {
             "colorbar": {
              "outlinewidth": 0,
              "ticks": ""
             }
            },
            "type": "scatterternary"
           }
          ],
          "surface": [
           {
            "colorbar": {
             "outlinewidth": 0,
             "ticks": ""
            },
            "colorscale": [
             [
              0,
              "#0d0887"
             ],
             [
              0.1111111111111111,
              "#46039f"
             ],
             [
              0.2222222222222222,
              "#7201a8"
             ],
             [
              0.3333333333333333,
              "#9c179e"
             ],
             [
              0.4444444444444444,
              "#bd3786"
             ],
             [
              0.5555555555555556,
              "#d8576b"
             ],
             [
              0.6666666666666666,
              "#ed7953"
             ],
             [
              0.7777777777777778,
              "#fb9f3a"
             ],
             [
              0.8888888888888888,
              "#fdca26"
             ],
             [
              1,
              "#f0f921"
             ]
            ],
            "type": "surface"
           }
          ],
          "table": [
           {
            "cells": {
             "fill": {
              "color": "#EBF0F8"
             },
             "line": {
              "color": "white"
             }
            },
            "header": {
             "fill": {
              "color": "#C8D4E3"
             },
             "line": {
              "color": "white"
             }
            },
            "type": "table"
           }
          ]
         },
         "layout": {
          "annotationdefaults": {
           "arrowcolor": "#2a3f5f",
           "arrowhead": 0,
           "arrowwidth": 1
          },
          "coloraxis": {
           "colorbar": {
            "outlinewidth": 0,
            "ticks": ""
           }
          },
          "colorscale": {
           "diverging": [
            [
             0,
             "#8e0152"
            ],
            [
             0.1,
             "#c51b7d"
            ],
            [
             0.2,
             "#de77ae"
            ],
            [
             0.3,
             "#f1b6da"
            ],
            [
             0.4,
             "#fde0ef"
            ],
            [
             0.5,
             "#f7f7f7"
            ],
            [
             0.6,
             "#e6f5d0"
            ],
            [
             0.7,
             "#b8e186"
            ],
            [
             0.8,
             "#7fbc41"
            ],
            [
             0.9,
             "#4d9221"
            ],
            [
             1,
             "#276419"
            ]
           ],
           "sequential": [
            [
             0,
             "#0d0887"
            ],
            [
             0.1111111111111111,
             "#46039f"
            ],
            [
             0.2222222222222222,
             "#7201a8"
            ],
            [
             0.3333333333333333,
             "#9c179e"
            ],
            [
             0.4444444444444444,
             "#bd3786"
            ],
            [
             0.5555555555555556,
             "#d8576b"
            ],
            [
             0.6666666666666666,
             "#ed7953"
            ],
            [
             0.7777777777777778,
             "#fb9f3a"
            ],
            [
             0.8888888888888888,
             "#fdca26"
            ],
            [
             1,
             "#f0f921"
            ]
           ],
           "sequentialminus": [
            [
             0,
             "#0d0887"
            ],
            [
             0.1111111111111111,
             "#46039f"
            ],
            [
             0.2222222222222222,
             "#7201a8"
            ],
            [
             0.3333333333333333,
             "#9c179e"
            ],
            [
             0.4444444444444444,
             "#bd3786"
            ],
            [
             0.5555555555555556,
             "#d8576b"
            ],
            [
             0.6666666666666666,
             "#ed7953"
            ],
            [
             0.7777777777777778,
             "#fb9f3a"
            ],
            [
             0.8888888888888888,
             "#fdca26"
            ],
            [
             1,
             "#f0f921"
            ]
           ]
          },
          "colorway": [
           "#636efa",
           "#EF553B",
           "#00cc96",
           "#ab63fa",
           "#FFA15A",
           "#19d3f3",
           "#FF6692",
           "#B6E880",
           "#FF97FF",
           "#FECB52"
          ],
          "font": {
           "color": "#2a3f5f"
          },
          "geo": {
           "bgcolor": "white",
           "lakecolor": "white",
           "landcolor": "#E5ECF6",
           "showlakes": true,
           "showland": true,
           "subunitcolor": "white"
          },
          "hoverlabel": {
           "align": "left"
          },
          "hovermode": "closest",
          "mapbox": {
           "style": "light"
          },
          "paper_bgcolor": "white",
          "plot_bgcolor": "#E5ECF6",
          "polar": {
           "angularaxis": {
            "gridcolor": "white",
            "linecolor": "white",
            "ticks": ""
           },
           "bgcolor": "#E5ECF6",
           "radialaxis": {
            "gridcolor": "white",
            "linecolor": "white",
            "ticks": ""
           }
          },
          "scene": {
           "xaxis": {
            "backgroundcolor": "#E5ECF6",
            "gridcolor": "white",
            "gridwidth": 2,
            "linecolor": "white",
            "showbackground": true,
            "ticks": "",
            "zerolinecolor": "white"
           },
           "yaxis": {
            "backgroundcolor": "#E5ECF6",
            "gridcolor": "white",
            "gridwidth": 2,
            "linecolor": "white",
            "showbackground": true,
            "ticks": "",
            "zerolinecolor": "white"
           },
           "zaxis": {
            "backgroundcolor": "#E5ECF6",
            "gridcolor": "white",
            "gridwidth": 2,
            "linecolor": "white",
            "showbackground": true,
            "ticks": "",
            "zerolinecolor": "white"
           }
          },
          "shapedefaults": {
           "line": {
            "color": "#2a3f5f"
           }
          },
          "ternary": {
           "aaxis": {
            "gridcolor": "white",
            "linecolor": "white",
            "ticks": ""
           },
           "baxis": {
            "gridcolor": "white",
            "linecolor": "white",
            "ticks": ""
           },
           "bgcolor": "#E5ECF6",
           "caxis": {
            "gridcolor": "white",
            "linecolor": "white",
            "ticks": ""
           }
          },
          "title": {
           "x": 0.05
          },
          "xaxis": {
           "automargin": true,
           "gridcolor": "white",
           "linecolor": "white",
           "ticks": "",
           "title": {
            "standoff": 15
           },
           "zerolinecolor": "white",
           "zerolinewidth": 2
          },
          "yaxis": {
           "automargin": true,
           "gridcolor": "white",
           "linecolor": "white",
           "ticks": "",
           "title": {
            "standoff": 15
           },
           "zerolinecolor": "white",
           "zerolinewidth": 2
          }
         }
        },
        "title": {
         "text": "Total Samples Tested, Positive and Negative Samples Across days"
        },
        "xaxis": {
         "title": {
          "text": "Date"
         }
        },
        "yaxis": {
         "title": {
          "text": "Count"
         }
        }
       }
      },
      "text/html": [
       "<div>\n",
       "        \n",
       "        \n",
       "            <div id=\"cace94be-400e-4a39-bf22-e0346b940a4f\" class=\"plotly-graph-div\" style=\"height:525px; width:100%;\"></div>\n",
       "            <script type=\"text/javascript\">\n",
       "                require([\"plotly\"], function(Plotly) {\n",
       "                    window.PLOTLYENV=window.PLOTLYENV || {};\n",
       "                    \n",
       "                if (document.getElementById(\"cace94be-400e-4a39-bf22-e0346b940a4f\")) {\n",
       "                    Plotly.newPlot(\n",
       "                        'cace94be-400e-4a39-bf22-e0346b940a4f',\n",
       "                        [{\"marker\": {\"color\": \"blue\", \"line\": {\"color\": \"black\"}}, \"name\": \"TotalSamples\", \"type\": \"bar\", \"x\": [\"2020-04-03T00:00:00\", \"2020-04-07T00:00:00\", \"2020-04-08T00:00:00\", \"2020-04-09T00:00:00\", \"2020-04-10T00:00:00\", \"2020-04-11T00:00:00\", \"2020-04-12T00:00:00\", \"2020-04-13T00:00:00\", \"2020-04-14T00:00:00\", \"2020-04-15T00:00:00\", \"2020-04-16T00:00:00\", \"2020-04-17T00:00:00\", \"2020-04-18T00:00:00\", \"2020-04-19T00:00:00\", \"2020-04-20T00:00:00\", \"2020-04-21T00:00:00\", \"2020-04-22T00:00:00\", \"2020-04-23T00:00:00\", \"2020-04-24T00:00:00\", \"2020-04-25T00:00:00\", \"2020-04-26T00:00:00\", \"2020-04-27T00:00:00\", \"2020-04-28T00:00:00\"], \"y\": [4587.0, 6580.0, 6967.0, 7613.0, 7975.0, 8560.0, 9251.0, 10017.0, 11107.0, 12483.0, 13724.0, 17594.0, 19186.0, 21367.0, 23460.0, 26233.0, 29512.0, 32122.0, 35958.0, 39083.0, 42964.0, 45685.0, 50512.0]}, {\"marker\": {\"color\": \"green\", \"line\": {\"color\": \"black\"}}, \"name\": \"Negative\", \"type\": \"bar\", \"x\": [\"2020-04-03T00:00:00\", \"2020-04-07T00:00:00\", \"2020-04-08T00:00:00\", \"2020-04-09T00:00:00\", \"2020-04-10T00:00:00\", \"2020-04-11T00:00:00\", \"2020-04-12T00:00:00\", \"2020-04-13T00:00:00\", \"2020-04-14T00:00:00\", \"2020-04-15T00:00:00\", \"2020-04-16T00:00:00\", \"2020-04-17T00:00:00\", \"2020-04-18T00:00:00\", \"2020-04-19T00:00:00\", \"2020-04-20T00:00:00\", \"2020-04-21T00:00:00\", \"2020-04-22T00:00:00\", \"2020-04-23T00:00:00\", \"2020-04-24T00:00:00\", \"2020-04-25T00:00:00\", \"2020-04-26T00:00:00\", \"2020-04-27T00:00:00\", \"2020-04-28T00:00:00\"], \"y\": [4281.0, 5942.0, 6473.0, 7176.0, 7673.0, 8231.0, 8831.0, 9572.0, 10554.0, 11905.0, 13074.0, 14606.0, 15658.0, 17662.0, 19497.0, 22222.0, 25424.0, 28174.0, 31914.0, 34888.0, 38207.0, 43791.0, 48508.0]}, {\"marker\": {\"color\": \"red\", \"line\": {\"color\": \"black\"}}, \"name\": \"Positive\", \"type\": \"bar\", \"x\": [\"2020-04-03T00:00:00\", \"2020-04-07T00:00:00\", \"2020-04-08T00:00:00\", \"2020-04-09T00:00:00\", \"2020-04-10T00:00:00\", \"2020-04-11T00:00:00\", \"2020-04-12T00:00:00\", \"2020-04-13T00:00:00\", \"2020-04-14T00:00:00\", \"2020-04-15T00:00:00\", \"2020-04-16T00:00:00\", \"2020-04-17T00:00:00\", \"2020-04-18T00:00:00\", \"2020-04-19T00:00:00\", \"2020-04-20T00:00:00\", \"2020-04-21T00:00:00\", \"2020-04-22T00:00:00\", \"2020-04-23T00:00:00\", \"2020-04-24T00:00:00\", \"2020-04-25T00:00:00\", \"2020-04-26T00:00:00\", \"2020-04-27T00:00:00\", \"2020-04-28T00:00:00\"], \"y\": [128.0, 175.0, 181.0, 197.0, 207.0, 215.0, 232.0, 247.0, 260.0, 279.0, 315.0, 359.0, 384.0, 390.0, 408.0, 418.0, 427.0, 445.0, 474.0, 500.0, 503.0, 512.0, 523.0]}],\n",
       "                        {\"barmode\": \"relative\", \"template\": {\"data\": {\"bar\": [{\"error_x\": {\"color\": \"#2a3f5f\"}, \"error_y\": {\"color\": \"#2a3f5f\"}, \"marker\": {\"line\": {\"color\": \"#E5ECF6\", \"width\": 0.5}}, \"type\": \"bar\"}], \"barpolar\": [{\"marker\": {\"line\": {\"color\": \"#E5ECF6\", \"width\": 0.5}}, \"type\": \"barpolar\"}], \"carpet\": [{\"aaxis\": {\"endlinecolor\": \"#2a3f5f\", \"gridcolor\": \"white\", \"linecolor\": \"white\", \"minorgridcolor\": \"white\", \"startlinecolor\": \"#2a3f5f\"}, \"baxis\": {\"endlinecolor\": \"#2a3f5f\", \"gridcolor\": \"white\", \"linecolor\": \"white\", \"minorgridcolor\": \"white\", \"startlinecolor\": \"#2a3f5f\"}, \"type\": \"carpet\"}], \"choropleth\": [{\"colorbar\": {\"outlinewidth\": 0, \"ticks\": \"\"}, \"type\": \"choropleth\"}], \"contour\": [{\"colorbar\": {\"outlinewidth\": 0, \"ticks\": \"\"}, \"colorscale\": [[0.0, \"#0d0887\"], [0.1111111111111111, \"#46039f\"], [0.2222222222222222, \"#7201a8\"], [0.3333333333333333, \"#9c179e\"], [0.4444444444444444, \"#bd3786\"], [0.5555555555555556, \"#d8576b\"], [0.6666666666666666, \"#ed7953\"], [0.7777777777777778, \"#fb9f3a\"], [0.8888888888888888, \"#fdca26\"], [1.0, \"#f0f921\"]], \"type\": \"contour\"}], \"contourcarpet\": [{\"colorbar\": {\"outlinewidth\": 0, \"ticks\": \"\"}, \"type\": \"contourcarpet\"}], \"heatmap\": [{\"colorbar\": {\"outlinewidth\": 0, \"ticks\": \"\"}, \"colorscale\": [[0.0, \"#0d0887\"], [0.1111111111111111, \"#46039f\"], [0.2222222222222222, \"#7201a8\"], [0.3333333333333333, \"#9c179e\"], [0.4444444444444444, \"#bd3786\"], [0.5555555555555556, \"#d8576b\"], [0.6666666666666666, \"#ed7953\"], [0.7777777777777778, \"#fb9f3a\"], [0.8888888888888888, \"#fdca26\"], [1.0, \"#f0f921\"]], \"type\": \"heatmap\"}], \"heatmapgl\": [{\"colorbar\": {\"outlinewidth\": 0, \"ticks\": \"\"}, \"colorscale\": [[0.0, \"#0d0887\"], [0.1111111111111111, \"#46039f\"], [0.2222222222222222, \"#7201a8\"], [0.3333333333333333, \"#9c179e\"], [0.4444444444444444, \"#bd3786\"], [0.5555555555555556, \"#d8576b\"], [0.6666666666666666, \"#ed7953\"], [0.7777777777777778, \"#fb9f3a\"], [0.8888888888888888, \"#fdca26\"], [1.0, \"#f0f921\"]], \"type\": \"heatmapgl\"}], \"histogram\": [{\"marker\": {\"colorbar\": {\"outlinewidth\": 0, \"ticks\": \"\"}}, \"type\": \"histogram\"}], \"histogram2d\": [{\"colorbar\": {\"outlinewidth\": 0, \"ticks\": \"\"}, \"colorscale\": [[0.0, \"#0d0887\"], [0.1111111111111111, \"#46039f\"], [0.2222222222222222, \"#7201a8\"], [0.3333333333333333, \"#9c179e\"], [0.4444444444444444, \"#bd3786\"], [0.5555555555555556, \"#d8576b\"], [0.6666666666666666, \"#ed7953\"], [0.7777777777777778, \"#fb9f3a\"], [0.8888888888888888, \"#fdca26\"], [1.0, \"#f0f921\"]], \"type\": \"histogram2d\"}], \"histogram2dcontour\": [{\"colorbar\": {\"outlinewidth\": 0, \"ticks\": \"\"}, \"colorscale\": [[0.0, \"#0d0887\"], [0.1111111111111111, \"#46039f\"], [0.2222222222222222, \"#7201a8\"], [0.3333333333333333, \"#9c179e\"], [0.4444444444444444, \"#bd3786\"], [0.5555555555555556, \"#d8576b\"], [0.6666666666666666, \"#ed7953\"], [0.7777777777777778, \"#fb9f3a\"], [0.8888888888888888, \"#fdca26\"], [1.0, \"#f0f921\"]], \"type\": \"histogram2dcontour\"}], \"mesh3d\": [{\"colorbar\": {\"outlinewidth\": 0, \"ticks\": \"\"}, \"type\": \"mesh3d\"}], \"parcoords\": [{\"line\": {\"colorbar\": {\"outlinewidth\": 0, \"ticks\": \"\"}}, \"type\": \"parcoords\"}], \"pie\": [{\"automargin\": true, \"type\": \"pie\"}], \"scatter\": [{\"marker\": {\"colorbar\": {\"outlinewidth\": 0, \"ticks\": \"\"}}, \"type\": \"scatter\"}], \"scatter3d\": [{\"line\": {\"colorbar\": {\"outlinewidth\": 0, \"ticks\": \"\"}}, \"marker\": {\"colorbar\": {\"outlinewidth\": 0, \"ticks\": \"\"}}, \"type\": \"scatter3d\"}], \"scattercarpet\": [{\"marker\": {\"colorbar\": {\"outlinewidth\": 0, \"ticks\": \"\"}}, \"type\": \"scattercarpet\"}], \"scattergeo\": [{\"marker\": {\"colorbar\": {\"outlinewidth\": 0, \"ticks\": \"\"}}, \"type\": \"scattergeo\"}], \"scattergl\": [{\"marker\": {\"colorbar\": {\"outlinewidth\": 0, \"ticks\": \"\"}}, \"type\": \"scattergl\"}], \"scattermapbox\": [{\"marker\": {\"colorbar\": {\"outlinewidth\": 0, \"ticks\": \"\"}}, \"type\": \"scattermapbox\"}], \"scatterpolar\": [{\"marker\": {\"colorbar\": {\"outlinewidth\": 0, \"ticks\": \"\"}}, \"type\": \"scatterpolar\"}], \"scatterpolargl\": [{\"marker\": {\"colorbar\": {\"outlinewidth\": 0, \"ticks\": \"\"}}, \"type\": \"scatterpolargl\"}], \"scatterternary\": [{\"marker\": {\"colorbar\": {\"outlinewidth\": 0, \"ticks\": \"\"}}, \"type\": \"scatterternary\"}], \"surface\": [{\"colorbar\": {\"outlinewidth\": 0, \"ticks\": \"\"}, \"colorscale\": [[0.0, \"#0d0887\"], [0.1111111111111111, \"#46039f\"], [0.2222222222222222, \"#7201a8\"], [0.3333333333333333, \"#9c179e\"], [0.4444444444444444, \"#bd3786\"], [0.5555555555555556, \"#d8576b\"], [0.6666666666666666, \"#ed7953\"], [0.7777777777777778, \"#fb9f3a\"], [0.8888888888888888, \"#fdca26\"], [1.0, \"#f0f921\"]], \"type\": \"surface\"}], \"table\": [{\"cells\": {\"fill\": {\"color\": \"#EBF0F8\"}, \"line\": {\"color\": \"white\"}}, \"header\": {\"fill\": {\"color\": \"#C8D4E3\"}, \"line\": {\"color\": \"white\"}}, \"type\": \"table\"}]}, \"layout\": {\"annotationdefaults\": {\"arrowcolor\": \"#2a3f5f\", \"arrowhead\": 0, \"arrowwidth\": 1}, \"coloraxis\": {\"colorbar\": {\"outlinewidth\": 0, \"ticks\": \"\"}}, \"colorscale\": {\"diverging\": [[0, \"#8e0152\"], [0.1, \"#c51b7d\"], [0.2, \"#de77ae\"], [0.3, \"#f1b6da\"], [0.4, \"#fde0ef\"], [0.5, \"#f7f7f7\"], [0.6, \"#e6f5d0\"], [0.7, \"#b8e186\"], [0.8, \"#7fbc41\"], [0.9, \"#4d9221\"], [1, \"#276419\"]], \"sequential\": [[0.0, \"#0d0887\"], [0.1111111111111111, \"#46039f\"], [0.2222222222222222, \"#7201a8\"], [0.3333333333333333, \"#9c179e\"], [0.4444444444444444, \"#bd3786\"], [0.5555555555555556, \"#d8576b\"], [0.6666666666666666, \"#ed7953\"], [0.7777777777777778, \"#fb9f3a\"], [0.8888888888888888, \"#fdca26\"], [1.0, \"#f0f921\"]], \"sequentialminus\": [[0.0, \"#0d0887\"], [0.1111111111111111, \"#46039f\"], [0.2222222222222222, \"#7201a8\"], [0.3333333333333333, \"#9c179e\"], [0.4444444444444444, \"#bd3786\"], [0.5555555555555556, \"#d8576b\"], [0.6666666666666666, \"#ed7953\"], [0.7777777777777778, \"#fb9f3a\"], [0.8888888888888888, \"#fdca26\"], [1.0, \"#f0f921\"]]}, \"colorway\": [\"#636efa\", \"#EF553B\", \"#00cc96\", \"#ab63fa\", \"#FFA15A\", \"#19d3f3\", \"#FF6692\", \"#B6E880\", \"#FF97FF\", \"#FECB52\"], \"font\": {\"color\": \"#2a3f5f\"}, \"geo\": {\"bgcolor\": \"white\", \"lakecolor\": \"white\", \"landcolor\": \"#E5ECF6\", \"showlakes\": true, \"showland\": true, \"subunitcolor\": \"white\"}, \"hoverlabel\": {\"align\": \"left\"}, \"hovermode\": \"closest\", \"mapbox\": {\"style\": \"light\"}, \"paper_bgcolor\": \"white\", \"plot_bgcolor\": \"#E5ECF6\", \"polar\": {\"angularaxis\": {\"gridcolor\": \"white\", \"linecolor\": \"white\", \"ticks\": \"\"}, \"bgcolor\": \"#E5ECF6\", \"radialaxis\": {\"gridcolor\": \"white\", \"linecolor\": \"white\", \"ticks\": \"\"}}, \"scene\": {\"xaxis\": {\"backgroundcolor\": \"#E5ECF6\", \"gridcolor\": \"white\", \"gridwidth\": 2, \"linecolor\": \"white\", \"showbackground\": true, \"ticks\": \"\", \"zerolinecolor\": \"white\"}, \"yaxis\": {\"backgroundcolor\": \"#E5ECF6\", \"gridcolor\": \"white\", \"gridwidth\": 2, \"linecolor\": \"white\", \"showbackground\": true, \"ticks\": \"\", \"zerolinecolor\": \"white\"}, \"zaxis\": {\"backgroundcolor\": \"#E5ECF6\", \"gridcolor\": \"white\", \"gridwidth\": 2, \"linecolor\": \"white\", \"showbackground\": true, \"ticks\": \"\", \"zerolinecolor\": \"white\"}}, \"shapedefaults\": {\"line\": {\"color\": \"#2a3f5f\"}}, \"ternary\": {\"aaxis\": {\"gridcolor\": \"white\", \"linecolor\": \"white\", \"ticks\": \"\"}, \"baxis\": {\"gridcolor\": \"white\", \"linecolor\": \"white\", \"ticks\": \"\"}, \"bgcolor\": \"#E5ECF6\", \"caxis\": {\"gridcolor\": \"white\", \"linecolor\": \"white\", \"ticks\": \"\"}}, \"title\": {\"x\": 0.05}, \"xaxis\": {\"automargin\": true, \"gridcolor\": \"white\", \"linecolor\": \"white\", \"ticks\": \"\", \"title\": {\"standoff\": 15}, \"zerolinecolor\": \"white\", \"zerolinewidth\": 2}, \"yaxis\": {\"automargin\": true, \"gridcolor\": \"white\", \"linecolor\": \"white\", \"ticks\": \"\", \"title\": {\"standoff\": 15}, \"zerolinecolor\": \"white\", \"zerolinewidth\": 2}}}, \"title\": {\"text\": \"Total Samples Tested, Positive and Negative Samples Across days\"}, \"xaxis\": {\"title\": {\"text\": \"Date\"}}, \"yaxis\": {\"title\": {\"text\": \"Count\"}}},\n",
       "                        {\"responsive\": true}\n",
       "                    ).then(function(){\n",
       "                            \n",
       "var gd = document.getElementById('cace94be-400e-4a39-bf22-e0346b940a4f');\n",
       "var x = new MutationObserver(function (mutations, observer) {{\n",
       "        var display = window.getComputedStyle(gd).display;\n",
       "        if (!display || display === 'none') {{\n",
       "            console.log([gd, 'removed!']);\n",
       "            Plotly.purge(gd);\n",
       "            observer.disconnect();\n",
       "        }}\n",
       "}});\n",
       "\n",
       "// Listen for the removal of the full notebook cells\n",
       "var notebookContainer = gd.closest('#notebook-container');\n",
       "if (notebookContainer) {{\n",
       "    x.observe(notebookContainer, {childList: true});\n",
       "}}\n",
       "\n",
       "// Listen for the clearing of the current output cell\n",
       "var outputEl = gd.closest('.output');\n",
       "if (outputEl) {{\n",
       "    x.observe(outputEl, {childList: true});\n",
       "}}\n",
       "\n",
       "                        })\n",
       "                };\n",
       "                });\n",
       "            </script>\n",
       "        </div>"
      ]
     },
     "metadata": {},
     "output_type": "display_data"
    }
   ],
   "source": [
    "samples_tested_karnataka = state_testing[state_testing['State']==\"Karnataka\"]\n",
    "fig=go.Figure(data=[(go.Bar(x=samples_tested_karnataka['Date'],y=samples_tested_karnataka['TotalSamples'],name=\"TotalSamples\",marker_line_color='black',marker_color='blue')),\n",
    "                     go.Bar(x=samples_tested_karnataka['Date'],y=samples_tested_karnataka['Negative'],name=\"Negative\",marker_line_color='black',marker_color='green'),\n",
    "                     go.Bar(x=samples_tested_karnataka['Date'],y=samples_tested_karnataka['Positive'],name=\"Positive\",marker_line_color='black',marker_color='red')])\n",
    "fig.update_layout(title=\"Total Samples Tested, Positive and Negative Samples Across days\",barmode='relative',xaxis=dict(title=\"Date\"),yaxis=dict(title=\"Count\"))"
   ]
  },
  {
   "cell_type": "markdown",
   "metadata": {},
   "source": [
    "Karnataka is testing on an average 3000 to 4000 patients in a day and since the number of positive cases is still low, the red portion in the bar plot above is not highlighted. We have tested about 50,500 patients as on 28th of April and 503 are found out positive with COVID19. "
   ]
  },
  {
   "cell_type": "code",
   "execution_count": 49,
   "metadata": {},
   "outputs": [
    {
     "data": {
      "application/vnd.plotly.v1+json": {
       "config": {
        "plotlyServerURL": "https://plot.ly"
       },
       "data": [
        {
         "type": "bar",
         "x": [
          "2020-04-17T00:00:00",
          "2020-04-16T00:00:00",
          "2020-04-24T00:00:00",
          "2020-04-25T00:00:00",
          "2020-04-18T00:00:00",
          "2020-04-15T00:00:00",
          "2020-04-23T00:00:00",
          "2020-04-20T00:00:00",
          "2020-04-12T00:00:00",
          "2020-04-04T00:00:00",
          "2020-04-09T00:00:00",
          "2020-04-13T00:00:00",
          "2020-04-02T00:00:00",
          "2020-04-14T00:00:00",
          "2020-03-31T00:00:00",
          "2020-03-28T00:00:00",
          "2020-04-06T00:00:00",
          "2020-04-07T00:00:00",
          "2020-04-10T00:00:00",
          "2020-04-21T00:00:00",
          "2020-03-25T00:00:00",
          "2020-03-27T00:00:00",
          "2020-04-01T00:00:00",
          "2020-04-22T00:00:00",
          "2020-04-11T00:00:00",
          "2020-03-24T00:00:00",
          "2020-03-29T00:00:00",
          "2020-04-05T00:00:00",
          "2020-03-23T00:00:00",
          "2020-03-22T00:00:00",
          "2020-04-08T00:00:00",
          "2020-04-19T00:00:00",
          "2020-03-30T00:00:00",
          "2020-03-21T00:00:00",
          "2020-03-26T00:00:00",
          "2020-03-17T00:00:00",
          "2020-04-03T00:00:00",
          "2020-03-10T00:00:00",
          "2020-04-26T00:00:00",
          "2020-03-18T00:00:00",
          "2020-03-16T00:00:00",
          "2020-03-13T00:00:00",
          "2020-03-12T00:00:00",
          "2020-03-19T00:00:00",
          "2020-03-09T00:00:00"
         ],
         "y": [
          44,
          36,
          29,
          26,
          25,
          19,
          18,
          18,
          17,
          16,
          16,
          15,
          14,
          13,
          13,
          12,
          12,
          12,
          10,
          10,
          10,
          9,
          9,
          9,
          8,
          8,
          7,
          7,
          7,
          6,
          6,
          6,
          5,
          5,
          4,
          4,
          4,
          3,
          3,
          3,
          1,
          1,
          1,
          1,
          1
         ]
        }
       ],
       "layout": {
        "template": {
         "data": {
          "bar": [
           {
            "error_x": {
             "color": "#2a3f5f"
            },
            "error_y": {
             "color": "#2a3f5f"
            },
            "marker": {
             "line": {
              "color": "#E5ECF6",
              "width": 0.5
             }
            },
            "type": "bar"
           }
          ],
          "barpolar": [
           {
            "marker": {
             "line": {
              "color": "#E5ECF6",
              "width": 0.5
             }
            },
            "type": "barpolar"
           }
          ],
          "carpet": [
           {
            "aaxis": {
             "endlinecolor": "#2a3f5f",
             "gridcolor": "white",
             "linecolor": "white",
             "minorgridcolor": "white",
             "startlinecolor": "#2a3f5f"
            },
            "baxis": {
             "endlinecolor": "#2a3f5f",
             "gridcolor": "white",
             "linecolor": "white",
             "minorgridcolor": "white",
             "startlinecolor": "#2a3f5f"
            },
            "type": "carpet"
           }
          ],
          "choropleth": [
           {
            "colorbar": {
             "outlinewidth": 0,
             "ticks": ""
            },
            "type": "choropleth"
           }
          ],
          "contour": [
           {
            "colorbar": {
             "outlinewidth": 0,
             "ticks": ""
            },
            "colorscale": [
             [
              0,
              "#0d0887"
             ],
             [
              0.1111111111111111,
              "#46039f"
             ],
             [
              0.2222222222222222,
              "#7201a8"
             ],
             [
              0.3333333333333333,
              "#9c179e"
             ],
             [
              0.4444444444444444,
              "#bd3786"
             ],
             [
              0.5555555555555556,
              "#d8576b"
             ],
             [
              0.6666666666666666,
              "#ed7953"
             ],
             [
              0.7777777777777778,
              "#fb9f3a"
             ],
             [
              0.8888888888888888,
              "#fdca26"
             ],
             [
              1,
              "#f0f921"
             ]
            ],
            "type": "contour"
           }
          ],
          "contourcarpet": [
           {
            "colorbar": {
             "outlinewidth": 0,
             "ticks": ""
            },
            "type": "contourcarpet"
           }
          ],
          "heatmap": [
           {
            "colorbar": {
             "outlinewidth": 0,
             "ticks": ""
            },
            "colorscale": [
             [
              0,
              "#0d0887"
             ],
             [
              0.1111111111111111,
              "#46039f"
             ],
             [
              0.2222222222222222,
              "#7201a8"
             ],
             [
              0.3333333333333333,
              "#9c179e"
             ],
             [
              0.4444444444444444,
              "#bd3786"
             ],
             [
              0.5555555555555556,
              "#d8576b"
             ],
             [
              0.6666666666666666,
              "#ed7953"
             ],
             [
              0.7777777777777778,
              "#fb9f3a"
             ],
             [
              0.8888888888888888,
              "#fdca26"
             ],
             [
              1,
              "#f0f921"
             ]
            ],
            "type": "heatmap"
           }
          ],
          "heatmapgl": [
           {
            "colorbar": {
             "outlinewidth": 0,
             "ticks": ""
            },
            "colorscale": [
             [
              0,
              "#0d0887"
             ],
             [
              0.1111111111111111,
              "#46039f"
             ],
             [
              0.2222222222222222,
              "#7201a8"
             ],
             [
              0.3333333333333333,
              "#9c179e"
             ],
             [
              0.4444444444444444,
              "#bd3786"
             ],
             [
              0.5555555555555556,
              "#d8576b"
             ],
             [
              0.6666666666666666,
              "#ed7953"
             ],
             [
              0.7777777777777778,
              "#fb9f3a"
             ],
             [
              0.8888888888888888,
              "#fdca26"
             ],
             [
              1,
              "#f0f921"
             ]
            ],
            "type": "heatmapgl"
           }
          ],
          "histogram": [
           {
            "marker": {
             "colorbar": {
              "outlinewidth": 0,
              "ticks": ""
             }
            },
            "type": "histogram"
           }
          ],
          "histogram2d": [
           {
            "colorbar": {
             "outlinewidth": 0,
             "ticks": ""
            },
            "colorscale": [
             [
              0,
              "#0d0887"
             ],
             [
              0.1111111111111111,
              "#46039f"
             ],
             [
              0.2222222222222222,
              "#7201a8"
             ],
             [
              0.3333333333333333,
              "#9c179e"
             ],
             [
              0.4444444444444444,
              "#bd3786"
             ],
             [
              0.5555555555555556,
              "#d8576b"
             ],
             [
              0.6666666666666666,
              "#ed7953"
             ],
             [
              0.7777777777777778,
              "#fb9f3a"
             ],
             [
              0.8888888888888888,
              "#fdca26"
             ],
             [
              1,
              "#f0f921"
             ]
            ],
            "type": "histogram2d"
           }
          ],
          "histogram2dcontour": [
           {
            "colorbar": {
             "outlinewidth": 0,
             "ticks": ""
            },
            "colorscale": [
             [
              0,
              "#0d0887"
             ],
             [
              0.1111111111111111,
              "#46039f"
             ],
             [
              0.2222222222222222,
              "#7201a8"
             ],
             [
              0.3333333333333333,
              "#9c179e"
             ],
             [
              0.4444444444444444,
              "#bd3786"
             ],
             [
              0.5555555555555556,
              "#d8576b"
             ],
             [
              0.6666666666666666,
              "#ed7953"
             ],
             [
              0.7777777777777778,
              "#fb9f3a"
             ],
             [
              0.8888888888888888,
              "#fdca26"
             ],
             [
              1,
              "#f0f921"
             ]
            ],
            "type": "histogram2dcontour"
           }
          ],
          "mesh3d": [
           {
            "colorbar": {
             "outlinewidth": 0,
             "ticks": ""
            },
            "type": "mesh3d"
           }
          ],
          "parcoords": [
           {
            "line": {
             "colorbar": {
              "outlinewidth": 0,
              "ticks": ""
             }
            },
            "type": "parcoords"
           }
          ],
          "pie": [
           {
            "automargin": true,
            "type": "pie"
           }
          ],
          "scatter": [
           {
            "marker": {
             "colorbar": {
              "outlinewidth": 0,
              "ticks": ""
             }
            },
            "type": "scatter"
           }
          ],
          "scatter3d": [
           {
            "line": {
             "colorbar": {
              "outlinewidth": 0,
              "ticks": ""
             }
            },
            "marker": {
             "colorbar": {
              "outlinewidth": 0,
              "ticks": ""
             }
            },
            "type": "scatter3d"
           }
          ],
          "scattercarpet": [
           {
            "marker": {
             "colorbar": {
              "outlinewidth": 0,
              "ticks": ""
             }
            },
            "type": "scattercarpet"
           }
          ],
          "scattergeo": [
           {
            "marker": {
             "colorbar": {
              "outlinewidth": 0,
              "ticks": ""
             }
            },
            "type": "scattergeo"
           }
          ],
          "scattergl": [
           {
            "marker": {
             "colorbar": {
              "outlinewidth": 0,
              "ticks": ""
             }
            },
            "type": "scattergl"
           }
          ],
          "scattermapbox": [
           {
            "marker": {
             "colorbar": {
              "outlinewidth": 0,
              "ticks": ""
             }
            },
            "type": "scattermapbox"
           }
          ],
          "scatterpolar": [
           {
            "marker": {
             "colorbar": {
              "outlinewidth": 0,
              "ticks": ""
             }
            },
            "type": "scatterpolar"
           }
          ],
          "scatterpolargl": [
           {
            "marker": {
             "colorbar": {
              "outlinewidth": 0,
              "ticks": ""
             }
            },
            "type": "scatterpolargl"
           }
          ],
          "scatterternary": [
           {
            "marker": {
             "colorbar": {
              "outlinewidth": 0,
              "ticks": ""
             }
            },
            "type": "scatterternary"
           }
          ],
          "surface": [
           {
            "colorbar": {
             "outlinewidth": 0,
             "ticks": ""
            },
            "colorscale": [
             [
              0,
              "#0d0887"
             ],
             [
              0.1111111111111111,
              "#46039f"
             ],
             [
              0.2222222222222222,
              "#7201a8"
             ],
             [
              0.3333333333333333,
              "#9c179e"
             ],
             [
              0.4444444444444444,
              "#bd3786"
             ],
             [
              0.5555555555555556,
              "#d8576b"
             ],
             [
              0.6666666666666666,
              "#ed7953"
             ],
             [
              0.7777777777777778,
              "#fb9f3a"
             ],
             [
              0.8888888888888888,
              "#fdca26"
             ],
             [
              1,
              "#f0f921"
             ]
            ],
            "type": "surface"
           }
          ],
          "table": [
           {
            "cells": {
             "fill": {
              "color": "#EBF0F8"
             },
             "line": {
              "color": "white"
             }
            },
            "header": {
             "fill": {
              "color": "#C8D4E3"
             },
             "line": {
              "color": "white"
             }
            },
            "type": "table"
           }
          ]
         },
         "layout": {
          "annotationdefaults": {
           "arrowcolor": "#2a3f5f",
           "arrowhead": 0,
           "arrowwidth": 1
          },
          "coloraxis": {
           "colorbar": {
            "outlinewidth": 0,
            "ticks": ""
           }
          },
          "colorscale": {
           "diverging": [
            [
             0,
             "#8e0152"
            ],
            [
             0.1,
             "#c51b7d"
            ],
            [
             0.2,
             "#de77ae"
            ],
            [
             0.3,
             "#f1b6da"
            ],
            [
             0.4,
             "#fde0ef"
            ],
            [
             0.5,
             "#f7f7f7"
            ],
            [
             0.6,
             "#e6f5d0"
            ],
            [
             0.7,
             "#b8e186"
            ],
            [
             0.8,
             "#7fbc41"
            ],
            [
             0.9,
             "#4d9221"
            ],
            [
             1,
             "#276419"
            ]
           ],
           "sequential": [
            [
             0,
             "#0d0887"
            ],
            [
             0.1111111111111111,
             "#46039f"
            ],
            [
             0.2222222222222222,
             "#7201a8"
            ],
            [
             0.3333333333333333,
             "#9c179e"
            ],
            [
             0.4444444444444444,
             "#bd3786"
            ],
            [
             0.5555555555555556,
             "#d8576b"
            ],
            [
             0.6666666666666666,
             "#ed7953"
            ],
            [
             0.7777777777777778,
             "#fb9f3a"
            ],
            [
             0.8888888888888888,
             "#fdca26"
            ],
            [
             1,
             "#f0f921"
            ]
           ],
           "sequentialminus": [
            [
             0,
             "#0d0887"
            ],
            [
             0.1111111111111111,
             "#46039f"
            ],
            [
             0.2222222222222222,
             "#7201a8"
            ],
            [
             0.3333333333333333,
             "#9c179e"
            ],
            [
             0.4444444444444444,
             "#bd3786"
            ],
            [
             0.5555555555555556,
             "#d8576b"
            ],
            [
             0.6666666666666666,
             "#ed7953"
            ],
            [
             0.7777777777777778,
             "#fb9f3a"
            ],
            [
             0.8888888888888888,
             "#fdca26"
            ],
            [
             1,
             "#f0f921"
            ]
           ]
          },
          "colorway": [
           "#636efa",
           "#EF553B",
           "#00cc96",
           "#ab63fa",
           "#FFA15A",
           "#19d3f3",
           "#FF6692",
           "#B6E880",
           "#FF97FF",
           "#FECB52"
          ],
          "font": {
           "color": "#2a3f5f"
          },
          "geo": {
           "bgcolor": "white",
           "lakecolor": "white",
           "landcolor": "#E5ECF6",
           "showlakes": true,
           "showland": true,
           "subunitcolor": "white"
          },
          "hoverlabel": {
           "align": "left"
          },
          "hovermode": "closest",
          "mapbox": {
           "style": "light"
          },
          "paper_bgcolor": "white",
          "plot_bgcolor": "#E5ECF6",
          "polar": {
           "angularaxis": {
            "gridcolor": "white",
            "linecolor": "white",
            "ticks": ""
           },
           "bgcolor": "#E5ECF6",
           "radialaxis": {
            "gridcolor": "white",
            "linecolor": "white",
            "ticks": ""
           }
          },
          "scene": {
           "xaxis": {
            "backgroundcolor": "#E5ECF6",
            "gridcolor": "white",
            "gridwidth": 2,
            "linecolor": "white",
            "showbackground": true,
            "ticks": "",
            "zerolinecolor": "white"
           },
           "yaxis": {
            "backgroundcolor": "#E5ECF6",
            "gridcolor": "white",
            "gridwidth": 2,
            "linecolor": "white",
            "showbackground": true,
            "ticks": "",
            "zerolinecolor": "white"
           },
           "zaxis": {
            "backgroundcolor": "#E5ECF6",
            "gridcolor": "white",
            "gridwidth": 2,
            "linecolor": "white",
            "showbackground": true,
            "ticks": "",
            "zerolinecolor": "white"
           }
          },
          "shapedefaults": {
           "line": {
            "color": "#2a3f5f"
           }
          },
          "ternary": {
           "aaxis": {
            "gridcolor": "white",
            "linecolor": "white",
            "ticks": ""
           },
           "baxis": {
            "gridcolor": "white",
            "linecolor": "white",
            "ticks": ""
           },
           "bgcolor": "#E5ECF6",
           "caxis": {
            "gridcolor": "white",
            "linecolor": "white",
            "ticks": ""
           }
          },
          "title": {
           "x": 0.05
          },
          "xaxis": {
           "automargin": true,
           "gridcolor": "white",
           "linecolor": "white",
           "ticks": "",
           "title": {
            "standoff": 15
           },
           "zerolinecolor": "white",
           "zerolinewidth": 2
          },
          "yaxis": {
           "automargin": true,
           "gridcolor": "white",
           "linecolor": "white",
           "ticks": "",
           "title": {
            "standoff": 15
           },
           "zerolinecolor": "white",
           "zerolinewidth": 2
          }
         }
        },
        "title": {
         "text": "Cases in Karnataka on a daily basis"
        },
        "xaxis": {
         "title": {
          "text": "Date"
         }
        },
        "yaxis": {
         "title": {
          "text": "Count"
         }
        }
       }
      },
      "text/html": [
       "<div>\n",
       "        \n",
       "        \n",
       "            <div id=\"7d0bedf6-8ce7-41ca-aff4-00190096134c\" class=\"plotly-graph-div\" style=\"height:525px; width:100%;\"></div>\n",
       "            <script type=\"text/javascript\">\n",
       "                require([\"plotly\"], function(Plotly) {\n",
       "                    window.PLOTLYENV=window.PLOTLYENV || {};\n",
       "                    \n",
       "                if (document.getElementById(\"7d0bedf6-8ce7-41ca-aff4-00190096134c\")) {\n",
       "                    Plotly.newPlot(\n",
       "                        '7d0bedf6-8ce7-41ca-aff4-00190096134c',\n",
       "                        [{\"type\": \"bar\", \"x\": [\"2020-04-17T00:00:00\", \"2020-04-16T00:00:00\", \"2020-04-24T00:00:00\", \"2020-04-25T00:00:00\", \"2020-04-18T00:00:00\", \"2020-04-15T00:00:00\", \"2020-04-23T00:00:00\", \"2020-04-20T00:00:00\", \"2020-04-12T00:00:00\", \"2020-04-04T00:00:00\", \"2020-04-09T00:00:00\", \"2020-04-13T00:00:00\", \"2020-04-02T00:00:00\", \"2020-04-14T00:00:00\", \"2020-03-31T00:00:00\", \"2020-03-28T00:00:00\", \"2020-04-06T00:00:00\", \"2020-04-07T00:00:00\", \"2020-04-10T00:00:00\", \"2020-04-21T00:00:00\", \"2020-03-25T00:00:00\", \"2020-03-27T00:00:00\", \"2020-04-01T00:00:00\", \"2020-04-22T00:00:00\", \"2020-04-11T00:00:00\", \"2020-03-24T00:00:00\", \"2020-03-29T00:00:00\", \"2020-04-05T00:00:00\", \"2020-03-23T00:00:00\", \"2020-03-22T00:00:00\", \"2020-04-08T00:00:00\", \"2020-04-19T00:00:00\", \"2020-03-30T00:00:00\", \"2020-03-21T00:00:00\", \"2020-03-26T00:00:00\", \"2020-03-17T00:00:00\", \"2020-04-03T00:00:00\", \"2020-03-10T00:00:00\", \"2020-04-26T00:00:00\", \"2020-03-18T00:00:00\", \"2020-03-16T00:00:00\", \"2020-03-13T00:00:00\", \"2020-03-12T00:00:00\", \"2020-03-19T00:00:00\", \"2020-03-09T00:00:00\"], \"y\": [44, 36, 29, 26, 25, 19, 18, 18, 17, 16, 16, 15, 14, 13, 13, 12, 12, 12, 10, 10, 10, 9, 9, 9, 8, 8, 7, 7, 7, 6, 6, 6, 5, 5, 4, 4, 4, 3, 3, 3, 1, 1, 1, 1, 1]}],\n",
       "                        {\"template\": {\"data\": {\"bar\": [{\"error_x\": {\"color\": \"#2a3f5f\"}, \"error_y\": {\"color\": \"#2a3f5f\"}, \"marker\": {\"line\": {\"color\": \"#E5ECF6\", \"width\": 0.5}}, \"type\": \"bar\"}], \"barpolar\": [{\"marker\": {\"line\": {\"color\": \"#E5ECF6\", \"width\": 0.5}}, \"type\": \"barpolar\"}], \"carpet\": [{\"aaxis\": {\"endlinecolor\": \"#2a3f5f\", \"gridcolor\": \"white\", \"linecolor\": \"white\", \"minorgridcolor\": \"white\", \"startlinecolor\": \"#2a3f5f\"}, \"baxis\": {\"endlinecolor\": \"#2a3f5f\", \"gridcolor\": \"white\", \"linecolor\": \"white\", \"minorgridcolor\": \"white\", \"startlinecolor\": \"#2a3f5f\"}, \"type\": \"carpet\"}], \"choropleth\": [{\"colorbar\": {\"outlinewidth\": 0, \"ticks\": \"\"}, \"type\": \"choropleth\"}], \"contour\": [{\"colorbar\": {\"outlinewidth\": 0, \"ticks\": \"\"}, \"colorscale\": [[0.0, \"#0d0887\"], [0.1111111111111111, \"#46039f\"], [0.2222222222222222, \"#7201a8\"], [0.3333333333333333, \"#9c179e\"], [0.4444444444444444, \"#bd3786\"], [0.5555555555555556, \"#d8576b\"], [0.6666666666666666, \"#ed7953\"], [0.7777777777777778, \"#fb9f3a\"], [0.8888888888888888, \"#fdca26\"], [1.0, \"#f0f921\"]], \"type\": \"contour\"}], \"contourcarpet\": [{\"colorbar\": {\"outlinewidth\": 0, \"ticks\": \"\"}, \"type\": \"contourcarpet\"}], \"heatmap\": [{\"colorbar\": {\"outlinewidth\": 0, \"ticks\": \"\"}, \"colorscale\": [[0.0, \"#0d0887\"], [0.1111111111111111, \"#46039f\"], [0.2222222222222222, \"#7201a8\"], [0.3333333333333333, \"#9c179e\"], [0.4444444444444444, \"#bd3786\"], [0.5555555555555556, \"#d8576b\"], [0.6666666666666666, \"#ed7953\"], [0.7777777777777778, \"#fb9f3a\"], [0.8888888888888888, \"#fdca26\"], [1.0, \"#f0f921\"]], \"type\": \"heatmap\"}], \"heatmapgl\": [{\"colorbar\": {\"outlinewidth\": 0, \"ticks\": \"\"}, \"colorscale\": [[0.0, \"#0d0887\"], [0.1111111111111111, \"#46039f\"], [0.2222222222222222, \"#7201a8\"], [0.3333333333333333, \"#9c179e\"], [0.4444444444444444, \"#bd3786\"], [0.5555555555555556, \"#d8576b\"], [0.6666666666666666, \"#ed7953\"], [0.7777777777777778, \"#fb9f3a\"], [0.8888888888888888, \"#fdca26\"], [1.0, \"#f0f921\"]], \"type\": \"heatmapgl\"}], \"histogram\": [{\"marker\": {\"colorbar\": {\"outlinewidth\": 0, \"ticks\": \"\"}}, \"type\": \"histogram\"}], \"histogram2d\": [{\"colorbar\": {\"outlinewidth\": 0, \"ticks\": \"\"}, \"colorscale\": [[0.0, \"#0d0887\"], [0.1111111111111111, \"#46039f\"], [0.2222222222222222, \"#7201a8\"], [0.3333333333333333, \"#9c179e\"], [0.4444444444444444, \"#bd3786\"], [0.5555555555555556, \"#d8576b\"], [0.6666666666666666, \"#ed7953\"], [0.7777777777777778, \"#fb9f3a\"], [0.8888888888888888, \"#fdca26\"], [1.0, \"#f0f921\"]], \"type\": \"histogram2d\"}], \"histogram2dcontour\": [{\"colorbar\": {\"outlinewidth\": 0, \"ticks\": \"\"}, \"colorscale\": [[0.0, \"#0d0887\"], [0.1111111111111111, \"#46039f\"], [0.2222222222222222, \"#7201a8\"], [0.3333333333333333, \"#9c179e\"], [0.4444444444444444, \"#bd3786\"], [0.5555555555555556, \"#d8576b\"], [0.6666666666666666, \"#ed7953\"], [0.7777777777777778, \"#fb9f3a\"], [0.8888888888888888, \"#fdca26\"], [1.0, \"#f0f921\"]], \"type\": \"histogram2dcontour\"}], \"mesh3d\": [{\"colorbar\": {\"outlinewidth\": 0, \"ticks\": \"\"}, \"type\": \"mesh3d\"}], \"parcoords\": [{\"line\": {\"colorbar\": {\"outlinewidth\": 0, \"ticks\": \"\"}}, \"type\": \"parcoords\"}], \"pie\": [{\"automargin\": true, \"type\": \"pie\"}], \"scatter\": [{\"marker\": {\"colorbar\": {\"outlinewidth\": 0, \"ticks\": \"\"}}, \"type\": \"scatter\"}], \"scatter3d\": [{\"line\": {\"colorbar\": {\"outlinewidth\": 0, \"ticks\": \"\"}}, \"marker\": {\"colorbar\": {\"outlinewidth\": 0, \"ticks\": \"\"}}, \"type\": \"scatter3d\"}], \"scattercarpet\": [{\"marker\": {\"colorbar\": {\"outlinewidth\": 0, \"ticks\": \"\"}}, \"type\": \"scattercarpet\"}], \"scattergeo\": [{\"marker\": {\"colorbar\": {\"outlinewidth\": 0, \"ticks\": \"\"}}, \"type\": \"scattergeo\"}], \"scattergl\": [{\"marker\": {\"colorbar\": {\"outlinewidth\": 0, \"ticks\": \"\"}}, \"type\": \"scattergl\"}], \"scattermapbox\": [{\"marker\": {\"colorbar\": {\"outlinewidth\": 0, \"ticks\": \"\"}}, \"type\": \"scattermapbox\"}], \"scatterpolar\": [{\"marker\": {\"colorbar\": {\"outlinewidth\": 0, \"ticks\": \"\"}}, \"type\": \"scatterpolar\"}], \"scatterpolargl\": [{\"marker\": {\"colorbar\": {\"outlinewidth\": 0, \"ticks\": \"\"}}, \"type\": \"scatterpolargl\"}], \"scatterternary\": [{\"marker\": {\"colorbar\": {\"outlinewidth\": 0, \"ticks\": \"\"}}, \"type\": \"scatterternary\"}], \"surface\": [{\"colorbar\": {\"outlinewidth\": 0, \"ticks\": \"\"}, \"colorscale\": [[0.0, \"#0d0887\"], [0.1111111111111111, \"#46039f\"], [0.2222222222222222, \"#7201a8\"], [0.3333333333333333, \"#9c179e\"], [0.4444444444444444, \"#bd3786\"], [0.5555555555555556, \"#d8576b\"], [0.6666666666666666, \"#ed7953\"], [0.7777777777777778, \"#fb9f3a\"], [0.8888888888888888, \"#fdca26\"], [1.0, \"#f0f921\"]], \"type\": \"surface\"}], \"table\": [{\"cells\": {\"fill\": {\"color\": \"#EBF0F8\"}, \"line\": {\"color\": \"white\"}}, \"header\": {\"fill\": {\"color\": \"#C8D4E3\"}, \"line\": {\"color\": \"white\"}}, \"type\": \"table\"}]}, \"layout\": {\"annotationdefaults\": {\"arrowcolor\": \"#2a3f5f\", \"arrowhead\": 0, \"arrowwidth\": 1}, \"coloraxis\": {\"colorbar\": {\"outlinewidth\": 0, \"ticks\": \"\"}}, \"colorscale\": {\"diverging\": [[0, \"#8e0152\"], [0.1, \"#c51b7d\"], [0.2, \"#de77ae\"], [0.3, \"#f1b6da\"], [0.4, \"#fde0ef\"], [0.5, \"#f7f7f7\"], [0.6, \"#e6f5d0\"], [0.7, \"#b8e186\"], [0.8, \"#7fbc41\"], [0.9, \"#4d9221\"], [1, \"#276419\"]], \"sequential\": [[0.0, \"#0d0887\"], [0.1111111111111111, \"#46039f\"], [0.2222222222222222, \"#7201a8\"], [0.3333333333333333, \"#9c179e\"], [0.4444444444444444, \"#bd3786\"], [0.5555555555555556, \"#d8576b\"], [0.6666666666666666, \"#ed7953\"], [0.7777777777777778, \"#fb9f3a\"], [0.8888888888888888, \"#fdca26\"], [1.0, \"#f0f921\"]], \"sequentialminus\": [[0.0, \"#0d0887\"], [0.1111111111111111, \"#46039f\"], [0.2222222222222222, \"#7201a8\"], [0.3333333333333333, \"#9c179e\"], [0.4444444444444444, \"#bd3786\"], [0.5555555555555556, \"#d8576b\"], [0.6666666666666666, \"#ed7953\"], [0.7777777777777778, \"#fb9f3a\"], [0.8888888888888888, \"#fdca26\"], [1.0, \"#f0f921\"]]}, \"colorway\": [\"#636efa\", \"#EF553B\", \"#00cc96\", \"#ab63fa\", \"#FFA15A\", \"#19d3f3\", \"#FF6692\", \"#B6E880\", \"#FF97FF\", \"#FECB52\"], \"font\": {\"color\": \"#2a3f5f\"}, \"geo\": {\"bgcolor\": \"white\", \"lakecolor\": \"white\", \"landcolor\": \"#E5ECF6\", \"showlakes\": true, \"showland\": true, \"subunitcolor\": \"white\"}, \"hoverlabel\": {\"align\": \"left\"}, \"hovermode\": \"closest\", \"mapbox\": {\"style\": \"light\"}, \"paper_bgcolor\": \"white\", \"plot_bgcolor\": \"#E5ECF6\", \"polar\": {\"angularaxis\": {\"gridcolor\": \"white\", \"linecolor\": \"white\", \"ticks\": \"\"}, \"bgcolor\": \"#E5ECF6\", \"radialaxis\": {\"gridcolor\": \"white\", \"linecolor\": \"white\", \"ticks\": \"\"}}, \"scene\": {\"xaxis\": {\"backgroundcolor\": \"#E5ECF6\", \"gridcolor\": \"white\", \"gridwidth\": 2, \"linecolor\": \"white\", \"showbackground\": true, \"ticks\": \"\", \"zerolinecolor\": \"white\"}, \"yaxis\": {\"backgroundcolor\": \"#E5ECF6\", \"gridcolor\": \"white\", \"gridwidth\": 2, \"linecolor\": \"white\", \"showbackground\": true, \"ticks\": \"\", \"zerolinecolor\": \"white\"}, \"zaxis\": {\"backgroundcolor\": \"#E5ECF6\", \"gridcolor\": \"white\", \"gridwidth\": 2, \"linecolor\": \"white\", \"showbackground\": true, \"ticks\": \"\", \"zerolinecolor\": \"white\"}}, \"shapedefaults\": {\"line\": {\"color\": \"#2a3f5f\"}}, \"ternary\": {\"aaxis\": {\"gridcolor\": \"white\", \"linecolor\": \"white\", \"ticks\": \"\"}, \"baxis\": {\"gridcolor\": \"white\", \"linecolor\": \"white\", \"ticks\": \"\"}, \"bgcolor\": \"#E5ECF6\", \"caxis\": {\"gridcolor\": \"white\", \"linecolor\": \"white\", \"ticks\": \"\"}}, \"title\": {\"x\": 0.05}, \"xaxis\": {\"automargin\": true, \"gridcolor\": \"white\", \"linecolor\": \"white\", \"ticks\": \"\", \"title\": {\"standoff\": 15}, \"zerolinecolor\": \"white\", \"zerolinewidth\": 2}, \"yaxis\": {\"automargin\": true, \"gridcolor\": \"white\", \"linecolor\": \"white\", \"ticks\": \"\", \"title\": {\"standoff\": 15}, \"zerolinecolor\": \"white\", \"zerolinewidth\": 2}}}, \"title\": {\"text\": \"Cases in Karnataka on a daily basis\"}, \"xaxis\": {\"title\": {\"text\": \"Date\"}}, \"yaxis\": {\"title\": {\"text\": \"Count\"}}},\n",
       "                        {\"responsive\": true}\n",
       "                    ).then(function(){\n",
       "                            \n",
       "var gd = document.getElementById('7d0bedf6-8ce7-41ca-aff4-00190096134c');\n",
       "var x = new MutationObserver(function (mutations, observer) {{\n",
       "        var display = window.getComputedStyle(gd).display;\n",
       "        if (!display || display === 'none') {{\n",
       "            console.log([gd, 'removed!']);\n",
       "            Plotly.purge(gd);\n",
       "            observer.disconnect();\n",
       "        }}\n",
       "}});\n",
       "\n",
       "// Listen for the removal of the full notebook cells\n",
       "var notebookContainer = gd.closest('#notebook-container');\n",
       "if (notebookContainer) {{\n",
       "    x.observe(notebookContainer, {childList: true});\n",
       "}}\n",
       "\n",
       "// Listen for the clearing of the current output cell\n",
       "var outputEl = gd.closest('.output');\n",
       "if (outputEl) {{\n",
       "    x.observe(outputEl, {childList: true});\n",
       "}}\n",
       "\n",
       "                        })\n",
       "                };\n",
       "                });\n",
       "            </script>\n",
       "        </div>"
      ]
     },
     "metadata": {},
     "output_type": "display_data"
    }
   ],
   "source": [
    "karnataka_daily_count = Karnataka.groupby('diagnosed_date')['diagnosed_date'].count().sort_values(ascending=False).to_frame()\n",
    "karnataka_daily_count.columns = ['Count']\n",
    "fig = go.Figure(data=(go.Bar(x=karnataka_daily_count.index,y=karnataka_daily_count['Count'])))\n",
    "fig.update_layout(title=\"Cases in Karnataka on a daily basis\",xaxis=dict(title=\"Date\"),yaxis=dict(title=\"Count\"))"
   ]
  },
  {
   "cell_type": "markdown",
   "metadata": {},
   "source": [
    "Karnataka saw surge in the number of cases on 2 days, 16th and 17th of April, these two days contributed to 80 cases in total."
   ]
  },
  {
   "cell_type": "code",
   "execution_count": 50,
   "metadata": {},
   "outputs": [
    {
     "data": {
      "text/html": [
       "<style  type=\"text/css\" >\n",
       "    #T_374d60f4_8e32_11ea_8e0e_ccb0da3466acrow0_col0 {\n",
       "            background-color:  #f7fbff;\n",
       "            color:  #000000;\n",
       "        }    #T_374d60f4_8e32_11ea_8e0e_ccb0da3466acrow0_col1 {\n",
       "            background-color:  #08306b;\n",
       "            color:  #f1f1f1;\n",
       "        }    #T_374d60f4_8e32_11ea_8e0e_ccb0da3466acrow0_col2 {\n",
       "            background-color:  #f5fafe;\n",
       "            color:  #000000;\n",
       "        }    #T_374d60f4_8e32_11ea_8e0e_ccb0da3466acrow0_col3 {\n",
       "            background-color:  #67000d;\n",
       "            color:  #f1f1f1;\n",
       "        }    #T_374d60f4_8e32_11ea_8e0e_ccb0da3466acrow0_col4 {\n",
       "            background-color:  #67000d;\n",
       "            color:  #f1f1f1;\n",
       "        }    #T_374d60f4_8e32_11ea_8e0e_ccb0da3466acrow0_col5 {\n",
       "            background-color:  #fff5f0;\n",
       "            color:  #000000;\n",
       "        }    #T_374d60f4_8e32_11ea_8e0e_ccb0da3466acrow1_col0 {\n",
       "            background-color:  #08306b;\n",
       "            color:  #f1f1f1;\n",
       "        }    #T_374d60f4_8e32_11ea_8e0e_ccb0da3466acrow1_col1 {\n",
       "            background-color:  #f7fbff;\n",
       "            color:  #000000;\n",
       "        }    #T_374d60f4_8e32_11ea_8e0e_ccb0da3466acrow1_col2 {\n",
       "            background-color:  #08306b;\n",
       "            color:  #f1f1f1;\n",
       "        }    #T_374d60f4_8e32_11ea_8e0e_ccb0da3466acrow1_col3 {\n",
       "            background-color:  #fedccd;\n",
       "            color:  #000000;\n",
       "        }    #T_374d60f4_8e32_11ea_8e0e_ccb0da3466acrow1_col4 {\n",
       "            background-color:  #fff5f0;\n",
       "            color:  #000000;\n",
       "        }    #T_374d60f4_8e32_11ea_8e0e_ccb0da3466acrow1_col5 {\n",
       "            background-color:  #67000d;\n",
       "            color:  #f1f1f1;\n",
       "        }    #T_374d60f4_8e32_11ea_8e0e_ccb0da3466acrow2_col0 {\n",
       "            background-color:  #e0ecf8;\n",
       "            color:  #000000;\n",
       "        }    #T_374d60f4_8e32_11ea_8e0e_ccb0da3466acrow2_col1 {\n",
       "            background-color:  #f2f8fd;\n",
       "            color:  #000000;\n",
       "        }    #T_374d60f4_8e32_11ea_8e0e_ccb0da3466acrow2_col2 {\n",
       "            background-color:  #f7fbff;\n",
       "            color:  #000000;\n",
       "        }    #T_374d60f4_8e32_11ea_8e0e_ccb0da3466acrow2_col3 {\n",
       "            background-color:  #fff5f0;\n",
       "            color:  #000000;\n",
       "        }    #T_374d60f4_8e32_11ea_8e0e_ccb0da3466acrow2_col4 {\n",
       "            background-color:  #fff5f0;\n",
       "            color:  #000000;\n",
       "        }    #T_374d60f4_8e32_11ea_8e0e_ccb0da3466acrow2_col5 {\n",
       "            background-color:  #ffece3;\n",
       "            color:  #000000;\n",
       "        }</style><table id=\"T_374d60f4_8e32_11ea_8e0e_ccb0da3466ac\" ><thead>    <tr>        <th class=\"blank level0\" ></th>        <th class=\"col_heading level0 col0\" >count</th>        <th class=\"col_heading level0 col1\" >min</th>        <th class=\"col_heading level0 col2\" >max</th>        <th class=\"col_heading level0 col3\" >mean</th>        <th class=\"col_heading level0 col4\" >median</th>        <th class=\"col_heading level0 col5\" >std</th>    </tr>    <tr>        <th class=\"index_name level0\" >current_status</th>        <th class=\"blank\" ></th>        <th class=\"blank\" ></th>        <th class=\"blank\" ></th>        <th class=\"blank\" ></th>        <th class=\"blank\" ></th>        <th class=\"blank\" ></th>    </tr></thead><tbody>\n",
       "                <tr>\n",
       "                        <th id=\"T_374d60f4_8e32_11ea_8e0e_ccb0da3466aclevel0_row0\" class=\"row_heading level0 row0\" >Deceased</th>\n",
       "                        <td id=\"T_374d60f4_8e32_11ea_8e0e_ccb0da3466acrow0_col0\" class=\"data row0 col0\" >12</td>\n",
       "                        <td id=\"T_374d60f4_8e32_11ea_8e0e_ccb0da3466acrow0_col1\" class=\"data row0 col1\" >42</td>\n",
       "                        <td id=\"T_374d60f4_8e32_11ea_8e0e_ccb0da3466acrow0_col2\" class=\"data row0 col2\" >80</td>\n",
       "                        <td id=\"T_374d60f4_8e32_11ea_8e0e_ccb0da3466acrow0_col3\" class=\"data row0 col3\" >63.666667</td>\n",
       "                        <td id=\"T_374d60f4_8e32_11ea_8e0e_ccb0da3466acrow0_col4\" class=\"data row0 col4\" >65.500000</td>\n",
       "                        <td id=\"T_374d60f4_8e32_11ea_8e0e_ccb0da3466acrow0_col5\" class=\"data row0 col5\" >13.330303</td>\n",
       "            </tr>\n",
       "            <tr>\n",
       "                        <th id=\"T_374d60f4_8e32_11ea_8e0e_ccb0da3466aclevel0_row1\" class=\"row_heading level0 row1\" >Hospitalized</th>\n",
       "                        <td id=\"T_374d60f4_8e32_11ea_8e0e_ccb0da3466acrow1_col0\" class=\"data row1 col0\" >431</td>\n",
       "                        <td id=\"T_374d60f4_8e32_11ea_8e0e_ccb0da3466acrow1_col1\" class=\"data row1 col1\" >0</td>\n",
       "                        <td id=\"T_374d60f4_8e32_11ea_8e0e_ccb0da3466acrow1_col2\" class=\"data row1 col2\" >1000</td>\n",
       "                        <td id=\"T_374d60f4_8e32_11ea_8e0e_ccb0da3466acrow1_col3\" class=\"data row1 col3\" >41.278422</td>\n",
       "                        <td id=\"T_374d60f4_8e32_11ea_8e0e_ccb0da3466acrow1_col4\" class=\"data row1 col4\" >35.000000</td>\n",
       "                        <td id=\"T_374d60f4_8e32_11ea_8e0e_ccb0da3466acrow1_col5\" class=\"data row1 col5\" >67.668491</td>\n",
       "            </tr>\n",
       "            <tr>\n",
       "                        <th id=\"T_374d60f4_8e32_11ea_8e0e_ccb0da3466aclevel0_row2\" class=\"row_heading level0 row2\" >Recovered</th>\n",
       "                        <td id=\"T_374d60f4_8e32_11ea_8e0e_ccb0da3466acrow2_col0\" class=\"data row2 col0\" >60</td>\n",
       "                        <td id=\"T_374d60f4_8e32_11ea_8e0e_ccb0da3466acrow2_col1\" class=\"data row2 col1\" >1</td>\n",
       "                        <td id=\"T_374d60f4_8e32_11ea_8e0e_ccb0da3466acrow2_col2\" class=\"data row2 col2\" >70</td>\n",
       "                        <td id=\"T_374d60f4_8e32_11ea_8e0e_ccb0da3466acrow2_col3\" class=\"data row2 col3\" >37.716667</td>\n",
       "                        <td id=\"T_374d60f4_8e32_11ea_8e0e_ccb0da3466acrow2_col4\" class=\"data row2 col4\" >35.000000</td>\n",
       "                        <td id=\"T_374d60f4_8e32_11ea_8e0e_ccb0da3466acrow2_col5\" class=\"data row2 col5\" >16.393562</td>\n",
       "            </tr>\n",
       "    </tbody></table>"
      ],
      "text/plain": [
       "<pandas.io.formats.style.Styler at 0x16ad3567748>"
      ]
     },
     "execution_count": 50,
     "metadata": {},
     "output_type": "execute_result"
    }
   ],
   "source": [
    "Karnataka.groupby('current_status')['age'].agg(['count','min','max','mean','median','std']).style.background_gradient(cmap='Blues',subset=['count','min','max']).background_gradient(cmap=\"Reds\",subset=['mean','median','std'])"
   ]
  },
  {
   "cell_type": "markdown",
   "metadata": {},
   "source": [
    "1. There hae been 12 deaths in Karnataka till 26th of April\n",
    "2. Average age of the people deceased is 63 with minimum age of 42 and maximum age of 80.\n",
    "3. The maximum age of 1000 and minimum ageof 0 might be an entry mistake while recording the dats. \n",
    "4. An infant of 1 year has also recovered. The maximum age of the person recovered is 70 years."
   ]
  },
  {
   "cell_type": "code",
   "execution_count": 52,
   "metadata": {},
   "outputs": [
    {
     "data": {
      "text/plain": [
       "120"
      ]
     },
     "execution_count": 52,
     "metadata": {},
     "output_type": "execute_result"
    }
   ],
   "source": [
    "Karnataka['notes'].str.contains(\"Travel\").sum()\n",
    "# 120 out of the 503 patients with COVID had travel histroy of some form, either domestic or international."
   ]
  },
  {
   "cell_type": "code",
   "execution_count": 53,
   "metadata": {},
   "outputs": [
    {
     "data": {
      "text/plain": [
       "287"
      ]
     },
     "execution_count": 53,
     "metadata": {},
     "output_type": "execute_result"
    }
   ],
   "source": [
    "Karnataka['notes'].str.contains(\"Contact\").sum()+Karnataka['notes'].str.contains(\"Wife\").sum()+Karnataka['notes'].str.contains(\"Husband\").sum()+Karnataka['notes'].str.contains(\"Son\").sum()+Karnataka['notes'].str.contains(\"Daughter\").sum()\n",
    "# We can see that almost half of the affected patients were the contacts of already affected patient. "
   ]
  },
  {
   "cell_type": "code",
   "execution_count": 54,
   "metadata": {},
   "outputs": [
    {
     "data": {
      "image/png": "[encoded data removed]",
      "text/plain": [
       "<Figure size 432x288 with 1 Axes>"
      ]
     },
     "metadata": {},
     "output_type": "display_data"
    }
   ],
   "source": [
    "testing_labs[testing_labs['state'] == \"Karnataka\"]['type'].value_counts().plot(kind='bar')\n",
    "plt.xticks(rotation=360);\n",
    "plt.title(\"Type of Testing Labs In Karnataka\");\n",
    "plt.ylabel(\"Count\");\n",
    "# There are 17 testing centers in Karnataka with 12 of them run by the Government and 5 by Private Players."
   ]
  },
  {
   "cell_type": "code",
   "execution_count": 55,
   "metadata": {},
   "outputs": [
    {
     "data": {
      "image/png": "[encoded data removed]",
      "text/plain": [
       "<Figure size 720x288 with 1 Axes>"
      ]
     },
     "metadata": {},
     "output_type": "display_data"
    }
   ],
   "source": [
    "plt.figure(figsize=(10,4))\n",
    "testing_labs[testing_labs['state']==\"Karnataka\"]['city'].value_counts().plot(kind='bar',color='blue')\n",
    "plt.xticks(rotation=360);\n",
    "plt.title(\"Testing Labs In Karnataka\");\n",
    "plt.ylabel(\"Count\");\n",
    "plt.xlabel(\"City\");\n",
    "# Bengaluru has 9 testing centers followed by 1 center in all other cities."
   ]
  }
 ],
 "metadata": {
  "kernelspec": {
   "display_name": "Python 3",
   "language": "python",
   "name": "python3"
  },
  "language_info": {
   "codemirror_mode": {
    "name": "ipython",
    "version": 3
   },
   "file_extension": ".py",
   "mimetype": "text/x-python",
   "name": "python",
   "nbconvert_exporter": "python",
   "pygments_lexer": "ipython3",
   "version": "3.7.6"
  }
 },
 "nbformat": 4,
 "nbformat_minor": 4
}
